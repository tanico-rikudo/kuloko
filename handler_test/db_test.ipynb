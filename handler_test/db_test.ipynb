{
 "cells": [
  {
   "cell_type": "code",
   "execution_count": null,
   "metadata": {},
   "outputs": [],
   "source": []
  },
  {
   "cell_type": "markdown",
   "metadata": {},
   "source": []
  },
  {
   "cell_type": "code",
   "execution_count": 1,
   "metadata": {},
   "outputs": [],
   "source": [
    "%load_ext autoreload\n",
    "%autoreload 2\n",
    "import pandas as pd\n",
    "import json\n",
    "import os,sys\n",
    "os.environ['BASE_DIR'] = os.path.dirname(os.path.dirname(os.path.dirname(os.path.abspath(\"__file__\"))))\n",
    "os.environ['COMMON_DIR'] = os.path.join(os.environ['BASE_DIR'], \"geco_commons\")\n",
    "sys.path.append(os.path.join(os.environ['COMMON_DIR'],\"util\" ))\n",
    "from daylib import daylib  as dl\n"
   ]
  },
  {
   "cell_type": "code",
   "execution_count": 2,
   "metadata": {},
   "outputs": [],
   "source": [
    "import psycopg2\n",
    "\n",
    "\n",
    "# connect postgreSQL\n",
    "users = 'admin'\n",
    "dbnames = 'test_database'\n",
    "passwords = 'admin'\n",
    "host='172.30.0.4'\n",
    "conn = psycopg2.connect(\n",
    "  database=dbnames, \n",
    "  user=users, \n",
    "  password=passwords, \n",
    "  host=host, \n",
    "  port=5432)\n",
    "# conn = psycopg2.connect(\" user=\" + users +\" dbname=\" + dbnames +\" password=\" + passwords)\n",
    "\n"
   ]
  },
  {
   "cell_type": "code",
   "execution_count": 4,
   "metadata": {},
   "outputs": [],
   "source": [
    "### Client cursor ####\n",
    "# excexute sql\n",
    "cur = conn.cursor()\n",
    "cur.execute('SELECT * FROM users;')\n",
    "results = cur.fetchall()\n",
    "\n",
    "#output result\n",
    "print(results)\n",
    "\n",
    "cur.close()\n",
    "conn.close()"
   ]
  },
  {
   "cell_type": "code",
   "execution_count": 18,
   "metadata": {},
   "outputs": [
    {
     "name": "stdout",
     "output_type": "stream",
     "text": [
      "None\n",
      "(1, 'ichigo.chocomint', 99)\n",
      "(Column(name='id', type_code=23), Column(name='name', type_code=1043), Column(name='age', type_code=23))\n",
      "(2, 'banana.chocomint', 98)\n"
     ]
    }
   ],
   "source": [
    "### Serverside cursor ####\n",
    "with conn.cursor('query1') as cur:\n",
    "    cur.execute('SELECT * FROM users')\n",
    "    print(cur.description)  # None\n",
    "    print(cur.fetchone())\n",
    "    print(cur.description)  # カラム情報が入っている\n",
    "    print(cur.fetchone())\n",
    "\n",
    "# conn.close()"
   ]
  },
  {
   "cell_type": "code",
   "execution_count": 5,
   "metadata": {},
   "outputs": [],
   "source": [
    "import psycopg2\n",
    "\n",
    "\n",
    "# connect postgreSQL\n",
    "users = 'admin'\n",
    "dbnames = 'kuloko'\n",
    "passwords = 'admin'\n",
    "host='172.30.0.4'\n",
    "conn = psycopg2.connect(\n",
    "  database=dbnames, \n",
    "  user=users, \n",
    "  password=passwords, \n",
    "  host=host, \n",
    "  port=5432)\n",
    "# conn = psycopg2.connect(\" user=\" + users +\" dbname=\" + dbnames +\" password=\" + passwords)"
   ]
  },
  {
   "cell_type": "code",
   "execution_count": null,
   "metadata": {},
   "outputs": [],
   "source": []
  }
 ],
 "metadata": {
  "kernelspec": {
   "display_name": "Python 3 (ipykernel)",
   "language": "python",
   "name": "python3"
  },
  "language_info": {
   "codemirror_mode": {
    "name": "ipython",
    "version": 3
   },
   "file_extension": ".py",
   "mimetype": "text/x-python",
   "name": "python",
   "nbconvert_exporter": "python",
   "pygments_lexer": "ipython3",
   "version": "3.7.13"
  }
 },
 "nbformat": 4,
 "nbformat_minor": 4
}
