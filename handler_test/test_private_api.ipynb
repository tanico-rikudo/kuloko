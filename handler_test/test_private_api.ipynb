{
 "cells": [
  {
   "cell_type": "code",
   "execution_count": 1,
   "metadata": {},
   "outputs": [],
   "source": [
    "%load_ext autoreload\n",
    "%autoreload 2\n",
    "\n",
    "import sys\n",
    "sys.path.append(\"../\")"
   ]
  },
  {
   "cell_type": "code",
   "execution_count": 4,
   "metadata": {},
   "outputs": [
    {
     "name": "stdout",
     "output_type": "stream",
     "text": [
      "Log path = /root/src/kuloko/log/logging.log\n"
     ]
    }
   ],
   "source": [
    "from  items import private_api\n",
    "symbol=\"BTC\"\n",
    "general_config_mode=\"DOCKER\"\n",
    "private_api_mode=\"DEFAULT\"\n",
    "\n",
    "margin = private_api.Margin(symbol,general_config_mode,private_api_mode)"
   ]
  },
  {
   "cell_type": "code",
   "execution_count": 5,
   "metadata": {},
   "outputs": [],
   "source": [
    "rst = margin.fetch('json')"
   ]
  },
  {
   "cell_type": "code",
   "execution_count": 6,
   "metadata": {},
   "outputs": [
    {
     "data": {
      "text/plain": [
       "{'actualProfitLoss': 364145.0,\n",
       " 'availableAmount': 364145.0,\n",
       " 'margin': 0.0,\n",
       " 'marginCallStatus': 'NORMAL',\n",
       " 'profitLoss': 0.0}"
      ]
     },
     "execution_count": 6,
     "metadata": {},
     "output_type": "execute_result"
    }
   ],
   "source": [
    "rst"
   ]
  },
  {
   "cell_type": "code",
   "execution_count": 7,
   "metadata": {},
   "outputs": [
    {
     "data": {
      "text/plain": [
       "actualProfitLoss    364145.0\n",
       "availableAmount     364145.0\n",
       "margin                   0.0\n",
       "marginCallStatus      NORMAL\n",
       "profitLoss               0.0\n",
       "dtype: object"
      ]
     },
     "execution_count": 7,
     "metadata": {},
     "output_type": "execute_result"
    }
   ],
   "source": [
    "margin.fetch('dataframe')"
   ]
  },
  {
   "cell_type": "code",
   "execution_count": 10,
   "metadata": {},
   "outputs": [
    {
     "name": "stdout",
     "output_type": "stream",
     "text": [
      "Log path = /root/src/kuloko/log/logging.log\n"
     ]
    }
   ],
   "source": [
    "assets = private_api.Assets(general_config_mode,private_api_mode)"
   ]
  },
  {
   "cell_type": "code",
   "execution_count": 11,
   "metadata": {},
   "outputs": [
    {
     "data": {
      "text/plain": [
       "{'JPY': {'amount': 364145.0,\n",
       "  'available': 364145.0,\n",
       "  'conversionRate': 1.0,\n",
       "  'symbol': 'JPY'},\n",
       " 'BTC': {'amount': 0.3558,\n",
       "  'available': 0.3558,\n",
       "  'conversionRate': 5400437.0,\n",
       "  'symbol': 'BTC'},\n",
       " 'ETH': {'amount': 0.0,\n",
       "  'available': 0.0,\n",
       "  'conversionRate': 383129.0,\n",
       "  'symbol': 'ETH'},\n",
       " 'BCH': {'amount': 0.0,\n",
       "  'available': 0.0,\n",
       "  'conversionRate': 43922.0,\n",
       "  'symbol': 'BCH'},\n",
       " 'LTC': {'amount': 2.2,\n",
       "  'available': 2.2,\n",
       "  'conversionRate': 15170.0,\n",
       "  'symbol': 'LTC'},\n",
       " 'XRP': {'amount': 460.0,\n",
       "  'available': 460.0,\n",
       "  'conversionRate': 101.039,\n",
       "  'symbol': 'XRP'},\n",
       " 'XEM': {'amount': 2650.0,\n",
       "  'available': 2650.0,\n",
       "  'conversionRate': 13.063,\n",
       "  'symbol': 'XEM'},\n",
       " 'XLM': {'amount': 2550.0,\n",
       "  'available': 2550.0,\n",
       "  'conversionRate': 26.067,\n",
       "  'symbol': 'XLM'},\n",
       " 'BAT': {'amount': 0.0,\n",
       "  'available': 0.0,\n",
       "  'conversionRate': 103.984,\n",
       "  'symbol': 'BAT'},\n",
       " 'OMG': {'amount': 0.0,\n",
       "  'available': 0.0,\n",
       "  'conversionRate': 632.399,\n",
       "  'symbol': 'OMG'},\n",
       " 'XTZ': {'amount': 0.0,\n",
       "  'available': 0.0,\n",
       "  'conversionRate': 416.921,\n",
       "  'symbol': 'XTZ'},\n",
       " 'QTUM': {'amount': 0.0,\n",
       "  'available': 0.0,\n",
       "  'conversionRate': 1024.536,\n",
       "  'symbol': 'QTUM'},\n",
       " 'ENJ': {'amount': 0.0,\n",
       "  'available': 0.0,\n",
       "  'conversionRate': 199.783,\n",
       "  'symbol': 'ENJ'},\n",
       " 'DOT': {'amount': 0.0,\n",
       "  'available': 0.0,\n",
       "  'conversionRate': 2516.0,\n",
       "  'symbol': 'DOT'},\n",
       " 'ATOM': {'amount': 0.0,\n",
       "  'available': 0.0,\n",
       "  'conversionRate': 3504.0,\n",
       "  'symbol': 'ATOM'},\n",
       " 'MKR': {'amount': 0.0,\n",
       "  'available': 0.0,\n",
       "  'conversionRate': 244431.0,\n",
       "  'symbol': 'MKR'},\n",
       " 'DAI': {'amount': 0.0,\n",
       "  'available': 0.0,\n",
       "  'conversionRate': 121.373,\n",
       "  'symbol': 'DAI'},\n",
       " 'XYM': {'amount': 2410.0,\n",
       "  'available': 2410.0,\n",
       "  'conversionRate': 18.111,\n",
       "  'symbol': 'XYM'},\n",
       " 'MONA': {'amount': 0.0,\n",
       "  'available': 0.0,\n",
       "  'conversionRate': 117.001,\n",
       "  'symbol': 'MONA'},\n",
       " 'ADA': {'amount': 0.0,\n",
       "  'available': 0.0,\n",
       "  'conversionRate': 135.691,\n",
       "  'symbol': 'ADA'},\n",
       " 'LINK': {'amount': 0.0,\n",
       "  'available': 0.0,\n",
       "  'conversionRate': 1952.0,\n",
       "  'symbol': 'LINK'}}"
      ]
     },
     "execution_count": 11,
     "metadata": {},
     "output_type": "execute_result"
    }
   ],
   "source": [
    "assets.fetch('json')"
   ]
  },
  {
   "cell_type": "code",
   "execution_count": 12,
   "metadata": {},
   "outputs": [
    {
     "data": {
      "text/html": [
       "<div>\n",
       "<style scoped>\n",
       "    .dataframe tbody tr th:only-of-type {\n",
       "        vertical-align: middle;\n",
       "    }\n",
       "\n",
       "    .dataframe tbody tr th {\n",
       "        vertical-align: top;\n",
       "    }\n",
       "\n",
       "    .dataframe thead th {\n",
       "        text-align: right;\n",
       "    }\n",
       "</style>\n",
       "<table border=\"1\" class=\"dataframe\">\n",
       "  <thead>\n",
       "    <tr style=\"text-align: right;\">\n",
       "      <th></th>\n",
       "      <th>amount</th>\n",
       "      <th>available</th>\n",
       "      <th>conversionRate</th>\n",
       "      <th>symbol</th>\n",
       "    </tr>\n",
       "  </thead>\n",
       "  <tbody>\n",
       "    <tr>\n",
       "      <th>0</th>\n",
       "      <td>364145.0000</td>\n",
       "      <td>364145.0000</td>\n",
       "      <td>1.000</td>\n",
       "      <td>JPY</td>\n",
       "    </tr>\n",
       "    <tr>\n",
       "      <th>1</th>\n",
       "      <td>0.3558</td>\n",
       "      <td>0.3558</td>\n",
       "      <td>5398019.000</td>\n",
       "      <td>BTC</td>\n",
       "    </tr>\n",
       "    <tr>\n",
       "      <th>2</th>\n",
       "      <td>0.0000</td>\n",
       "      <td>0.0000</td>\n",
       "      <td>382931.000</td>\n",
       "      <td>ETH</td>\n",
       "    </tr>\n",
       "    <tr>\n",
       "      <th>3</th>\n",
       "      <td>0.0000</td>\n",
       "      <td>0.0000</td>\n",
       "      <td>43916.000</td>\n",
       "      <td>BCH</td>\n",
       "    </tr>\n",
       "    <tr>\n",
       "      <th>4</th>\n",
       "      <td>2.2000</td>\n",
       "      <td>2.2000</td>\n",
       "      <td>15171.000</td>\n",
       "      <td>LTC</td>\n",
       "    </tr>\n",
       "    <tr>\n",
       "      <th>5</th>\n",
       "      <td>460.0000</td>\n",
       "      <td>460.0000</td>\n",
       "      <td>101.002</td>\n",
       "      <td>XRP</td>\n",
       "    </tr>\n",
       "    <tr>\n",
       "      <th>6</th>\n",
       "      <td>2650.0000</td>\n",
       "      <td>2650.0000</td>\n",
       "      <td>13.057</td>\n",
       "      <td>XEM</td>\n",
       "    </tr>\n",
       "    <tr>\n",
       "      <th>7</th>\n",
       "      <td>2550.0000</td>\n",
       "      <td>2550.0000</td>\n",
       "      <td>26.067</td>\n",
       "      <td>XLM</td>\n",
       "    </tr>\n",
       "    <tr>\n",
       "      <th>8</th>\n",
       "      <td>0.0000</td>\n",
       "      <td>0.0000</td>\n",
       "      <td>103.990</td>\n",
       "      <td>BAT</td>\n",
       "    </tr>\n",
       "    <tr>\n",
       "      <th>9</th>\n",
       "      <td>0.0000</td>\n",
       "      <td>0.0000</td>\n",
       "      <td>632.155</td>\n",
       "      <td>OMG</td>\n",
       "    </tr>\n",
       "    <tr>\n",
       "      <th>10</th>\n",
       "      <td>0.0000</td>\n",
       "      <td>0.0000</td>\n",
       "      <td>416.808</td>\n",
       "      <td>XTZ</td>\n",
       "    </tr>\n",
       "    <tr>\n",
       "      <th>11</th>\n",
       "      <td>0.0000</td>\n",
       "      <td>0.0000</td>\n",
       "      <td>1024.618</td>\n",
       "      <td>QTUM</td>\n",
       "    </tr>\n",
       "    <tr>\n",
       "      <th>12</th>\n",
       "      <td>0.0000</td>\n",
       "      <td>0.0000</td>\n",
       "      <td>199.654</td>\n",
       "      <td>ENJ</td>\n",
       "    </tr>\n",
       "    <tr>\n",
       "      <th>13</th>\n",
       "      <td>0.0000</td>\n",
       "      <td>0.0000</td>\n",
       "      <td>2516.000</td>\n",
       "      <td>DOT</td>\n",
       "    </tr>\n",
       "    <tr>\n",
       "      <th>14</th>\n",
       "      <td>0.0000</td>\n",
       "      <td>0.0000</td>\n",
       "      <td>3502.000</td>\n",
       "      <td>ATOM</td>\n",
       "    </tr>\n",
       "    <tr>\n",
       "      <th>15</th>\n",
       "      <td>0.0000</td>\n",
       "      <td>0.0000</td>\n",
       "      <td>244372.000</td>\n",
       "      <td>MKR</td>\n",
       "    </tr>\n",
       "    <tr>\n",
       "      <th>16</th>\n",
       "      <td>0.0000</td>\n",
       "      <td>0.0000</td>\n",
       "      <td>121.371</td>\n",
       "      <td>DAI</td>\n",
       "    </tr>\n",
       "    <tr>\n",
       "      <th>17</th>\n",
       "      <td>2410.0000</td>\n",
       "      <td>2410.0000</td>\n",
       "      <td>18.111</td>\n",
       "      <td>XYM</td>\n",
       "    </tr>\n",
       "    <tr>\n",
       "      <th>18</th>\n",
       "      <td>0.0000</td>\n",
       "      <td>0.0000</td>\n",
       "      <td>117.001</td>\n",
       "      <td>MONA</td>\n",
       "    </tr>\n",
       "    <tr>\n",
       "      <th>19</th>\n",
       "      <td>0.0000</td>\n",
       "      <td>0.0000</td>\n",
       "      <td>135.646</td>\n",
       "      <td>ADA</td>\n",
       "    </tr>\n",
       "    <tr>\n",
       "      <th>20</th>\n",
       "      <td>0.0000</td>\n",
       "      <td>0.0000</td>\n",
       "      <td>1951.000</td>\n",
       "      <td>LINK</td>\n",
       "    </tr>\n",
       "  </tbody>\n",
       "</table>\n",
       "</div>"
      ],
      "text/plain": [
       "         amount    available  conversionRate symbol\n",
       "0   364145.0000  364145.0000           1.000    JPY\n",
       "1        0.3558       0.3558     5398019.000    BTC\n",
       "2        0.0000       0.0000      382931.000    ETH\n",
       "3        0.0000       0.0000       43916.000    BCH\n",
       "4        2.2000       2.2000       15171.000    LTC\n",
       "5      460.0000     460.0000         101.002    XRP\n",
       "6     2650.0000    2650.0000          13.057    XEM\n",
       "7     2550.0000    2550.0000          26.067    XLM\n",
       "8        0.0000       0.0000         103.990    BAT\n",
       "9        0.0000       0.0000         632.155    OMG\n",
       "10       0.0000       0.0000         416.808    XTZ\n",
       "11       0.0000       0.0000        1024.618   QTUM\n",
       "12       0.0000       0.0000         199.654    ENJ\n",
       "13       0.0000       0.0000        2516.000    DOT\n",
       "14       0.0000       0.0000        3502.000   ATOM\n",
       "15       0.0000       0.0000      244372.000    MKR\n",
       "16       0.0000       0.0000         121.371    DAI\n",
       "17    2410.0000    2410.0000          18.111    XYM\n",
       "18       0.0000       0.0000         117.001   MONA\n",
       "19       0.0000       0.0000         135.646    ADA\n",
       "20       0.0000       0.0000        1951.000   LINK"
      ]
     },
     "execution_count": 12,
     "metadata": {},
     "output_type": "execute_result"
    }
   ],
   "source": [
    "assets.fetch('dataframe')"
   ]
  },
  {
   "cell_type": "code",
   "execution_count": null,
   "metadata": {},
   "outputs": [],
   "source": []
  },
  {
   "cell_type": "code",
   "execution_count": null,
   "metadata": {},
   "outputs": [],
   "source": []
  },
  {
   "cell_type": "code",
   "execution_count": 13,
   "metadata": {},
   "outputs": [],
   "source": [
    "# Not maintainnce yet "
   ]
  },
  {
   "cell_type": "code",
   "execution_count": null,
   "metadata": {},
   "outputs": [],
   "source": [
    "orders = private_api.Orders()"
   ]
  },
  {
   "cell_type": "code",
   "execution_count": null,
   "metadata": {},
   "outputs": [],
   "source": [
    "orders.fetch_sym(\"BTC\",'json')"
   ]
  },
  {
   "cell_type": "code",
   "execution_count": null,
   "metadata": {},
   "outputs": [],
   "source": [
    "orders.fetch_sym(\"BTC\",'dataframe')"
   ]
  },
  {
   "cell_type": "code",
   "execution_count": null,
   "metadata": {},
   "outputs": [],
   "source": [
    "orders.fetch_id(1926135059\t, 'json')"
   ]
  },
  {
   "cell_type": "code",
   "execution_count": null,
   "metadata": {},
   "outputs": [],
   "source": [
    "orders.fetch_id(742371314, 'dataframe')"
   ]
  },
  {
   "cell_type": "code",
   "execution_count": null,
   "metadata": {},
   "outputs": [],
   "source": [
    "executions  = private_api.Executions()"
   ]
  },
  {
   "cell_type": "code",
   "execution_count": null,
   "metadata": {},
   "outputs": [],
   "source": [
    "executions.fetch_latest()"
   ]
  },
  {
   "cell_type": "code",
   "execution_count": null,
   "metadata": {},
   "outputs": [],
   "source": [
    "executions.fetch_latest(None,\"dataframe\")"
   ]
  },
  {
   "cell_type": "code",
   "execution_count": null,
   "metadata": {},
   "outputs": [],
   "source": []
  },
  {
   "cell_type": "code",
   "execution_count": null,
   "metadata": {},
   "outputs": [],
   "source": [
    "order = private_api.Order()"
   ]
  },
  {
   "cell_type": "code",
   "execution_count": null,
   "metadata": {},
   "outputs": [],
   "source": [
    "reqBody = {\n",
    "    \"symbol\": \"BTC\",\n",
    "    \"side\": \"BUY\",\n",
    "    \"executionType\": \"LIMIT\",\n",
    "    \"timeInForce\": \"SOK\",\n",
    "    \"price\": 6890000,\n",
    "    \"losscutPrice\":None,\n",
    "    \"size\": 0.001,\n",
    "    \"cancelBefore\":False\n",
    "}"
   ]
  },
  {
   "cell_type": "code",
   "execution_count": null,
   "metadata": {},
   "outputs": [],
   "source": [
    "reqBody"
   ]
  },
  {
   "cell_type": "code",
   "execution_count": null,
   "metadata": {},
   "outputs": [],
   "source": [
    "res = order.entry(reqBody)"
   ]
  },
  {
   "cell_type": "code",
   "execution_count": null,
   "metadata": {},
   "outputs": [],
   "source": [
    "res"
   ]
  },
  {
   "cell_type": "code",
   "execution_count": null,
   "metadata": {},
   "outputs": [],
   "source": [
    "# orderId = res\n",
    "orderId = \"1928485324\"\n",
    "reqBody = {\n",
    "    \"orderId\": orderId,\n",
    "    \"price\": 6890001,\n",
    "    \"losscutPrice\": None\n",
    "}"
   ]
  },
  {
   "cell_type": "code",
   "execution_count": null,
   "metadata": {},
   "outputs": [],
   "source": [
    "res2 = order.amend(reqBody)"
   ]
  },
  {
   "cell_type": "code",
   "execution_count": null,
   "metadata": {},
   "outputs": [],
   "source": [
    "res2"
   ]
  },
  {
   "cell_type": "code",
   "execution_count": null,
   "metadata": {},
   "outputs": [],
   "source": [
    "reqBody = {\n",
    "    \"orderId\": orderId\n",
    "}"
   ]
  },
  {
   "cell_type": "code",
   "execution_count": null,
   "metadata": {},
   "outputs": [],
   "source": [
    "res3 = order.cancel(reqBody)"
   ]
  },
  {
   "cell_type": "code",
   "execution_count": null,
   "metadata": {},
   "outputs": [],
   "source": [
    "reqBody = {\n",
    "    \"symbols\": [\"BTC\"],\n",
    "    \"side\": \"BUY\",\n",
    "    \"desc\": True,\n",
    "}"
   ]
  },
  {
   "cell_type": "code",
   "execution_count": null,
   "metadata": {},
   "outputs": [],
   "source": [
    "res4 = order.bulkCancel(reqBody)"
   ]
  },
  {
   "cell_type": "code",
   "execution_count": null,
   "metadata": {},
   "outputs": [],
   "source": []
  }
 ],
 "metadata": {
  "interpreter": {
   "hash": "b45f9670391769e061d21fde4a80e23c28183b0e668940abb0d6257953f3010d"
  },
  "kernelspec": {
   "display_name": "Python 3 (ipykernel)",
   "language": "python",
   "name": "python3"
  },
  "language_info": {
   "codemirror_mode": {
    "name": "ipython",
    "version": 3
   },
   "file_extension": ".py",
   "mimetype": "text/x-python",
   "name": "python",
   "nbconvert_exporter": "python",
   "pygments_lexer": "ipython3",
   "version": "3.7.13"
  }
 },
 "nbformat": 4,
 "nbformat_minor": 4
}
