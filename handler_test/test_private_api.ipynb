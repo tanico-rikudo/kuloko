{
 "cells": [
  {
   "cell_type": "code",
   "execution_count": 1,
   "metadata": {},
   "outputs": [],
   "source": [
    "%load_ext autoreload\n",
    "%autoreload 2"
   ]
  },
  {
   "cell_type": "code",
   "execution_count": 2,
   "metadata": {},
   "outputs": [],
   "source": [
    "import os,sys\n",
    "os.environ['KULOKO_DIR'] = '/Users/macico/Dropbox/btc/kuloko'\n",
    "os.environ['COMMON_DIR'] = os.path.join(os.environ['KULOKO_DIR'], \"geco_commons\")\n",
    "os.environ['MONGO_DIR'] = os.path.join(os.environ['COMMON_DIR'] ,\"mongodb\")\n",
    "os.environ['LOGDIR'] = os.path.join(os.environ['KULOKO_DIR'], \"log\")\n",
    "sys.path.append(os.path.join(os.environ['KULOKO_DIR'],\"items\" ))\n",
    "sys.path.append(os.path.join(os.environ['KULOKO_DIR'],\"geco_commons\" ))"
   ]
  },
  {
   "cell_type": "code",
   "execution_count": 3,
   "metadata": {},
   "outputs": [],
   "source": [
    "import private_api\n",
    "margin = private_api.Margin()"
   ]
  },
  {
   "cell_type": "code",
   "execution_count": 4,
   "metadata": {},
   "outputs": [],
   "source": [
    "rst = margin.fetch('json')"
   ]
  },
  {
   "cell_type": "code",
   "execution_count": 5,
   "metadata": {},
   "outputs": [
    {
     "data": {
      "text/plain": [
       "{'actualProfitLoss': 306142.0,\n",
       " 'availableAmount': 306142.0,\n",
       " 'margin': 0.0,\n",
       " 'marginCallStatus': 'NORMAL',\n",
       " 'profitLoss': 0.0,\n",
       " '_id': ObjectId('61729c86644833f50dbba674')}"
      ]
     },
     "execution_count": 5,
     "metadata": {},
     "output_type": "execute_result"
    }
   ],
   "source": [
    "rst"
   ]
  },
  {
   "cell_type": "code",
   "execution_count": 6,
   "metadata": {},
   "outputs": [
    {
     "data": {
      "text/plain": [
       "actualProfitLoss    306142\n",
       "availableAmount     306142\n",
       "margin                   0\n",
       "marginCallStatus    NORMAL\n",
       "profitLoss               0\n",
       "dtype: object"
      ]
     },
     "execution_count": 6,
     "metadata": {},
     "output_type": "execute_result"
    }
   ],
   "source": [
    "margin.fetch('dataframe')"
   ]
  },
  {
   "cell_type": "code",
   "execution_count": 7,
   "metadata": {},
   "outputs": [],
   "source": [
    "assets = private_api.Assets()"
   ]
  },
  {
   "cell_type": "code",
   "execution_count": 8,
   "metadata": {},
   "outputs": [
    {
     "data": {
      "text/plain": [
       "{'JPY': {'amount': 306142.0,\n",
       "  'available': 306142.0,\n",
       "  'conversionRate': 1.0,\n",
       "  'symbol': 'JPY'},\n",
       " 'BTC': {'amount': 0.3058,\n",
       "  'available': 0.3058,\n",
       "  'conversionRate': 7112139.0,\n",
       "  'symbol': 'BTC'},\n",
       " 'ETH': {'amount': 0.0,\n",
       "  'available': 0.0,\n",
       "  'conversionRate': 462017.0,\n",
       "  'symbol': 'ETH'},\n",
       " 'BCH': {'amount': 0.0,\n",
       "  'available': 0.0,\n",
       "  'conversionRate': 70038.0,\n",
       "  'symbol': 'BCH'},\n",
       " 'LTC': {'amount': 0.0,\n",
       "  'available': 0.0,\n",
       "  'conversionRate': 21992.0,\n",
       "  'symbol': 'LTC'},\n",
       " 'XRP': {'amount': 0.0,\n",
       "  'available': 0.0,\n",
       "  'conversionRate': 123.194,\n",
       "  'symbol': 'XRP'},\n",
       " 'XEM': {'amount': 0.0,\n",
       "  'available': 0.0,\n",
       "  'conversionRate': 19.275,\n",
       "  'symbol': 'XEM'},\n",
       " 'XLM': {'amount': 0.0,\n",
       "  'available': 0.0,\n",
       "  'conversionRate': 41.998,\n",
       "  'symbol': 'XLM'},\n",
       " 'BAT': {'amount': 0.0,\n",
       "  'available': 0.0,\n",
       "  'conversionRate': 78.772,\n",
       "  'symbol': 'BAT'},\n",
       " 'OMG': {'amount': 0.0,\n",
       "  'available': 0.0,\n",
       "  'conversionRate': 1616.266,\n",
       "  'symbol': 'OMG'},\n",
       " 'XTZ': {'amount': 0.0,\n",
       "  'available': 0.0,\n",
       "  'conversionRate': 740.154,\n",
       "  'symbol': 'XTZ'},\n",
       " 'QTUM': {'amount': 0.0,\n",
       "  'available': 0.0,\n",
       "  'conversionRate': 1453.97,\n",
       "  'symbol': 'QTUM'},\n",
       " 'ENJ': {'amount': 0.0,\n",
       "  'available': 0.0,\n",
       "  'conversionRate': 204.652,\n",
       "  'symbol': 'ENJ'},\n",
       " 'DOT': {'amount': 0.0,\n",
       "  'available': 0.0,\n",
       "  'conversionRate': 4916.0,\n",
       "  'symbol': 'DOT'},\n",
       " 'ATOM': {'amount': 0.0,\n",
       "  'available': 0.0,\n",
       "  'conversionRate': 3792.0,\n",
       "  'symbol': 'ATOM'},\n",
       " 'XYM': {'amount': 0.0,\n",
       "  'available': 0.0,\n",
       "  'conversionRate': 39.938,\n",
       "  'symbol': 'XYM'}}"
      ]
     },
     "execution_count": 8,
     "metadata": {},
     "output_type": "execute_result"
    }
   ],
   "source": [
    "assets.fetch('json')"
   ]
  },
  {
   "cell_type": "code",
   "execution_count": 9,
   "metadata": {},
   "outputs": [
    {
     "data": {
      "text/html": [
       "<div>\n",
       "<style scoped>\n",
       "    .dataframe tbody tr th:only-of-type {\n",
       "        vertical-align: middle;\n",
       "    }\n",
       "\n",
       "    .dataframe tbody tr th {\n",
       "        vertical-align: top;\n",
       "    }\n",
       "\n",
       "    .dataframe thead th {\n",
       "        text-align: right;\n",
       "    }\n",
       "</style>\n",
       "<table border=\"1\" class=\"dataframe\">\n",
       "  <thead>\n",
       "    <tr style=\"text-align: right;\">\n",
       "      <th></th>\n",
       "      <th>amount</th>\n",
       "      <th>available</th>\n",
       "      <th>conversionRate</th>\n",
       "      <th>symbol</th>\n",
       "    </tr>\n",
       "  </thead>\n",
       "  <tbody>\n",
       "    <tr>\n",
       "      <th>0</th>\n",
       "      <td>306142.0000</td>\n",
       "      <td>306142.0000</td>\n",
       "      <td>1.000</td>\n",
       "      <td>JPY</td>\n",
       "    </tr>\n",
       "    <tr>\n",
       "      <th>1</th>\n",
       "      <td>0.3058</td>\n",
       "      <td>0.3058</td>\n",
       "      <td>7112184.000</td>\n",
       "      <td>BTC</td>\n",
       "    </tr>\n",
       "    <tr>\n",
       "      <th>2</th>\n",
       "      <td>0.0000</td>\n",
       "      <td>0.0000</td>\n",
       "      <td>462010.000</td>\n",
       "      <td>ETH</td>\n",
       "    </tr>\n",
       "    <tr>\n",
       "      <th>3</th>\n",
       "      <td>0.0000</td>\n",
       "      <td>0.0000</td>\n",
       "      <td>70037.000</td>\n",
       "      <td>BCH</td>\n",
       "    </tr>\n",
       "    <tr>\n",
       "      <th>4</th>\n",
       "      <td>0.0000</td>\n",
       "      <td>0.0000</td>\n",
       "      <td>21992.000</td>\n",
       "      <td>LTC</td>\n",
       "    </tr>\n",
       "    <tr>\n",
       "      <th>5</th>\n",
       "      <td>0.0000</td>\n",
       "      <td>0.0000</td>\n",
       "      <td>123.194</td>\n",
       "      <td>XRP</td>\n",
       "    </tr>\n",
       "    <tr>\n",
       "      <th>6</th>\n",
       "      <td>0.0000</td>\n",
       "      <td>0.0000</td>\n",
       "      <td>19.275</td>\n",
       "      <td>XEM</td>\n",
       "    </tr>\n",
       "    <tr>\n",
       "      <th>7</th>\n",
       "      <td>0.0000</td>\n",
       "      <td>0.0000</td>\n",
       "      <td>41.994</td>\n",
       "      <td>XLM</td>\n",
       "    </tr>\n",
       "    <tr>\n",
       "      <th>8</th>\n",
       "      <td>0.0000</td>\n",
       "      <td>0.0000</td>\n",
       "      <td>78.772</td>\n",
       "      <td>BAT</td>\n",
       "    </tr>\n",
       "    <tr>\n",
       "      <th>9</th>\n",
       "      <td>0.0000</td>\n",
       "      <td>0.0000</td>\n",
       "      <td>1616.474</td>\n",
       "      <td>OMG</td>\n",
       "    </tr>\n",
       "    <tr>\n",
       "      <th>10</th>\n",
       "      <td>0.0000</td>\n",
       "      <td>0.0000</td>\n",
       "      <td>740.161</td>\n",
       "      <td>XTZ</td>\n",
       "    </tr>\n",
       "    <tr>\n",
       "      <th>11</th>\n",
       "      <td>0.0000</td>\n",
       "      <td>0.0000</td>\n",
       "      <td>1453.942</td>\n",
       "      <td>QTUM</td>\n",
       "    </tr>\n",
       "    <tr>\n",
       "      <th>12</th>\n",
       "      <td>0.0000</td>\n",
       "      <td>0.0000</td>\n",
       "      <td>204.622</td>\n",
       "      <td>ENJ</td>\n",
       "    </tr>\n",
       "    <tr>\n",
       "      <th>13</th>\n",
       "      <td>0.0000</td>\n",
       "      <td>0.0000</td>\n",
       "      <td>4916.000</td>\n",
       "      <td>DOT</td>\n",
       "    </tr>\n",
       "    <tr>\n",
       "      <th>14</th>\n",
       "      <td>0.0000</td>\n",
       "      <td>0.0000</td>\n",
       "      <td>3792.000</td>\n",
       "      <td>ATOM</td>\n",
       "    </tr>\n",
       "    <tr>\n",
       "      <th>15</th>\n",
       "      <td>0.0000</td>\n",
       "      <td>0.0000</td>\n",
       "      <td>39.940</td>\n",
       "      <td>XYM</td>\n",
       "    </tr>\n",
       "  </tbody>\n",
       "</table>\n",
       "</div>"
      ],
      "text/plain": [
       "         amount    available  conversionRate symbol\n",
       "0   306142.0000  306142.0000           1.000    JPY\n",
       "1        0.3058       0.3058     7112184.000    BTC\n",
       "2        0.0000       0.0000      462010.000    ETH\n",
       "3        0.0000       0.0000       70037.000    BCH\n",
       "4        0.0000       0.0000       21992.000    LTC\n",
       "5        0.0000       0.0000         123.194    XRP\n",
       "6        0.0000       0.0000          19.275    XEM\n",
       "7        0.0000       0.0000          41.994    XLM\n",
       "8        0.0000       0.0000          78.772    BAT\n",
       "9        0.0000       0.0000        1616.474    OMG\n",
       "10       0.0000       0.0000         740.161    XTZ\n",
       "11       0.0000       0.0000        1453.942   QTUM\n",
       "12       0.0000       0.0000         204.622    ENJ\n",
       "13       0.0000       0.0000        4916.000    DOT\n",
       "14       0.0000       0.0000        3792.000   ATOM\n",
       "15       0.0000       0.0000          39.940    XYM"
      ]
     },
     "execution_count": 9,
     "metadata": {},
     "output_type": "execute_result"
    }
   ],
   "source": [
    "assets.fetch('dataframe')"
   ]
  },
  {
   "cell_type": "code",
   "execution_count": 12,
   "metadata": {},
   "outputs": [],
   "source": [
    "orders = private_api.Orders()"
   ]
  },
  {
   "cell_type": "code",
   "execution_count": 13,
   "metadata": {},
   "outputs": [
    {
     "data": {
      "text/plain": [
       "[{'executedSize': 0.0,\n",
       "  'executionType': 'LIMIT',\n",
       "  'losscutPrice': 0.0,\n",
       "  'orderId': 1926135059,\n",
       "  'orderType': 'NORMAL',\n",
       "  'price': 7215040.0,\n",
       "  'rootOrderId': 1926135059,\n",
       "  'settleType': 'OPEN',\n",
       "  'side': 'BUY',\n",
       "  'size': 0.04,\n",
       "  'status': 'ORDERED',\n",
       "  'symbol': 'BTC',\n",
       "  'timeInForce': 'FAS',\n",
       "  'timestamp': '20211022021257644000'}]"
      ]
     },
     "execution_count": 13,
     "metadata": {},
     "output_type": "execute_result"
    }
   ],
   "source": [
    "orders.fetch_sym(\"BTC\",'json')"
   ]
  },
  {
   "cell_type": "code",
   "execution_count": 15,
   "metadata": {},
   "outputs": [
    {
     "data": {
      "text/html": [
       "<div>\n",
       "<style scoped>\n",
       "    .dataframe tbody tr th:only-of-type {\n",
       "        vertical-align: middle;\n",
       "    }\n",
       "\n",
       "    .dataframe tbody tr th {\n",
       "        vertical-align: top;\n",
       "    }\n",
       "\n",
       "    .dataframe thead th {\n",
       "        text-align: right;\n",
       "    }\n",
       "</style>\n",
       "<table border=\"1\" class=\"dataframe\">\n",
       "  <thead>\n",
       "    <tr style=\"text-align: right;\">\n",
       "      <th></th>\n",
       "      <th>executedSize</th>\n",
       "      <th>executionType</th>\n",
       "      <th>losscutPrice</th>\n",
       "      <th>orderId</th>\n",
       "      <th>orderType</th>\n",
       "      <th>price</th>\n",
       "      <th>rootOrderId</th>\n",
       "      <th>settleType</th>\n",
       "      <th>side</th>\n",
       "      <th>size</th>\n",
       "      <th>status</th>\n",
       "      <th>symbol</th>\n",
       "      <th>timeInForce</th>\n",
       "      <th>timestamp</th>\n",
       "    </tr>\n",
       "  </thead>\n",
       "  <tbody>\n",
       "    <tr>\n",
       "      <th>0</th>\n",
       "      <td>0.0</td>\n",
       "      <td>LIMIT</td>\n",
       "      <td>0.0</td>\n",
       "      <td>1926135059</td>\n",
       "      <td>NORMAL</td>\n",
       "      <td>7215040.0</td>\n",
       "      <td>1926135059</td>\n",
       "      <td>OPEN</td>\n",
       "      <td>BUY</td>\n",
       "      <td>0.04</td>\n",
       "      <td>ORDERED</td>\n",
       "      <td>BTC</td>\n",
       "      <td>FAS</td>\n",
       "      <td>2021-10-22 02:12:57.644000+00:00</td>\n",
       "    </tr>\n",
       "  </tbody>\n",
       "</table>\n",
       "</div>"
      ],
      "text/plain": [
       "   executedSize executionType  losscutPrice     orderId orderType      price  \\\n",
       "0           0.0         LIMIT           0.0  1926135059    NORMAL  7215040.0   \n",
       "\n",
       "   rootOrderId settleType side  size   status symbol timeInForce  \\\n",
       "0   1926135059       OPEN  BUY  0.04  ORDERED    BTC         FAS   \n",
       "\n",
       "                         timestamp  \n",
       "0 2021-10-22 02:12:57.644000+00:00  "
      ]
     },
     "execution_count": 15,
     "metadata": {},
     "output_type": "execute_result"
    }
   ],
   "source": [
    "orders.fetch_sym(\"BTC\",'dataframe')"
   ]
  },
  {
   "cell_type": "code",
   "execution_count": 16,
   "metadata": {},
   "outputs": [
    {
     "data": {
      "text/plain": [
       "[{'executedSize': 0.0,\n",
       "  'executionType': 'LIMIT',\n",
       "  'losscutPrice': 0.0,\n",
       "  'orderId': 1926135059,\n",
       "  'orderType': 'NORMAL',\n",
       "  'price': 7215040.0,\n",
       "  'rootOrderId': 1926135059,\n",
       "  'settleType': 'OPEN',\n",
       "  'side': 'BUY',\n",
       "  'size': 0.04,\n",
       "  'status': 'ORDERED',\n",
       "  'symbol': 'BTC',\n",
       "  'timeInForce': 'FAS',\n",
       "  'timestamp': '20211022021257644000'}]"
      ]
     },
     "execution_count": 16,
     "metadata": {},
     "output_type": "execute_result"
    }
   ],
   "source": [
    "orders.fetch_id(1926135059\t, 'json')"
   ]
  },
  {
   "cell_type": "code",
   "execution_count": 73,
   "metadata": {},
   "outputs": [
    {
     "data": {
      "text/html": [
       "<div>\n",
       "<style scoped>\n",
       "    .dataframe tbody tr th:only-of-type {\n",
       "        vertical-align: middle;\n",
       "    }\n",
       "\n",
       "    .dataframe tbody tr th {\n",
       "        vertical-align: top;\n",
       "    }\n",
       "\n",
       "    .dataframe thead th {\n",
       "        text-align: right;\n",
       "    }\n",
       "</style>\n",
       "<table border=\"1\" class=\"dataframe\">\n",
       "  <thead>\n",
       "    <tr style=\"text-align: right;\">\n",
       "      <th></th>\n",
       "      <th>cancelType</th>\n",
       "      <th>executedSize</th>\n",
       "      <th>executionType</th>\n",
       "      <th>losscutPrice</th>\n",
       "      <th>orderId</th>\n",
       "      <th>orderType</th>\n",
       "      <th>price</th>\n",
       "      <th>rootOrderId</th>\n",
       "      <th>settleType</th>\n",
       "      <th>side</th>\n",
       "      <th>size</th>\n",
       "      <th>status</th>\n",
       "      <th>symbol</th>\n",
       "      <th>timeInForce</th>\n",
       "      <th>timestamp</th>\n",
       "    </tr>\n",
       "  </thead>\n",
       "  <tbody>\n",
       "    <tr>\n",
       "      <th>0</th>\n",
       "      <td>USER</td>\n",
       "      <td>0.0</td>\n",
       "      <td>LIMIT</td>\n",
       "      <td>0.0</td>\n",
       "      <td>742371314</td>\n",
       "      <td>NORMAL</td>\n",
       "      <td>611000.0</td>\n",
       "      <td>742371314</td>\n",
       "      <td>OPEN</td>\n",
       "      <td>BUY</td>\n",
       "      <td>0.0083</td>\n",
       "      <td>CANCELED</td>\n",
       "      <td>BTC</td>\n",
       "      <td>FAS</td>\n",
       "      <td>2020-03-19 02:10:27.345000+00:00</td>\n",
       "    </tr>\n",
       "  </tbody>\n",
       "</table>\n",
       "</div>"
      ],
      "text/plain": [
       "  cancelType  executedSize executionType  losscutPrice    orderId orderType  \\\n",
       "0       USER           0.0         LIMIT           0.0  742371314    NORMAL   \n",
       "\n",
       "      price  rootOrderId settleType side    size    status symbol timeInForce  \\\n",
       "0  611000.0    742371314       OPEN  BUY  0.0083  CANCELED    BTC         FAS   \n",
       "\n",
       "                         timestamp  \n",
       "0 2020-03-19 02:10:27.345000+00:00  "
      ]
     },
     "execution_count": 73,
     "metadata": {},
     "output_type": "execute_result"
    }
   ],
   "source": [
    "orders.fetch_id(742371314, 'dataframe')"
   ]
  },
  {
   "cell_type": "code",
   "execution_count": 19,
   "metadata": {},
   "outputs": [],
   "source": [
    "executions  = private_api.Executions()"
   ]
  },
  {
   "cell_type": "code",
   "execution_count": 20,
   "metadata": {},
   "outputs": [
    {
     "data": {
      "text/plain": [
       "[{'executionId': 425050364,\n",
       "  'fee': -8.0,\n",
       "  'lossGain': 0.0,\n",
       "  'orderId': 1926135059,\n",
       "  'price': 7215040.0,\n",
       "  'settleType': 'OPEN',\n",
       "  'side': 'BUY',\n",
       "  'size': 0.0118,\n",
       "  'symbol': 'BTC',\n",
       "  'timestamp': '20211022021542077000'},\n",
       " {'executionId': 425050359,\n",
       "  'fee': -20.0,\n",
       "  'lossGain': 0.0,\n",
       "  'orderId': 1926135059,\n",
       "  'price': 7215040.0,\n",
       "  'settleType': 'OPEN',\n",
       "  'side': 'BUY',\n",
       "  'size': 0.0282,\n",
       "  'symbol': 'BTC',\n",
       "  'timestamp': '20211022021541330000'}]"
      ]
     },
     "execution_count": 20,
     "metadata": {},
     "output_type": "execute_result"
    }
   ],
   "source": [
    "executions.fetch_latest()"
   ]
  },
  {
   "cell_type": "code",
   "execution_count": 21,
   "metadata": {},
   "outputs": [
    {
     "data": {
      "text/html": [
       "<div>\n",
       "<style scoped>\n",
       "    .dataframe tbody tr th:only-of-type {\n",
       "        vertical-align: middle;\n",
       "    }\n",
       "\n",
       "    .dataframe tbody tr th {\n",
       "        vertical-align: top;\n",
       "    }\n",
       "\n",
       "    .dataframe thead th {\n",
       "        text-align: right;\n",
       "    }\n",
       "</style>\n",
       "<table border=\"1\" class=\"dataframe\">\n",
       "  <thead>\n",
       "    <tr style=\"text-align: right;\">\n",
       "      <th></th>\n",
       "      <th>executionId</th>\n",
       "      <th>fee</th>\n",
       "      <th>lossGain</th>\n",
       "      <th>orderId</th>\n",
       "      <th>price</th>\n",
       "      <th>settleType</th>\n",
       "      <th>side</th>\n",
       "      <th>size</th>\n",
       "      <th>symbol</th>\n",
       "      <th>timestamp</th>\n",
       "    </tr>\n",
       "  </thead>\n",
       "  <tbody>\n",
       "    <tr>\n",
       "      <th>0</th>\n",
       "      <td>425050364</td>\n",
       "      <td>-8.0</td>\n",
       "      <td>0.0</td>\n",
       "      <td>1926135059</td>\n",
       "      <td>7215040.0</td>\n",
       "      <td>OPEN</td>\n",
       "      <td>BUY</td>\n",
       "      <td>0.0118</td>\n",
       "      <td>BTC</td>\n",
       "      <td>2021-10-22 02:15:42.077000+00:00</td>\n",
       "    </tr>\n",
       "    <tr>\n",
       "      <th>1</th>\n",
       "      <td>425050359</td>\n",
       "      <td>-20.0</td>\n",
       "      <td>0.0</td>\n",
       "      <td>1926135059</td>\n",
       "      <td>7215040.0</td>\n",
       "      <td>OPEN</td>\n",
       "      <td>BUY</td>\n",
       "      <td>0.0282</td>\n",
       "      <td>BTC</td>\n",
       "      <td>2021-10-22 02:15:41.330000+00:00</td>\n",
       "    </tr>\n",
       "  </tbody>\n",
       "</table>\n",
       "</div>"
      ],
      "text/plain": [
       "   executionId   fee  lossGain     orderId      price settleType side    size  \\\n",
       "0    425050364  -8.0       0.0  1926135059  7215040.0       OPEN  BUY  0.0118   \n",
       "1    425050359 -20.0       0.0  1926135059  7215040.0       OPEN  BUY  0.0282   \n",
       "\n",
       "  symbol                        timestamp  \n",
       "0    BTC 2021-10-22 02:15:42.077000+00:00  \n",
       "1    BTC 2021-10-22 02:15:41.330000+00:00  "
      ]
     },
     "execution_count": 21,
     "metadata": {},
     "output_type": "execute_result"
    }
   ],
   "source": [
    "executions.fetch_latest(None,\"dataframe\")"
   ]
  },
  {
   "cell_type": "code",
   "execution_count": null,
   "metadata": {},
   "outputs": [],
   "source": []
  },
  {
   "cell_type": "code",
   "execution_count": null,
   "metadata": {},
   "outputs": [],
   "source": [
    "order."
   ]
  },
  {
   "cell_type": "code",
   "execution_count": 37,
   "metadata": {},
   "outputs": [],
   "source": [
    "order = private_api.Order()"
   ]
  },
  {
   "cell_type": "code",
   "execution_count": 38,
   "metadata": {},
   "outputs": [],
   "source": [
    "reqBody = {\n",
    "    \"symbol\": \"BTC\",\n",
    "    \"side\": \"BUY\",\n",
    "    \"executionType\": \"LIMIT\",\n",
    "    \"timeInForce\": \"SOK\",\n",
    "    \"price\": 621000,\n",
    "    \"losscutPrice\":None,\n",
    "    \"size\": 0.001,\n",
    "    \"cacnelBefore\":False\n",
    "}"
   ]
  },
  {
   "cell_type": "code",
   "execution_count": 39,
   "metadata": {},
   "outputs": [],
   "source": [
    "res = order.entry(reqBody)"
   ]
  },
  {
   "cell_type": "code",
   "execution_count": 40,
   "metadata": {},
   "outputs": [],
   "source": [
    "res"
   ]
  },
  {
   "cell_type": "code",
   "execution_count": null,
   "metadata": {},
   "outputs": [],
   "source": [
    "orderId = res['data']\n",
    "reqBody = {\n",
    "    \"orderId\": orderId,\n",
    "    \"price\": 1094001,\n",
    "    \"losscutPrice\": None\n",
    "}"
   ]
  },
  {
   "cell_type": "code",
   "execution_count": null,
   "metadata": {},
   "outputs": [],
   "source": [
    "res2 = order.do_change(**reqBody)"
   ]
  },
  {
   "cell_type": "code",
   "execution_count": 33,
   "metadata": {},
   "outputs": [],
   "source": [
    "reqBody = {\n",
    "    \"orderId\": orderId\n",
    "}"
   ]
  },
  {
   "cell_type": "code",
   "execution_count": 34,
   "metadata": {},
   "outputs": [],
   "source": [
    "res3 = order.do_cancel(**reqBody)"
   ]
  },
  {
   "cell_type": "code",
   "execution_count": null,
   "metadata": {},
   "outputs": [],
   "source": []
  }
 ],
 "metadata": {
  "interpreter": {
   "hash": "b45f9670391769e061d21fde4a80e23c28183b0e668940abb0d6257953f3010d"
  },
  "kernelspec": {
   "display_name": "Python 3.7.6 64-bit ('py37b': pyenv)",
   "name": "python3"
  },
  "language_info": {
   "codemirror_mode": {
    "name": "ipython",
    "version": 3
   },
   "file_extension": ".py",
   "mimetype": "text/x-python",
   "name": "python",
   "nbconvert_exporter": "python",
   "pygments_lexer": "ipython3",
   "version": "3.7.6"
  },
  "orig_nbformat": 2
 },
 "nbformat": 4,
 "nbformat_minor": 2
}
