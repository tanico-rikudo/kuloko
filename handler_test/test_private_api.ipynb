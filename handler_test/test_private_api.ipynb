{
 "cells": [
  {
   "cell_type": "code",
   "execution_count": 1,
   "metadata": {},
   "outputs": [],
   "source": [
    "%load_ext autoreload\n",
    "%autoreload 2"
   ]
  },
  {
   "cell_type": "code",
   "execution_count": null,
   "metadata": {},
   "outputs": [],
   "source": []
  },
  {
   "cell_type": "code",
   "execution_count": null,
   "metadata": {},
   "outputs": [],
   "source": []
  },
  {
   "cell_type": "code",
   "execution_count": 2,
   "metadata": {},
   "outputs": [],
   "source": [
    "import os,sys\n",
    "os.environ['KULOKO_DIR'] = '/Users/macico/Dropbox/btc/kuloko'\n",
    "os.environ['COMMON_DIR'] = os.path.join(os.environ['KULOKO_DIR'], \"geco_commons\")\n",
    "os.environ['MONGO_DIR'] = os.path.join(os.environ['COMMON_DIR'] ,\"mongodb\")\n",
    "os.environ['LOGDIR'] = os.path.join(os.environ['KULOKO_DIR'], \"log\")\n",
    "sys.path.append(os.path.join(os.environ['KULOKO_DIR'],\"items\" ))\n",
    "sys.path.append(os.path.join(os.environ['KULOKO_DIR'],\"geco_commons\" ))"
   ]
  },
  {
   "cell_type": "code",
   "execution_count": 21,
   "metadata": {},
   "outputs": [],
   "source": [
    "\n",
    "import private_api\n",
    "margin = private_api.Margin()"
   ]
  },
  {
   "cell_type": "code",
   "execution_count": 17,
   "metadata": {},
   "outputs": [],
   "source": [
    "rst = margin.fetch('json')"
   ]
  },
  {
   "cell_type": "code",
   "execution_count": 18,
   "metadata": {},
   "outputs": [
    {
     "data": {
      "text/plain": [
       "{'actualProfitLoss': 306142.0,\n",
       " 'availableAmount': 306142.0,\n",
       " 'margin': 0.0,\n",
       " 'marginCallStatus': 'NORMAL',\n",
       " 'profitLoss': 0.0}"
      ]
     },
     "execution_count": 18,
     "metadata": {},
     "output_type": "execute_result"
    }
   ],
   "source": [
    "rst"
   ]
  },
  {
   "cell_type": "code",
   "execution_count": 20,
   "metadata": {},
   "outputs": [
    {
     "data": {
      "text/plain": [
       "actualProfitLoss    306142\n",
       "availableAmount     306142\n",
       "margin                   0\n",
       "marginCallStatus    NORMAL\n",
       "profitLoss               0\n",
       "dtype: object"
      ]
     },
     "execution_count": 20,
     "metadata": {},
     "output_type": "execute_result"
    }
   ],
   "source": [
    "margin.fetch('dataframe')"
   ]
  },
  {
   "cell_type": "code",
   "execution_count": 22,
   "metadata": {},
   "outputs": [],
   "source": [
    "assets = private_api.Assets()"
   ]
  },
  {
   "cell_type": "code",
   "execution_count": 28,
   "metadata": {},
   "outputs": [
    {
     "data": {
      "text/plain": [
       "{'JPY': {'amount': 306142.0,\n",
       "  'available': 306142.0,\n",
       "  'conversionRate': 1.0,\n",
       "  'symbol': 'JPY'},\n",
       " 'BTC': {'amount': 0.3058,\n",
       "  'available': 0.3058,\n",
       "  'conversionRate': 6833395.0,\n",
       "  'symbol': 'BTC'},\n",
       " 'ETH': {'amount': 0.0,\n",
       "  'available': 0.0,\n",
       "  'conversionRate': 437158.0,\n",
       "  'symbol': 'ETH'},\n",
       " 'BCH': {'amount': 0.0,\n",
       "  'available': 0.0,\n",
       "  'conversionRate': 69497.0,\n",
       "  'symbol': 'BCH'},\n",
       " 'LTC': {'amount': 0.0,\n",
       "  'available': 0.0,\n",
       "  'conversionRate': 20855.0,\n",
       "  'symbol': 'LTC'},\n",
       " 'XRP': {'amount': 0.0,\n",
       "  'available': 0.0,\n",
       "  'conversionRate': 127.225,\n",
       "  'symbol': 'XRP'},\n",
       " 'XEM': {'amount': 0.0,\n",
       "  'available': 0.0,\n",
       "  'conversionRate': 18.813,\n",
       "  'symbol': 'XEM'},\n",
       " 'XLM': {'amount': 0.0,\n",
       "  'available': 0.0,\n",
       "  'conversionRate': 43.318,\n",
       "  'symbol': 'XLM'},\n",
       " 'BAT': {'amount': 0.0,\n",
       "  'available': 0.0,\n",
       "  'conversionRate': 78.811,\n",
       "  'symbol': 'BAT'},\n",
       " 'OMG': {'amount': 0.0,\n",
       "  'available': 0.0,\n",
       "  'conversionRate': 1531.535,\n",
       "  'symbol': 'OMG'},\n",
       " 'XTZ': {'amount': 0.0,\n",
       "  'available': 0.0,\n",
       "  'conversionRate': 749.218,\n",
       "  'symbol': 'XTZ'},\n",
       " 'QTUM': {'amount': 0.0,\n",
       "  'available': 0.0,\n",
       "  'conversionRate': 1420.524,\n",
       "  'symbol': 'QTUM'},\n",
       " 'ENJ': {'amount': 0.0,\n",
       "  'available': 0.0,\n",
       "  'conversionRate': 181.117,\n",
       "  'symbol': 'ENJ'},\n",
       " 'DOT': {'amount': 0.0,\n",
       "  'available': 0.0,\n",
       "  'conversionRate': 4620.0,\n",
       "  'symbol': 'DOT'},\n",
       " 'ATOM': {'amount': 0.0,\n",
       "  'available': 0.0,\n",
       "  'conversionRate': 3621.0,\n",
       "  'symbol': 'ATOM'}}"
      ]
     },
     "execution_count": 28,
     "metadata": {},
     "output_type": "execute_result"
    }
   ],
   "source": [
    "assets.fetch('json')"
   ]
  },
  {
   "cell_type": "code",
   "execution_count": 24,
   "metadata": {},
   "outputs": [
    {
     "data": {
      "text/html": [
       "<div>\n",
       "<style scoped>\n",
       "    .dataframe tbody tr th:only-of-type {\n",
       "        vertical-align: middle;\n",
       "    }\n",
       "\n",
       "    .dataframe tbody tr th {\n",
       "        vertical-align: top;\n",
       "    }\n",
       "\n",
       "    .dataframe thead th {\n",
       "        text-align: right;\n",
       "    }\n",
       "</style>\n",
       "<table border=\"1\" class=\"dataframe\">\n",
       "  <thead>\n",
       "    <tr style=\"text-align: right;\">\n",
       "      <th></th>\n",
       "      <th>amount</th>\n",
       "      <th>available</th>\n",
       "      <th>conversionRate</th>\n",
       "      <th>symbol</th>\n",
       "    </tr>\n",
       "  </thead>\n",
       "  <tbody>\n",
       "    <tr>\n",
       "      <th>0</th>\n",
       "      <td>306142.0000</td>\n",
       "      <td>306142.0000</td>\n",
       "      <td>1.000</td>\n",
       "      <td>JPY</td>\n",
       "    </tr>\n",
       "    <tr>\n",
       "      <th>1</th>\n",
       "      <td>0.3058</td>\n",
       "      <td>0.3058</td>\n",
       "      <td>6827791.000</td>\n",
       "      <td>BTC</td>\n",
       "    </tr>\n",
       "    <tr>\n",
       "      <th>2</th>\n",
       "      <td>0.0000</td>\n",
       "      <td>0.0000</td>\n",
       "      <td>436641.000</td>\n",
       "      <td>ETH</td>\n",
       "    </tr>\n",
       "    <tr>\n",
       "      <th>3</th>\n",
       "      <td>0.0000</td>\n",
       "      <td>0.0000</td>\n",
       "      <td>69438.000</td>\n",
       "      <td>BCH</td>\n",
       "    </tr>\n",
       "    <tr>\n",
       "      <th>4</th>\n",
       "      <td>0.0000</td>\n",
       "      <td>0.0000</td>\n",
       "      <td>20834.000</td>\n",
       "      <td>LTC</td>\n",
       "    </tr>\n",
       "    <tr>\n",
       "      <th>5</th>\n",
       "      <td>0.0000</td>\n",
       "      <td>0.0000</td>\n",
       "      <td>127.155</td>\n",
       "      <td>XRP</td>\n",
       "    </tr>\n",
       "    <tr>\n",
       "      <th>6</th>\n",
       "      <td>0.0000</td>\n",
       "      <td>0.0000</td>\n",
       "      <td>18.822</td>\n",
       "      <td>XEM</td>\n",
       "    </tr>\n",
       "    <tr>\n",
       "      <th>7</th>\n",
       "      <td>0.0000</td>\n",
       "      <td>0.0000</td>\n",
       "      <td>43.221</td>\n",
       "      <td>XLM</td>\n",
       "    </tr>\n",
       "    <tr>\n",
       "      <th>8</th>\n",
       "      <td>0.0000</td>\n",
       "      <td>0.0000</td>\n",
       "      <td>78.699</td>\n",
       "      <td>BAT</td>\n",
       "    </tr>\n",
       "    <tr>\n",
       "      <th>9</th>\n",
       "      <td>0.0000</td>\n",
       "      <td>0.0000</td>\n",
       "      <td>1530.609</td>\n",
       "      <td>OMG</td>\n",
       "    </tr>\n",
       "    <tr>\n",
       "      <th>10</th>\n",
       "      <td>0.0000</td>\n",
       "      <td>0.0000</td>\n",
       "      <td>748.346</td>\n",
       "      <td>XTZ</td>\n",
       "    </tr>\n",
       "    <tr>\n",
       "      <th>11</th>\n",
       "      <td>0.0000</td>\n",
       "      <td>0.0000</td>\n",
       "      <td>1420.002</td>\n",
       "      <td>QTUM</td>\n",
       "    </tr>\n",
       "    <tr>\n",
       "      <th>12</th>\n",
       "      <td>0.0000</td>\n",
       "      <td>0.0000</td>\n",
       "      <td>181.001</td>\n",
       "      <td>ENJ</td>\n",
       "    </tr>\n",
       "    <tr>\n",
       "      <th>13</th>\n",
       "      <td>0.0000</td>\n",
       "      <td>0.0000</td>\n",
       "      <td>4608.000</td>\n",
       "      <td>DOT</td>\n",
       "    </tr>\n",
       "    <tr>\n",
       "      <th>14</th>\n",
       "      <td>0.0000</td>\n",
       "      <td>0.0000</td>\n",
       "      <td>3620.000</td>\n",
       "      <td>ATOM</td>\n",
       "    </tr>\n",
       "  </tbody>\n",
       "</table>\n",
       "</div>"
      ],
      "text/plain": [
       "         amount    available  conversionRate symbol\n",
       "0   306142.0000  306142.0000           1.000    JPY\n",
       "1        0.3058       0.3058     6827791.000    BTC\n",
       "2        0.0000       0.0000      436641.000    ETH\n",
       "3        0.0000       0.0000       69438.000    BCH\n",
       "4        0.0000       0.0000       20834.000    LTC\n",
       "5        0.0000       0.0000         127.155    XRP\n",
       "6        0.0000       0.0000          18.822    XEM\n",
       "7        0.0000       0.0000          43.221    XLM\n",
       "8        0.0000       0.0000          78.699    BAT\n",
       "9        0.0000       0.0000        1530.609    OMG\n",
       "10       0.0000       0.0000         748.346    XTZ\n",
       "11       0.0000       0.0000        1420.002   QTUM\n",
       "12       0.0000       0.0000         181.001    ENJ\n",
       "13       0.0000       0.0000        4608.000    DOT\n",
       "14       0.0000       0.0000        3620.000   ATOM"
      ]
     },
     "execution_count": 24,
     "metadata": {},
     "output_type": "execute_result"
    }
   ],
   "source": [
    "assets.fetch('dataframe')"
   ]
  },
  {
   "cell_type": "code",
   "execution_count": 39,
   "metadata": {},
   "outputs": [],
   "source": [
    "orders = private_api.Orders()"
   ]
  },
  {
   "cell_type": "code",
   "execution_count": 67,
   "metadata": {},
   "outputs": [
    {
     "data": {
      "text/plain": [
       "0"
      ]
     },
     "execution_count": 67,
     "metadata": {},
     "output_type": "execute_result"
    }
   ],
   "source": [
    "len(activeOrders['data'])"
   ]
  },
  {
   "cell_type": "code",
   "execution_count": 68,
   "metadata": {},
   "outputs": [
    {
     "data": {
      "text/plain": [
       "[]"
      ]
     },
     "execution_count": 68,
     "metadata": {},
     "output_type": "execute_result"
    }
   ],
   "source": [
    "orders.fetch_sym(\"BTC\",'json')"
   ]
  },
  {
   "cell_type": "code",
   "execution_count": 70,
   "metadata": {},
   "outputs": [
    {
     "data": {
      "text/html": [
       "<div>\n",
       "<style scoped>\n",
       "    .dataframe tbody tr th:only-of-type {\n",
       "        vertical-align: middle;\n",
       "    }\n",
       "\n",
       "    .dataframe tbody tr th {\n",
       "        vertical-align: top;\n",
       "    }\n",
       "\n",
       "    .dataframe thead th {\n",
       "        text-align: right;\n",
       "    }\n",
       "</style>\n",
       "<table border=\"1\" class=\"dataframe\">\n",
       "  <thead>\n",
       "    <tr style=\"text-align: right;\">\n",
       "      <th></th>\n",
       "    </tr>\n",
       "  </thead>\n",
       "  <tbody>\n",
       "  </tbody>\n",
       "</table>\n",
       "</div>"
      ],
      "text/plain": [
       "Empty DataFrame\n",
       "Columns: []\n",
       "Index: []"
      ]
     },
     "execution_count": 70,
     "metadata": {},
     "output_type": "execute_result"
    }
   ],
   "source": [
    "orders.fetch_sym(\"BTC\",'dataframe')"
   ]
  },
  {
   "cell_type": "code",
   "execution_count": 72,
   "metadata": {},
   "outputs": [
    {
     "data": {
      "text/plain": [
       "[{'cancelType': 'USER',\n",
       "  'executedSize': 0.0,\n",
       "  'executionType': 'LIMIT',\n",
       "  'losscutPrice': 0.0,\n",
       "  'orderId': 742371314,\n",
       "  'orderType': 'NORMAL',\n",
       "  'price': 611000.0,\n",
       "  'rootOrderId': 742371314,\n",
       "  'settleType': 'OPEN',\n",
       "  'side': 'BUY',\n",
       "  'size': 0.0083,\n",
       "  'status': 'CANCELED',\n",
       "  'symbol': 'BTC',\n",
       "  'timeInForce': 'FAS',\n",
       "  'timestamp': '20200319021027345000'}]"
      ]
     },
     "execution_count": 72,
     "metadata": {},
     "output_type": "execute_result"
    }
   ],
   "source": [
    "orders.fetch_id(742371314, 'json')"
   ]
  },
  {
   "cell_type": "code",
   "execution_count": 73,
   "metadata": {},
   "outputs": [
    {
     "data": {
      "text/html": [
       "<div>\n",
       "<style scoped>\n",
       "    .dataframe tbody tr th:only-of-type {\n",
       "        vertical-align: middle;\n",
       "    }\n",
       "\n",
       "    .dataframe tbody tr th {\n",
       "        vertical-align: top;\n",
       "    }\n",
       "\n",
       "    .dataframe thead th {\n",
       "        text-align: right;\n",
       "    }\n",
       "</style>\n",
       "<table border=\"1\" class=\"dataframe\">\n",
       "  <thead>\n",
       "    <tr style=\"text-align: right;\">\n",
       "      <th></th>\n",
       "      <th>cancelType</th>\n",
       "      <th>executedSize</th>\n",
       "      <th>executionType</th>\n",
       "      <th>losscutPrice</th>\n",
       "      <th>orderId</th>\n",
       "      <th>orderType</th>\n",
       "      <th>price</th>\n",
       "      <th>rootOrderId</th>\n",
       "      <th>settleType</th>\n",
       "      <th>side</th>\n",
       "      <th>size</th>\n",
       "      <th>status</th>\n",
       "      <th>symbol</th>\n",
       "      <th>timeInForce</th>\n",
       "      <th>timestamp</th>\n",
       "    </tr>\n",
       "  </thead>\n",
       "  <tbody>\n",
       "    <tr>\n",
       "      <th>0</th>\n",
       "      <td>USER</td>\n",
       "      <td>0.0</td>\n",
       "      <td>LIMIT</td>\n",
       "      <td>0.0</td>\n",
       "      <td>742371314</td>\n",
       "      <td>NORMAL</td>\n",
       "      <td>611000.0</td>\n",
       "      <td>742371314</td>\n",
       "      <td>OPEN</td>\n",
       "      <td>BUY</td>\n",
       "      <td>0.0083</td>\n",
       "      <td>CANCELED</td>\n",
       "      <td>BTC</td>\n",
       "      <td>FAS</td>\n",
       "      <td>2020-03-19 02:10:27.345000+00:00</td>\n",
       "    </tr>\n",
       "  </tbody>\n",
       "</table>\n",
       "</div>"
      ],
      "text/plain": [
       "  cancelType  executedSize executionType  losscutPrice    orderId orderType  \\\n",
       "0       USER           0.0         LIMIT           0.0  742371314    NORMAL   \n",
       "\n",
       "      price  rootOrderId settleType side    size    status symbol timeInForce  \\\n",
       "0  611000.0    742371314       OPEN  BUY  0.0083  CANCELED    BTC         FAS   \n",
       "\n",
       "                         timestamp  \n",
       "0 2020-03-19 02:10:27.345000+00:00  "
      ]
     },
     "execution_count": 73,
     "metadata": {},
     "output_type": "execute_result"
    }
   ],
   "source": [
    "orders.fetch_id(742371314, 'dataframe')"
   ]
  },
  {
   "cell_type": "code",
   "execution_count": null,
   "metadata": {},
   "outputs": [],
   "source": []
  },
  {
   "cell_type": "code",
   "execution_count": null,
   "metadata": {},
   "outputs": [],
   "source": []
  },
  {
   "cell_type": "code",
   "execution_count": null,
   "metadata": {},
   "outputs": [],
   "source": []
  },
  {
   "cell_type": "code",
   "execution_count": null,
   "metadata": {},
   "outputs": [],
   "source": []
  },
  {
   "cell_type": "code",
   "execution_count": null,
   "metadata": {},
   "outputs": [],
   "source": []
  },
  {
   "cell_type": "code",
   "execution_count": 21,
   "metadata": {},
   "outputs": [],
   "source": [
    "executions = api.Executions(sym,logger,general_config_ini ,private_api_ini)"
   ]
  },
  {
   "cell_type": "code",
   "execution_count": 22,
   "metadata": {},
   "outputs": [
    {
     "data": {
      "text/plain": [
       "[{'executionId': 203730144,\n",
       "  'fee': 43.0,\n",
       "  'lossGain': 0.0,\n",
       "  'orderId': 994380652,\n",
       "  'price': 1713770.0,\n",
       "  'settleType': 'OPEN',\n",
       "  'side': 'BUY',\n",
       "  'size': 0.05,\n",
       "  'symbol': 'BTC',\n",
       "  'timestamp': '20201112135108762000'},\n",
       " {'executionId': 203687790,\n",
       "  'fee': 9.0,\n",
       "  'lossGain': 0.0,\n",
       "  'orderId': 994311586,\n",
       "  'price': 1700551.0,\n",
       "  'settleType': 'OPEN',\n",
       "  'side': 'SELL',\n",
       "  'size': 0.01,\n",
       "  'symbol': 'BTC',\n",
       "  'timestamp': '20201112124655069000'},\n",
       " {'executionId': 203687562,\n",
       "  'fee': 9.0,\n",
       "  'lossGain': 0.0,\n",
       "  'orderId': 994311132,\n",
       "  'price': 1700550.0,\n",
       "  'settleType': 'OPEN',\n",
       "  'side': 'SELL',\n",
       "  'size': 0.01,\n",
       "  'symbol': 'BTC',\n",
       "  'timestamp': '20201112122819805000'},\n",
       " {'executionId': 203687533,\n",
       "  'fee': 9.0,\n",
       "  'lossGain': 0.0,\n",
       "  'orderId': 994311060,\n",
       "  'price': 1699421.0,\n",
       "  'settleType': 'OPEN',\n",
       "  'side': 'SELL',\n",
       "  'size': 0.01,\n",
       "  'symbol': 'BTC',\n",
       "  'timestamp': '20201112122525473000'},\n",
       " {'executionId': 203488518,\n",
       "  'fee': 9.0,\n",
       "  'lossGain': 0.0,\n",
       "  'orderId': 993686770,\n",
       "  'price': 1675859.0,\n",
       "  'settleType': 'OPEN',\n",
       "  'side': 'BUY',\n",
       "  'size': 0.01,\n",
       "  'symbol': 'BTC',\n",
       "  'timestamp': '20201112012645325000'},\n",
       " {'executionId': 203431960,\n",
       "  'fee': 9.0,\n",
       "  'lossGain': 0.0,\n",
       "  'orderId': 993588652,\n",
       "  'price': 1673411.0,\n",
       "  'settleType': 'OPEN',\n",
       "  'side': 'SELL',\n",
       "  'size': 0.01,\n",
       "  'symbol': 'BTC',\n",
       "  'timestamp': '20201112002435913000'},\n",
       " {'executionId': 203412847,\n",
       "  'fee': 9.0,\n",
       "  'lossGain': 0.0,\n",
       "  'orderId': 993514017,\n",
       "  'price': 1668140.0,\n",
       "  'settleType': 'OPEN',\n",
       "  'side': 'SELL',\n",
       "  'size': 0.01,\n",
       "  'symbol': 'BTC',\n",
       "  'timestamp': '20201111221930012000'},\n",
       " {'executionId': 203370997,\n",
       "  'fee': 42.0,\n",
       "  'lossGain': 0.0,\n",
       "  'orderId': 993321227,\n",
       "  'price': 1651160.0,\n",
       "  'settleType': 'OPEN',\n",
       "  'side': 'BUY',\n",
       "  'size': 0.05,\n",
       "  'symbol': 'BTC',\n",
       "  'timestamp': '20201111181826061000'}]"
      ]
     },
     "execution_count": 22,
     "metadata": {},
     "output_type": "execute_result"
    }
   ],
   "source": [
    "executions.fetch_latestExecutions(sym)"
   ]
  },
  {
   "cell_type": "code",
   "execution_count": 23,
   "metadata": {},
   "outputs": [
    {
     "data": {
      "text/plain": [
       "[{'executionId': 203730144,\n",
       "  'fee': 43.0,\n",
       "  'lossGain': 0.0,\n",
       "  'orderId': 994380652,\n",
       "  'price': 1713770.0,\n",
       "  'settleType': 'OPEN',\n",
       "  'side': 'BUY',\n",
       "  'size': 0.05,\n",
       "  'symbol': 'BTC',\n",
       "  'timestamp': '20201112135108762000'},\n",
       " {'executionId': 203687790,\n",
       "  'fee': 9.0,\n",
       "  'lossGain': 0.0,\n",
       "  'orderId': 994311586,\n",
       "  'price': 1700551.0,\n",
       "  'settleType': 'OPEN',\n",
       "  'side': 'SELL',\n",
       "  'size': 0.01,\n",
       "  'symbol': 'BTC',\n",
       "  'timestamp': '20201112124655069000'},\n",
       " {'executionId': 203687562,\n",
       "  'fee': 9.0,\n",
       "  'lossGain': 0.0,\n",
       "  'orderId': 994311132,\n",
       "  'price': 1700550.0,\n",
       "  'settleType': 'OPEN',\n",
       "  'side': 'SELL',\n",
       "  'size': 0.01,\n",
       "  'symbol': 'BTC',\n",
       "  'timestamp': '20201112122819805000'},\n",
       " {'executionId': 203687533,\n",
       "  'fee': 9.0,\n",
       "  'lossGain': 0.0,\n",
       "  'orderId': 994311060,\n",
       "  'price': 1699421.0,\n",
       "  'settleType': 'OPEN',\n",
       "  'side': 'SELL',\n",
       "  'size': 0.01,\n",
       "  'symbol': 'BTC',\n",
       "  'timestamp': '20201112122525473000'},\n",
       " {'executionId': 203488518,\n",
       "  'fee': 9.0,\n",
       "  'lossGain': 0.0,\n",
       "  'orderId': 993686770,\n",
       "  'price': 1675859.0,\n",
       "  'settleType': 'OPEN',\n",
       "  'side': 'BUY',\n",
       "  'size': 0.01,\n",
       "  'symbol': 'BTC',\n",
       "  'timestamp': '20201112012645325000'},\n",
       " {'executionId': 203431960,\n",
       "  'fee': 9.0,\n",
       "  'lossGain': 0.0,\n",
       "  'orderId': 993588652,\n",
       "  'price': 1673411.0,\n",
       "  'settleType': 'OPEN',\n",
       "  'side': 'SELL',\n",
       "  'size': 0.01,\n",
       "  'symbol': 'BTC',\n",
       "  'timestamp': '20201112002435913000'},\n",
       " {'executionId': 203412847,\n",
       "  'fee': 9.0,\n",
       "  'lossGain': 0.0,\n",
       "  'orderId': 993514017,\n",
       "  'price': 1668140.0,\n",
       "  'settleType': 'OPEN',\n",
       "  'side': 'SELL',\n",
       "  'size': 0.01,\n",
       "  'symbol': 'BTC',\n",
       "  'timestamp': '20201111221930012000'},\n",
       " {'executionId': 203370997,\n",
       "  'fee': 42.0,\n",
       "  'lossGain': 0.0,\n",
       "  'orderId': 993321227,\n",
       "  'price': 1651160.0,\n",
       "  'settleType': 'OPEN',\n",
       "  'side': 'BUY',\n",
       "  'size': 0.05,\n",
       "  'symbol': 'BTC',\n",
       "  'timestamp': '20201111181826061000'}]"
      ]
     },
     "execution_count": 23,
     "metadata": {},
     "output_type": "execute_result"
    }
   ],
   "source": [
    "executions.fetch_latestExecutions(sym, return_type='json')"
   ]
  },
  {
   "cell_type": "code",
   "execution_count": 24,
   "metadata": {},
   "outputs": [
    {
     "data": {
      "text/html": [
       "<div>\n",
       "<style scoped>\n",
       "    .dataframe tbody tr th:only-of-type {\n",
       "        vertical-align: middle;\n",
       "    }\n",
       "\n",
       "    .dataframe tbody tr th {\n",
       "        vertical-align: top;\n",
       "    }\n",
       "\n",
       "    .dataframe thead th {\n",
       "        text-align: right;\n",
       "    }\n",
       "</style>\n",
       "<table border=\"1\" class=\"dataframe\">\n",
       "  <thead>\n",
       "    <tr style=\"text-align: right;\">\n",
       "      <th></th>\n",
       "      <th>executionId</th>\n",
       "      <th>fee</th>\n",
       "      <th>lossGain</th>\n",
       "      <th>orderId</th>\n",
       "      <th>price</th>\n",
       "      <th>settleType</th>\n",
       "      <th>side</th>\n",
       "      <th>size</th>\n",
       "      <th>symbol</th>\n",
       "      <th>timestamp</th>\n",
       "    </tr>\n",
       "  </thead>\n",
       "  <tbody>\n",
       "    <tr>\n",
       "      <th>0</th>\n",
       "      <td>203730144</td>\n",
       "      <td>43.0</td>\n",
       "      <td>0.0</td>\n",
       "      <td>994380652</td>\n",
       "      <td>1713770.0</td>\n",
       "      <td>OPEN</td>\n",
       "      <td>BUY</td>\n",
       "      <td>0.05</td>\n",
       "      <td>BTC</td>\n",
       "      <td>2020-11-12 13:51:08.762000+00:00</td>\n",
       "    </tr>\n",
       "    <tr>\n",
       "      <th>1</th>\n",
       "      <td>203687790</td>\n",
       "      <td>9.0</td>\n",
       "      <td>0.0</td>\n",
       "      <td>994311586</td>\n",
       "      <td>1700551.0</td>\n",
       "      <td>OPEN</td>\n",
       "      <td>SELL</td>\n",
       "      <td>0.01</td>\n",
       "      <td>BTC</td>\n",
       "      <td>2020-11-12 12:46:55.069000+00:00</td>\n",
       "    </tr>\n",
       "    <tr>\n",
       "      <th>2</th>\n",
       "      <td>203687562</td>\n",
       "      <td>9.0</td>\n",
       "      <td>0.0</td>\n",
       "      <td>994311132</td>\n",
       "      <td>1700550.0</td>\n",
       "      <td>OPEN</td>\n",
       "      <td>SELL</td>\n",
       "      <td>0.01</td>\n",
       "      <td>BTC</td>\n",
       "      <td>2020-11-12 12:28:19.805000+00:00</td>\n",
       "    </tr>\n",
       "    <tr>\n",
       "      <th>3</th>\n",
       "      <td>203687533</td>\n",
       "      <td>9.0</td>\n",
       "      <td>0.0</td>\n",
       "      <td>994311060</td>\n",
       "      <td>1699421.0</td>\n",
       "      <td>OPEN</td>\n",
       "      <td>SELL</td>\n",
       "      <td>0.01</td>\n",
       "      <td>BTC</td>\n",
       "      <td>2020-11-12 12:25:25.473000+00:00</td>\n",
       "    </tr>\n",
       "    <tr>\n",
       "      <th>4</th>\n",
       "      <td>203488518</td>\n",
       "      <td>9.0</td>\n",
       "      <td>0.0</td>\n",
       "      <td>993686770</td>\n",
       "      <td>1675859.0</td>\n",
       "      <td>OPEN</td>\n",
       "      <td>BUY</td>\n",
       "      <td>0.01</td>\n",
       "      <td>BTC</td>\n",
       "      <td>2020-11-12 01:26:45.325000+00:00</td>\n",
       "    </tr>\n",
       "    <tr>\n",
       "      <th>5</th>\n",
       "      <td>203431960</td>\n",
       "      <td>9.0</td>\n",
       "      <td>0.0</td>\n",
       "      <td>993588652</td>\n",
       "      <td>1673411.0</td>\n",
       "      <td>OPEN</td>\n",
       "      <td>SELL</td>\n",
       "      <td>0.01</td>\n",
       "      <td>BTC</td>\n",
       "      <td>2020-11-12 00:24:35.913000+00:00</td>\n",
       "    </tr>\n",
       "    <tr>\n",
       "      <th>6</th>\n",
       "      <td>203412847</td>\n",
       "      <td>9.0</td>\n",
       "      <td>0.0</td>\n",
       "      <td>993514017</td>\n",
       "      <td>1668140.0</td>\n",
       "      <td>OPEN</td>\n",
       "      <td>SELL</td>\n",
       "      <td>0.01</td>\n",
       "      <td>BTC</td>\n",
       "      <td>2020-11-11 22:19:30.012000+00:00</td>\n",
       "    </tr>\n",
       "    <tr>\n",
       "      <th>7</th>\n",
       "      <td>203370997</td>\n",
       "      <td>42.0</td>\n",
       "      <td>0.0</td>\n",
       "      <td>993321227</td>\n",
       "      <td>1651160.0</td>\n",
       "      <td>OPEN</td>\n",
       "      <td>BUY</td>\n",
       "      <td>0.05</td>\n",
       "      <td>BTC</td>\n",
       "      <td>2020-11-11 18:18:26.061000+00:00</td>\n",
       "    </tr>\n",
       "  </tbody>\n",
       "</table>\n",
       "</div>"
      ],
      "text/plain": [
       "   executionId   fee  lossGain    orderId      price settleType  side  size  \\\n",
       "0    203730144  43.0       0.0  994380652  1713770.0       OPEN   BUY  0.05   \n",
       "1    203687790   9.0       0.0  994311586  1700551.0       OPEN  SELL  0.01   \n",
       "2    203687562   9.0       0.0  994311132  1700550.0       OPEN  SELL  0.01   \n",
       "3    203687533   9.0       0.0  994311060  1699421.0       OPEN  SELL  0.01   \n",
       "4    203488518   9.0       0.0  993686770  1675859.0       OPEN   BUY  0.01   \n",
       "5    203431960   9.0       0.0  993588652  1673411.0       OPEN  SELL  0.01   \n",
       "6    203412847   9.0       0.0  993514017  1668140.0       OPEN  SELL  0.01   \n",
       "7    203370997  42.0       0.0  993321227  1651160.0       OPEN   BUY  0.05   \n",
       "\n",
       "  symbol                        timestamp  \n",
       "0    BTC 2020-11-12 13:51:08.762000+00:00  \n",
       "1    BTC 2020-11-12 12:46:55.069000+00:00  \n",
       "2    BTC 2020-11-12 12:28:19.805000+00:00  \n",
       "3    BTC 2020-11-12 12:25:25.473000+00:00  \n",
       "4    BTC 2020-11-12 01:26:45.325000+00:00  \n",
       "5    BTC 2020-11-12 00:24:35.913000+00:00  \n",
       "6    BTC 2020-11-11 22:19:30.012000+00:00  \n",
       "7    BTC 2020-11-11 18:18:26.061000+00:00  "
      ]
     },
     "execution_count": 24,
     "metadata": {},
     "output_type": "execute_result"
    }
   ],
   "source": [
    "executions.fetch_latestExecutions(sym, return_type='dataframe')"
   ]
  },
  {
   "cell_type": "code",
   "execution_count": 25,
   "metadata": {},
   "outputs": [
    {
     "data": {
      "text/html": [
       "<div>\n",
       "<style scoped>\n",
       "    .dataframe tbody tr th:only-of-type {\n",
       "        vertical-align: middle;\n",
       "    }\n",
       "\n",
       "    .dataframe tbody tr th {\n",
       "        vertical-align: top;\n",
       "    }\n",
       "\n",
       "    .dataframe thead th {\n",
       "        text-align: right;\n",
       "    }\n",
       "</style>\n",
       "<table border=\"1\" class=\"dataframe\">\n",
       "  <thead>\n",
       "    <tr style=\"text-align: right;\">\n",
       "      <th></th>\n",
       "      <th>executionId</th>\n",
       "      <th>fee</th>\n",
       "      <th>lossGain</th>\n",
       "      <th>orderId</th>\n",
       "      <th>price</th>\n",
       "      <th>settleType</th>\n",
       "      <th>side</th>\n",
       "      <th>size</th>\n",
       "      <th>symbol</th>\n",
       "      <th>timestamp</th>\n",
       "    </tr>\n",
       "  </thead>\n",
       "  <tbody>\n",
       "    <tr>\n",
       "      <th>0</th>\n",
       "      <td>197842661</td>\n",
       "      <td>-4.0</td>\n",
       "      <td>0.0</td>\n",
       "      <td>972638686</td>\n",
       "      <td>1195850.0</td>\n",
       "      <td>OPEN</td>\n",
       "      <td>BUY</td>\n",
       "      <td>0.04</td>\n",
       "      <td>BTC</td>\n",
       "      <td>2020-10-16 14:27:13.784000+00:00</td>\n",
       "    </tr>\n",
       "  </tbody>\n",
       "</table>\n",
       "</div>"
      ],
      "text/plain": [
       "   executionId  fee  lossGain    orderId      price settleType side  size  \\\n",
       "0    197842661 -4.0       0.0  972638686  1195850.0       OPEN  BUY  0.04   \n",
       "\n",
       "  symbol                        timestamp  \n",
       "0    BTC 2020-10-16 14:27:13.784000+00:00  "
      ]
     },
     "execution_count": 25,
     "metadata": {},
     "output_type": "execute_result"
    }
   ],
   "source": [
    "executions.fetch_by_id(972638686,return_type='dataframe')"
   ]
  },
  {
   "cell_type": "code",
   "execution_count": 26,
   "metadata": {},
   "outputs": [
    {
     "data": {
      "text/plain": [
       "[{'executionId': 197842661,\n",
       "  'fee': -4.0,\n",
       "  'lossGain': 0.0,\n",
       "  'orderId': 972638686,\n",
       "  'price': 1195850.0,\n",
       "  'settleType': 'OPEN',\n",
       "  'side': 'BUY',\n",
       "  'size': 0.04,\n",
       "  'symbol': 'BTC',\n",
       "  'timestamp': '20201016142713784000'}]"
      ]
     },
     "execution_count": 26,
     "metadata": {},
     "output_type": "execute_result"
    }
   ],
   "source": [
    "executions.fetch_by_id(972638686)"
   ]
  },
  {
   "cell_type": "code",
   "execution_count": 28,
   "metadata": {},
   "outputs": [],
   "source": [
    "order = api.Order(sym,logger,general_config_ini ,private_api_ini)"
   ]
  },
  {
   "cell_type": "code",
   "execution_count": 29,
   "metadata": {},
   "outputs": [],
   "source": [
    "reqBody = {\n",
    "    \"symbol\": \"BTC\",\n",
    "    \"side\": \"BUY\",\n",
    "    \"executionType\": \"LIMIT\",\n",
    "    \"timeInForce\": \"SOK\",\n",
    "    \"price\": 1094000,\n",
    "    \"losscutPrice\":None,\n",
    "    \"size\": 0.002\n",
    "}"
   ]
  },
  {
   "cell_type": "code",
   "execution_count": 30,
   "metadata": {},
   "outputs": [],
   "source": [
    "res = order.do_order(**reqBody)"
   ]
  },
  {
   "cell_type": "code",
   "execution_count": 31,
   "metadata": {},
   "outputs": [],
   "source": [
    "orderId = res['data']\n",
    "reqBody = {\n",
    "    \"orderId\": orderId,\n",
    "    \"price\": 1094001,\n",
    "    \"losscutPrice\": None\n",
    "}"
   ]
  },
  {
   "cell_type": "code",
   "execution_count": 32,
   "metadata": {},
   "outputs": [],
   "source": [
    "res2 = order.do_change(**reqBody)"
   ]
  },
  {
   "cell_type": "code",
   "execution_count": 33,
   "metadata": {},
   "outputs": [],
   "source": [
    "reqBody = {\n",
    "    \"orderId\": orderId\n",
    "}"
   ]
  },
  {
   "cell_type": "code",
   "execution_count": 34,
   "metadata": {},
   "outputs": [],
   "source": [
    "res3 = order.do_cancel(**reqBody)"
   ]
  },
  {
   "cell_type": "code",
   "execution_count": null,
   "metadata": {},
   "outputs": [],
   "source": []
  }
 ],
 "metadata": {
  "interpreter": {
   "hash": "b45f9670391769e061d21fde4a80e23c28183b0e668940abb0d6257953f3010d"
  },
  "kernelspec": {
   "display_name": "Python 3.7.6 64-bit ('py37b': pyenv)",
   "name": "python3"
  },
  "language_info": {
   "codemirror_mode": {
    "name": "ipython",
    "version": 3
   },
   "file_extension": ".py",
   "mimetype": "text/x-python",
   "name": "python",
   "nbconvert_exporter": "python",
   "pygments_lexer": "ipython3",
   "version": "3.7.6"
  },
  "orig_nbformat": 2
 },
 "nbformat": 4,
 "nbformat_minor": 2
}
