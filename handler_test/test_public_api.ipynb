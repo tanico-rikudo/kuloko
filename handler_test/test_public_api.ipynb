{
 "cells": [
  {
   "cell_type": "code",
   "execution_count": 1,
   "metadata": {},
   "outputs": [],
   "source": [
    "%load_ext autoreload\n",
    "%autoreload 2\n",
    "\n",
    "import sys\n",
    "sys.path.append(\"../\")"
   ]
  },
  {
   "cell_type": "code",
   "execution_count": 2,
   "metadata": {},
   "outputs": [],
   "source": [
    "# os.environ[\"HOST_BASE_DIR\"]=os.environ['BASE_DIR']\n",
    "# import setting"
   ]
  },
  {
   "cell_type": "code",
   "execution_count": 3,
   "metadata": {},
   "outputs": [],
   "source": [
    "from items import public_api\n",
    "from items import private_api"
   ]
  },
  {
   "cell_type": "code",
   "execution_count": 4,
   "metadata": {},
   "outputs": [],
   "source": [
    "symbol=\"BTC\"\n",
    "general_config_mode=\"DOCKER\"\n",
    "private_api_mode=\"DEFAULT\"\n"
   ]
  },
  {
   "cell_type": "code",
   "execution_count": null,
   "metadata": {},
   "outputs": [],
   "source": []
  },
  {
   "cell_type": "code",
   "execution_count": 14,
   "metadata": {},
   "outputs": [
    {
     "name": "stdout",
     "output_type": "stream",
     "text": [
      "Log path = /root/src/kuloko/log/logging.log\n"
     ]
    }
   ],
   "source": [
    "\n",
    "orderbooks = public_api.Orderbook(symbol,general_config_mode,private_api_mode)"
   ]
  },
  {
   "cell_type": "code",
   "execution_count": 23,
   "metadata": {},
   "outputs": [],
   "source": [
    "orderbooks.connect()\n",
    "orderbooks.subscribe()"
   ]
  },
  {
   "cell_type": "code",
   "execution_count": 24,
   "metadata": {},
   "outputs": [],
   "source": [
    "a =  orderbooks.dequeue()\n",
    "# orderbooks.dequeue_forever()"
   ]
  },
  {
   "cell_type": "code",
   "execution_count": 25,
   "metadata": {
    "collapsed": true,
    "jupyter": {
     "outputs_hidden": true
    },
    "tags": []
   },
   "outputs": [
    {
     "data": {
      "text/plain": [
       "[{'time': '20220325202425912000',\n",
       "  'symbol': 'BTC',\n",
       "  'bids0': 5391900.0,\n",
       "  'bids0_size': 0.1,\n",
       "  'bids1': 5391550.0,\n",
       "  'bids1_size': 2.5,\n",
       "  'bids2': 5391300.0,\n",
       "  'bids2_size': 1.0,\n",
       "  'bids3': 5390960.0,\n",
       "  'bids3_size': 0.0125,\n",
       "  'bids4': 5390600.0,\n",
       "  'bids4_size': 0.1,\n",
       "  'asks0': 5394449.0,\n",
       "  'asks0_size': 0.03,\n",
       "  'asks1': 5394450.0,\n",
       "  'asks1_size': 0.1,\n",
       "  'asks2': 5394650.0,\n",
       "  'asks2_size': 2.5,\n",
       "  'asks3': 5394750.0,\n",
       "  'asks3_size': 0.1,\n",
       "  'asks4': 5394800.0,\n",
       "  'asks4_size': 0.4},\n",
       " {'time': '20220325202426418000',\n",
       "  'symbol': 'BTC',\n",
       "  'bids0': 5391900.0,\n",
       "  'bids0_size': 0.1,\n",
       "  'bids1': 5391300.0,\n",
       "  'bids1_size': 1.0,\n",
       "  'bids2': 5390640.0,\n",
       "  'bids2_size': 0.0125,\n",
       "  'bids3': 5390600.0,\n",
       "  'bids3_size': 0.1,\n",
       "  'bids4': 5390550.0,\n",
       "  'bids4_size': 0.4,\n",
       "  'asks0': 5394400.0,\n",
       "  'asks0_size': 0.05,\n",
       "  'asks1': 5394449.0,\n",
       "  'asks1_size': 0.03,\n",
       "  'asks2': 5394450.0,\n",
       "  'asks2_size': 0.1,\n",
       "  'asks3': 5394650.0,\n",
       "  'asks3_size': 2.0,\n",
       "  'asks4': 5394750.0,\n",
       "  'asks4_size': 0.1},\n",
       " {'time': '20220325202426648000',\n",
       "  'symbol': 'BTC',\n",
       "  'bids0': 5391900.0,\n",
       "  'bids0_size': 0.1,\n",
       "  'bids1': 5391300.0,\n",
       "  'bids1_size': 1.0,\n",
       "  'bids2': 5390640.0,\n",
       "  'bids2_size': 0.0125,\n",
       "  'bids3': 5390600.0,\n",
       "  'bids3_size': 0.1,\n",
       "  'bids4': 5390550.0,\n",
       "  'bids4_size': 0.4,\n",
       "  'asks0': 5394400.0,\n",
       "  'asks0_size': 0.05,\n",
       "  'asks1': 5394449.0,\n",
       "  'asks1_size': 0.03,\n",
       "  'asks2': 5394450.0,\n",
       "  'asks2_size': 0.1,\n",
       "  'asks3': 5394650.0,\n",
       "  'asks3_size': 2.0,\n",
       "  'asks4': 5394750.0,\n",
       "  'asks4_size': 0.1},\n",
       " {'time': '20220325202426923000',\n",
       "  'symbol': 'BTC',\n",
       "  'bids0': 5391150.0,\n",
       "  'bids0_size': 0.1,\n",
       "  'bids1': 5390950.0,\n",
       "  'bids1_size': 2.5,\n",
       "  'bids2': 5390640.0,\n",
       "  'bids2_size': 0.0125,\n",
       "  'bids3': 5390600.0,\n",
       "  'bids3_size': 0.1,\n",
       "  'bids4': 5390450.0,\n",
       "  'bids4_size': 2.5,\n",
       "  'asks0': 5394350.0,\n",
       "  'asks0_size': 0.0749,\n",
       "  'asks1': 5394399.0,\n",
       "  'asks1_size': 0.03,\n",
       "  'asks2': 5394400.0,\n",
       "  'asks2_size': 0.05,\n",
       "  'asks3': 5394450.0,\n",
       "  'asks3_size': 0.1,\n",
       "  'asks4': 5394650.0,\n",
       "  'asks4_size': 2.0},\n",
       " {'time': '20220325202427430000',\n",
       "  'symbol': 'BTC',\n",
       "  'bids0': 5391150.0,\n",
       "  'bids0_size': 0.1,\n",
       "  'bids1': 5390950.0,\n",
       "  'bids1_size': 2.5,\n",
       "  'bids2': 5390640.0,\n",
       "  'bids2_size': 0.0125,\n",
       "  'bids3': 5390600.0,\n",
       "  'bids3_size': 0.1,\n",
       "  'bids4': 5390400.0,\n",
       "  'bids4_size': 0.1,\n",
       "  'asks0': 5394300.0,\n",
       "  'asks0_size': 0.05,\n",
       "  'asks1': 5394350.0,\n",
       "  'asks1_size': 0.0749,\n",
       "  'asks2': 5394399.0,\n",
       "  'asks2_size': 0.03,\n",
       "  'asks3': 5394450.0,\n",
       "  'asks3_size': 0.1,\n",
       "  'asks4': 5394650.0,\n",
       "  'asks4_size': 2.0},\n",
       " {'time': '20220325202427935000',\n",
       "  'symbol': 'BTC',\n",
       "  'bids0': 5391200.0,\n",
       "  'bids0_size': 0.0125,\n",
       "  'bids1': 5391150.0,\n",
       "  'bids1_size': 0.1,\n",
       "  'bids2': 5390950.0,\n",
       "  'bids2_size': 2.5,\n",
       "  'bids3': 5390600.0,\n",
       "  'bids3_size': 0.1,\n",
       "  'bids4': 5390400.0,\n",
       "  'bids4_size': 0.1,\n",
       "  'asks0': 5394349.0,\n",
       "  'asks0_size': 0.03,\n",
       "  'asks1': 5394450.0,\n",
       "  'asks1_size': 0.1,\n",
       "  'asks2': 5394650.0,\n",
       "  'asks2_size': 2.0,\n",
       "  'asks3': 5394750.0,\n",
       "  'asks3_size': 0.1,\n",
       "  'asks4': 5394800.0,\n",
       "  'asks4_size': 0.4},\n",
       " {'time': '20220325202428441000',\n",
       "  'symbol': 'BTC',\n",
       "  'bids0': 5391200.0,\n",
       "  'bids0_size': 0.0125,\n",
       "  'bids1': 5391150.0,\n",
       "  'bids1_size': 0.1,\n",
       "  'bids2': 5390950.0,\n",
       "  'bids2_size': 2.5,\n",
       "  'bids3': 5390600.0,\n",
       "  'bids3_size': 0.1,\n",
       "  'bids4': 5390400.0,\n",
       "  'bids4_size': 0.1,\n",
       "  'asks0': 5394349.0,\n",
       "  'asks0_size': 0.03,\n",
       "  'asks1': 5394450.0,\n",
       "  'asks1_size': 0.1,\n",
       "  'asks2': 5394650.0,\n",
       "  'asks2_size': 2.0,\n",
       "  'asks3': 5394750.0,\n",
       "  'asks3_size': 0.1,\n",
       "  'asks4': 5394800.0,\n",
       "  'asks4_size': 0.4},\n",
       " {'time': '20220325202428947000',\n",
       "  'symbol': 'BTC',\n",
       "  'bids0': 5391200.0,\n",
       "  'bids0_size': 0.0125,\n",
       "  'bids1': 5391150.0,\n",
       "  'bids1_size': 0.1,\n",
       "  'bids2': 5390950.0,\n",
       "  'bids2_size': 2.5,\n",
       "  'bids3': 5390600.0,\n",
       "  'bids3_size': 0.1,\n",
       "  'bids4': 5390400.0,\n",
       "  'bids4_size': 0.1,\n",
       "  'asks0': 5394300.0,\n",
       "  'asks0_size': 0.05,\n",
       "  'asks1': 5394449.0,\n",
       "  'asks1_size': 0.03,\n",
       "  'asks2': 5394450.0,\n",
       "  'asks2_size': 0.1,\n",
       "  'asks3': 5394600.0,\n",
       "  'asks3_size': 0.4,\n",
       "  'asks4': 5394650.0,\n",
       "  'asks4_size': 2.0}]"
      ]
     },
     "execution_count": 25,
     "metadata": {},
     "output_type": "execute_result"
    }
   ],
   "source": [
    "a"
   ]
  },
  {
   "cell_type": "code",
   "execution_count": 26,
   "metadata": {},
   "outputs": [],
   "source": [
    "orderbooks.disconnect()"
   ]
  },
  {
   "cell_type": "code",
   "execution_count": null,
   "metadata": {},
   "outputs": [],
   "source": []
  },
  {
   "cell_type": "code",
   "execution_count": 28,
   "metadata": {},
   "outputs": [
    {
     "name": "stdout",
     "output_type": "stream",
     "text": [
      "Log path = /root/src/kuloko/log/logging.log\n"
     ]
    }
   ],
   "source": [
    "from items import public_api\n",
    "trades = public_api.Trade(symbol,general_config_mode,private_api_mode)"
   ]
  },
  {
   "cell_type": "code",
   "execution_count": 29,
   "metadata": {},
   "outputs": [],
   "source": [
    "trades.connect()\n",
    "trades.subscribe()"
   ]
  },
  {
   "cell_type": "code",
   "execution_count": 22,
   "metadata": {},
   "outputs": [
    {
     "ename": "NameError",
     "evalue": "name 'trades' is not defined",
     "output_type": "error",
     "traceback": [
      "\u001b[0;31m---------------------------------------------------------------------------\u001b[0m",
      "\u001b[0;31mNameError\u001b[0m                                 Traceback (most recent call last)",
      "\u001b[0;32m/tmp/ipykernel_256/4262502708.py\u001b[0m in \u001b[0;36m<module>\u001b[0;34m\u001b[0m\n\u001b[0;32m----> 1\u001b[0;31m \u001b[0ma\u001b[0m \u001b[0;34m=\u001b[0m \u001b[0mtrades\u001b[0m\u001b[0;34m.\u001b[0m\u001b[0mdequeue\u001b[0m\u001b[0;34m(\u001b[0m\u001b[0;34m)\u001b[0m\u001b[0;34m\u001b[0m\u001b[0;34m\u001b[0m\u001b[0m\n\u001b[0m",
      "\u001b[0;31mNameError\u001b[0m: name 'trades' is not defined"
     ]
    }
   ],
   "source": [
    "a = trades.dequeue()"
   ]
  },
  {
   "cell_type": "code",
   "execution_count": 31,
   "metadata": {
    "collapsed": true,
    "jupyter": {
     "outputs_hidden": true
    },
    "tags": []
   },
   "outputs": [
    {
     "data": {
      "text/plain": [
       "[{'channel': 'trades',\n",
       "  'price': 5386800.0,\n",
       "  'side': 'SELL',\n",
       "  'size': 0.22,\n",
       "  'symbol': 'BTC',\n",
       "  'time': '20220325202623602000'},\n",
       " {'channel': 'trades',\n",
       "  'price': 5386450.0,\n",
       "  'side': 'SELL',\n",
       "  'size': 0.1,\n",
       "  'symbol': 'BTC',\n",
       "  'time': '20220325202625626000'},\n",
       " {'channel': 'trades',\n",
       "  'price': 5385950.0,\n",
       "  'side': 'SELL',\n",
       "  'size': 1.0,\n",
       "  'symbol': 'BTC',\n",
       "  'time': '20220325202625626000'},\n",
       " {'channel': 'trades',\n",
       "  'price': 5385700.0,\n",
       "  'side': 'SELL',\n",
       "  'size': 0.6,\n",
       "  'symbol': 'BTC',\n",
       "  'time': '20220325202625626000'},\n",
       " {'channel': 'trades',\n",
       "  'price': 5385520.0,\n",
       "  'side': 'SELL',\n",
       "  'size': 0.0125,\n",
       "  'symbol': 'BTC',\n",
       "  'time': '20220325202625626000'},\n",
       " {'channel': 'trades',\n",
       "  'price': 5385450.0,\n",
       "  'side': 'SELL',\n",
       "  'size': 0.356,\n",
       "  'symbol': 'BTC',\n",
       "  'time': '20220325202625626000'},\n",
       " {'channel': 'trades',\n",
       "  'price': 5385300.0,\n",
       "  'side': 'SELL',\n",
       "  'size': 0.5,\n",
       "  'symbol': 'BTC',\n",
       "  'time': '20220325202630150000'}]"
      ]
     },
     "execution_count": 31,
     "metadata": {},
     "output_type": "execute_result"
    }
   ],
   "source": [
    "a"
   ]
  },
  {
   "cell_type": "code",
   "execution_count": 32,
   "metadata": {},
   "outputs": [],
   "source": [
    "trades.disconnect()"
   ]
  },
  {
   "cell_type": "code",
   "execution_count": null,
   "metadata": {},
   "outputs": [],
   "source": []
  },
  {
   "cell_type": "code",
   "execution_count": null,
   "metadata": {},
   "outputs": [],
   "source": []
  },
  {
   "cell_type": "code",
   "execution_count": 5,
   "metadata": {},
   "outputs": [
    {
     "name": "stdout",
     "output_type": "stream",
     "text": [
      "Log path = /root/src/kuloko/log/logging.log\n"
     ]
    }
   ],
   "source": [
    "from items import public_api\n",
    "tickers = public_api.Ticker(symbol,general_config_mode,private_api_mode)"
   ]
  },
  {
   "cell_type": "code",
   "execution_count": 14,
   "metadata": {},
   "outputs": [
    {
     "data": {
      "text/plain": [
       "{'ask': 5405650.0,\n",
       " 'bid': 5405000.0,\n",
       " 'high': 5409250.0,\n",
       " 'last': 5405000.0,\n",
       " 'low': 5309700.0,\n",
       " 'volume': 276.8897,\n",
       " 'timestamp': '20220325203830116000',\n",
       " 'symbol': 'BTC'}"
      ]
     },
     "execution_count": 14,
     "metadata": {},
     "output_type": "execute_result"
    }
   ],
   "source": [
    "tickers.fetch('json')"
   ]
  },
  {
   "cell_type": "code",
   "execution_count": 20,
   "metadata": {},
   "outputs": [],
   "source": [
    "tickers.connect()\n",
    "tickers.subscribe()"
   ]
  },
  {
   "cell_type": "code",
   "execution_count": 23,
   "metadata": {},
   "outputs": [],
   "source": [
    "a = tickers.dequeue()"
   ]
  },
  {
   "cell_type": "code",
   "execution_count": 24,
   "metadata": {
    "collapsed": true,
    "jupyter": {
     "outputs_hidden": true
    },
    "tags": []
   },
   "outputs": [
    {
     "data": {
      "text/plain": [
       "[{'ask': 5407400.0,\n",
       "  'bid': 5405000.0,\n",
       "  'high': 5409250.0,\n",
       "  'last': 5405750.0,\n",
       "  'low': 5309700.0,\n",
       "  'volume': 276.659,\n",
       "  'time': '20220325204011838000',\n",
       "  'symbol': 'BTC'},\n",
       " {'ask': 5407400.0,\n",
       "  'bid': 5405000.0,\n",
       "  'high': 5409250.0,\n",
       "  'last': 5407400.0,\n",
       "  'low': 5309700.0,\n",
       "  'volume': 276.659,\n",
       "  'time': '20220325204011838000',\n",
       "  'symbol': 'BTC'},\n",
       " {'ask': 5407790.0,\n",
       "  'bid': 5405550.0,\n",
       "  'high': 5409250.0,\n",
       "  'last': 5406000.0,\n",
       "  'low': 5309700.0,\n",
       "  'volume': 276.4034,\n",
       "  'time': '20220325204023382000',\n",
       "  'symbol': 'BTC'},\n",
       " {'ask': 5407790.0,\n",
       "  'bid': 5405550.0,\n",
       "  'high': 5409250.0,\n",
       "  'last': 5407790.0,\n",
       "  'low': 5309700.0,\n",
       "  'volume': 276.4034,\n",
       "  'time': '20220325204023382000',\n",
       "  'symbol': 'BTC'},\n",
       " {'ask': 5409480.0,\n",
       "  'bid': 5408899.0,\n",
       "  'high': 5409250.0,\n",
       "  'last': 5408900.0,\n",
       "  'low': 5309700.0,\n",
       "  'volume': 276.3834,\n",
       "  'time': '20220325204055727000',\n",
       "  'symbol': 'BTC'},\n",
       " {'ask': 5409480.0,\n",
       "  'bid': 5408899.0,\n",
       "  'high': 5409250.0,\n",
       "  'last': 5409480.0,\n",
       "  'low': 5309700.0,\n",
       "  'volume': 276.3834,\n",
       "  'time': '20220325204055727000',\n",
       "  'symbol': 'BTC'},\n",
       " {'ask': 5409480.0,\n",
       "  'bid': 5408899.0,\n",
       "  'high': 5409250.0,\n",
       "  'last': 5409480.0,\n",
       "  'low': 5309700.0,\n",
       "  'volume': 276.3834,\n",
       "  'time': '20220325204056492000',\n",
       "  'symbol': 'BTC'},\n",
       " {'ask': 5409480.0,\n",
       "  'bid': 5408960.0,\n",
       "  'high': 5409250.0,\n",
       "  'last': 5409480.0,\n",
       "  'low': 5309700.0,\n",
       "  'volume': 276.3834,\n",
       "  'time': '20220325204056514000',\n",
       "  'symbol': 'BTC'},\n",
       " {'ask': 5409575.0,\n",
       "  'bid': 5409486.0,\n",
       "  'high': 5409250.0,\n",
       "  'last': 5409480.0,\n",
       "  'low': 5309700.0,\n",
       "  'volume': 276.5434,\n",
       "  'time': '20220325204057472000',\n",
       "  'symbol': 'BTC'},\n",
       " {'ask': 5409575.0,\n",
       "  'bid': 5409486.0,\n",
       "  'high': 5409250.0,\n",
       "  'last': 5409482.0,\n",
       "  'low': 5309700.0,\n",
       "  'volume': 276.5434,\n",
       "  'time': '20220325204057472000',\n",
       "  'symbol': 'BTC'},\n",
       " {'ask': 5409575.0,\n",
       "  'bid': 5409574.0,\n",
       "  'high': 5409482.0,\n",
       "  'last': 5409575.0,\n",
       "  'low': 5309700.0,\n",
       "  'volume': 276.565,\n",
       "  'time': '20220325204100683000',\n",
       "  'symbol': 'BTC'},\n",
       " {'ask': 5409575.0,\n",
       "  'bid': 5409574.0,\n",
       "  'high': 5409482.0,\n",
       "  'last': 5409575.0,\n",
       "  'low': 5309700.0,\n",
       "  'volume': 276.565,\n",
       "  'time': '20220325204101624000',\n",
       "  'symbol': 'BTC'},\n",
       " {'ask': 5409575.0,\n",
       "  'bid': 5409574.0,\n",
       "  'high': 5409482.0,\n",
       "  'last': 5409575.0,\n",
       "  'low': 5309700.0,\n",
       "  'volume': 276.565,\n",
       "  'time': '20220325204101626000',\n",
       "  'symbol': 'BTC'},\n",
       " {'ask': 5409575.0,\n",
       "  'bid': 5409574.0,\n",
       "  'high': 5409482.0,\n",
       "  'last': 5409575.0,\n",
       "  'low': 5309700.0,\n",
       "  'volume': 276.565,\n",
       "  'time': '20220325204101896000',\n",
       "  'symbol': 'BTC'}]"
      ]
     },
     "execution_count": 24,
     "metadata": {},
     "output_type": "execute_result"
    }
   ],
   "source": [
    "a"
   ]
  },
  {
   "cell_type": "code",
   "execution_count": 25,
   "metadata": {},
   "outputs": [],
   "source": [
    "tickers.disconnect()"
   ]
  },
  {
   "cell_type": "code",
   "execution_count": null,
   "metadata": {},
   "outputs": [],
   "source": []
  }
 ],
 "metadata": {
  "interpreter": {
   "hash": "05ad3976237f71d122431f30f87b873d8237b0132fc7375c28d36b25c1ad0785"
  },
  "kernelspec": {
   "display_name": "Python 3 (ipykernel)",
   "language": "python",
   "name": "python3"
  },
  "language_info": {
   "codemirror_mode": {
    "name": "ipython",
    "version": 3
   },
   "file_extension": ".py",
   "mimetype": "text/x-python",
   "name": "python",
   "nbconvert_exporter": "python",
   "pygments_lexer": "ipython3",
   "version": "3.7.13"
  }
 },
 "nbformat": 4,
 "nbformat_minor": 4
}
