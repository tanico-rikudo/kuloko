{
 "cells": [
  {
   "cell_type": "code",
   "execution_count": 1,
   "metadata": {},
   "outputs": [],
   "source": [
    "%load_ext autoreload\n",
    "%autoreload 2"
   ]
  },
  {
   "cell_type": "code",
   "execution_count": 2,
   "metadata": {},
   "outputs": [],
   "source": [
    "import os,sys\n",
    "os.environ['BASE_DIR'] =  '/Users/macico/Dropbox/btc'\n",
    "os.environ['KULOKO_DIR'] = os.path.join(os.environ['BASE_DIR'], \"kuloko\")\n",
    "os.environ['COMMON_DIR'] = os.path.join(os.environ['BASE_DIR'], \"geco_commons\")\n",
    "os.environ['MONGO_DIR'] = os.path.join(os.environ['COMMON_DIR'] ,\"mongodb\")\n",
    "os.environ['LOGDIR'] = os.path.join(os.environ['KULOKO_DIR'], \"log\")\n",
    "sys.path.append(os.path.join(os.environ['KULOKO_DIR'],\"items\" ))"
   ]
  },
  {
   "cell_type": "code",
   "execution_count": null,
   "metadata": {},
   "outputs": [],
   "source": []
  },
  {
   "cell_type": "code",
   "execution_count": 3,
   "metadata": {},
   "outputs": [],
   "source": [
    "\n",
    "import public_api\n",
    "orderbooks = public_api.Orderbook()"
   ]
  },
  {
   "cell_type": "code",
   "execution_count": 15,
   "metadata": {},
   "outputs": [
    {
     "ename": "KeyboardInterrupt",
     "evalue": "",
     "output_type": "error",
     "traceback": [
      "\u001b[0;31m---------------------------------------------------------------------------\u001b[0m",
      "\u001b[0;31mKeyboardInterrupt\u001b[0m                         Traceback (most recent call last)",
      "\u001b[0;32m<ipython-input-15-fdead504ad2d>\u001b[0m in \u001b[0;36m<module>\u001b[0;34m\u001b[0m\n\u001b[0;32m----> 1\u001b[0;31m \u001b[0morderbooks\u001b[0m\u001b[0;34m.\u001b[0m\u001b[0mdequeue\u001b[0m\u001b[0;34m(\u001b[0m\u001b[0;34m)\u001b[0m\u001b[0;34m\u001b[0m\u001b[0;34m\u001b[0m\u001b[0m\n\u001b[0m",
      "\u001b[0;32m~/Dropbox/btc/kuloko/items/public_api.py\u001b[0m in \u001b[0;36mdequeue\u001b[0;34m(self)\u001b[0m\n\u001b[1;32m     52\u001b[0m                 \u001b[0;32mbreak\u001b[0m\u001b[0;34m\u001b[0m\u001b[0;34m\u001b[0m\u001b[0m\n\u001b[1;32m     53\u001b[0m             \u001b[0;32mtry\u001b[0m\u001b[0;34m:\u001b[0m\u001b[0;34m\u001b[0m\u001b[0;34m\u001b[0m\u001b[0m\n\u001b[0;32m---> 54\u001b[0;31m                 \u001b[0mtime\u001b[0m\u001b[0;34m.\u001b[0m\u001b[0msleep\u001b[0m\u001b[0;34m(\u001b[0m\u001b[0;36m10\u001b[0m\u001b[0;34m)\u001b[0m\u001b[0;34m\u001b[0m\u001b[0;34m\u001b[0m\u001b[0m\n\u001b[0m\u001b[1;32m     55\u001b[0m                 \u001b[0mdata\u001b[0m \u001b[0;34m=\u001b[0m \u001b[0mself\u001b[0m\u001b[0;34m.\u001b[0m\u001b[0morderbook_skt_api\u001b[0m\u001b[0;34m.\u001b[0m\u001b[0mget\u001b[0m\u001b[0;34m(\u001b[0m\u001b[0;34m)\u001b[0m\u001b[0;34m\u001b[0m\u001b[0;34m\u001b[0m\u001b[0m\n\u001b[1;32m     56\u001b[0m                 \u001b[0mself\u001b[0m\u001b[0;34m.\u001b[0m\u001b[0mlogger\u001b[0m\u001b[0;34m.\u001b[0m\u001b[0minfo\u001b[0m\u001b[0;34m(\u001b[0m\u001b[0;34m\"Dequeued Data:{0}, Retry_cnt={1}\"\u001b[0m\u001b[0;34m.\u001b[0m\u001b[0mformat\u001b[0m\u001b[0;34m(\u001b[0m\u001b[0mlen\u001b[0m\u001b[0;34m(\u001b[0m\u001b[0mdata\u001b[0m\u001b[0;34m)\u001b[0m\u001b[0;34m,\u001b[0m\u001b[0mretry_cnt\u001b[0m\u001b[0;34m)\u001b[0m\u001b[0;34m)\u001b[0m\u001b[0;34m\u001b[0m\u001b[0;34m\u001b[0m\u001b[0m\n",
      "\u001b[0;31mKeyboardInterrupt\u001b[0m: "
     ]
    }
   ],
   "source": [
    "orderbooks.dequeue()"
   ]
  },
  {
   "cell_type": "code",
   "execution_count": 14,
   "metadata": {},
   "outputs": [],
   "source": [
    "orderbooks.connect()\n",
    "orderbooks.subscribe()"
   ]
  },
  {
   "cell_type": "code",
   "execution_count": 16,
   "metadata": {},
   "outputs": [],
   "source": [
    "orderbooks.disconnect()"
   ]
  },
  {
   "cell_type": "code",
   "execution_count": 33,
   "metadata": {},
   "outputs": [],
   "source": [
    "import public_api\n",
    "trades = public_api.Trade()"
   ]
  },
  {
   "cell_type": "code",
   "execution_count": 34,
   "metadata": {},
   "outputs": [],
   "source": [
    "trades.connect()\n",
    "trades.subscribe()"
   ]
  },
  {
   "cell_type": "code",
   "execution_count": 35,
   "metadata": {},
   "outputs": [
    {
     "ename": "KeyboardInterrupt",
     "evalue": "",
     "output_type": "error",
     "traceback": [
      "\u001b[0;31m---------------------------------------------------------------------------\u001b[0m",
      "\u001b[0;31mKeyboardInterrupt\u001b[0m                         Traceback (most recent call last)",
      "\u001b[0;32m<ipython-input-35-265ea13a0a32>\u001b[0m in \u001b[0;36m<module>\u001b[0;34m\u001b[0m\n\u001b[0;32m----> 1\u001b[0;31m \u001b[0mtrades\u001b[0m\u001b[0;34m.\u001b[0m\u001b[0mdequeue\u001b[0m\u001b[0;34m(\u001b[0m\u001b[0;34m)\u001b[0m\u001b[0;34m\u001b[0m\u001b[0;34m\u001b[0m\u001b[0m\n\u001b[0m",
      "\u001b[0;32m~/Dropbox/btc/kuloko/items/public_api.py\u001b[0m in \u001b[0;36mdequeue\u001b[0;34m(self)\u001b[0m\n\u001b[1;32m    139\u001b[0m                 \u001b[0;32mbreak\u001b[0m\u001b[0;34m\u001b[0m\u001b[0;34m\u001b[0m\u001b[0m\n\u001b[1;32m    140\u001b[0m             \u001b[0;32mtry\u001b[0m\u001b[0;34m:\u001b[0m\u001b[0;34m\u001b[0m\u001b[0;34m\u001b[0m\u001b[0m\n\u001b[0;32m--> 141\u001b[0;31m                 \u001b[0mtime\u001b[0m\u001b[0;34m.\u001b[0m\u001b[0msleep\u001b[0m\u001b[0;34m(\u001b[0m\u001b[0;36m1\u001b[0m\u001b[0;34m)\u001b[0m\u001b[0;34m\u001b[0m\u001b[0;34m\u001b[0m\u001b[0m\n\u001b[0m\u001b[1;32m    142\u001b[0m                 \u001b[0mdata\u001b[0m \u001b[0;34m=\u001b[0m \u001b[0mself\u001b[0m\u001b[0;34m.\u001b[0m\u001b[0mtrade_skt_api\u001b[0m\u001b[0;34m.\u001b[0m\u001b[0mget\u001b[0m\u001b[0;34m(\u001b[0m\u001b[0;34m)\u001b[0m\u001b[0;34m\u001b[0m\u001b[0;34m\u001b[0m\u001b[0m\n\u001b[1;32m    143\u001b[0m                 \u001b[0;32mif\u001b[0m \u001b[0mlen\u001b[0m\u001b[0;34m(\u001b[0m\u001b[0mdata\u001b[0m\u001b[0;34m)\u001b[0m\u001b[0;34m==\u001b[0m\u001b[0;36m0\u001b[0m\u001b[0;34m:\u001b[0m\u001b[0;34m\u001b[0m\u001b[0;34m\u001b[0m\u001b[0m\n",
      "\u001b[0;31mKeyboardInterrupt\u001b[0m: "
     ]
    },
    {
     "name": "stderr",
     "output_type": "stream",
     "text": [
      "  File \"/Users/macico/.pyenv/versions/3.7.6/envs/py37b/lib/python3.7/site-packages/websocket/_app.py\", line 344, in _callback\n",
      "    callback(*args)\n",
      "  File \"/Users/macico/Dropbox/btc/kuloko/handler/socket_handler.py\", line 148, in on_close\n",
      "    self.ws.send(json.dumps(message))\n",
      "  File \"/Users/macico/.pyenv/versions/3.7.6/envs/py37b/lib/python3.7/site-packages/websocket/_app.py\", line 154, in send\n",
      "    if not self.sock or self.sock.send(data, opcode) == 0:\n",
      "  File \"/Users/macico/.pyenv/versions/3.7.6/envs/py37b/lib/python3.7/site-packages/websocket/_core.py\", line 253, in send\n",
      "    return self.send_frame(frame)\n",
      "  File \"/Users/macico/.pyenv/versions/3.7.6/envs/py37b/lib/python3.7/site-packages/websocket/_core.py\", line 279, in send_frame\n",
      "    l = self._send(data)\n",
      "  File \"/Users/macico/.pyenv/versions/3.7.6/envs/py37b/lib/python3.7/site-packages/websocket/_core.py\", line 449, in _send\n",
      "    return send(self.sock, data)\n",
      "  File \"/Users/macico/.pyenv/versions/3.7.6/envs/py37b/lib/python3.7/site-packages/websocket/_socket.py\", line 157, in send\n",
      "    return _send()\n",
      "  File \"/Users/macico/.pyenv/versions/3.7.6/envs/py37b/lib/python3.7/site-packages/websocket/_socket.py\", line 139, in _send\n",
      "    return sock.send(data)\n",
      "  File \"/Users/macico/.pyenv/versions/3.7.6/lib/python3.7/ssl.py\", line 1005, in send\n",
      "    return super().send(data, flags)\n",
      "  File \"/Users/macico/.pyenv/versions/3.7.6/envs/py37b/lib/python3.7/site-packages/websocket/_app.py\", line 344, in _callback\n",
      "    callback(*args)\n",
      "  File \"/Users/macico/Dropbox/btc/kuloko/handler/socket_handler.py\", line 148, in on_close\n",
      "    self.ws.send(json.dumps(message))\n",
      "  File \"/Users/macico/.pyenv/versions/3.7.6/envs/py37b/lib/python3.7/site-packages/websocket/_app.py\", line 156, in send\n",
      "    \"Connection is already closed.\")\n",
      "  File \"/Users/macico/.pyenv/versions/3.7.6/envs/py37b/lib/python3.7/site-packages/websocket/_app.py\", line 344, in _callback\n",
      "    callback(*args)\n",
      "  File \"/Users/macico/Dropbox/btc/kuloko/handler/socket_handler.py\", line 148, in on_close\n",
      "    self.ws.send(json.dumps(message))\n",
      "  File \"/Users/macico/.pyenv/versions/3.7.6/envs/py37b/lib/python3.7/site-packages/websocket/_app.py\", line 156, in send\n",
      "    \"Connection is already closed.\")\n",
      "  File \"/Users/macico/.pyenv/versions/3.7.6/envs/py37b/lib/python3.7/site-packages/websocket/_app.py\", line 344, in _callback\n",
      "    callback(*args)\n",
      "  File \"/Users/macico/Dropbox/btc/kuloko/handler/socket_handler.py\", line 148, in on_close\n",
      "    self.ws.send(json.dumps(message))\n",
      "  File \"/Users/macico/.pyenv/versions/3.7.6/envs/py37b/lib/python3.7/site-packages/websocket/_app.py\", line 156, in send\n",
      "    \"Connection is already closed.\")\n",
      "  File \"/Users/macico/.pyenv/versions/3.7.6/envs/py37b/lib/python3.7/site-packages/websocket/_app.py\", line 344, in _callback\n",
      "    callback(*args)\n",
      "  File \"/Users/macico/Dropbox/btc/kuloko/handler/socket_handler.py\", line 148, in on_close\n",
      "    self.ws.send(json.dumps(message))\n",
      "  File \"/Users/macico/.pyenv/versions/3.7.6/envs/py37b/lib/python3.7/site-packages/websocket/_app.py\", line 156, in send\n",
      "    \"Connection is already closed.\")\n"
     ]
    }
   ],
   "source": [
    "trades.dequeue()"
   ]
  },
  {
   "cell_type": "code",
   "execution_count": null,
   "metadata": {},
   "outputs": [],
   "source": [
    "trades.disconnect()"
   ]
  },
  {
   "cell_type": "code",
   "execution_count": 18,
   "metadata": {},
   "outputs": [],
   "source": [
    "import public_api\n",
    "tickers = public_api.Ticker()"
   ]
  },
  {
   "cell_type": "code",
   "execution_count": 11,
   "metadata": {},
   "outputs": [],
   "source": [
    "tickers.connect()\n",
    "tickers.subscribe()"
   ]
  },
  {
   "cell_type": "code",
   "execution_count": 9,
   "metadata": {},
   "outputs": [],
   "source": [
    "tickers.disconnect()"
   ]
  },
  {
   "cell_type": "code",
   "execution_count": 10,
   "metadata": {},
   "outputs": [],
   "source": [
    "tickers.dequeue()"
   ]
  },
  {
   "cell_type": "code",
   "execution_count": 20,
   "metadata": {},
   "outputs": [],
   "source": [
    "from datetime import datetime as dt\n",
    "a=dt.now()\n"
   ]
  },
  {
   "cell_type": "code",
   "execution_count": 22,
   "metadata": {},
   "outputs": [
    {
     "name": "stdout",
     "output_type": "stream",
     "text": [
      "37\n"
     ]
    }
   ],
   "source": [
    "b=dt.now()\n",
    "print((b-a).seconds)"
   ]
  },
  {
   "cell_type": "code",
   "execution_count": 25,
   "metadata": {},
   "outputs": [
    {
     "data": {
      "text/plain": [
       "datetime.timedelta(seconds=37, microseconds=422468)"
      ]
     },
     "execution_count": 25,
     "metadata": {},
     "output_type": "execute_result"
    }
   ],
   "source": [
    "b-a"
   ]
  },
  {
   "cell_type": "code",
   "execution_count": null,
   "metadata": {},
   "outputs": [],
   "source": [
    "for db_data in mongo_db.db['orderbook'].find():\n",
    "    print(db_data)"
   ]
  }
 ],
 "metadata": {
  "interpreter": {
   "hash": "05ad3976237f71d122431f30f87b873d8237b0132fc7375c28d36b25c1ad0785"
  },
  "kernelspec": {
   "display_name": "Python 3.7.6 64-bit ('py37b': pyenv)",
   "name": "python3"
  },
  "language_info": {
   "codemirror_mode": {
    "name": "ipython",
    "version": 3
   },
   "file_extension": ".py",
   "mimetype": "text/x-python",
   "name": "python",
   "nbconvert_exporter": "python",
   "pygments_lexer": "ipython3",
   "version": "3.7.6"
  },
  "orig_nbformat": 2
 },
 "nbformat": 4,
 "nbformat_minor": 2
}
