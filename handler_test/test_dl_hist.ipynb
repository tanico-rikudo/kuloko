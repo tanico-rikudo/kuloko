{
 "cells": [
  {
   "cell_type": "code",
   "execution_count": 3,
   "metadata": {},
   "outputs": [
    {
     "name": "stdout",
     "output_type": "stream",
     "text": [
      "The autoreload extension is already loaded. To reload it, use:\n",
      "  %reload_ext autoreload\n"
     ]
    }
   ],
   "source": [
    "%load_ext autoreload\n",
    "%autoreload 2\n",
    "\n",
    "import src.hist_loader as hist\n",
    "from  src.util.daylib import daylib "
   ]
  },
  {
   "cell_type": "code",
   "execution_count": 30,
   "metadata": {},
   "outputs": [
    {
     "data": {
      "text/plain": [
       "True"
      ]
     },
     "execution_count": 30,
     "metadata": {},
     "output_type": "execute_result"
    }
   ],
   "source": [
    "hist_loader = hist.HistDataHandler()\n",
    "hist_loader.get_hist('BTC',20200104, is_save=True, save_path=None)"
   ]
  },
  {
   "cell_type": "code",
   "execution_count": 27,
   "metadata": {},
   "outputs": [],
   "source": [
    "df = hist_loader.read_hist('BTC',20200102)"
   ]
  },
  {
   "cell_type": "code",
   "execution_count": 35,
   "metadata": {},
   "outputs": [],
   "source": [
    "df = hist_loader.bulk_load('BTC',20200101, 20200102)"
   ]
  },
  {
   "cell_type": "code",
   "execution_count": 36,
   "metadata": {},
   "outputs": [
    {
     "data": {
      "text/html": [
       "<div>\n",
       "<style scoped>\n",
       "    .dataframe tbody tr th:only-of-type {\n",
       "        vertical-align: middle;\n",
       "    }\n",
       "\n",
       "    .dataframe tbody tr th {\n",
       "        vertical-align: top;\n",
       "    }\n",
       "\n",
       "    .dataframe thead th {\n",
       "        text-align: right;\n",
       "    }\n",
       "</style>\n",
       "<table border=\"1\" class=\"dataframe\">\n",
       "  <thead>\n",
       "    <tr style=\"text-align: right;\">\n",
       "      <th></th>\n",
       "      <th>symbol</th>\n",
       "      <th>side</th>\n",
       "      <th>size</th>\n",
       "      <th>price</th>\n",
       "      <th>timestamp</th>\n",
       "    </tr>\n",
       "  </thead>\n",
       "  <tbody>\n",
       "    <tr>\n",
       "      <th>0</th>\n",
       "      <td>BTC</td>\n",
       "      <td>BUY</td>\n",
       "      <td>0.0019</td>\n",
       "      <td>777080.0</td>\n",
       "      <td>2019-12-31 21:02:19.817000+00:00</td>\n",
       "    </tr>\n",
       "    <tr>\n",
       "      <th>1</th>\n",
       "      <td>BTC</td>\n",
       "      <td>BUY</td>\n",
       "      <td>0.0010</td>\n",
       "      <td>776970.0</td>\n",
       "      <td>2019-12-31 21:04:02.269000+00:00</td>\n",
       "    </tr>\n",
       "    <tr>\n",
       "      <th>2</th>\n",
       "      <td>BTC</td>\n",
       "      <td>BUY</td>\n",
       "      <td>0.0010</td>\n",
       "      <td>776990.0</td>\n",
       "      <td>2019-12-31 21:08:23.366000+00:00</td>\n",
       "    </tr>\n",
       "    <tr>\n",
       "      <th>3</th>\n",
       "      <td>BTC</td>\n",
       "      <td>BUY</td>\n",
       "      <td>0.0019</td>\n",
       "      <td>777810.0</td>\n",
       "      <td>2019-12-31 21:10:04.741000+00:00</td>\n",
       "    </tr>\n",
       "    <tr>\n",
       "      <th>4</th>\n",
       "      <td>BTC</td>\n",
       "      <td>BUY</td>\n",
       "      <td>0.0010</td>\n",
       "      <td>777660.0</td>\n",
       "      <td>2019-12-31 21:11:46.817000+00:00</td>\n",
       "    </tr>\n",
       "    <tr>\n",
       "      <th>...</th>\n",
       "      <td>...</td>\n",
       "      <td>...</td>\n",
       "      <td>...</td>\n",
       "      <td>...</td>\n",
       "      <td>...</td>\n",
       "    </tr>\n",
       "    <tr>\n",
       "      <th>2054</th>\n",
       "      <td>BTC</td>\n",
       "      <td>SELL</td>\n",
       "      <td>0.0812</td>\n",
       "      <td>753000.0</td>\n",
       "      <td>2020-01-02 20:57:49.851000+00:00</td>\n",
       "    </tr>\n",
       "    <tr>\n",
       "      <th>2055</th>\n",
       "      <td>BTC</td>\n",
       "      <td>SELL</td>\n",
       "      <td>0.0100</td>\n",
       "      <td>753000.0</td>\n",
       "      <td>2020-01-02 20:57:49.851000+00:00</td>\n",
       "    </tr>\n",
       "    <tr>\n",
       "      <th>2056</th>\n",
       "      <td>BTC</td>\n",
       "      <td>SELL</td>\n",
       "      <td>0.1000</td>\n",
       "      <td>752600.0</td>\n",
       "      <td>2020-01-02 20:58:54.560000+00:00</td>\n",
       "    </tr>\n",
       "    <tr>\n",
       "      <th>2057</th>\n",
       "      <td>BTC</td>\n",
       "      <td>SELL</td>\n",
       "      <td>1.7088</td>\n",
       "      <td>752600.0</td>\n",
       "      <td>2020-01-02 20:58:54.560000+00:00</td>\n",
       "    </tr>\n",
       "    <tr>\n",
       "      <th>2058</th>\n",
       "      <td>BTC</td>\n",
       "      <td>SELL</td>\n",
       "      <td>0.0100</td>\n",
       "      <td>752590.0</td>\n",
       "      <td>2020-01-02 20:59:27.384000+00:00</td>\n",
       "    </tr>\n",
       "  </tbody>\n",
       "</table>\n",
       "<p>3540 rows × 5 columns</p>\n",
       "</div>"
      ],
      "text/plain": [
       "     symbol  side    size     price                        timestamp\n",
       "0       BTC   BUY  0.0019  777080.0 2019-12-31 21:02:19.817000+00:00\n",
       "1       BTC   BUY  0.0010  776970.0 2019-12-31 21:04:02.269000+00:00\n",
       "2       BTC   BUY  0.0010  776990.0 2019-12-31 21:08:23.366000+00:00\n",
       "3       BTC   BUY  0.0019  777810.0 2019-12-31 21:10:04.741000+00:00\n",
       "4       BTC   BUY  0.0010  777660.0 2019-12-31 21:11:46.817000+00:00\n",
       "...     ...   ...     ...       ...                              ...\n",
       "2054    BTC  SELL  0.0812  753000.0 2020-01-02 20:57:49.851000+00:00\n",
       "2055    BTC  SELL  0.0100  753000.0 2020-01-02 20:57:49.851000+00:00\n",
       "2056    BTC  SELL  0.1000  752600.0 2020-01-02 20:58:54.560000+00:00\n",
       "2057    BTC  SELL  1.7088  752600.0 2020-01-02 20:58:54.560000+00:00\n",
       "2058    BTC  SELL  0.0100  752590.0 2020-01-02 20:59:27.384000+00:00\n",
       "\n",
       "[3540 rows x 5 columns]"
      ]
     },
     "execution_count": 36,
     "metadata": {},
     "output_type": "execute_result"
    }
   ],
   "source": [
    "df"
   ]
  },
  {
   "cell_type": "code",
   "execution_count": null,
   "metadata": {},
   "outputs": [],
   "source": []
  }
 ],
 "metadata": {
  "kernelspec": {
   "display_name": "Python 3.7.6 64-bit ('py37b': venv)",
   "metadata": {
    "interpreter": {
     "hash": "edf7c2d5f0f70628fc224588ceca2c2113a9ef071d19ac3a0b9346fc3eba554c"
    }
   },
   "name": "Python 3.7.6 64-bit ('py37b': venv)"
  },
  "language_info": {
   "codemirror_mode": {
    "name": "ipython",
    "version": 3
   },
   "file_extension": ".py",
   "mimetype": "text/x-python",
   "name": "python",
   "nbconvert_exporter": "python",
   "pygments_lexer": "ipython3",
   "version": "3.7.6-final"
  },
  "orig_nbformat": 2
 },
 "nbformat": 4,
 "nbformat_minor": 2
}
