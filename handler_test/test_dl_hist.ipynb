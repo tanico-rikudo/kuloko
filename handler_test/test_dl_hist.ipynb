{
 "cells": [
  {
   "cell_type": "code",
   "execution_count": null,
   "metadata": {},
   "outputs": [],
   "source": [
    "%load_ext autoreload\n",
    "%autoreload 2\n"
   ]
  },
  {
   "cell_type": "code",
   "execution_count": null,
   "metadata": {},
   "outputs": [],
   "source": [
    "import os,sys\n",
    "os.environ['BASE_DIR'] =  '/Users/macico/Dropbox/btc'\n",
    "os.environ['KULOKO_DIR'] = os.path.join(os.environ['BASE_DIR'], \"kuloko\")\n",
    "os.environ['ALEISTER_DIR'] = os.path.join(os.environ['BASE_DIR'], \"aleister\")\n",
    "os.environ['COMMON_DIR'] = os.path.join(os.environ['BASE_DIR'], \"geco_commons\")\n",
    "os.environ['KULOKO_INI'] = os.path.join(os.environ['COMMON_DIR'], \"ini\")\n",
    "os.environ['MONGO_DIR'] = os.path.join(os.environ['COMMON_DIR'] ,\"mongodb\")\n",
    "os.environ['LOGDIR'] = os.path.join(os.environ['KULOKO_DIR'], \"log\")\n",
    "sys.path.append(os.path.join(os.environ['KULOKO_DIR'],\"items\" ))"
   ]
  },
  {
   "cell_type": "code",
   "execution_count": null,
   "metadata": {},
   "outputs": [],
   "source": [
    "\n",
    "import hist_data\n",
    "hd = hist_data.histData()"
   ]
  },
  {
   "cell_type": "code",
   "execution_count": null,
   "metadata": {},
   "outputs": [],
   "source": [
    "hd"
   ]
  },
  {
   "cell_type": "code",
   "execution_count": null,
   "metadata": {},
   "outputs": [],
   "source": [
    "a=hd.load('BTC','trades', 20200228,20200231)"
   ]
  },
  {
   "cell_type": "code",
   "execution_count": null,
   "metadata": {},
   "outputs": [],
   "source": [
    "a"
   ]
  },
  {
   "cell_type": "code",
   "execution_count": null,
   "metadata": {},
   "outputs": [],
   "source": [
    "a"
   ]
  },
  {
   "cell_type": "code",
   "execution_count": null,
   "metadata": {},
   "outputs": [],
   "source": []
  }
 ],
 "metadata": {
  "interpreter": {
   "hash": "b45f9670391769e061d21fde4a80e23c28183b0e668940abb0d6257953f3010d"
  },
  "kernelspec": {
   "display_name": "Python 3.7.6 64-bit ('py37b': pyenv)",
   "name": "python3"
  },
  "language_info": {
   "codemirror_mode": {
    "name": "ipython",
    "version": 3
   },
   "file_extension": ".py",
   "mimetype": "text/x-python",
   "name": "python",
   "nbconvert_exporter": "python",
   "pygments_lexer": "ipython3",
   "version": "3.7.6"
  },
  "orig_nbformat": 2
 },
 "nbformat": 4,
 "nbformat_minor": 2
}
