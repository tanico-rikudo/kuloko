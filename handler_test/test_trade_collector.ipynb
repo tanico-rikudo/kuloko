{
 "metadata": {
  "language_info": {
   "codemirror_mode": {
    "name": "ipython",
    "version": 3
   },
   "file_extension": ".py",
   "mimetype": "text/x-python",
   "name": "python",
   "nbconvert_exporter": "python",
   "pygments_lexer": "ipython3",
   "version": "3.7.6-final"
  },
  "orig_nbformat": 2,
  "kernelspec": {
   "name": "python3",
   "display_name": "Python 3",
   "language": "python"
  }
 },
 "nbformat": 4,
 "nbformat_minor": 2,
 "cells": [
  {
   "cell_type": "code",
   "execution_count": 1,
   "metadata": {},
   "outputs": [],
   "source": [
    "%load_ext autoreload\n",
    "%autoreload 2"
   ]
  },
  {
   "cell_type": "code",
   "execution_count": 2,
   "metadata": {},
   "outputs": [],
   "source": [
    "from pymongo import MongoClient\n",
    "import configparser\n",
    "import logging\n",
    "import logging.config\n",
    "sys.path.append(os.path.join(os.path.dirname('__file__'),'..'))\n",
    "sys.path.append('/Users/macico/Dropbox/btc/commons')\n",
    "os.environ['KULOKO_DIR'] = '/Users/macico/Dropbox/btc/kuloko/kuloko_handler'\n",
    "os.environ['MONGO_DIR'] = '/Users/macico/Dropbox/btc/commons/mongodb'\n",
    "os.environ['LOGDIR'] = '/Users/macico/Dropbox/btc/kuloko/log'\n",
    "KULOKO_DIR=os.environ['KULOKO_DIR'] \n",
    "MONGO_DIR=os.environ['MONGO_DIR'] \n",
    "LOGDIR=os.environ['LOGDIR'] \n",
    "\n",
    "logging.config.fileConfig(os.path.join(KULOKO_DIR,'ini/logconfig.ini'),defaults={'logfilename': os.path.join(LOGDIR,'logging.log')})\n",
    "logger = logging.getLogger(\"KULOKO\")\n"
   ]
  },
  {
   "cell_type": "code",
   "execution_count": 3,
   "metadata": {},
   "outputs": [
    {
     "output_type": "execute_result",
     "data": {
      "text/plain": [
       "'/Users/macico/Dropbox/btc/commons/mongodb/ini/mongo_config.ini'"
      ]
     },
     "metadata": {},
     "execution_count": 3
    }
   ],
   "source": [
    "os.path.join(MONGO_DIR,'ini/mongo_config.ini')"
   ]
  },
  {
   "cell_type": "code",
   "execution_count": 4,
   "metadata": {},
   "outputs": [
    {
     "output_type": "execute_result",
     "data": {
      "text/plain": [
       "'/Users/macico/Dropbox/btc/commons/mongodb/ini/mongo_config.ini'"
      ]
     },
     "metadata": {},
     "execution_count": 4
    }
   ],
   "source": [
    "os.path.join(MONGO_DIR,'ini/mongo_config.ini')"
   ]
  },
  {
   "cell_type": "code",
   "execution_count": 5,
   "metadata": {},
   "outputs": [
    {
     "output_type": "execute_result",
     "data": {
      "text/plain": [
       "'/Users/macico/Dropbox/btc/commons/mongodb/ini/mongo_config.ini'"
      ]
     },
     "metadata": {},
     "execution_count": 5
    }
   ],
   "source": [
    "os.path.join(MONGO_DIR,'ini/mongo_config.ini')"
   ]
  },
  {
   "cell_type": "code",
   "execution_count": 6,
   "metadata": {},
   "outputs": [],
   "source": [
    "mongo_ini = configparser.ConfigParser()\n",
    "mongo_ini.read(os.path.join(MONGO_DIR,'ini/mongo_config.ini'), encoding='utf-8')\n",
    "\n",
    "from mongodb.src.mongo_handler import MongoHandler"
   ]
  },
  {
   "cell_type": "code",
   "execution_count": 7,
   "metadata": {},
   "outputs": [
    {
     "output_type": "execute_result",
     "data": {
      "text/plain": [
       "['/Users/macico/Dropbox/btc/kuloko/kuloko_handler/ini/config.ini']"
      ]
     },
     "metadata": {},
     "execution_count": 7
    }
   ],
   "source": [
    "\n",
    "import  kuloko_handler.handler.socket_handler as skt_api\n",
    "\n",
    "private_api_ini = configparser.ConfigParser()\n",
    "private_api_ini.read(os.path.join(KULOKO_DIR,'ini/private_api.ini'), encoding='utf-8')\n",
    "\n",
    "general_config_ini = configparser.ConfigParser()\n",
    "general_config_ini.read(os.path.join(KULOKO_DIR,'ini/config.ini'), encoding='utf-8')\n"
   ]
  },
  {
   "cell_type": "code",
   "execution_count": 8,
   "metadata": {
    "tags": []
   },
   "outputs": [],
   "source": [
    "# mongo_db = MongoHandler(mongo_ini['LOCAL'],\"trade\")\n",
    "# mongo_db.insert_one({\"test\":\"rrr\"})\n",
    "# for db_data in mongo_db.find():\n",
    "#     print(db_data)\n",
    "# mongo_db.delete_all()"
   ]
  },
  {
   "cell_type": "code",
   "execution_count": 9,
   "metadata": {},
   "outputs": [
    {
     "output_type": "execute_result",
     "data": {
      "text/plain": [
       "['LOCAL', 'REMOTE']"
      ]
     },
     "metadata": {},
     "execution_count": 9
    }
   ],
   "source": [
    "mongo_ini.sections()"
   ]
  },
  {
   "cell_type": "code",
   "execution_count": 10,
   "metadata": {},
   "outputs": [
    {
     "output_type": "execute_result",
     "data": {
      "text/plain": [
       "<Section: LOCAL>"
      ]
     },
     "metadata": {},
     "execution_count": 10
    }
   ],
   "source": [
    "mongo_ini['LOCAL']"
   ]
  },
  {
   "cell_type": "code",
   "execution_count": 11,
   "metadata": {},
   "outputs": [],
   "source": [
    "trades = skt_api.Trade(logger, general_config_ini,private_api_ini)\n",
    "trades.connect(trades.get_url(),'BTC')\n",
    "trades.subscribe()\n",
    "mongo_db = MongoHandler(mongo_ini['LOCAL'],\"trade\")"
   ]
  },
  {
   "cell_type": "code",
   "execution_count": 19,
   "metadata": {},
   "outputs": [
    {
     "output_type": "stream",
     "name": "stdout",
     "text": [
      "START\n",
      "Data:0, Retry_cnt=0\n",
      "Data:0, Retry_cnt=1\n",
      "Data:0, Retry_cnt=2\n",
      "Data:0, Retry_cnt=3\n",
      "Data:0, Retry_cnt=4\n",
      "Data:0, Retry_cnt=5\n",
      "Data:0, Retry_cnt=6\n",
      "Data:0, Retry_cnt=7\n",
      "Data:0, Retry_cnt=8\n",
      "Data:0, Retry_cnt=9\n",
      "Data:0, Retry_cnt=10\n",
      "Data:0, Retry_cnt=11\n",
      "Data:0, Retry_cnt=12\n",
      "Data:0, Retry_cnt=13\n",
      "Data:0, Retry_cnt=14\n",
      "Data:0, Retry_cnt=15\n",
      "Data:0, Retry_cnt=16\n",
      "Data:0, Retry_cnt=17\n",
      "Data:0, Retry_cnt=18\n",
      "Data:0, Retry_cnt=19\n",
      "Data:0, Retry_cnt=20\n",
      "Data:0, Retry_cnt=21\n",
      "Data:0, Retry_cnt=22\n",
      "Data:0, Retry_cnt=23\n",
      "Data:0, Retry_cnt=24\n",
      "Data:0, Retry_cnt=25\n",
      "Data:0, Retry_cnt=26\n",
      "Data:0, Retry_cnt=27\n",
      "Data:0, Retry_cnt=28\n",
      "Data:0, Retry_cnt=29\n",
      "Data:0, Retry_cnt=30\n",
      "Data:0, Retry_cnt=31\n",
      "Data:0, Retry_cnt=32\n",
      "Data:0, Retry_cnt=33\n",
      "Data:0, Retry_cnt=34\n",
      "Data:0, Retry_cnt=35\n",
      "Data:0, Retry_cnt=36\n",
      "Data:0, Retry_cnt=37\n",
      "Data:0, Retry_cnt=38\n",
      "Data:0, Retry_cnt=39\n",
      "Data:0, Retry_cnt=40\n",
      "Data:0, Retry_cnt=41\n",
      "Data:0, Retry_cnt=42\n",
      "Data:0, Retry_cnt=43\n",
      "Data:0, Retry_cnt=44\n",
      "Data:0, Retry_cnt=45\n",
      "Data:0, Retry_cnt=46\n",
      "Data:0, Retry_cnt=47\n",
      "Data:0, Retry_cnt=48\n",
      "Data:0, Retry_cnt=49\n",
      "Data:0, Retry_cnt=50\n",
      "Data:0, Retry_cnt=51\n",
      "Data:0, Retry_cnt=52\n",
      "Data:0, Retry_cnt=53\n",
      "Data:0, Retry_cnt=54\n",
      "Data:0, Retry_cnt=55\n",
      "Data:0, Retry_cnt=56\n",
      "Data:0, Retry_cnt=57\n",
      "Data:0, Retry_cnt=58\n",
      "Data:0, Retry_cnt=59\n",
      "Data:0, Retry_cnt=60\n",
      "Data:0, Retry_cnt=61\n",
      "Data:0, Retry_cnt=62\n",
      "Data:0, Retry_cnt=63\n",
      "Data:0, Retry_cnt=64\n",
      "Data:0, Retry_cnt=65\n",
      "Data:0, Retry_cnt=66\n",
      "Data:0, Retry_cnt=67\n",
      "Data:0, Retry_cnt=68\n",
      "Data:0, Retry_cnt=69\n",
      "Data:0, Retry_cnt=70\n",
      "Data:0, Retry_cnt=71\n",
      "Data:0, Retry_cnt=72\n",
      "Data:0, Retry_cnt=73\n",
      "Data:0, Retry_cnt=74\n",
      "Data:0, Retry_cnt=75\n",
      "Data:0, Retry_cnt=76\n",
      "Data:0, Retry_cnt=77\n",
      "Data:0, Retry_cnt=78\n",
      "Data:0, Retry_cnt=79\n",
      "Data:0, Retry_cnt=80\n",
      "Data:0, Retry_cnt=81\n",
      "Data:0, Retry_cnt=82\n",
      "Data:0, Retry_cnt=83\n",
      "Data:0, Retry_cnt=84\n",
      "Data:0, Retry_cnt=85\n",
      "Data:0, Retry_cnt=86\n",
      "Data:0, Retry_cnt=87\n",
      "Data:0, Retry_cnt=88\n",
      "Data:0, Retry_cnt=89\n",
      "Data:0, Retry_cnt=90\n",
      "Data:0, Retry_cnt=91\n",
      "Data:0, Retry_cnt=92\n",
      "Data:0, Retry_cnt=93\n",
      "Data:0, Retry_cnt=94\n",
      "Data:0, Retry_cnt=95\n",
      "Data:0, Retry_cnt=96\n",
      "Data:0, Retry_cnt=97\n",
      "Data:0, Retry_cnt=98\n",
      "Data:0, Retry_cnt=99\n",
      "Data:0, Retry_cnt=100\n",
      "Data:0, Retry_cnt=101\n",
      "Data:0, Retry_cnt=102\n",
      "Data:0, Retry_cnt=103\n",
      "Data:0, Retry_cnt=104\n",
      "Data:0, Retry_cnt=105\n",
      "Data:0, Retry_cnt=106\n",
      "Data:0, Retry_cnt=107\n",
      "Data:0, Retry_cnt=108\n",
      "Data:0, Retry_cnt=109\n",
      "Data:0, Retry_cnt=110\n",
      "Data:0, Retry_cnt=111\n",
      "Data:0, Retry_cnt=112\n",
      "Data:0, Retry_cnt=113\n",
      "Data:0, Retry_cnt=114\n",
      "Data:0, Retry_cnt=115\n",
      "Data:0, Retry_cnt=116\n",
      "Data:0, Retry_cnt=117\n",
      "Data:0, Retry_cnt=118\n",
      "Data:0, Retry_cnt=119\n",
      "Data:0, Retry_cnt=120\n",
      "Data:0, Retry_cnt=121\n",
      "Data:0, Retry_cnt=122\n",
      "Data:0, Retry_cnt=123\n",
      "Data:0, Retry_cnt=124\n",
      "Data:0, Retry_cnt=125\n",
      "Data:0, Retry_cnt=126\n",
      "Data:0, Retry_cnt=127\n",
      "Data:0, Retry_cnt=128\n",
      "Data:0, Retry_cnt=129\n",
      "Data:0, Retry_cnt=130\n",
      "Data:0, Retry_cnt=131\n",
      "Data:0, Retry_cnt=132\n",
      "Data:0, Retry_cnt=133\n",
      "Data:0, Retry_cnt=134\n",
      "Data:0, Retry_cnt=135\n",
      "Data:0, Retry_cnt=136\n",
      "Data:0, Retry_cnt=137\n",
      "Data:0, Retry_cnt=138\n",
      "Data:0, Retry_cnt=139\n",
      "Data:0, Retry_cnt=140\n",
      "Data:0, Retry_cnt=141\n",
      "Data:0, Retry_cnt=142\n",
      "Data:0, Retry_cnt=143\n",
      "Data:0, Retry_cnt=144\n",
      "Data:0, Retry_cnt=145\n",
      "Data:0, Retry_cnt=146\n",
      "Data:0, Retry_cnt=147\n",
      "Data:0, Retry_cnt=148\n",
      "Data:0, Retry_cnt=149\n",
      "Data:0, Retry_cnt=150\n",
      "Data:0, Retry_cnt=151\n",
      "Data:0, Retry_cnt=152\n",
      "Data:0, Retry_cnt=153\n",
      "Data:0, Retry_cnt=154\n",
      "Data:0, Retry_cnt=155\n",
      "Data:0, Retry_cnt=156\n",
      "Data:0, Retry_cnt=157\n",
      "Data:0, Retry_cnt=158\n",
      "Data:0, Retry_cnt=159\n",
      "Data:0, Retry_cnt=160\n",
      "Data:0, Retry_cnt=161\n",
      "Data:0, Retry_cnt=162\n",
      "Data:0, Retry_cnt=163\n",
      "Data:0, Retry_cnt=164\n",
      "Data:0, Retry_cnt=165\n",
      "Data:0, Retry_cnt=166\n",
      "Data:0, Retry_cnt=167\n",
      "Data:0, Retry_cnt=168\n",
      "Data:0, Retry_cnt=169\n",
      "Data:0, Retry_cnt=170\n",
      "Data:0, Retry_cnt=171\n",
      "Data:0, Retry_cnt=172\n",
      "Data:0, Retry_cnt=173\n",
      "Data:0, Retry_cnt=174\n",
      "Data:0, Retry_cnt=175\n",
      "Data:0, Retry_cnt=176\n",
      "Data:0, Retry_cnt=177\n",
      "Data:0, Retry_cnt=178\n",
      "Data:0, Retry_cnt=179\n",
      "Data:0, Retry_cnt=180\n",
      "Data:0, Retry_cnt=181\n",
      "Data:0, Retry_cnt=182\n",
      "Data:0, Retry_cnt=183\n",
      "Data:0, Retry_cnt=184\n",
      "Data:0, Retry_cnt=185\n",
      "Data:0, Retry_cnt=186\n",
      "Data:0, Retry_cnt=187\n",
      "Data:0, Retry_cnt=188\n",
      "Data:0, Retry_cnt=189\n",
      "Data:0, Retry_cnt=190\n",
      "Data:0, Retry_cnt=191\n",
      "Data:0, Retry_cnt=192\n",
      "Data:0, Retry_cnt=193\n",
      "Data:0, Retry_cnt=194\n",
      "Data:0, Retry_cnt=195\n",
      "Data:0, Retry_cnt=196\n",
      "Data:0, Retry_cnt=197\n",
      "Data:0, Retry_cnt=198\n",
      "Data:0, Retry_cnt=199\n",
      "Data:0, Retry_cnt=200\n",
      "Data:0, Retry_cnt=201\n",
      "Data:0, Retry_cnt=202\n",
      "Data:0, Retry_cnt=203\n",
      "Data:0, Retry_cnt=204\n",
      "Data:0, Retry_cnt=205\n",
      "Data:0, Retry_cnt=206\n",
      "Data:0, Retry_cnt=207\n",
      "Data:0, Retry_cnt=208\n",
      "Data:0, Retry_cnt=209\n",
      "Data:0, Retry_cnt=210\n",
      "Data:0, Retry_cnt=211\n",
      "Data:0, Retry_cnt=212\n",
      "Data:0, Retry_cnt=213\n",
      "Data:0, Retry_cnt=214\n",
      "Data:0, Retry_cnt=215\n",
      "Data:0, Retry_cnt=216\n",
      "Data:0, Retry_cnt=217\n",
      "Data:0, Retry_cnt=218\n",
      "Data:0, Retry_cnt=219\n",
      "Data:0, Retry_cnt=220\n",
      "Data:0, Retry_cnt=221\n",
      "Data:0, Retry_cnt=222\n",
      "Data:0, Retry_cnt=223\n",
      "Data:0, Retry_cnt=224\n",
      "Data:0, Retry_cnt=225\n",
      "Data:0, Retry_cnt=226\n",
      "Data:0, Retry_cnt=227\n",
      "Data:0, Retry_cnt=228\n",
      "Data:0, Retry_cnt=229\n",
      "Data:0, Retry_cnt=230\n",
      "Data:0, Retry_cnt=231\n",
      "Data:0, Retry_cnt=232\n",
      "Data:0, Retry_cnt=233\n",
      "Data:0, Retry_cnt=234\n",
      "Data:0, Retry_cnt=235\n",
      "Data:0, Retry_cnt=236\n",
      "Data:0, Retry_cnt=237\n",
      "Data:0, Retry_cnt=238\n",
      "Data:0, Retry_cnt=239\n",
      "Data:0, Retry_cnt=240\n",
      "Data:0, Retry_cnt=241\n",
      "Data:0, Retry_cnt=242\n",
      "Data:0, Retry_cnt=243\n",
      "Data:0, Retry_cnt=244\n",
      "Data:0, Retry_cnt=245\n",
      "Data:0, Retry_cnt=246\n",
      "Data:0, Retry_cnt=247\n",
      "Data:0, Retry_cnt=248\n",
      "Data:0, Retry_cnt=249\n",
      "Data:0, Retry_cnt=250\n",
      "Data:0, Retry_cnt=251\n",
      "Data:0, Retry_cnt=252\n",
      "Data:0, Retry_cnt=253\n",
      "Data:0, Retry_cnt=254\n",
      "Data:0, Retry_cnt=255\n",
      "Data:0, Retry_cnt=256\n",
      "Data:0, Retry_cnt=257\n",
      "Data:0, Retry_cnt=258\n",
      "Data:0, Retry_cnt=259\n",
      "Data:0, Retry_cnt=260\n",
      "Data:0, Retry_cnt=261\n",
      "Data:0, Retry_cnt=262\n",
      "Data:0, Retry_cnt=263\n",
      "Data:0, Retry_cnt=264\n",
      "Data:0, Retry_cnt=265\n",
      "Data:0, Retry_cnt=266\n",
      "Data:0, Retry_cnt=267\n"
     ]
    },
    {
     "output_type": "error",
     "ename": "KeyboardInterrupt",
     "evalue": "",
     "traceback": [
      "\u001b[0;31m---------------------------------------------------------------------------\u001b[0m",
      "\u001b[0;31mKeyboardInterrupt\u001b[0m                         Traceback (most recent call last)",
      "\u001b[0;32m<ipython-input-19-bf797d2a1494>\u001b[0m in \u001b[0;36m<module>\u001b[0;34m\u001b[0m\n\u001b[1;32m      5\u001b[0m \u001b[0;32mwhile\u001b[0m \u001b[0;32mTrue\u001b[0m\u001b[0;34m:\u001b[0m\u001b[0;34m\u001b[0m\u001b[0;34m\u001b[0m\u001b[0m\n\u001b[1;32m      6\u001b[0m     \u001b[0;32mtry\u001b[0m\u001b[0;34m:\u001b[0m\u001b[0;34m\u001b[0m\u001b[0;34m\u001b[0m\u001b[0m\n\u001b[0;32m----> 7\u001b[0;31m         \u001b[0mtime\u001b[0m\u001b[0;34m.\u001b[0m\u001b[0msleep\u001b[0m\u001b[0;34m(\u001b[0m\u001b[0;36m10\u001b[0m\u001b[0;34m)\u001b[0m\u001b[0;34m\u001b[0m\u001b[0;34m\u001b[0m\u001b[0m\n\u001b[0m\u001b[1;32m      8\u001b[0m         \u001b[0mdata\u001b[0m \u001b[0;34m=\u001b[0m \u001b[0mtrades\u001b[0m\u001b[0;34m.\u001b[0m\u001b[0mget\u001b[0m\u001b[0;34m(\u001b[0m\u001b[0;34m)\u001b[0m\u001b[0;34m\u001b[0m\u001b[0;34m\u001b[0m\u001b[0m\n\u001b[1;32m      9\u001b[0m         \u001b[0mprint\u001b[0m\u001b[0;34m(\u001b[0m\u001b[0;34m\"Data:{0}, Retry_cnt={1}\"\u001b[0m\u001b[0;34m.\u001b[0m\u001b[0mformat\u001b[0m\u001b[0;34m(\u001b[0m\u001b[0mlen\u001b[0m\u001b[0;34m(\u001b[0m\u001b[0mdata\u001b[0m\u001b[0;34m)\u001b[0m\u001b[0;34m,\u001b[0m\u001b[0mretry_cnt\u001b[0m\u001b[0;34m)\u001b[0m\u001b[0;34m)\u001b[0m\u001b[0;34m\u001b[0m\u001b[0;34m\u001b[0m\u001b[0m\n",
      "\u001b[0;31mKeyboardInterrupt\u001b[0m: "
     ]
    }
   ],
   "source": [
    "import time\n",
    "retry_cnt=0\n",
    "max_retry_cnt=120\n",
    "print(\"START\")\n",
    "while True:\n",
    "    try:\n",
    "        time.sleep(10)\n",
    "        data = trades.get()\n",
    "        print(\"Data:{0}, Retry_cnt={1}\".format(len(data),retry_cnt))\n",
    "        if len(data)==0:\n",
    "            retry_cnt += 1\n",
    "            continue\n",
    "        insert_json =[ trades.convert_shape(_data,\"json\") for _data in data ]\n",
    "        mongo_db.insert_many(insert_json)\n",
    "        retry_cnt = 0\n",
    "    except Exception as e:\n",
    "        retry_cnt += 1\n",
    "        print(\"ERROR\",e)\n",
    "        if retry_cnt < max_retry_cnt:\n",
    "            continue\n",
    "        print(\"END\",e)\n",
    "        break\n"
   ]
  },
  {
   "cell_type": "code",
   "execution_count": null,
   "metadata": {},
   "outputs": [],
   "source": [
    "trades.disconnect()"
   ]
  },
  {
   "cell_type": "code",
   "execution_count": null,
   "metadata": {},
   "outputs": [],
   "source": []
  },
  {
   "cell_type": "code",
   "execution_count": null,
   "metadata": {},
   "outputs": [],
   "source": []
  },
  {
   "cell_type": "code",
   "execution_count": null,
   "metadata": {},
   "outputs": [],
   "source": []
  },
  {
   "cell_type": "code",
   "execution_count": null,
   "metadata": {},
   "outputs": [],
   "source": []
  },
  {
   "cell_type": "code",
   "execution_count": null,
   "metadata": {},
   "outputs": [],
   "source": []
  }
 ]
}