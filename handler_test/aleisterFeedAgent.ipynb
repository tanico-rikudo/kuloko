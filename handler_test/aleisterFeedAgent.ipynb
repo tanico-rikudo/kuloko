{
 "cells": [
  {
   "cell_type": "code",
   "execution_count": 1,
   "metadata": {},
   "outputs": [],
   "source": [
    "%load_ext autoreload\n",
    "%autoreload 2"
   ]
  },
  {
   "cell_type": "code",
   "execution_count": null,
   "metadata": {},
   "outputs": [],
   "source": []
  },
  {
   "cell_type": "code",
   "execution_count": null,
   "metadata": {},
   "outputs": [],
   "source": []
  },
  {
   "cell_type": "code",
   "execution_count": 3,
   "metadata": {},
   "outputs": [],
   "source": [
    "from aleister_producer  import AleisterFeedAgent"
   ]
  },
  {
   "cell_type": "code",
   "execution_count": 4,
   "metadata": {},
   "outputs": [],
   "source": [
    "afa = AleisterFeedAgent()"
   ]
  },
  {
   "cell_type": "code",
   "execution_count": 5,
   "metadata": {},
   "outputs": [],
   "source": [
    "afa.setup_data_provider()"
   ]
  },
  {
   "cell_type": "code",
   "execution_count": null,
   "metadata": {},
   "outputs": [],
   "source": []
  },
  {
   "cell_type": "code",
   "execution_count": 5,
   "metadata": {},
   "outputs": [],
   "source": [
    "\n"
   ]
  },
  {
   "cell_type": "code",
   "execution_count": null,
   "metadata": {},
   "outputs": [],
   "source": [
    "afa.subscribe_realtime_data()"
   ]
  },
  {
   "cell_type": "code",
   "execution_count": null,
   "metadata": {},
   "outputs": [],
   "source": [
    "afa.stop_subscribe_realtime_data()"
   ]
  },
  {
   "cell_type": "code",
   "execution_count": null,
   "metadata": {},
   "outputs": [],
   "source": []
  },
  {
   "cell_type": "code",
   "execution_count": null,
   "metadata": {},
   "outputs": [],
   "source": []
  },
  {
   "cell_type": "code",
   "execution_count": 11,
   "metadata": {},
   "outputs": [],
   "source": [
    "afa.init_db()"
   ]
  },
  {
   "cell_type": "code",
   "execution_count": 29,
   "metadata": {},
   "outputs": [],
   "source": [
    "data = afa.fetch_hist_realtime_data(20211201,20211211, ['orderbook'])[20211209]['orderbook']"
   ]
  },
  {
   "cell_type": "code",
   "execution_count": null,
   "metadata": {},
   "outputs": [],
   "source": []
  },
  {
   "cell_type": "code",
   "execution_count": 5,
   "metadata": {},
   "outputs": [
    {
     "ename": "AttributeError",
     "evalue": "'NoneType' object has no attribute 'dao'",
     "output_type": "error",
     "traceback": [
      "\u001b[0;31m---------------------------------------------------------------------------\u001b[0m",
      "\u001b[0;31mAttributeError\u001b[0m                            Traceback (most recent call last)",
      "\u001b[0;32m/var/folders/wh/fbndz0bn4vv4gvq6jz0b3czc0000gn/T/ipykernel_19675/1936272828.py\u001b[0m in \u001b[0;36m<module>\u001b[0;34m\u001b[0m\n\u001b[0;32m----> 1\u001b[0;31m \u001b[0mafa\u001b[0m\u001b[0;34m.\u001b[0m\u001b[0mdb_accesser\u001b[0m\u001b[0;34m.\u001b[0m\u001b[0mdao\u001b[0m\u001b[0;34m.\u001b[0m\u001b[0mfind_one\u001b[0m\u001b[0;34m(\u001b[0m\u001b[0;34m\"orderbook\"\u001b[0m\u001b[0;34m)\u001b[0m\u001b[0;34m\u001b[0m\u001b[0;34m\u001b[0m\u001b[0m\n\u001b[0m",
      "\u001b[0;31mAttributeError\u001b[0m: 'NoneType' object has no attribute 'dao'"
     ]
    }
   ],
   "source": [
    "afa.db_accesser.dao.find_one(\"orderbook\")"
   ]
  },
  {
   "cell_type": "code",
   "execution_count": null,
   "metadata": {},
   "outputs": [],
   "source": []
  },
  {
   "cell_type": "code",
   "execution_count": 10,
   "metadata": {},
   "outputs": [],
   "source": [
    "afa.start_realtime_fetch()"
   ]
  },
  {
   "cell_type": "code",
   "execution_count": 7,
   "metadata": {},
   "outputs": [
    {
     "name": "stdout",
     "output_type": "stream",
     "text": [
      " [x] Awaiting RPC requests\n"
     ]
    },
    {
     "ename": "NameError",
     "evalue": "name 'self' is not defined",
     "output_type": "error",
     "traceback": [
      "\u001b[0;31m---------------------------------------------------------------------------\u001b[0m",
      "\u001b[0;31mNameError\u001b[0m                                 Traceback (most recent call last)",
      "\u001b[0;32m/var/folders/wh/fbndz0bn4vv4gvq6jz0b3czc0000gn/T/ipykernel_34519/542613675.py\u001b[0m in \u001b[0;36m<module>\u001b[0;34m\u001b[0m\n\u001b[1;32m     35\u001b[0m \u001b[0;34m\u001b[0m\u001b[0m\n\u001b[1;32m     36\u001b[0m \u001b[0mprint\u001b[0m\u001b[0;34m(\u001b[0m\u001b[0;34m\" [x] Awaiting RPC requests\"\u001b[0m\u001b[0;34m)\u001b[0m\u001b[0;34m\u001b[0m\u001b[0;34m\u001b[0m\u001b[0m\n\u001b[0;32m---> 37\u001b[0;31m \u001b[0mchannel\u001b[0m\u001b[0;34m.\u001b[0m\u001b[0mstart_consuming\u001b[0m\u001b[0;34m(\u001b[0m\u001b[0;34m)\u001b[0m\u001b[0;34m\u001b[0m\u001b[0;34m\u001b[0m\u001b[0m\n\u001b[0m",
      "\u001b[0;32m~/.pyenv/versions/3.7.6/envs/py37/lib/python3.7/site-packages/pika/adapters/blocking_connection.py\u001b[0m in \u001b[0;36mstart_consuming\u001b[0;34m(self)\u001b[0m\n\u001b[1;32m   1863\u001b[0m         \u001b[0;32mwhile\u001b[0m \u001b[0mself\u001b[0m\u001b[0;34m.\u001b[0m\u001b[0m_consumer_infos\u001b[0m\u001b[0;34m:\u001b[0m\u001b[0;34m\u001b[0m\u001b[0;34m\u001b[0m\u001b[0m\n\u001b[1;32m   1864\u001b[0m             \u001b[0;31m# This will raise ChannelClosed if channel is closed by broker\u001b[0m\u001b[0;34m\u001b[0m\u001b[0;34m\u001b[0m\u001b[0;34m\u001b[0m\u001b[0m\n\u001b[0;32m-> 1865\u001b[0;31m             \u001b[0mself\u001b[0m\u001b[0;34m.\u001b[0m\u001b[0m_process_data_events\u001b[0m\u001b[0;34m(\u001b[0m\u001b[0mtime_limit\u001b[0m\u001b[0;34m=\u001b[0m\u001b[0;32mNone\u001b[0m\u001b[0;34m)\u001b[0m\u001b[0;34m\u001b[0m\u001b[0;34m\u001b[0m\u001b[0m\n\u001b[0m\u001b[1;32m   1866\u001b[0m \u001b[0;34m\u001b[0m\u001b[0m\n\u001b[1;32m   1867\u001b[0m     \u001b[0;32mdef\u001b[0m \u001b[0mstop_consuming\u001b[0m\u001b[0;34m(\u001b[0m\u001b[0mself\u001b[0m\u001b[0;34m,\u001b[0m \u001b[0mconsumer_tag\u001b[0m\u001b[0;34m=\u001b[0m\u001b[0;32mNone\u001b[0m\u001b[0;34m)\u001b[0m\u001b[0;34m:\u001b[0m\u001b[0;34m\u001b[0m\u001b[0;34m\u001b[0m\u001b[0m\n",
      "\u001b[0;32m~/.pyenv/versions/3.7.6/envs/py37/lib/python3.7/site-packages/pika/adapters/blocking_connection.py\u001b[0m in \u001b[0;36m_process_data_events\u001b[0;34m(self, time_limit)\u001b[0m\n\u001b[1;32m   2024\u001b[0m \u001b[0;34m\u001b[0m\u001b[0m\n\u001b[1;32m   2025\u001b[0m         \"\"\"\n\u001b[0;32m-> 2026\u001b[0;31m         \u001b[0mself\u001b[0m\u001b[0;34m.\u001b[0m\u001b[0mconnection\u001b[0m\u001b[0;34m.\u001b[0m\u001b[0mprocess_data_events\u001b[0m\u001b[0;34m(\u001b[0m\u001b[0mtime_limit\u001b[0m\u001b[0;34m=\u001b[0m\u001b[0mtime_limit\u001b[0m\u001b[0;34m)\u001b[0m\u001b[0;34m\u001b[0m\u001b[0;34m\u001b[0m\u001b[0m\n\u001b[0m\u001b[1;32m   2027\u001b[0m         if self.is_closed and isinstance(self._closing_reason,\n\u001b[1;32m   2028\u001b[0m                                          exceptions.ChannelClosedByBroker):\n",
      "\u001b[0;32m~/.pyenv/versions/3.7.6/envs/py37/lib/python3.7/site-packages/pika/adapters/blocking_connection.py\u001b[0m in \u001b[0;36mprocess_data_events\u001b[0;34m(self, time_limit)\u001b[0m\n\u001b[1;32m    831\u001b[0m \u001b[0;34m\u001b[0m\u001b[0m\n\u001b[1;32m    832\u001b[0m         \u001b[0;32mif\u001b[0m \u001b[0mself\u001b[0m\u001b[0;34m.\u001b[0m\u001b[0m_channels_pending_dispatch\u001b[0m\u001b[0;34m:\u001b[0m\u001b[0;34m\u001b[0m\u001b[0;34m\u001b[0m\u001b[0m\n\u001b[0;32m--> 833\u001b[0;31m             \u001b[0mself\u001b[0m\u001b[0;34m.\u001b[0m\u001b[0m_dispatch_channel_events\u001b[0m\u001b[0;34m(\u001b[0m\u001b[0;34m)\u001b[0m\u001b[0;34m\u001b[0m\u001b[0;34m\u001b[0m\u001b[0m\n\u001b[0m\u001b[1;32m    834\u001b[0m \u001b[0;34m\u001b[0m\u001b[0m\n\u001b[1;32m    835\u001b[0m     \u001b[0;32mdef\u001b[0m \u001b[0msleep\u001b[0m\u001b[0;34m(\u001b[0m\u001b[0mself\u001b[0m\u001b[0;34m,\u001b[0m \u001b[0mduration\u001b[0m\u001b[0;34m)\u001b[0m\u001b[0;34m:\u001b[0m\u001b[0;34m\u001b[0m\u001b[0;34m\u001b[0m\u001b[0m\n",
      "\u001b[0;32m~/.pyenv/versions/3.7.6/envs/py37/lib/python3.7/site-packages/pika/adapters/blocking_connection.py\u001b[0m in \u001b[0;36m_dispatch_channel_events\u001b[0;34m(self)\u001b[0m\n\u001b[1;32m    565\u001b[0m \u001b[0;34m\u001b[0m\u001b[0m\n\u001b[1;32m    566\u001b[0m                 \u001b[0;32mif\u001b[0m \u001b[0mimpl_channel\u001b[0m\u001b[0;34m.\u001b[0m\u001b[0mis_open\u001b[0m\u001b[0;34m:\u001b[0m\u001b[0;34m\u001b[0m\u001b[0;34m\u001b[0m\u001b[0m\n\u001b[0;32m--> 567\u001b[0;31m                     \u001b[0mimpl_channel\u001b[0m\u001b[0;34m.\u001b[0m\u001b[0m_get_cookie\u001b[0m\u001b[0;34m(\u001b[0m\u001b[0;34m)\u001b[0m\u001b[0;34m.\u001b[0m\u001b[0m_dispatch_events\u001b[0m\u001b[0;34m(\u001b[0m\u001b[0;34m)\u001b[0m\u001b[0;34m\u001b[0m\u001b[0;34m\u001b[0m\u001b[0m\n\u001b[0m\u001b[1;32m    568\u001b[0m \u001b[0;34m\u001b[0m\u001b[0m\n\u001b[1;32m    569\u001b[0m     \u001b[0;32mdef\u001b[0m \u001b[0m_on_timer_ready\u001b[0m\u001b[0;34m(\u001b[0m\u001b[0mself\u001b[0m\u001b[0;34m,\u001b[0m \u001b[0mevt\u001b[0m\u001b[0;34m)\u001b[0m\u001b[0;34m:\u001b[0m\u001b[0;34m\u001b[0m\u001b[0;34m\u001b[0m\u001b[0m\n",
      "\u001b[0;32m~/.pyenv/versions/3.7.6/envs/py37/lib/python3.7/site-packages/pika/adapters/blocking_connection.py\u001b[0m in \u001b[0;36m_dispatch_events\u001b[0;34m(self)\u001b[0m\n\u001b[1;32m   1491\u001b[0m                 \u001b[0mconsumer_info\u001b[0m \u001b[0;34m=\u001b[0m \u001b[0mself\u001b[0m\u001b[0;34m.\u001b[0m\u001b[0m_consumer_infos\u001b[0m\u001b[0;34m[\u001b[0m\u001b[0mevt\u001b[0m\u001b[0;34m.\u001b[0m\u001b[0mmethod\u001b[0m\u001b[0;34m.\u001b[0m\u001b[0mconsumer_tag\u001b[0m\u001b[0;34m]\u001b[0m\u001b[0;34m\u001b[0m\u001b[0;34m\u001b[0m\u001b[0m\n\u001b[1;32m   1492\u001b[0m                 consumer_info.on_message_callback(self, evt.method,\n\u001b[0;32m-> 1493\u001b[0;31m                                                   evt.properties, evt.body)\n\u001b[0m\u001b[1;32m   1494\u001b[0m \u001b[0;34m\u001b[0m\u001b[0m\n\u001b[1;32m   1495\u001b[0m             \u001b[0;32melif\u001b[0m \u001b[0mtype\u001b[0m\u001b[0;34m(\u001b[0m\u001b[0mevt\u001b[0m\u001b[0;34m)\u001b[0m \u001b[0;32mis\u001b[0m \u001b[0m_ConsumerCancellationEvt\u001b[0m\u001b[0;34m:\u001b[0m  \u001b[0;31m# pylint: disable=C0123\u001b[0m\u001b[0;34m\u001b[0m\u001b[0;34m\u001b[0m\u001b[0m\n",
      "\u001b[0;32m/var/folders/wh/fbndz0bn4vv4gvq6jz0b3czc0000gn/T/ipykernel_34519/542613675.py\u001b[0m in \u001b[0;36mon_request\u001b[0;34m(ch, method, props, body)\u001b[0m\n\u001b[1;32m     18\u001b[0m \u001b[0;34m\u001b[0m\u001b[0m\n\u001b[1;32m     19\u001b[0m \u001b[0;32mdef\u001b[0m \u001b[0mon_request\u001b[0m\u001b[0;34m(\u001b[0m\u001b[0mch\u001b[0m\u001b[0;34m,\u001b[0m \u001b[0mmethod\u001b[0m\u001b[0;34m,\u001b[0m \u001b[0mprops\u001b[0m\u001b[0;34m,\u001b[0m \u001b[0mbody\u001b[0m\u001b[0;34m)\u001b[0m\u001b[0;34m:\u001b[0m\u001b[0;34m\u001b[0m\u001b[0;34m\u001b[0m\u001b[0m\n\u001b[0;32m---> 20\u001b[0;31m     \u001b[0mself\u001b[0m\u001b[0;34m.\u001b[0m\u001b[0mlogger\u001b[0m\u001b[0;34m.\u001b[0m\u001b[0minfo\u001b[0m\u001b[0;34m(\u001b[0m\u001b[0;34mf\"[DONE] via MQ. Host={method}, pro:{props}, cd:{ch}\"\u001b[0m\u001b[0;34m)\u001b[0m\u001b[0;34m\u001b[0m\u001b[0;34m\u001b[0m\u001b[0m\n\u001b[0m\u001b[1;32m     21\u001b[0m     \u001b[0mn\u001b[0m \u001b[0;34m=\u001b[0m \u001b[0mint\u001b[0m\u001b[0;34m(\u001b[0m\u001b[0mbody\u001b[0m\u001b[0;34m)\u001b[0m\u001b[0;34m\u001b[0m\u001b[0;34m\u001b[0m\u001b[0m\n\u001b[1;32m     22\u001b[0m \u001b[0;34m\u001b[0m\u001b[0m\n",
      "\u001b[0;31mNameError\u001b[0m: name 'self' is not defined"
     ]
    }
   ],
   "source": [
    "#!/usr/bin/env python\n",
    "import pika\n",
    "\n",
    "connection = pika.BlockingConnection(\n",
    "    pika.ConnectionParameters(host='localhost'))\n",
    "\n",
    "channel = connection.channel()\n",
    "\n",
    "channel.queue_declare(queue='aleister')\n",
    "\n",
    "def fib(n):\n",
    "    if n == 0:\n",
    "        return 0\n",
    "    elif n == 1:\n",
    "        return 1\n",
    "    else:\n",
    "        return fib(n - 1) + fib(n - 2)\n",
    "\n",
    "def on_request(ch, method, props, body):\n",
    "    self.logger.info(f\"[DONE] via MQ. Host={method}, pro:{props}, cd:{ch}\")\n",
    "    n = int(body)\n",
    "\n",
    "    print(\" [.] fib(%s)\" % n)\n",
    "    response = fib(n)\n",
    "\n",
    "    ch.basic_publish(exchange='',\n",
    "                     routing_key=props.reply_to,\n",
    "                     properties=pika.BasicProperties(correlation_id = \\\n",
    "                                                         props.correlation_id),\n",
    "                     body=str(response))\n",
    "    ch.basic_ack(delivery_tag=method.delivery_tag)\n",
    "\n",
    "channel.basic_qos(prefetch_count=1)\n",
    "channel.basic_consume(queue='aleister', on_message_callback=on_request)\n",
    "\n",
    "print(\" [x] Awaiting RPC requests\")\n",
    "channel.start_consuming()"
   ]
  },
  {
   "cell_type": "code",
   "execution_count": 8,
   "metadata": {},
   "outputs": [
    {
     "name": "stdout",
     "output_type": "stream",
     "text": [
      "[x]Waiting message...\n",
      "MessageWorker get message ------ b'{\"orderbook\": [{\"time\": \"20211209064344046000\", \"symbol\": \"BTC\", \"bids0\": 5483120.0, \"bids0_size\": 0.0125, \"bids1\": 5483072.0, \"bids1_size\": 0.088, \"bids2\": 5483050.0, \"bids2_size\": 0.04, \"bids3\": 5483040.0, \"bids3_size\": 0.1625, \"bids4\": 5482961.0, \"bids4_size\": 0.0291, \"asks0\": 5486394.0, \"asks0_size\": 0.0003, \"asks1\": 5486750.0, \"asks1_size\": 2.5, \"asks2\": 5487200.0, \"asks2_size\": 0.2, \"asks3\": 5487350.0, \"asks3_size\": 0.4, \"asks4\": 5487400.0, \"asks4_size\": 0.5}, {\"time\": \"20211209064344552000\", \"symbol\": \"BTC\", \"bids0\": 5483200.0, \"bids0_size\": 0.0125, \"bids1\": 5483120.0, \"bids1_size\": 0.0125, \"bids2\": 5483078.0, \"bids2_size\": 0.088, \"bids3\": 5483050.0, \"bids3_size\": 0.04, \"bids4\": 5483041.0, \"bids4_size\": 0.0191, \"asks0\": 5486394.0, \"asks0_size\": 0.0003, \"asks1\": 5486900.0, \"asks1_size\": 2.5, \"asks2\": 5487000.0, \"asks2_size\": 0.1, \"asks3\": 5487150.0, \"asks3_size\": 0.1, \"asks4\": 5487200.0, \"asks4_size\": 0.5}, {\"time\": \"20211209064345059000\", \"symbol\": \"BTC\", \"bids0\": 5483242.0, \"bids0_size\": 0.088, \"bids1\": 5483200.0, \"bids1_size\": 0.0125, \"bids2\": 5483150.0, \"bids2_size\": 0.04, \"bids3\": 5483123.0, \"bids3_size\": 0.09, \"bids4\": 5483120.0, \"bids4_size\": 0.1625, \"asks0\": 5486394.0, \"asks0_size\": 0.0003, \"asks1\": 5486900.0, \"asks1_size\": 2.5, \"asks2\": 5487000.0, \"asks2_size\": 0.1, \"asks3\": 5487050.0, \"asks3_size\": 0.4, \"asks4\": 5487350.0, \"asks4_size\": 2.0}, {\"time\": \"20211209064345565000\", \"symbol\": \"BTC\", \"bids0\": 5483280.0, \"bids0_size\": 0.0125, \"bids1\": 5483250.0, \"bids1_size\": 0.19, \"bids2\": 5483232.0, \"bids2_size\": 0.088, \"bids3\": 5483201.0, \"bids3_size\": 0.0758, \"bids4\": 5483123.0, \"bids4_size\": 0.09, \"asks0\": 5486394.0, \"asks0_size\": 0.0003, \"asks1\": 5486850.0, \"asks1_size\": 2.5, \"asks2\": 5487300.0, \"asks2_size\": 0.1, \"asks3\": 5487350.0, \"asks3_size\": 0.4, \"asks4\": 5487400.0, \"asks4_size\": 0.1}, {\"time\": \"20211209064346072000\", \"symbol\": \"BTC\", \"bids0\": 5483360.0, \"bids0_size\": 0.0125, \"bids1\": 5483301.0, \"bids1_size\": 0.09, \"bids2\": 5483300.0, \"bids2_size\": 0.04, \"bids3\": 5483281.0, \"bids3_size\": 0.218, \"bids4\": 5483280.0, \"bids4_size\": 0.2505, \"asks0\": 5486394.0, \"asks0_size\": 0.0003, \"asks1\": 5486800.0, \"asks1_size\": 2.5, \"asks2\": 5487300.0, \"asks2_size\": 0.1, \"asks3\": 5487350.0, \"asks3_size\": 0.4, \"asks4\": 5487400.0, \"asks4_size\": 0.1}, {\"time\": \"20211209064346579000\", \"symbol\": \"BTC\", \"bids0\": 5483440.0, \"bids0_size\": 0.0125, \"bids1\": 5483360.0, \"bids1_size\": 0.1625, \"bids2\": 5483301.0, \"bids2_size\": 0.09, \"bids3\": 5483300.0, \"bids3_size\": 0.04, \"bids4\": 5483281.0, \"bids4_size\": 0.2471, \"asks0\": 5486394.0, \"asks0_size\": 0.0003, \"asks1\": 5486850.0, \"asks1_size\": 2.5, \"asks2\": 5487100.0, \"asks2_size\": 0.6, \"asks3\": 5487350.0, \"asks3_size\": 0.1, \"asks4\": 5487400.0, \"asks4_size\": 0.4}, {\"time\": \"20211209064347085000\", \"symbol\": \"BTC\", \"bids0\": 5483440.0, \"bids0_size\": 0.0125, \"bids1\": 5483400.0, \"bids1_size\": 0.04, \"bids2\": 5483360.0, \"bids2_size\": 0.1625, \"bids3\": 5483301.0, \"bids3_size\": 0.09, \"bids4\": 5483281.0, \"bids4_size\": 0.0291, \"asks0\": 5486394.0, \"asks0_size\": 0.0003, \"asks1\": 5486550.0, \"asks1_size\": 0.1, \"asks2\": 5486650.0, \"asks2_size\": 0.4, \"asks3\": 5486850.0, \"asks3_size\": 2.5, \"asks4\": 5486950.0, \"asks4_size\": 2.0}, {\"time\": \"20211209064347592000\", \"symbol\": \"BTC\", \"bids0\": 5483450.0, \"bids0_size\": 0.04, \"bids1\": 5483441.0, \"bids1_size\": 0.0291, \"bids2\": 5483440.0, \"bids2_size\": 0.0125, \"bids3\": 5483360.0, \"bids3_size\": 0.0125, \"bids4\": 5483301.0, \"bids4_size\": 0.09, \"asks0\": 5486394.0, \"asks0_size\": 0.0003, \"asks1\": 5486450.0, \"asks1_size\": 0.1, \"asks2\": 5486550.0, \"asks2_size\": 0.4, \"asks3\": 5486900.0, \"asks3_size\": 2.5, \"asks4\": 5486950.0, \"asks4_size\": 0.1}, {\"time\": \"20211209064347705000\", \"symbol\": \"BTC\", \"bids0\": 5483450.0, \"bids0_size\": 0.04, \"bids1\": 5483441.0, \"bids1_size\": 0.0291, \"bids2\": 5483440.0, \"bids2_size\": 0.0125, \"bids3\": 5483360.0, \"bids3_size\": 0.0125, \"bids4\": 5483301.0, \"bids4_size\": 0.09, \"asks0\": 5486394.0, \"asks0_size\": 0.0003, \"asks1\": 5486450.0, \"asks1_size\": 0.1, \"asks2\": 5486550.0, \"asks2_size\": 0.4, \"asks3\": 5486900.0, \"asks3_size\": 2.5, \"asks4\": 5486950.0, \"asks4_size\": 0.1}, {\"time\": \"20211209064348098000\", \"symbol\": \"BTC\", \"bids0\": 5483520.0, \"bids0_size\": 0.0125, \"bids1\": 5483450.0, \"bids1_size\": 0.04, \"bids2\": 5483441.0, \"bids2_size\": 0.0291, \"bids3\": 5483360.0, \"bids3_size\": 0.0125, \"bids4\": 5483301.0, \"bids4_size\": 0.09, \"asks0\": 5486394.0, \"asks0_size\": 0.0003, \"asks1\": 5486450.0, \"asks1_size\": 0.1, \"asks2\": 5486550.0, \"asks2_size\": 0.4, \"asks3\": 5486850.0, \"asks3_size\": 2.0, \"asks4\": 5486900.0, \"asks4_size\": 2.5}, {\"time\": \"20211209064348603000\", \"symbol\": \"BTC\", \"bids0\": 5483520.0, \"bids0_size\": 0.0125, \"bids1\": 5483451.0, \"bids1_size\": 0.0291, \"bids2\": 5483450.0, \"bids2_size\": 0.04, \"bids3\": 5483360.0, \"bids3_size\": 0.0125, \"bids4\": 5483301.0, \"bids4_size\": 0.09, \"asks0\": 5486050.0, \"asks0_size\": 2.5, \"asks1\": 5486350.0, \"asks1_size\": 0.1, \"asks2\": 5486394.0, \"asks2_size\": 0.0003, \"asks3\": 5486400.0, \"asks3_size\": 0.4, \"asks4\": 5486750.0, \"asks4_size\": 2.0}, {\"time\": \"20211209064349109000\", \"symbol\": \"BTC\", \"bids0\": 5483550.0, \"bids0_size\": 0.04, \"bids1\": 5483521.0, \"bids1_size\": 0.015, \"bids2\": 5483520.0, \"bids2_size\": 0.0125, \"bids3\": 5483501.0, \"bids3_size\": 0.09, \"bids4\": 5483451.0, \"bids4_size\": 0.0291, \"asks0\": 5486350.0, \"asks0_size\": 0.1, \"asks1\": 5486394.0, \"asks1_size\": 0.0003, \"asks2\": 5486400.0, \"asks2_size\": 0.4, \"asks3\": 5486750.0, \"asks3_size\": 2.0, \"asks4\": 5486950.0, \"asks4_size\": 0.1}, {\"time\": \"20211209064349615000\", \"symbol\": \"BTC\", \"bids0\": 5483600.0, \"bids0_size\": 0.0125, \"bids1\": 5483550.0, \"bids1_size\": 0.04, \"bids2\": 5483521.0, \"bids2_size\": 0.0191, \"bids3\": 5483520.0, \"bids3_size\": 0.0125, \"bids4\": 5483501.0, \"bids4_size\": 0.09, \"asks0\": 5486394.0, \"asks0_size\": 0.0003, \"asks1\": 5486400.0, \"asks1_size\": 0.1, \"asks2\": 5486450.0, \"asks2_size\": 0.4, \"asks3\": 5486750.0, \"asks3_size\": 2.0, \"asks4\": 5486950.0, \"asks4_size\": 0.1}, {\"time\": \"20211209064350122000\", \"symbol\": \"BTC\", \"bids0\": 5483600.0, \"bids0_size\": 0.0125, \"bids1\": 5483521.0, \"bids1_size\": 0.0291, \"bids2\": 5483520.0, \"bids2_size\": 0.0125, \"bids3\": 5483501.0, \"bids3_size\": 0.09, \"bids4\": 5482171.0, \"bids4_size\": 0.0567, \"asks0\": 5486200.0, \"asks0_size\": 0.1, \"asks1\": 5486300.0, \"asks1_size\": 0.4, \"asks2\": 5486394.0, \"asks2_size\": 0.0003, \"asks3\": 5486400.0, \"asks3_size\": 0.1, \"asks4\": 5486600.0, \"asks4_size\": 2.0}, {\"time\": \"20211209064350628000\", \"symbol\": \"BTC\", \"bids0\": 5483650.0, \"bids0_size\": 0.04, \"bids1\": 5483601.0, \"bids1_size\": 0.0191, \"bids2\": 5483600.0, \"bids2_size\": 0.0125, \"bids3\": 5483521.0, \"bids3_size\": 0.01, \"bids4\": 5483520.0, \"bids4_size\": 0.0125, \"asks0\": 5486300.0, \"asks0_size\": 0.4, \"asks1\": 5486394.0, \"asks1_size\": 0.0003, \"asks2\": 5486500.0, \"asks2_size\": 0.1, \"asks3\": 5486600.0, \"asks3_size\": 2.0, \"asks4\": 5486700.0, \"asks4_size\": 2.5}, {\"time\": \"20211209064351134000\", \"symbol\": \"BTC\", \"bids0\": 5483700.0, \"bids0_size\": 0.15, \"bids1\": 5483680.0, \"bids1_size\": 0.0125, \"bids2\": 5483601.0, \"bids2_size\": 0.0291, \"bids3\": 5483600.0, \"bids3_size\": 0.0125, \"bids4\": 5483501.0, \"bids4_size\": 0.09, \"asks0\": 5486394.0, \"asks0_size\": 0.0003, \"asks1\": 5486500.0, \"asks1_size\": 0.1, \"asks2\": 5486550.0, \"asks2_size\": 0.4, \"asks3\": 5486700.0, \"asks3_size\": 2.5, \"asks4\": 5486750.0, \"asks4_size\": 0.1}, {\"time\": \"20211209064351640000\", \"symbol\": \"BTC\", \"bids0\": 5483760.0, \"bids0_size\": 0.0125, \"bids1\": 5483680.0, \"bids1_size\": 0.0125, \"bids2\": 5483651.0, \"bids2_size\": 0.0291, \"bids3\": 5482171.0, \"bids3_size\": 0.0567, \"bids4\": 5481000.0, \"bids4_size\": 0.0073, \"asks0\": 5486394.0, \"asks0_size\": 0.0003, \"asks1\": 5486500.0, \"asks1_size\": 0.1, \"asks2\": 5486550.0, \"asks2_size\": 0.4, \"asks3\": 5486700.0, \"asks3_size\": 2.5, \"asks4\": 5486750.0, \"asks4_size\": 0.1}, {\"time\": \"20211209064352146000\", \"symbol\": \"BTC\", \"bids0\": 5483760.0, \"bids0_size\": 0.0125, \"bids1\": 5483651.0, \"bids1_size\": 0.01, \"bids2\": 5482240.0, \"bids2_size\": 0.0125, \"bids3\": 5482171.0, \"bids3_size\": 0.0567, \"bids4\": 5481000.0, \"bids4_size\": 0.0073, \"asks0\": 5485350.0, \"asks0_size\": 2.0, \"asks1\": 5485500.0, \"asks1_size\": 2.5, \"asks2\": 5485900.0, \"asks2_size\": 0.5, \"asks3\": 5486150.0, \"asks3_size\": 0.1, \"asks4\": 5486350.0, \"asks4_size\": 0.1}, {\"time\": \"20211209064352652000\", \"symbol\": \"BTC\", \"bids0\": 5483651.0, \"bids0_size\": 0.01, \"bids1\": 5482320.0, \"bids1_size\": 0.0125, \"bids2\": 5482240.0, \"bids2_size\": 0.0125, \"bids3\": 5482171.0, \"bids3_size\": 0.0567, \"bids4\": 5481000.0, \"bids4_size\": 0.0073, \"asks0\": 5485200.0, \"asks0_size\": 2.0, \"asks1\": 5485450.0, \"asks1_size\": 0.1, \"asks2\": 5485500.0, \"asks2_size\": 2.5, \"asks3\": 5485600.0, \"asks3_size\": 1.0, \"asks4\": 5485750.0, \"asks4_size\": 1.1}, {\"time\": \"20211209064352742000\", \"symbol\": \"BTC\", \"bids0\": 5483651.0, \"bids0_size\": 0.01, \"bids1\": 5482320.0, \"bids1_size\": 0.0125, \"bids2\": 5482240.0, \"bids2_size\": 0.0125, \"bids3\": 5482171.0, \"bids3_size\": 0.0567, \"bids4\": 5481000.0, \"bids4_size\": 0.0073, \"asks0\": 5485200.0, \"asks0_size\": 2.0, \"asks1\": 5485450.0, \"asks1_size\": 0.1, \"asks2\": 5485500.0, \"asks2_size\": 2.5, \"asks3\": 5485600.0, \"asks3_size\": 1.0, \"asks4\": 5485750.0, \"asks4_size\": 1.1}, {\"time\": \"20211209064353661000\", \"symbol\": \"BTC\", \"bids0\": 5483761.0, \"bids0_size\": 0.01, \"bids1\": 5482320.0, \"bids1_size\": 0.0125, \"bids2\": 5482240.0, \"bids2_size\": 0.0125, \"bids3\": 5481001.0, \"bids3_size\": 0.0567, \"bids4\": 5481000.0, \"bids4_size\": 0.0073, \"asks0\": 5485200.0, \"asks0_size\": 2.0, \"asks1\": 5485250.0, \"asks1_size\": 2.5, \"asks2\": 5485350.0, \"asks2_size\": 2.0, \"asks3\": 5485500.0, \"asks3_size\": 0.1, \"asks4\": 5485550.0, \"asks4_size\": 2.0}], \"trade\": null, \"ticker\": null, \"margin\": {\"actualProfitLoss\": 364145.0, \"availableAmount\": 364145.0, \"margin\": 0.0, \"marginCallStatus\": \"NORMAL\", \"profitLoss\": 0.0}}'\n",
      "MessageWorker callback on queue ------ None\n"
     ]
    },
    {
     "ename": "AssertionError",
     "evalue": "A non-string value was supplied for self.routing_key",
     "output_type": "error",
     "traceback": [
      "\u001b[0;31m---------------------------------------------------------------------------\u001b[0m",
      "\u001b[0;31mAssertionError\u001b[0m                            Traceback (most recent call last)",
      "\u001b[0;32m/var/folders/wh/fbndz0bn4vv4gvq6jz0b3czc0000gn/T/ipykernel_34519/519306180.py\u001b[0m in \u001b[0;36m<module>\u001b[0;34m\u001b[0m\n\u001b[1;32m     33\u001b[0m \u001b[0;34m\u001b[0m\u001b[0m\n\u001b[1;32m     34\u001b[0m \u001b[0mworker\u001b[0m \u001b[0;34m=\u001b[0m \u001b[0mMessageWorker\u001b[0m\u001b[0;34m(\u001b[0m\u001b[0;34m)\u001b[0m\u001b[0;34m\u001b[0m\u001b[0;34m\u001b[0m\u001b[0m\n\u001b[0;32m---> 35\u001b[0;31m \u001b[0mworker\u001b[0m\u001b[0;34m.\u001b[0m\u001b[0mwork\u001b[0m\u001b[0;34m(\u001b[0m\u001b[0;34m)\u001b[0m\u001b[0;34m\u001b[0m\u001b[0;34m\u001b[0m\u001b[0m\n\u001b[0m",
      "\u001b[0;32m/var/folders/wh/fbndz0bn4vv4gvq6jz0b3czc0000gn/T/ipykernel_34519/519306180.py\u001b[0m in \u001b[0;36mwork\u001b[0;34m(self)\u001b[0m\n\u001b[1;32m     23\u001b[0m         \u001b[0mself\u001b[0m\u001b[0;34m.\u001b[0m\u001b[0mchannel\u001b[0m\u001b[0;34m.\u001b[0m\u001b[0mbasic_consume\u001b[0m\u001b[0;34m(\u001b[0m\u001b[0mon_message_callback\u001b[0m\u001b[0;34m=\u001b[0m\u001b[0mself\u001b[0m\u001b[0;34m.\u001b[0m\u001b[0mon_request\u001b[0m\u001b[0;34m,\u001b[0m \u001b[0mqueue\u001b[0m\u001b[0;34m=\u001b[0m\u001b[0;34m'aleister'\u001b[0m\u001b[0;34m)\u001b[0m\u001b[0;34m\u001b[0m\u001b[0;34m\u001b[0m\u001b[0m\n\u001b[1;32m     24\u001b[0m         \u001b[0mprint\u001b[0m\u001b[0;34m(\u001b[0m\u001b[0;34m'[x]Waiting message...'\u001b[0m\u001b[0;34m)\u001b[0m\u001b[0;34m\u001b[0m\u001b[0;34m\u001b[0m\u001b[0m\n\u001b[0;32m---> 25\u001b[0;31m         \u001b[0mself\u001b[0m\u001b[0;34m.\u001b[0m\u001b[0mchannel\u001b[0m\u001b[0;34m.\u001b[0m\u001b[0mstart_consuming\u001b[0m\u001b[0;34m(\u001b[0m\u001b[0;34m)\u001b[0m\u001b[0;34m\u001b[0m\u001b[0;34m\u001b[0m\u001b[0m\n\u001b[0m\u001b[1;32m     26\u001b[0m \u001b[0;34m\u001b[0m\u001b[0m\n\u001b[1;32m     27\u001b[0m \u001b[0;34m\u001b[0m\u001b[0m\n",
      "\u001b[0;32m~/.pyenv/versions/3.7.6/envs/py37/lib/python3.7/site-packages/pika/adapters/blocking_connection.py\u001b[0m in \u001b[0;36mstart_consuming\u001b[0;34m(self)\u001b[0m\n\u001b[1;32m   1863\u001b[0m         \u001b[0;32mwhile\u001b[0m \u001b[0mself\u001b[0m\u001b[0;34m.\u001b[0m\u001b[0m_consumer_infos\u001b[0m\u001b[0;34m:\u001b[0m\u001b[0;34m\u001b[0m\u001b[0;34m\u001b[0m\u001b[0m\n\u001b[1;32m   1864\u001b[0m             \u001b[0;31m# This will raise ChannelClosed if channel is closed by broker\u001b[0m\u001b[0;34m\u001b[0m\u001b[0;34m\u001b[0m\u001b[0;34m\u001b[0m\u001b[0m\n\u001b[0;32m-> 1865\u001b[0;31m             \u001b[0mself\u001b[0m\u001b[0;34m.\u001b[0m\u001b[0m_process_data_events\u001b[0m\u001b[0;34m(\u001b[0m\u001b[0mtime_limit\u001b[0m\u001b[0;34m=\u001b[0m\u001b[0;32mNone\u001b[0m\u001b[0;34m)\u001b[0m\u001b[0;34m\u001b[0m\u001b[0;34m\u001b[0m\u001b[0m\n\u001b[0m\u001b[1;32m   1866\u001b[0m \u001b[0;34m\u001b[0m\u001b[0m\n\u001b[1;32m   1867\u001b[0m     \u001b[0;32mdef\u001b[0m \u001b[0mstop_consuming\u001b[0m\u001b[0;34m(\u001b[0m\u001b[0mself\u001b[0m\u001b[0;34m,\u001b[0m \u001b[0mconsumer_tag\u001b[0m\u001b[0;34m=\u001b[0m\u001b[0;32mNone\u001b[0m\u001b[0;34m)\u001b[0m\u001b[0;34m:\u001b[0m\u001b[0;34m\u001b[0m\u001b[0;34m\u001b[0m\u001b[0m\n",
      "\u001b[0;32m~/.pyenv/versions/3.7.6/envs/py37/lib/python3.7/site-packages/pika/adapters/blocking_connection.py\u001b[0m in \u001b[0;36m_process_data_events\u001b[0;34m(self, time_limit)\u001b[0m\n\u001b[1;32m   2024\u001b[0m \u001b[0;34m\u001b[0m\u001b[0m\n\u001b[1;32m   2025\u001b[0m         \"\"\"\n\u001b[0;32m-> 2026\u001b[0;31m         \u001b[0mself\u001b[0m\u001b[0;34m.\u001b[0m\u001b[0mconnection\u001b[0m\u001b[0;34m.\u001b[0m\u001b[0mprocess_data_events\u001b[0m\u001b[0;34m(\u001b[0m\u001b[0mtime_limit\u001b[0m\u001b[0;34m=\u001b[0m\u001b[0mtime_limit\u001b[0m\u001b[0;34m)\u001b[0m\u001b[0;34m\u001b[0m\u001b[0;34m\u001b[0m\u001b[0m\n\u001b[0m\u001b[1;32m   2027\u001b[0m         if self.is_closed and isinstance(self._closing_reason,\n\u001b[1;32m   2028\u001b[0m                                          exceptions.ChannelClosedByBroker):\n",
      "\u001b[0;32m~/.pyenv/versions/3.7.6/envs/py37/lib/python3.7/site-packages/pika/adapters/blocking_connection.py\u001b[0m in \u001b[0;36mprocess_data_events\u001b[0;34m(self, time_limit)\u001b[0m\n\u001b[1;32m    831\u001b[0m \u001b[0;34m\u001b[0m\u001b[0m\n\u001b[1;32m    832\u001b[0m         \u001b[0;32mif\u001b[0m \u001b[0mself\u001b[0m\u001b[0;34m.\u001b[0m\u001b[0m_channels_pending_dispatch\u001b[0m\u001b[0;34m:\u001b[0m\u001b[0;34m\u001b[0m\u001b[0;34m\u001b[0m\u001b[0m\n\u001b[0;32m--> 833\u001b[0;31m             \u001b[0mself\u001b[0m\u001b[0;34m.\u001b[0m\u001b[0m_dispatch_channel_events\u001b[0m\u001b[0;34m(\u001b[0m\u001b[0;34m)\u001b[0m\u001b[0;34m\u001b[0m\u001b[0;34m\u001b[0m\u001b[0m\n\u001b[0m\u001b[1;32m    834\u001b[0m \u001b[0;34m\u001b[0m\u001b[0m\n\u001b[1;32m    835\u001b[0m     \u001b[0;32mdef\u001b[0m \u001b[0msleep\u001b[0m\u001b[0;34m(\u001b[0m\u001b[0mself\u001b[0m\u001b[0;34m,\u001b[0m \u001b[0mduration\u001b[0m\u001b[0;34m)\u001b[0m\u001b[0;34m:\u001b[0m\u001b[0;34m\u001b[0m\u001b[0;34m\u001b[0m\u001b[0m\n",
      "\u001b[0;32m~/.pyenv/versions/3.7.6/envs/py37/lib/python3.7/site-packages/pika/adapters/blocking_connection.py\u001b[0m in \u001b[0;36m_dispatch_channel_events\u001b[0;34m(self)\u001b[0m\n\u001b[1;32m    565\u001b[0m \u001b[0;34m\u001b[0m\u001b[0m\n\u001b[1;32m    566\u001b[0m                 \u001b[0;32mif\u001b[0m \u001b[0mimpl_channel\u001b[0m\u001b[0;34m.\u001b[0m\u001b[0mis_open\u001b[0m\u001b[0;34m:\u001b[0m\u001b[0;34m\u001b[0m\u001b[0;34m\u001b[0m\u001b[0m\n\u001b[0;32m--> 567\u001b[0;31m                     \u001b[0mimpl_channel\u001b[0m\u001b[0;34m.\u001b[0m\u001b[0m_get_cookie\u001b[0m\u001b[0;34m(\u001b[0m\u001b[0;34m)\u001b[0m\u001b[0;34m.\u001b[0m\u001b[0m_dispatch_events\u001b[0m\u001b[0;34m(\u001b[0m\u001b[0;34m)\u001b[0m\u001b[0;34m\u001b[0m\u001b[0;34m\u001b[0m\u001b[0m\n\u001b[0m\u001b[1;32m    568\u001b[0m \u001b[0;34m\u001b[0m\u001b[0m\n\u001b[1;32m    569\u001b[0m     \u001b[0;32mdef\u001b[0m \u001b[0m_on_timer_ready\u001b[0m\u001b[0;34m(\u001b[0m\u001b[0mself\u001b[0m\u001b[0;34m,\u001b[0m \u001b[0mevt\u001b[0m\u001b[0;34m)\u001b[0m\u001b[0;34m:\u001b[0m\u001b[0;34m\u001b[0m\u001b[0;34m\u001b[0m\u001b[0m\n",
      "\u001b[0;32m~/.pyenv/versions/3.7.6/envs/py37/lib/python3.7/site-packages/pika/adapters/blocking_connection.py\u001b[0m in \u001b[0;36m_dispatch_events\u001b[0;34m(self)\u001b[0m\n\u001b[1;32m   1491\u001b[0m                 \u001b[0mconsumer_info\u001b[0m \u001b[0;34m=\u001b[0m \u001b[0mself\u001b[0m\u001b[0;34m.\u001b[0m\u001b[0m_consumer_infos\u001b[0m\u001b[0;34m[\u001b[0m\u001b[0mevt\u001b[0m\u001b[0;34m.\u001b[0m\u001b[0mmethod\u001b[0m\u001b[0;34m.\u001b[0m\u001b[0mconsumer_tag\u001b[0m\u001b[0;34m]\u001b[0m\u001b[0;34m\u001b[0m\u001b[0;34m\u001b[0m\u001b[0m\n\u001b[1;32m   1492\u001b[0m                 consumer_info.on_message_callback(self, evt.method,\n\u001b[0;32m-> 1493\u001b[0;31m                                                   evt.properties, evt.body)\n\u001b[0m\u001b[1;32m   1494\u001b[0m \u001b[0;34m\u001b[0m\u001b[0m\n\u001b[1;32m   1495\u001b[0m             \u001b[0;32melif\u001b[0m \u001b[0mtype\u001b[0m\u001b[0;34m(\u001b[0m\u001b[0mevt\u001b[0m\u001b[0;34m)\u001b[0m \u001b[0;32mis\u001b[0m \u001b[0m_ConsumerCancellationEvt\u001b[0m\u001b[0;34m:\u001b[0m  \u001b[0;31m# pylint: disable=C0123\u001b[0m\u001b[0;34m\u001b[0m\u001b[0;34m\u001b[0m\u001b[0m\n",
      "\u001b[0;32m/var/folders/wh/fbndz0bn4vv4gvq6jz0b3czc0000gn/T/ipykernel_34519/519306180.py\u001b[0m in \u001b[0;36mon_request\u001b[0;34m(self, ch, method, props, body)\u001b[0m\n\u001b[1;32m     15\u001b[0m                         properties=pika.BasicProperties(\n\u001b[1;32m     16\u001b[0m                             correlation_id=props.correlation_id),\n\u001b[0;32m---> 17\u001b[0;31m                         body=str(response))\n\u001b[0m\u001b[1;32m     18\u001b[0m         \u001b[0mprint\u001b[0m\u001b[0;34m(\u001b[0m\u001b[0;34m'MessageWorker send message to MessageSender'\u001b[0m\u001b[0;34m)\u001b[0m\u001b[0;34m\u001b[0m\u001b[0;34m\u001b[0m\u001b[0m\n\u001b[1;32m     19\u001b[0m         \u001b[0mch\u001b[0m\u001b[0;34m.\u001b[0m\u001b[0mbasic_ask\u001b[0m\u001b[0;34m(\u001b[0m\u001b[0mdelivery_tag\u001b[0m\u001b[0;34m=\u001b[0m\u001b[0mmethod\u001b[0m\u001b[0;34m.\u001b[0m\u001b[0mdelivery_tag\u001b[0m\u001b[0;34m)\u001b[0m\u001b[0;34m\u001b[0m\u001b[0;34m\u001b[0m\u001b[0m\n",
      "\u001b[0;32m~/.pyenv/versions/3.7.6/envs/py37/lib/python3.7/site-packages/pika/adapters/blocking_connection.py\u001b[0m in \u001b[0;36mbasic_publish\u001b[0;34m(self, exchange, routing_key, body, properties, mandatory)\u001b[0m\n\u001b[1;32m   2244\u001b[0m                 \u001b[0mbody\u001b[0m\u001b[0;34m=\u001b[0m\u001b[0mbody\u001b[0m\u001b[0;34m,\u001b[0m\u001b[0;34m\u001b[0m\u001b[0;34m\u001b[0m\u001b[0m\n\u001b[1;32m   2245\u001b[0m                 \u001b[0mproperties\u001b[0m\u001b[0;34m=\u001b[0m\u001b[0mproperties\u001b[0m\u001b[0;34m,\u001b[0m\u001b[0;34m\u001b[0m\u001b[0;34m\u001b[0m\u001b[0m\n\u001b[0;32m-> 2246\u001b[0;31m                 mandatory=mandatory)\n\u001b[0m\u001b[1;32m   2247\u001b[0m             \u001b[0mself\u001b[0m\u001b[0;34m.\u001b[0m\u001b[0m_flush_output\u001b[0m\u001b[0;34m(\u001b[0m\u001b[0;34m)\u001b[0m\u001b[0;34m\u001b[0m\u001b[0;34m\u001b[0m\u001b[0m\n\u001b[1;32m   2248\u001b[0m \u001b[0;34m\u001b[0m\u001b[0m\n",
      "\u001b[0;32m~/.pyenv/versions/3.7.6/envs/py37/lib/python3.7/site-packages/pika/channel.py\u001b[0m in \u001b[0;36mbasic_publish\u001b[0;34m(self, exchange, routing_key, body, properties, mandatory)\u001b[0m\n\u001b[1;32m    428\u001b[0m             spec.Basic.Publish(exchange=exchange,\n\u001b[1;32m    429\u001b[0m                                \u001b[0mrouting_key\u001b[0m\u001b[0;34m=\u001b[0m\u001b[0mrouting_key\u001b[0m\u001b[0;34m,\u001b[0m\u001b[0;34m\u001b[0m\u001b[0;34m\u001b[0m\u001b[0m\n\u001b[0;32m--> 430\u001b[0;31m                                mandatory=mandatory), (properties, body))\n\u001b[0m\u001b[1;32m    431\u001b[0m \u001b[0;34m\u001b[0m\u001b[0m\n\u001b[1;32m    432\u001b[0m     def basic_qos(self,\n",
      "\u001b[0;32m~/.pyenv/versions/3.7.6/envs/py37/lib/python3.7/site-packages/pika/channel.py\u001b[0m in \u001b[0;36m_send_method\u001b[0;34m(self, method, content)\u001b[0m\n\u001b[1;32m   1403\u001b[0m         \"\"\"\n\u001b[1;32m   1404\u001b[0m         \u001b[0;31m# pylint: disable=W0212\u001b[0m\u001b[0;34m\u001b[0m\u001b[0;34m\u001b[0m\u001b[0;34m\u001b[0m\u001b[0m\n\u001b[0;32m-> 1405\u001b[0;31m         \u001b[0mself\u001b[0m\u001b[0;34m.\u001b[0m\u001b[0mconnection\u001b[0m\u001b[0;34m.\u001b[0m\u001b[0m_send_method\u001b[0m\u001b[0;34m(\u001b[0m\u001b[0mself\u001b[0m\u001b[0;34m.\u001b[0m\u001b[0mchannel_number\u001b[0m\u001b[0;34m,\u001b[0m \u001b[0mmethod\u001b[0m\u001b[0;34m,\u001b[0m \u001b[0mcontent\u001b[0m\u001b[0;34m)\u001b[0m\u001b[0;34m\u001b[0m\u001b[0;34m\u001b[0m\u001b[0m\n\u001b[0m\u001b[1;32m   1406\u001b[0m \u001b[0;34m\u001b[0m\u001b[0m\n\u001b[1;32m   1407\u001b[0m     \u001b[0;32mdef\u001b[0m \u001b[0m_set_cookie\u001b[0m\u001b[0;34m(\u001b[0m\u001b[0mself\u001b[0m\u001b[0;34m,\u001b[0m \u001b[0mcookie\u001b[0m\u001b[0;34m)\u001b[0m\u001b[0;34m:\u001b[0m\u001b[0;34m\u001b[0m\u001b[0;34m\u001b[0m\u001b[0m\n",
      "\u001b[0;32m~/.pyenv/versions/3.7.6/envs/py37/lib/python3.7/site-packages/pika/connection.py\u001b[0m in \u001b[0;36m_send_method\u001b[0;34m(self, channel_number, method, content)\u001b[0m\n\u001b[1;32m   2230\u001b[0m         \"\"\"\n\u001b[1;32m   2231\u001b[0m         \u001b[0;32mif\u001b[0m \u001b[0mcontent\u001b[0m\u001b[0;34m:\u001b[0m\u001b[0;34m\u001b[0m\u001b[0;34m\u001b[0m\u001b[0m\n\u001b[0;32m-> 2232\u001b[0;31m             \u001b[0mself\u001b[0m\u001b[0;34m.\u001b[0m\u001b[0m_send_message\u001b[0m\u001b[0;34m(\u001b[0m\u001b[0mchannel_number\u001b[0m\u001b[0;34m,\u001b[0m \u001b[0mmethod\u001b[0m\u001b[0;34m,\u001b[0m \u001b[0mcontent\u001b[0m\u001b[0;34m)\u001b[0m\u001b[0;34m\u001b[0m\u001b[0;34m\u001b[0m\u001b[0m\n\u001b[0m\u001b[1;32m   2233\u001b[0m         \u001b[0;32melse\u001b[0m\u001b[0;34m:\u001b[0m\u001b[0;34m\u001b[0m\u001b[0;34m\u001b[0m\u001b[0m\n\u001b[1;32m   2234\u001b[0m             \u001b[0mself\u001b[0m\u001b[0;34m.\u001b[0m\u001b[0m_send_frame\u001b[0m\u001b[0;34m(\u001b[0m\u001b[0mframe\u001b[0m\u001b[0;34m.\u001b[0m\u001b[0mMethod\u001b[0m\u001b[0;34m(\u001b[0m\u001b[0mchannel_number\u001b[0m\u001b[0;34m,\u001b[0m \u001b[0mmethod\u001b[0m\u001b[0;34m)\u001b[0m\u001b[0;34m)\u001b[0m\u001b[0;34m\u001b[0m\u001b[0;34m\u001b[0m\u001b[0m\n",
      "\u001b[0;32m~/.pyenv/versions/3.7.6/envs/py37/lib/python3.7/site-packages/pika/connection.py\u001b[0m in \u001b[0;36m_send_message\u001b[0;34m(self, channel_number, method_frame, content)\u001b[0m\n\u001b[1;32m   2250\u001b[0m         \u001b[0mframe_method\u001b[0m \u001b[0;34m=\u001b[0m \u001b[0mframe\u001b[0m\u001b[0;34m.\u001b[0m\u001b[0mMethod\u001b[0m\u001b[0;34m(\u001b[0m\u001b[0mchannel_number\u001b[0m\u001b[0;34m,\u001b[0m \u001b[0mmethod_frame\u001b[0m\u001b[0;34m)\u001b[0m\u001b[0;34m\u001b[0m\u001b[0;34m\u001b[0m\u001b[0m\n\u001b[1;32m   2251\u001b[0m         \u001b[0mframe_header\u001b[0m \u001b[0;34m=\u001b[0m \u001b[0mframe\u001b[0m\u001b[0;34m.\u001b[0m\u001b[0mHeader\u001b[0m\u001b[0;34m(\u001b[0m\u001b[0mchannel_number\u001b[0m\u001b[0;34m,\u001b[0m \u001b[0mlength\u001b[0m\u001b[0;34m,\u001b[0m \u001b[0mcontent\u001b[0m\u001b[0;34m[\u001b[0m\u001b[0;36m0\u001b[0m\u001b[0;34m]\u001b[0m\u001b[0;34m)\u001b[0m\u001b[0;34m\u001b[0m\u001b[0;34m\u001b[0m\u001b[0m\n\u001b[0;32m-> 2252\u001b[0;31m         \u001b[0mmarshaled_body_frames\u001b[0m\u001b[0;34m.\u001b[0m\u001b[0mappend\u001b[0m\u001b[0;34m(\u001b[0m\u001b[0mframe_method\u001b[0m\u001b[0;34m.\u001b[0m\u001b[0mmarshal\u001b[0m\u001b[0;34m(\u001b[0m\u001b[0;34m)\u001b[0m\u001b[0;34m)\u001b[0m\u001b[0;34m\u001b[0m\u001b[0;34m\u001b[0m\u001b[0m\n\u001b[0m\u001b[1;32m   2253\u001b[0m         \u001b[0mmarshaled_body_frames\u001b[0m\u001b[0;34m.\u001b[0m\u001b[0mappend\u001b[0m\u001b[0;34m(\u001b[0m\u001b[0mframe_header\u001b[0m\u001b[0;34m.\u001b[0m\u001b[0mmarshal\u001b[0m\u001b[0;34m(\u001b[0m\u001b[0;34m)\u001b[0m\u001b[0;34m)\u001b[0m\u001b[0;34m\u001b[0m\u001b[0;34m\u001b[0m\u001b[0m\n\u001b[1;32m   2254\u001b[0m \u001b[0;34m\u001b[0m\u001b[0m\n",
      "\u001b[0;32m~/.pyenv/versions/3.7.6/envs/py37/lib/python3.7/site-packages/pika/frame.py\u001b[0m in \u001b[0;36mmarshal\u001b[0;34m(self)\u001b[0m\n\u001b[1;32m     71\u001b[0m \u001b[0;34m\u001b[0m\u001b[0m\n\u001b[1;32m     72\u001b[0m         \"\"\"\n\u001b[0;32m---> 73\u001b[0;31m         \u001b[0mpieces\u001b[0m \u001b[0;34m=\u001b[0m \u001b[0mself\u001b[0m\u001b[0;34m.\u001b[0m\u001b[0mmethod\u001b[0m\u001b[0;34m.\u001b[0m\u001b[0mencode\u001b[0m\u001b[0;34m(\u001b[0m\u001b[0;34m)\u001b[0m\u001b[0;34m\u001b[0m\u001b[0;34m\u001b[0m\u001b[0m\n\u001b[0m\u001b[1;32m     74\u001b[0m         \u001b[0mpieces\u001b[0m\u001b[0;34m.\u001b[0m\u001b[0minsert\u001b[0m\u001b[0;34m(\u001b[0m\u001b[0;36m0\u001b[0m\u001b[0;34m,\u001b[0m \u001b[0mstruct\u001b[0m\u001b[0;34m.\u001b[0m\u001b[0mpack\u001b[0m\u001b[0;34m(\u001b[0m\u001b[0;34m'>I'\u001b[0m\u001b[0;34m,\u001b[0m \u001b[0mself\u001b[0m\u001b[0;34m.\u001b[0m\u001b[0mmethod\u001b[0m\u001b[0;34m.\u001b[0m\u001b[0mINDEX\u001b[0m\u001b[0;34m)\u001b[0m\u001b[0;34m)\u001b[0m\u001b[0;34m\u001b[0m\u001b[0;34m\u001b[0m\u001b[0m\n\u001b[1;32m     75\u001b[0m         \u001b[0;32mreturn\u001b[0m \u001b[0mself\u001b[0m\u001b[0;34m.\u001b[0m\u001b[0m_marshal\u001b[0m\u001b[0;34m(\u001b[0m\u001b[0mpieces\u001b[0m\u001b[0;34m)\u001b[0m\u001b[0;34m\u001b[0m\u001b[0;34m\u001b[0m\u001b[0m\n",
      "\u001b[0;32m~/.pyenv/versions/3.7.6/envs/py37/lib/python3.7/site-packages/pika/spec.py\u001b[0m in \u001b[0;36mencode\u001b[0;34m(self)\u001b[0m\n\u001b[1;32m   1524\u001b[0m             \u001b[0mdata\u001b[0m\u001b[0;34m.\u001b[0m\u001b[0mencode_short_string\u001b[0m\u001b[0;34m(\u001b[0m\u001b[0mpieces\u001b[0m\u001b[0;34m,\u001b[0m \u001b[0mself\u001b[0m\u001b[0;34m.\u001b[0m\u001b[0mexchange\u001b[0m\u001b[0;34m)\u001b[0m\u001b[0;34m\u001b[0m\u001b[0;34m\u001b[0m\u001b[0m\n\u001b[1;32m   1525\u001b[0m             \u001b[0;32massert\u001b[0m \u001b[0misinstance\u001b[0m\u001b[0;34m(\u001b[0m\u001b[0mself\u001b[0m\u001b[0;34m.\u001b[0m\u001b[0mrouting_key\u001b[0m\u001b[0;34m,\u001b[0m \u001b[0mstr_or_bytes\u001b[0m\u001b[0;34m)\u001b[0m\u001b[0;34m,\u001b[0m\u001b[0;31m\\\u001b[0m\u001b[0;34m\u001b[0m\u001b[0;34m\u001b[0m\u001b[0m\n\u001b[0;32m-> 1526\u001b[0;31m                    \u001b[0;34m'A non-string value was supplied for self.routing_key'\u001b[0m\u001b[0;34m\u001b[0m\u001b[0;34m\u001b[0m\u001b[0m\n\u001b[0m\u001b[1;32m   1527\u001b[0m             \u001b[0mdata\u001b[0m\u001b[0;34m.\u001b[0m\u001b[0mencode_short_string\u001b[0m\u001b[0;34m(\u001b[0m\u001b[0mpieces\u001b[0m\u001b[0;34m,\u001b[0m \u001b[0mself\u001b[0m\u001b[0;34m.\u001b[0m\u001b[0mrouting_key\u001b[0m\u001b[0;34m)\u001b[0m\u001b[0;34m\u001b[0m\u001b[0;34m\u001b[0m\u001b[0m\n\u001b[1;32m   1528\u001b[0m             \u001b[0mbit_buffer\u001b[0m \u001b[0;34m=\u001b[0m \u001b[0;36m0\u001b[0m\u001b[0;34m\u001b[0m\u001b[0;34m\u001b[0m\u001b[0m\n",
      "\u001b[0;31mAssertionError\u001b[0m: A non-string value was supplied for self.routing_key"
     ]
    }
   ],
   "source": [
    "import pika,time\n",
    "class MessageWorker(object):\n",
    "    def __init__(self):\n",
    "        self.connection = pika.BlockingConnection(\n",
    "        pika.ConnectionParameters(host='localhost'))\n",
    "        self.channel = self.connection.channel()\n",
    "        self.channel.queue_declare(queue='aleister')\n",
    "\n",
    "    def on_request(self, ch, method, props, body):\n",
    "        print('MessageWorker get message ------', body)\n",
    "        response = self.task(body)\n",
    "        print('MessageWorker callback on queue ------', props.reply_to)\n",
    "        ch.basic_publish(exchange='',\n",
    "                        routing_key=None,\n",
    "                        properties=pika.BasicProperties(\n",
    "                            correlation_id=props.correlation_id),\n",
    "                        body=str(response))\n",
    "        print('MessageWorker send message to MessageSender')\n",
    "        ch.basic_ask(delivery_tag=method.delivery_tag)\n",
    "\n",
    "    def work(self):\n",
    "        self.channel.basic_qos(prefetch_count=2)\n",
    "        self.channel.basic_consume(on_message_callback=self.on_request, queue='aleister')\n",
    "        print('[x]Waiting message...')\n",
    "        self.channel.start_consuming()\n",
    "\n",
    "\n",
    "    def task(self,body):\n",
    "        time.sleep(3)\n",
    "        return body\n",
    "\n",
    "\n",
    "\n",
    "worker = MessageWorker()\n",
    "worker.work()"
   ]
  },
  {
   "cell_type": "code",
   "execution_count": null,
   "metadata": {},
   "outputs": [],
   "source": []
  }
 ],
 "metadata": {
  "interpreter": {
   "hash": "1a07a1ec0795f18ffb58a0d1ebe05b00710b78b499e35808694e010179879b06"
  },
  "kernelspec": {
   "display_name": "Python 3.7.6 64-bit ('py37': pyenv)",
   "language": "python",
   "name": "python3"
  },
  "language_info": {
   "codemirror_mode": {
    "name": "ipython",
    "version": 3
   },
   "file_extension": ".py",
   "mimetype": "text/x-python",
   "name": "python",
   "nbconvert_exporter": "python",
   "pygments_lexer": "ipython3",
   "version": "3.7.6"
  },
  "orig_nbformat": 4
 },
 "nbformat": 4,
 "nbformat_minor": 2
}
