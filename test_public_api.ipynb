{
 "metadata": {
  "language_info": {
   "codemirror_mode": {
    "name": "ipython",
    "version": 3
   },
   "file_extension": ".py",
   "mimetype": "text/x-python",
   "name": "python",
   "nbconvert_exporter": "python",
   "pygments_lexer": "ipython3",
   "version": "3.7.6-final"
  },
  "orig_nbformat": 2,
  "kernelspec": {
   "name": "Python 3.7.6 64-bit ('py37b')",
   "display_name": "Python 3.7.6 64-bit ('py37b')",
   "metadata": {
    "interpreter": {
     "hash": "edf7c2d5f0f70628fc224588ceca2c2113a9ef071d19ac3a0b9346fc3eba554c"
    }
   }
  }
 },
 "nbformat": 4,
 "nbformat_minor": 2,
 "cells": [
  {
   "cell_type": "code",
   "execution_count": 1,
   "metadata": {},
   "outputs": [],
   "source": [
    "%load_ext autoreload\n",
    "%autoreload 2"
   ]
  },
  {
   "cell_type": "code",
   "execution_count": 2,
   "metadata": {
    "tags": []
   },
   "outputs": [],
   "source": [
    "import requests\n",
    "import json\n",
    "import urllib.parse\n",
    "import logging\n",
    "import logging.config\n",
    "\n",
    "import pandas as pd\n",
    "import numpy as np\n",
    "\n",
    "logging.config.fileConfig('./ini/logconfig.ini')\n",
    "logger = logging.getLogger(\"KULOKO\")"
   ]
  },
  {
   "cell_type": "code",
   "execution_count": 3,
   "metadata": {},
   "outputs": [],
   "source": [
    "import src.handler.api_handler as api"
   ]
  },
  {
   "cell_type": "code",
   "execution_count": 4,
   "metadata": {},
   "outputs": [],
   "source": [
    "sym = 'BTC'\n",
    "depth=5\n",
    "orderbook = api.Orderbook(sym)\n",
    "orderbook.depth =depth\n"
   ]
  },
  {
   "cell_type": "code",
   "execution_count": 5,
   "metadata": {},
   "outputs": [
    {
     "output_type": "execute_result",
     "data": {
      "text/plain": [
       "       price  size\n",
       "0  1360720.0   0.1\n",
       "1  1360730.0   0.1\n",
       "2  1360750.0   0.1\n",
       "3  1360760.0   0.1\n",
       "4  1360895.0   0.2"
      ],
      "text/html": "<div>\n<style scoped>\n    .dataframe tbody tr th:only-of-type {\n        vertical-align: middle;\n    }\n\n    .dataframe tbody tr th {\n        vertical-align: top;\n    }\n\n    .dataframe thead th {\n        text-align: right;\n    }\n</style>\n<table border=\"1\" class=\"dataframe\">\n  <thead>\n    <tr style=\"text-align: right;\">\n      <th></th>\n      <th>price</th>\n      <th>size</th>\n    </tr>\n  </thead>\n  <tbody>\n    <tr>\n      <th>0</th>\n      <td>1360720.0</td>\n      <td>0.1</td>\n    </tr>\n    <tr>\n      <th>1</th>\n      <td>1360730.0</td>\n      <td>0.1</td>\n    </tr>\n    <tr>\n      <th>2</th>\n      <td>1360750.0</td>\n      <td>0.1</td>\n    </tr>\n    <tr>\n      <th>3</th>\n      <td>1360760.0</td>\n      <td>0.1</td>\n    </tr>\n    <tr>\n      <th>4</th>\n      <td>1360895.0</td>\n      <td>0.2</td>\n    </tr>\n  </tbody>\n</table>\n</div>"
     },
     "metadata": {},
     "execution_count": 5
    }
   ],
   "source": [
    "df_snapshot = orderbook.fetch(return_type='dataframe')\n",
    "df_snapshot['data']['asks']"
   ]
  },
  {
   "cell_type": "code",
   "execution_count": 6,
   "metadata": {},
   "outputs": [
    {
     "output_type": "execute_result",
     "data": {
      "text/plain": [
       "{'status': 0,\n",
       " 'data': {'asks': [{'price': '1360720', 'size': '0.3'},\n",
       "   {'price': '1360730', 'size': '0.1'},\n",
       "   {'price': '1360750', 'size': '0.1'},\n",
       "   {'price': '1360760', 'size': '0.1'},\n",
       "   {'price': '1360895', 'size': '0.2'}],\n",
       "  'bids': [{'price': '1359635', 'size': '0.2'},\n",
       "   {'price': '1359630', 'size': '0.1'},\n",
       "   {'price': '1359590', 'size': '0.2'},\n",
       "   {'price': '1359080', 'size': '0.1'},\n",
       "   {'price': '1359070', 'size': '0.1'}],\n",
       "  'symbol': 'BTC'},\n",
       " 'responsetime': '2020-10-24T12:18:02.596Z'}"
      ]
     },
     "metadata": {},
     "execution_count": 6
    }
   ],
   "source": [
    "json_orderbook = orderbook.fetch(return_type='raw')\n",
    "json_orderbook"
   ]
  },
  {
   "cell_type": "code",
   "execution_count": 7,
   "metadata": {},
   "outputs": [
    {
     "output_type": "execute_result",
     "data": {
      "text/plain": [
       "[datetime.datetime(2020, 10, 24, 12, 18, 3, 876000, tzinfo=datetime.timezone.utc),\n",
       " 1359635.0,\n",
       " 0.2,\n",
       " 1359630.0,\n",
       " 0.1,\n",
       " 1359590.0,\n",
       " 0.2,\n",
       " 1359080.0,\n",
       " 0.1,\n",
       " 1359070.0,\n",
       " 0.1,\n",
       " 1359635.0,\n",
       " 0.2,\n",
       " 1359630.0,\n",
       " 0.1,\n",
       " 1359590.0,\n",
       " 0.2,\n",
       " 1359080.0,\n",
       " 0.1,\n",
       " 1359070.0,\n",
       " 0.1]"
      ]
     },
     "metadata": {},
     "execution_count": 7
    }
   ],
   "source": [
    "\n",
    "seq_orderbook = orderbook.fetch(return_type='seq')\n",
    "seq_orderbook"
   ]
  },
  {
   "cell_type": "code",
   "execution_count": 25,
   "metadata": {},
   "outputs": [
    {
     "output_type": "execute_result",
     "data": {
      "text/plain": [
       "                               0\n",
       "time        20201024122337925000\n",
       "bids0                1.35998e+06\n",
       "bids0_size                   0.2\n",
       "bids1                1.35998e+06\n",
       "bids1_size                   0.1\n",
       "bids2                1.35997e+06\n",
       "bids2_size                   0.1\n",
       "bids3                1.35996e+06\n",
       "bids3_size                   0.3\n",
       "bids4                1.35993e+06\n",
       "bids4_size                 0.075\n",
       "asks0                1.35998e+06\n",
       "asks0_size                   0.2\n",
       "asks1                1.35998e+06\n",
       "asks1_size                   0.1\n",
       "asks2                1.35997e+06\n",
       "asks2_size                   0.1\n",
       "asks3                1.35996e+06\n",
       "asks3_size                   0.3\n",
       "asks4                1.35993e+06\n",
       "asks4_size                 0.075"
      ],
      "text/html": "<div>\n<style scoped>\n    .dataframe tbody tr th:only-of-type {\n        vertical-align: middle;\n    }\n\n    .dataframe tbody tr th {\n        vertical-align: top;\n    }\n\n    .dataframe thead th {\n        text-align: right;\n    }\n</style>\n<table border=\"1\" class=\"dataframe\">\n  <thead>\n    <tr style=\"text-align: right;\">\n      <th></th>\n      <th>0</th>\n    </tr>\n  </thead>\n  <tbody>\n    <tr>\n      <th>time</th>\n      <td>20201024122337925000</td>\n    </tr>\n    <tr>\n      <th>bids0</th>\n      <td>1.35998e+06</td>\n    </tr>\n    <tr>\n      <th>bids0_size</th>\n      <td>0.2</td>\n    </tr>\n    <tr>\n      <th>bids1</th>\n      <td>1.35998e+06</td>\n    </tr>\n    <tr>\n      <th>bids1_size</th>\n      <td>0.1</td>\n    </tr>\n    <tr>\n      <th>bids2</th>\n      <td>1.35997e+06</td>\n    </tr>\n    <tr>\n      <th>bids2_size</th>\n      <td>0.1</td>\n    </tr>\n    <tr>\n      <th>bids3</th>\n      <td>1.35996e+06</td>\n    </tr>\n    <tr>\n      <th>bids3_size</th>\n      <td>0.3</td>\n    </tr>\n    <tr>\n      <th>bids4</th>\n      <td>1.35993e+06</td>\n    </tr>\n    <tr>\n      <th>bids4_size</th>\n      <td>0.075</td>\n    </tr>\n    <tr>\n      <th>asks0</th>\n      <td>1.35998e+06</td>\n    </tr>\n    <tr>\n      <th>asks0_size</th>\n      <td>0.2</td>\n    </tr>\n    <tr>\n      <th>asks1</th>\n      <td>1.35998e+06</td>\n    </tr>\n    <tr>\n      <th>asks1_size</th>\n      <td>0.1</td>\n    </tr>\n    <tr>\n      <th>asks2</th>\n      <td>1.35997e+06</td>\n    </tr>\n    <tr>\n      <th>asks2_size</th>\n      <td>0.1</td>\n    </tr>\n    <tr>\n      <th>asks3</th>\n      <td>1.35996e+06</td>\n    </tr>\n    <tr>\n      <th>asks3_size</th>\n      <td>0.3</td>\n    </tr>\n    <tr>\n      <th>asks4</th>\n      <td>1.35993e+06</td>\n    </tr>\n    <tr>\n      <th>asks4_size</th>\n      <td>0.075</td>\n    </tr>\n  </tbody>\n</table>\n</div>"
     },
     "metadata": {},
     "execution_count": 25
    }
   ],
   "source": [
    "pd.DataFrame(json_orderbook,index=[0]).T"
   ]
  },
  {
   "cell_type": "code",
   "execution_count": 18,
   "metadata": {},
   "outputs": [
    {
     "output_type": "execute_result",
     "data": {
      "text/plain": [
       "{'time': '20201024122337925000',\n",
       " 'bids0': 1359985.0,\n",
       " 'bids0_size': 0.2,\n",
       " 'bids1': 1359980.0,\n",
       " 'bids1_size': 0.1,\n",
       " 'bids2': 1359970.0,\n",
       " 'bids2_size': 0.1,\n",
       " 'bids3': 1359960.0,\n",
       " 'bids3_size': 0.3,\n",
       " 'bids4': 1359931.0,\n",
       " 'bids4_size': 0.075,\n",
       " 'asks0': 1359985.0,\n",
       " 'asks0_size': 0.2,\n",
       " 'asks1': 1359980.0,\n",
       " 'asks1_size': 0.1,\n",
       " 'asks2': 1359970.0,\n",
       " 'asks2_size': 0.1,\n",
       " 'asks3': 1359960.0,\n",
       " 'asks3_size': 0.3,\n",
       " 'asks4': 1359931.0,\n",
       " 'asks4_size': 0.075}"
      ]
     },
     "metadata": {},
     "execution_count": 18
    }
   ],
   "source": [
    "json_orderbook = orderbook.fetch(return_type='json')\n",
    "json_orderbook"
   ]
  },
  {
   "cell_type": "code",
   "execution_count": 22,
   "metadata": {
    "tags": []
   },
   "outputs": [],
   "source": [
    "tick = api.Ticks(sym)\n"
   ]
  },
  {
   "cell_type": "code",
   "execution_count": 23,
   "metadata": {
    "tags": []
   },
   "outputs": [
    {
     "output_type": "execute_result",
     "data": {
      "text/plain": [
       "{'ask': 1357069.0,\n",
       " 'bid': 1356555.0,\n",
       " 'high': 1362459.0,\n",
       " 'last': 1356400.0,\n",
       " 'low': 1349060.0,\n",
       " 'volume': 261.1734,\n",
       " 'timestamp': '20201024075412905000'}"
      ]
     },
     "metadata": {},
     "execution_count": 23
    }
   ],
   "source": [
    "data = tick.fetch(return_type='json')\n",
    "data"
   ]
  },
  {
   "cell_type": "code",
   "execution_count": 24,
   "metadata": {},
   "outputs": [
    {
     "output_type": "execute_result",
     "data": {
      "text/plain": [
       "{'status': 0,\n",
       " 'data': [{'ask': '1357059',\n",
       "   'bid': '1356555',\n",
       "   'high': '1362459',\n",
       "   'last': '1356400',\n",
       "   'low': '1349060',\n",
       "   'symbol': 'BTC',\n",
       "   'timestamp': '2020-10-24T07:54:16.177Z',\n",
       "   'volume': '261.1734'}],\n",
       " 'responsetime': '2020-10-24T07:54:16.627Z'}"
      ]
     },
     "metadata": {},
     "execution_count": 24
    }
   ],
   "source": [
    "data = tick.fetch(return_type='raw')\n",
    "data"
   ]
  },
  {
   "cell_type": "code",
   "execution_count": 25,
   "metadata": {},
   "outputs": [],
   "source": [
    "trade = api.Trade(sym)"
   ]
  },
  {
   "cell_type": "code",
   "execution_count": 26,
   "metadata": {},
   "outputs": [],
   "source": [
    "data, since_time = trade.fetch(\"dataframe\")"
   ]
  },
  {
   "cell_type": "code",
   "execution_count": 27,
   "metadata": {},
   "outputs": [],
   "source": [
    "data2, _ = trade.fetch(\"dataframe\",since_time)"
   ]
  },
  {
   "cell_type": "code",
   "execution_count": 28,
   "metadata": {},
   "outputs": [
    {
     "output_type": "execute_result",
     "data": {
      "text/plain": [
       "        price  side    size                        timestamp\n",
       "0   1356400.0   BUY  0.0300 2020-10-24 07:52:37.923000+00:00\n",
       "1   1357860.0   BUY  0.0010 2020-10-24 07:50:34.434000+00:00\n",
       "2   1356960.0  SELL  0.0010 2020-10-24 07:46:48.731000+00:00\n",
       "3   1356960.0   BUY  0.0010 2020-10-24 07:46:48.731000+00:00\n",
       "4   1356700.0   BUY  0.0500 2020-10-24 07:45:58.409000+00:00\n",
       "..        ...   ...     ...                              ...\n",
       "91  1358481.0   BUY  0.0088 2020-10-24 06:50:41.511000+00:00\n",
       "92  1358480.0   BUY  0.0002 2020-10-24 06:48:43.379000+00:00\n",
       "93  1358480.0  SELL  0.0002 2020-10-24 06:48:43.379000+00:00\n",
       "94  1358752.0  SELL  0.0280 2020-10-24 06:48:25.270000+00:00\n",
       "95  1358752.0   BUY  0.0280 2020-10-24 06:48:25.270000+00:00\n",
       "\n",
       "[96 rows x 4 columns]"
      ],
      "text/html": "<div>\n<style scoped>\n    .dataframe tbody tr th:only-of-type {\n        vertical-align: middle;\n    }\n\n    .dataframe tbody tr th {\n        vertical-align: top;\n    }\n\n    .dataframe thead th {\n        text-align: right;\n    }\n</style>\n<table border=\"1\" class=\"dataframe\">\n  <thead>\n    <tr style=\"text-align: right;\">\n      <th></th>\n      <th>price</th>\n      <th>side</th>\n      <th>size</th>\n      <th>timestamp</th>\n    </tr>\n  </thead>\n  <tbody>\n    <tr>\n      <th>0</th>\n      <td>1356400.0</td>\n      <td>BUY</td>\n      <td>0.0300</td>\n      <td>2020-10-24 07:52:37.923000+00:00</td>\n    </tr>\n    <tr>\n      <th>1</th>\n      <td>1357860.0</td>\n      <td>BUY</td>\n      <td>0.0010</td>\n      <td>2020-10-24 07:50:34.434000+00:00</td>\n    </tr>\n    <tr>\n      <th>2</th>\n      <td>1356960.0</td>\n      <td>SELL</td>\n      <td>0.0010</td>\n      <td>2020-10-24 07:46:48.731000+00:00</td>\n    </tr>\n    <tr>\n      <th>3</th>\n      <td>1356960.0</td>\n      <td>BUY</td>\n      <td>0.0010</td>\n      <td>2020-10-24 07:46:48.731000+00:00</td>\n    </tr>\n    <tr>\n      <th>4</th>\n      <td>1356700.0</td>\n      <td>BUY</td>\n      <td>0.0500</td>\n      <td>2020-10-24 07:45:58.409000+00:00</td>\n    </tr>\n    <tr>\n      <th>...</th>\n      <td>...</td>\n      <td>...</td>\n      <td>...</td>\n      <td>...</td>\n    </tr>\n    <tr>\n      <th>91</th>\n      <td>1358481.0</td>\n      <td>BUY</td>\n      <td>0.0088</td>\n      <td>2020-10-24 06:50:41.511000+00:00</td>\n    </tr>\n    <tr>\n      <th>92</th>\n      <td>1358480.0</td>\n      <td>BUY</td>\n      <td>0.0002</td>\n      <td>2020-10-24 06:48:43.379000+00:00</td>\n    </tr>\n    <tr>\n      <th>93</th>\n      <td>1358480.0</td>\n      <td>SELL</td>\n      <td>0.0002</td>\n      <td>2020-10-24 06:48:43.379000+00:00</td>\n    </tr>\n    <tr>\n      <th>94</th>\n      <td>1358752.0</td>\n      <td>SELL</td>\n      <td>0.0280</td>\n      <td>2020-10-24 06:48:25.270000+00:00</td>\n    </tr>\n    <tr>\n      <th>95</th>\n      <td>1358752.0</td>\n      <td>BUY</td>\n      <td>0.0280</td>\n      <td>2020-10-24 06:48:25.270000+00:00</td>\n    </tr>\n  </tbody>\n</table>\n<p>96 rows × 4 columns</p>\n</div>"
     },
     "metadata": {},
     "execution_count": 28
    }
   ],
   "source": [
    "data"
   ]
  },
  {
   "cell_type": "code",
   "execution_count": 30,
   "metadata": {},
   "outputs": [],
   "source": [
    "data, since_time = trade.fetch(\"json\")"
   ]
  },
  {
   "cell_type": "code",
   "execution_count": 166,
   "metadata": {},
   "outputs": [],
   "source": [
    "# NOT !pip install websocket\n",
    "# !pip install websocket-client"
   ]
  },
  {
   "cell_type": "code",
   "execution_count": 31,
   "metadata": {},
   "outputs": [
    {
     "output_type": "execute_result",
     "data": {
      "text/plain": [
       "[{'price': 1356400.0,\n",
       "  'side': 'BUY',\n",
       "  'size': 0.03,\n",
       "  'timestamp': '20201024075237923000'},\n",
       " {'price': 1357860.0,\n",
       "  'side': 'BUY',\n",
       "  'size': 0.001,\n",
       "  'timestamp': '20201024075034434000'},\n",
       " {'price': 1356960.0,\n",
       "  'side': 'SELL',\n",
       "  'size': 0.001,\n",
       "  'timestamp': '20201024074648731000'},\n",
       " {'price': 1356960.0,\n",
       "  'side': 'BUY',\n",
       "  'size': 0.001,\n",
       "  'timestamp': '20201024074648731000'},\n",
       " {'price': 1356700.0,\n",
       "  'side': 'BUY',\n",
       "  'size': 0.05,\n",
       "  'timestamp': '20201024074558409000'},\n",
       " {'price': 1357000.0,\n",
       "  'side': 'BUY',\n",
       "  'size': 0.0005,\n",
       "  'timestamp': '20201024074526912000'},\n",
       " {'price': 1357010.0,\n",
       "  'side': 'BUY',\n",
       "  'size': 0.251,\n",
       "  'timestamp': '20201024074526912000'},\n",
       " {'price': 1357010.0,\n",
       "  'side': 'BUY',\n",
       "  'size': 0.02,\n",
       "  'timestamp': '20201024074526511000'},\n",
       " {'price': 1357010.0,\n",
       "  'side': 'SELL',\n",
       "  'size': 0.02,\n",
       "  'timestamp': '20201024074526511000'},\n",
       " {'price': 1357010.0,\n",
       "  'side': 'BUY',\n",
       "  'size': 0.009,\n",
       "  'timestamp': '20201024074526255000'},\n",
       " {'price': 1357010.0,\n",
       "  'side': 'SELL',\n",
       "  'size': 0.009,\n",
       "  'timestamp': '20201024074526255000'},\n",
       " {'price': 1358022.0,\n",
       "  'side': 'SELL',\n",
       "  'size': 0.05,\n",
       "  'timestamp': '20201024074317455000'},\n",
       " {'price': 1358022.0,\n",
       "  'side': 'BUY',\n",
       "  'size': 0.05,\n",
       "  'timestamp': '20201024074317455000'},\n",
       " {'price': 1358030.0,\n",
       "  'side': 'SELL',\n",
       "  'size': 0.18,\n",
       "  'timestamp': '20201024074310256000'},\n",
       " {'price': 1358030.0,\n",
       "  'side': 'BUY',\n",
       "  'size': 0.18,\n",
       "  'timestamp': '20201024074310256000'},\n",
       " {'price': 1358029.0,\n",
       "  'side': 'SELL',\n",
       "  'size': 0.02,\n",
       "  'timestamp': '20201024074310256000'},\n",
       " {'price': 1358029.0,\n",
       "  'side': 'BUY',\n",
       "  'size': 0.02,\n",
       "  'timestamp': '20201024074310256000'},\n",
       " {'price': 1358100.0,\n",
       "  'side': 'BUY',\n",
       "  'size': 0.2453,\n",
       "  'timestamp': '20201024074301785000'},\n",
       " {'price': 1358031.0,\n",
       "  'side': 'SELL',\n",
       "  'size': 0.0074,\n",
       "  'timestamp': '20201024074301785000'},\n",
       " {'price': 1358031.0,\n",
       "  'side': 'BUY',\n",
       "  'size': 0.0074,\n",
       "  'timestamp': '20201024074301785000'},\n",
       " {'price': 1358007.0,\n",
       "  'side': 'SELL',\n",
       "  'size': 0.2,\n",
       "  'timestamp': '20201024074301785000'},\n",
       " {'price': 1358007.0,\n",
       "  'side': 'BUY',\n",
       "  'size': 0.2,\n",
       "  'timestamp': '20201024074301785000'},\n",
       " {'price': 1358005.0,\n",
       "  'side': 'SELL',\n",
       "  'size': 0.1257,\n",
       "  'timestamp': '20201024074301785000'},\n",
       " {'price': 1358005.0,\n",
       "  'side': 'BUY',\n",
       "  'size': 0.1257,\n",
       "  'timestamp': '20201024074301785000'},\n",
       " {'price': 1358000.0,\n",
       "  'side': 'SELL',\n",
       "  'size': 0.1,\n",
       "  'timestamp': '20201024074301785000'},\n",
       " {'price': 1358000.0,\n",
       "  'side': 'BUY',\n",
       "  'size': 0.1,\n",
       "  'timestamp': '20201024074301785000'},\n",
       " {'price': 1357941.0,\n",
       "  'side': 'SELL',\n",
       "  'size': 0.0216,\n",
       "  'timestamp': '20201024074301785000'},\n",
       " {'price': 1357941.0,\n",
       "  'side': 'BUY',\n",
       "  'size': 0.0216,\n",
       "  'timestamp': '20201024074301785000'},\n",
       " {'price': 1357940.0,\n",
       "  'side': 'SELL',\n",
       "  'size': 0.4,\n",
       "  'timestamp': '20201024074301785000'},\n",
       " {'price': 1357940.0,\n",
       "  'side': 'BUY',\n",
       "  'size': 0.4,\n",
       "  'timestamp': '20201024074301785000'},\n",
       " {'price': 1357940.0,\n",
       "  'side': 'SELL',\n",
       "  'size': 0.1,\n",
       "  'timestamp': '20201024074301785000'},\n",
       " {'price': 1357940.0,\n",
       "  'side': 'BUY',\n",
       "  'size': 0.1,\n",
       "  'timestamp': '20201024074301785000'},\n",
       " {'price': 1357938.0,\n",
       "  'side': 'SELL',\n",
       "  'size': 0.2,\n",
       "  'timestamp': '20201024074301785000'},\n",
       " {'price': 1357938.0,\n",
       "  'side': 'BUY',\n",
       "  'size': 0.2,\n",
       "  'timestamp': '20201024074301785000'},\n",
       " {'price': 1357930.0,\n",
       "  'side': 'SELL',\n",
       "  'size': 0.1,\n",
       "  'timestamp': '20201024074301785000'},\n",
       " {'price': 1357930.0,\n",
       "  'side': 'BUY',\n",
       "  'size': 0.1,\n",
       "  'timestamp': '20201024074301785000'},\n",
       " {'price': 1358040.0,\n",
       "  'side': 'SELL',\n",
       "  'size': 0.0644,\n",
       "  'timestamp': '20201024074115544000'},\n",
       " {'price': 1358040.0,\n",
       "  'side': 'BUY',\n",
       "  'size': 0.0644,\n",
       "  'timestamp': '20201024074115544000'},\n",
       " {'price': 1357180.0,\n",
       "  'side': 'SELL',\n",
       "  'size': 0.0027,\n",
       "  'timestamp': '20201024074043808000'},\n",
       " {'price': 1357180.0,\n",
       "  'side': 'BUY',\n",
       "  'size': 0.0027,\n",
       "  'timestamp': '20201024074043808000'},\n",
       " {'price': 1358000.0,\n",
       "  'side': 'BUY',\n",
       "  'size': 0.0001,\n",
       "  'timestamp': '20201024073308112000'},\n",
       " {'price': 1358027.0,\n",
       "  'side': 'SELL',\n",
       "  'size': 0.0007,\n",
       "  'timestamp': '20201024073301562000'},\n",
       " {'price': 1358027.0,\n",
       "  'side': 'BUY',\n",
       "  'size': 0.0007,\n",
       "  'timestamp': '20201024073301562000'},\n",
       " {'price': 1358027.0,\n",
       "  'side': 'SELL',\n",
       "  'size': 0.005,\n",
       "  'timestamp': '20201024073249773000'},\n",
       " {'price': 1358027.0,\n",
       "  'side': 'BUY',\n",
       "  'size': 0.005,\n",
       "  'timestamp': '20201024073249773000'},\n",
       " {'price': 1358026.0,\n",
       "  'side': 'SELL',\n",
       "  'size': 0.031,\n",
       "  'timestamp': '20201024073237932000'},\n",
       " {'price': 1358026.0,\n",
       "  'side': 'BUY',\n",
       "  'size': 0.031,\n",
       "  'timestamp': '20201024073237932000'},\n",
       " {'price': 1357870.0,\n",
       "  'side': 'SELL',\n",
       "  'size': 0.015,\n",
       "  'timestamp': '20201024073129736000'},\n",
       " {'price': 1357870.0,\n",
       "  'side': 'BUY',\n",
       "  'size': 0.015,\n",
       "  'timestamp': '20201024073129736000'},\n",
       " {'price': 1358080.0,\n",
       "  'side': 'BUY',\n",
       "  'size': 0.042,\n",
       "  'timestamp': '20201024072429969000'},\n",
       " {'price': 1358080.0,\n",
       "  'side': 'SELL',\n",
       "  'size': 0.042,\n",
       "  'timestamp': '20201024072429969000'},\n",
       " {'price': 1358720.0,\n",
       "  'side': 'SELL',\n",
       "  'size': 0.05,\n",
       "  'timestamp': '20201024072246090000'},\n",
       " {'price': 1358720.0,\n",
       "  'side': 'BUY',\n",
       "  'size': 0.05,\n",
       "  'timestamp': '20201024072246090000'},\n",
       " {'price': 1358999.0,\n",
       "  'side': 'SELL',\n",
       "  'size': 0.003,\n",
       "  'timestamp': '20201024072208768000'},\n",
       " {'price': 1358999.0,\n",
       "  'side': 'BUY',\n",
       "  'size': 0.003,\n",
       "  'timestamp': '20201024072208768000'},\n",
       " {'price': 1359760.0,\n",
       "  'side': 'SELL',\n",
       "  'size': 0.028,\n",
       "  'timestamp': '20201024071820536000'},\n",
       " {'price': 1359760.0,\n",
       "  'side': 'BUY',\n",
       "  'size': 0.028,\n",
       "  'timestamp': '20201024071820536000'},\n",
       " {'price': 1360000.0,\n",
       "  'side': 'SELL',\n",
       "  'size': 0.0016,\n",
       "  'timestamp': '20201024071644894000'},\n",
       " {'price': 1360000.0,\n",
       "  'side': 'BUY',\n",
       "  'size': 0.0016,\n",
       "  'timestamp': '20201024071644894000'},\n",
       " {'price': 1358540.0,\n",
       "  'side': 'SELL',\n",
       "  'size': 0.0023,\n",
       "  'timestamp': '20201024071357168000'},\n",
       " {'price': 1358540.0,\n",
       "  'side': 'BUY',\n",
       "  'size': 0.0023,\n",
       "  'timestamp': '20201024071357168000'},\n",
       " {'price': 1358490.0,\n",
       "  'side': 'SELL',\n",
       "  'size': 0.0011,\n",
       "  'timestamp': '20201024071252221000'},\n",
       " {'price': 1358490.0,\n",
       "  'side': 'BUY',\n",
       "  'size': 0.0011,\n",
       "  'timestamp': '20201024071252221000'},\n",
       " {'price': 1358540.0,\n",
       "  'side': 'SELL',\n",
       "  'size': 0.0005,\n",
       "  'timestamp': '20201024071225217000'},\n",
       " {'price': 1358540.0,\n",
       "  'side': 'BUY',\n",
       "  'size': 0.0005,\n",
       "  'timestamp': '20201024071225217000'},\n",
       " {'price': 1357710.0,\n",
       "  'side': 'SELL',\n",
       "  'size': 0.0099,\n",
       "  'timestamp': '20201024070636076000'},\n",
       " {'price': 1357710.0,\n",
       "  'side': 'BUY',\n",
       "  'size': 0.0099,\n",
       "  'timestamp': '20201024070636076000'},\n",
       " {'price': 1357098.0,\n",
       "  'side': 'SELL',\n",
       "  'size': 0.0001,\n",
       "  'timestamp': '20201024070636076000'},\n",
       " {'price': 1357098.0,\n",
       "  'side': 'BUY',\n",
       "  'size': 0.0001,\n",
       "  'timestamp': '20201024070636076000'},\n",
       " {'price': 1357011.0,\n",
       "  'side': 'SELL',\n",
       "  'size': 0.003,\n",
       "  'timestamp': '20201024070550540000'},\n",
       " {'price': 1357011.0,\n",
       "  'side': 'BUY',\n",
       "  'size': 0.003,\n",
       "  'timestamp': '20201024070550540000'},\n",
       " {'price': 1357011.0,\n",
       "  'side': 'SELL',\n",
       "  'size': 0.02,\n",
       "  'timestamp': '20201024070518437000'},\n",
       " {'price': 1357011.0,\n",
       "  'side': 'BUY',\n",
       "  'size': 0.02,\n",
       "  'timestamp': '20201024070518437000'},\n",
       " {'price': 1357021.0,\n",
       "  'side': 'BUY',\n",
       "  'size': 0.005,\n",
       "  'timestamp': '20201024070306549000'},\n",
       " {'price': 1357021.0,\n",
       "  'side': 'SELL',\n",
       "  'size': 0.005,\n",
       "  'timestamp': '20201024070306549000'},\n",
       " {'price': 1358005.0,\n",
       "  'side': 'SELL',\n",
       "  'size': 0.2,\n",
       "  'timestamp': '20201024070142309000'},\n",
       " {'price': 1358005.0,\n",
       "  'side': 'BUY',\n",
       "  'size': 0.2,\n",
       "  'timestamp': '20201024070142309000'},\n",
       " {'price': 1358000.0,\n",
       "  'side': 'SELL',\n",
       "  'size': 0.1,\n",
       "  'timestamp': '20201024070142309000'},\n",
       " {'price': 1358000.0,\n",
       "  'side': 'BUY',\n",
       "  'size': 0.1,\n",
       "  'timestamp': '20201024070142309000'},\n",
       " {'price': 1357011.0,\n",
       "  'side': 'BUY',\n",
       "  'size': 0.0022,\n",
       "  'timestamp': '20201024070104474000'},\n",
       " {'price': 1357011.0,\n",
       "  'side': 'SELL',\n",
       "  'size': 0.0022,\n",
       "  'timestamp': '20201024070104474000'},\n",
       " {'price': 1357041.0,\n",
       "  'side': 'BUY',\n",
       "  'size': 0.0015,\n",
       "  'timestamp': '20201024065843299000'},\n",
       " {'price': 1357041.0,\n",
       "  'side': 'SELL',\n",
       "  'size': 0.0015,\n",
       "  'timestamp': '20201024065843299000'},\n",
       " {'price': 1358040.0,\n",
       "  'side': 'SELL',\n",
       "  'size': 0.0013,\n",
       "  'timestamp': '20201024065619383000'},\n",
       " {'price': 1358040.0,\n",
       "  'side': 'BUY',\n",
       "  'size': 0.0013,\n",
       "  'timestamp': '20201024065619383000'},\n",
       " {'price': 1358089.0,\n",
       "  'side': 'SELL',\n",
       "  'size': 0.0032,\n",
       "  'timestamp': '20201024065610408000'},\n",
       " {'price': 1358089.0,\n",
       "  'side': 'BUY',\n",
       "  'size': 0.0032,\n",
       "  'timestamp': '20201024065610408000'},\n",
       " {'price': 1357206.0,\n",
       "  'side': 'BUY',\n",
       "  'size': 0.0015,\n",
       "  'timestamp': '20201024065157122000'},\n",
       " {'price': 1357206.0,\n",
       "  'side': 'SELL',\n",
       "  'size': 0.0015,\n",
       "  'timestamp': '20201024065157122000'},\n",
       " {'price': 1358480.0,\n",
       "  'side': 'BUY',\n",
       "  'size': 0.0095,\n",
       "  'timestamp': '20201024065050440000'},\n",
       " {'price': 1358481.0,\n",
       "  'side': 'SELL',\n",
       "  'size': 0.0088,\n",
       "  'timestamp': '20201024065041511000'},\n",
       " {'price': 1358481.0,\n",
       "  'side': 'BUY',\n",
       "  'size': 0.0088,\n",
       "  'timestamp': '20201024065041511000'},\n",
       " {'price': 1358480.0,\n",
       "  'side': 'BUY',\n",
       "  'size': 0.0002,\n",
       "  'timestamp': '20201024064843379000'},\n",
       " {'price': 1358480.0,\n",
       "  'side': 'SELL',\n",
       "  'size': 0.0002,\n",
       "  'timestamp': '20201024064843379000'},\n",
       " {'price': 1358752.0,\n",
       "  'side': 'SELL',\n",
       "  'size': 0.028,\n",
       "  'timestamp': '20201024064825270000'},\n",
       " {'price': 1358752.0,\n",
       "  'side': 'BUY',\n",
       "  'size': 0.028,\n",
       "  'timestamp': '20201024064825270000'}]"
      ]
     },
     "metadata": {},
     "execution_count": 31
    }
   ],
   "source": [
    "data"
   ]
  },
  {
   "cell_type": "code",
   "execution_count": null,
   "metadata": {},
   "outputs": [],
   "source": []
  }
 ]
}