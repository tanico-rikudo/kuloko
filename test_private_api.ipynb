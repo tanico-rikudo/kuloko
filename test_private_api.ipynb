{
 "metadata": {
  "language_info": {
   "codemirror_mode": {
    "name": "ipython",
    "version": 3
   },
   "file_extension": ".py",
   "mimetype": "text/x-python",
   "name": "python",
   "nbconvert_exporter": "python",
   "pygments_lexer": "ipython3",
   "version": "3.7.6-final"
  },
  "orig_nbformat": 2,
  "kernelspec": {
   "name": "Python 3.7.6 64-bit ('py37b')",
   "display_name": "Python 3.7.6 64-bit ('py37b')",
   "metadata": {
    "interpreter": {
     "hash": "edf7c2d5f0f70628fc224588ceca2c2113a9ef071d19ac3a0b9346fc3eba554c"
    }
   }
  }
 },
 "nbformat": 4,
 "nbformat_minor": 2,
 "cells": [
  {
   "cell_type": "code",
   "execution_count": 1,
   "metadata": {},
   "outputs": [],
   "source": [
    "%load_ext autoreload\n",
    "%autoreload 2"
   ]
  },
  {
   "cell_type": "code",
   "execution_count": 34,
   "metadata": {},
   "outputs": [],
   "source": [
    "import requests\n",
    "import json\n",
    "import urllib.parse\n",
    "import logging\n",
    "import logging.config\n",
    "\n",
    "import pandas as pd\n",
    "import numpy as np\n",
    "\n",
    "logging.config.fileConfig('./ini/logconfig.ini')\n",
    "logger = logging.getLogger(\"KULOKO\")"
   ]
  },
  {
   "cell_type": "code",
   "execution_count": 35,
   "metadata": {},
   "outputs": [],
   "source": [
    "import src.api_handler as api"
   ]
  },
  {
   "cell_type": "code",
   "execution_count": 44,
   "metadata": {},
   "outputs": [],
   "source": [
    "\n",
    "margin = api.Margin()"
   ]
  },
  {
   "cell_type": "code",
   "execution_count": 45,
   "metadata": {},
   "outputs": [
    {
     "output_type": "execute_result",
     "data": {
      "text/plain": [
       "{'actualProfitLoss': 261052.0,\n",
       " 'availableAmount': 255977.0,\n",
       " 'margin': 0.0,\n",
       " 'profitLoss': 0.0}"
      ]
     },
     "metadata": {},
     "execution_count": 45
    }
   ],
   "source": [
    "margin.fetch('json')"
   ]
  },
  {
   "cell_type": "code",
   "execution_count": 46,
   "metadata": {},
   "outputs": [
    {
     "output_type": "execute_result",
     "data": {
      "text/plain": [
       "actualProfitLoss    261052.0\n",
       "availableAmount     255977.0\n",
       "margin                   0.0\n",
       "profitLoss               0.0\n",
       "dtype: float64"
      ]
     },
     "metadata": {},
     "execution_count": 46
    }
   ],
   "source": [
    "margin.fetch('dataframe')"
   ]
  },
  {
   "cell_type": "code",
   "execution_count": 47,
   "metadata": {},
   "outputs": [],
   "source": [
    "assets = api.Assets()"
   ]
  },
  {
   "cell_type": "code",
   "execution_count": 48,
   "metadata": {},
   "outputs": [
    {
     "output_type": "execute_result",
     "data": {
      "text/plain": [
       "        amount    available  conversionRate symbol\n",
       "0  261052.0000  261052.0000           1.000    JPY\n",
       "1       0.1129       0.1129     1327246.000    BTC\n",
       "2       0.0000       0.0000       42041.000    ETH\n",
       "3       0.0000       0.0000       27383.000    BCH\n",
       "4       0.0000       0.0000        5695.000    LTC\n",
       "5       0.0000       0.0000          25.752    XRP\n",
       "6       0.0000       0.0000          10.795    XEM\n",
       "7       0.0000       0.0000           8.353    XLM\n",
       "8       0.0000       0.0000          21.776    BAT\n",
       "9       0.0000       0.0000         348.352    OMG"
      ],
      "text/html": "<div>\n<style scoped>\n    .dataframe tbody tr th:only-of-type {\n        vertical-align: middle;\n    }\n\n    .dataframe tbody tr th {\n        vertical-align: top;\n    }\n\n    .dataframe thead th {\n        text-align: right;\n    }\n</style>\n<table border=\"1\" class=\"dataframe\">\n  <thead>\n    <tr style=\"text-align: right;\">\n      <th></th>\n      <th>amount</th>\n      <th>available</th>\n      <th>conversionRate</th>\n      <th>symbol</th>\n    </tr>\n  </thead>\n  <tbody>\n    <tr>\n      <th>0</th>\n      <td>261052.0000</td>\n      <td>261052.0000</td>\n      <td>1.000</td>\n      <td>JPY</td>\n    </tr>\n    <tr>\n      <th>1</th>\n      <td>0.1129</td>\n      <td>0.1129</td>\n      <td>1327246.000</td>\n      <td>BTC</td>\n    </tr>\n    <tr>\n      <th>2</th>\n      <td>0.0000</td>\n      <td>0.0000</td>\n      <td>42041.000</td>\n      <td>ETH</td>\n    </tr>\n    <tr>\n      <th>3</th>\n      <td>0.0000</td>\n      <td>0.0000</td>\n      <td>27383.000</td>\n      <td>BCH</td>\n    </tr>\n    <tr>\n      <th>4</th>\n      <td>0.0000</td>\n      <td>0.0000</td>\n      <td>5695.000</td>\n      <td>LTC</td>\n    </tr>\n    <tr>\n      <th>5</th>\n      <td>0.0000</td>\n      <td>0.0000</td>\n      <td>25.752</td>\n      <td>XRP</td>\n    </tr>\n    <tr>\n      <th>6</th>\n      <td>0.0000</td>\n      <td>0.0000</td>\n      <td>10.795</td>\n      <td>XEM</td>\n    </tr>\n    <tr>\n      <th>7</th>\n      <td>0.0000</td>\n      <td>0.0000</td>\n      <td>8.353</td>\n      <td>XLM</td>\n    </tr>\n    <tr>\n      <th>8</th>\n      <td>0.0000</td>\n      <td>0.0000</td>\n      <td>21.776</td>\n      <td>BAT</td>\n    </tr>\n    <tr>\n      <th>9</th>\n      <td>0.0000</td>\n      <td>0.0000</td>\n      <td>348.352</td>\n      <td>OMG</td>\n    </tr>\n  </tbody>\n</table>\n</div>"
     },
     "metadata": {},
     "execution_count": 48
    }
   ],
   "source": [
    "assets.fetch('dataframe')"
   ]
  },
  {
   "cell_type": "code",
   "execution_count": 52,
   "metadata": {},
   "outputs": [],
   "source": [
    "sym ='BTC'\n",
    "orders = api.Orders()"
   ]
  },
  {
   "cell_type": "code",
   "execution_count": 58,
   "metadata": {},
   "outputs": [
    {
     "output_type": "execute_result",
     "data": {
      "text/plain": [
       "[{'executedSize': 0.0,\n",
       "  'executionType': 'LIMIT',\n",
       "  'losscutPrice': 0.0,\n",
       "  'orderId': 742371314,\n",
       "  'orderType': 'NORMAL',\n",
       "  'price': 611000.0,\n",
       "  'rootOrderId': 742371314,\n",
       "  'settleType': 'OPEN',\n",
       "  'side': 'BUY',\n",
       "  'size': 0.0083,\n",
       "  'status': 'ORDERED',\n",
       "  'symbol': 'BTC',\n",
       "  'timeInForce': 'FAS',\n",
       "  'timestamp': '20200319111027345000'}]"
      ]
     },
     "metadata": {},
     "execution_count": 58
    }
   ],
   "source": [
    "orders.fetch_active(sym,'json')"
   ]
  },
  {
   "cell_type": "code",
   "execution_count": 57,
   "metadata": {},
   "outputs": [
    {
     "output_type": "execute_result",
     "data": {
      "text/plain": [
       "   executedSize executionType  losscutPrice    orderId orderType     price  \\\n",
       "0           0.0         LIMIT           0.0  742371314    NORMAL  611000.0   \n",
       "\n",
       "   rootOrderId settleType side    size   status symbol timeInForce  \\\n",
       "0    742371314       OPEN  BUY  0.0083  ORDERED    BTC         FAS   \n",
       "\n",
       "                         timestamp  \n",
       "0 2020-03-19 11:10:27.345000+00:00  "
      ],
      "text/html": "<div>\n<style scoped>\n    .dataframe tbody tr th:only-of-type {\n        vertical-align: middle;\n    }\n\n    .dataframe tbody tr th {\n        vertical-align: top;\n    }\n\n    .dataframe thead th {\n        text-align: right;\n    }\n</style>\n<table border=\"1\" class=\"dataframe\">\n  <thead>\n    <tr style=\"text-align: right;\">\n      <th></th>\n      <th>executedSize</th>\n      <th>executionType</th>\n      <th>losscutPrice</th>\n      <th>orderId</th>\n      <th>orderType</th>\n      <th>price</th>\n      <th>rootOrderId</th>\n      <th>settleType</th>\n      <th>side</th>\n      <th>size</th>\n      <th>status</th>\n      <th>symbol</th>\n      <th>timeInForce</th>\n      <th>timestamp</th>\n    </tr>\n  </thead>\n  <tbody>\n    <tr>\n      <th>0</th>\n      <td>0.0</td>\n      <td>LIMIT</td>\n      <td>0.0</td>\n      <td>742371314</td>\n      <td>NORMAL</td>\n      <td>611000.0</td>\n      <td>742371314</td>\n      <td>OPEN</td>\n      <td>BUY</td>\n      <td>0.0083</td>\n      <td>ORDERED</td>\n      <td>BTC</td>\n      <td>FAS</td>\n      <td>2020-03-19 11:10:27.345000+00:00</td>\n    </tr>\n  </tbody>\n</table>\n</div>"
     },
     "metadata": {},
     "execution_count": 57
    }
   ],
   "source": [
    "orders.fetch_active(sym,'dataframe')"
   ]
  },
  {
   "cell_type": "code",
   "execution_count": 59,
   "metadata": {},
   "outputs": [
    {
     "output_type": "execute_result",
     "data": {
      "text/plain": [
       "[{'executedSize': 0.0,\n",
       "  'executionType': 'LIMIT',\n",
       "  'losscutPrice': 0.0,\n",
       "  'orderId': 742371314,\n",
       "  'orderType': 'NORMAL',\n",
       "  'price': 611000.0,\n",
       "  'rootOrderId': 742371314,\n",
       "  'settleType': 'OPEN',\n",
       "  'side': 'BUY',\n",
       "  'size': 0.0083,\n",
       "  'status': 'ORDERED',\n",
       "  'symbol': 'BTC',\n",
       "  'timeInForce': 'FAS',\n",
       "  'timestamp': '20200319111027345000'}]"
      ]
     },
     "metadata": {},
     "execution_count": 59
    }
   ],
   "source": [
    "orders.fetch_by_orderId(742371314, 'json')"
   ]
  },
  {
   "cell_type": "code",
   "execution_count": 60,
   "metadata": {},
   "outputs": [
    {
     "output_type": "execute_result",
     "data": {
      "text/plain": [
       "   executedSize executionType  losscutPrice    orderId orderType     price  \\\n",
       "0           0.0         LIMIT           0.0  742371314    NORMAL  611000.0   \n",
       "\n",
       "   rootOrderId settleType side    size   status symbol timeInForce  \\\n",
       "0    742371314       OPEN  BUY  0.0083  ORDERED    BTC         FAS   \n",
       "\n",
       "                         timestamp  \n",
       "0 2020-03-19 11:10:27.345000+00:00  "
      ],
      "text/html": "<div>\n<style scoped>\n    .dataframe tbody tr th:only-of-type {\n        vertical-align: middle;\n    }\n\n    .dataframe tbody tr th {\n        vertical-align: top;\n    }\n\n    .dataframe thead th {\n        text-align: right;\n    }\n</style>\n<table border=\"1\" class=\"dataframe\">\n  <thead>\n    <tr style=\"text-align: right;\">\n      <th></th>\n      <th>executedSize</th>\n      <th>executionType</th>\n      <th>losscutPrice</th>\n      <th>orderId</th>\n      <th>orderType</th>\n      <th>price</th>\n      <th>rootOrderId</th>\n      <th>settleType</th>\n      <th>side</th>\n      <th>size</th>\n      <th>status</th>\n      <th>symbol</th>\n      <th>timeInForce</th>\n      <th>timestamp</th>\n    </tr>\n  </thead>\n  <tbody>\n    <tr>\n      <th>0</th>\n      <td>0.0</td>\n      <td>LIMIT</td>\n      <td>0.0</td>\n      <td>742371314</td>\n      <td>NORMAL</td>\n      <td>611000.0</td>\n      <td>742371314</td>\n      <td>OPEN</td>\n      <td>BUY</td>\n      <td>0.0083</td>\n      <td>ORDERED</td>\n      <td>BTC</td>\n      <td>FAS</td>\n      <td>2020-03-19 11:10:27.345000+00:00</td>\n    </tr>\n  </tbody>\n</table>\n</div>"
     },
     "metadata": {},
     "execution_count": 60
    }
   ],
   "source": [
    "orders.fetch_by_orderId(742371314, 'dataframe')"
   ]
  },
  {
   "cell_type": "code",
   "execution_count": null,
   "metadata": {},
   "outputs": [],
   "source": []
  },
  {
   "cell_type": "code",
   "execution_count": null,
   "metadata": {},
   "outputs": [],
   "source": []
  },
  {
   "cell_type": "code",
   "execution_count": null,
   "metadata": {},
   "outputs": [],
   "source": []
  },
  {
   "cell_type": "code",
   "execution_count": null,
   "metadata": {},
   "outputs": [],
   "source": []
  },
  {
   "cell_type": "code",
   "execution_count": null,
   "metadata": {},
   "outputs": [],
   "source": []
  },
  {
   "cell_type": "code",
   "execution_count": 65,
   "metadata": {},
   "outputs": [],
   "source": [
    "executions = api.Executions()"
   ]
  },
  {
   "cell_type": "code",
   "execution_count": 66,
   "metadata": {},
   "outputs": [
    {
     "output_type": "execute_result",
     "data": {
      "text/plain": [
       "[{'executionId': 198661789,\n",
       "  'fee': -1.0,\n",
       "  'lossGain': 0.0,\n",
       "  'orderId': 976854723,\n",
       "  'price': 1357210.0,\n",
       "  'settleType': 'OPEN',\n",
       "  'side': 'BUY',\n",
       "  'size': 0.0102,\n",
       "  'symbol': 'BTC',\n",
       "  'timestamp': '20201024063055761000'},\n",
       " {'executionId': 198661788,\n",
       "  'fee': -5.0,\n",
       "  'lossGain': 0.0,\n",
       "  'orderId': 976854723,\n",
       "  'price': 1357210.0,\n",
       "  'settleType': 'OPEN',\n",
       "  'side': 'BUY',\n",
       "  'size': 0.0369,\n",
       "  'symbol': 'BTC',\n",
       "  'timestamp': '20201024063047490000'},\n",
       " {'executionId': 198569597,\n",
       "  'fee': 34.0,\n",
       "  'lossGain': 0.0,\n",
       "  'orderId': 976254177,\n",
       "  'price': 1359360.0,\n",
       "  'settleType': 'OPEN',\n",
       "  'side': 'SELL',\n",
       "  'size': 0.05,\n",
       "  'symbol': 'BTC',\n",
       "  'timestamp': '20201023024008921000'},\n",
       " {'executionId': 198569424,\n",
       "  'fee': -6.0,\n",
       "  'lossGain': 0.0,\n",
       "  'orderId': 976189651,\n",
       "  'price': 1355950.0,\n",
       "  'settleType': 'OPEN',\n",
       "  'side': 'BUY',\n",
       "  'size': 0.05,\n",
       "  'symbol': 'BTC',\n",
       "  'timestamp': '20201023015137919000'}]"
      ]
     },
     "metadata": {},
     "execution_count": 66
    }
   ],
   "source": [
    "executions.fetch_latestExecutions(sym)"
   ]
  },
  {
   "cell_type": "code",
   "execution_count": 68,
   "metadata": {},
   "outputs": [
    {
     "output_type": "execute_result",
     "data": {
      "text/plain": [
       "[{'executionId': 198661789,\n",
       "  'fee': -1.0,\n",
       "  'lossGain': 0.0,\n",
       "  'orderId': 976854723,\n",
       "  'price': 1357210.0,\n",
       "  'settleType': 'OPEN',\n",
       "  'side': 'BUY',\n",
       "  'size': 0.0102,\n",
       "  'symbol': 'BTC',\n",
       "  'timestamp': '20201024063055761000'},\n",
       " {'executionId': 198661788,\n",
       "  'fee': -5.0,\n",
       "  'lossGain': 0.0,\n",
       "  'orderId': 976854723,\n",
       "  'price': 1357210.0,\n",
       "  'settleType': 'OPEN',\n",
       "  'side': 'BUY',\n",
       "  'size': 0.0369,\n",
       "  'symbol': 'BTC',\n",
       "  'timestamp': '20201024063047490000'},\n",
       " {'executionId': 198569597,\n",
       "  'fee': 34.0,\n",
       "  'lossGain': 0.0,\n",
       "  'orderId': 976254177,\n",
       "  'price': 1359360.0,\n",
       "  'settleType': 'OPEN',\n",
       "  'side': 'SELL',\n",
       "  'size': 0.05,\n",
       "  'symbol': 'BTC',\n",
       "  'timestamp': '20201023024008921000'},\n",
       " {'executionId': 198569424,\n",
       "  'fee': -6.0,\n",
       "  'lossGain': 0.0,\n",
       "  'orderId': 976189651,\n",
       "  'price': 1355950.0,\n",
       "  'settleType': 'OPEN',\n",
       "  'side': 'BUY',\n",
       "  'size': 0.05,\n",
       "  'symbol': 'BTC',\n",
       "  'timestamp': '20201023015137919000'}]"
      ]
     },
     "metadata": {},
     "execution_count": 68
    }
   ],
   "source": [
    "executions.fetch_latestExecutions(sym, return_type='json')"
   ]
  },
  {
   "cell_type": "code",
   "execution_count": 67,
   "metadata": {},
   "outputs": [
    {
     "output_type": "execute_result",
     "data": {
      "text/plain": [
       "   executionId   fee  lossGain    orderId      price settleType  side    size  \\\n",
       "0    198661789  -1.0       0.0  976854723  1357210.0       OPEN   BUY  0.0102   \n",
       "1    198661788  -5.0       0.0  976854723  1357210.0       OPEN   BUY  0.0369   \n",
       "2    198569597  34.0       0.0  976254177  1359360.0       OPEN  SELL  0.0500   \n",
       "3    198569424  -6.0       0.0  976189651  1355950.0       OPEN   BUY  0.0500   \n",
       "\n",
       "  symbol                        timestamp  \n",
       "0    BTC 2020-10-24 06:30:55.761000+00:00  \n",
       "1    BTC 2020-10-24 06:30:47.490000+00:00  \n",
       "2    BTC 2020-10-23 02:40:08.921000+00:00  \n",
       "3    BTC 2020-10-23 01:51:37.919000+00:00  "
      ],
      "text/html": "<div>\n<style scoped>\n    .dataframe tbody tr th:only-of-type {\n        vertical-align: middle;\n    }\n\n    .dataframe tbody tr th {\n        vertical-align: top;\n    }\n\n    .dataframe thead th {\n        text-align: right;\n    }\n</style>\n<table border=\"1\" class=\"dataframe\">\n  <thead>\n    <tr style=\"text-align: right;\">\n      <th></th>\n      <th>executionId</th>\n      <th>fee</th>\n      <th>lossGain</th>\n      <th>orderId</th>\n      <th>price</th>\n      <th>settleType</th>\n      <th>side</th>\n      <th>size</th>\n      <th>symbol</th>\n      <th>timestamp</th>\n    </tr>\n  </thead>\n  <tbody>\n    <tr>\n      <th>0</th>\n      <td>198661789</td>\n      <td>-1.0</td>\n      <td>0.0</td>\n      <td>976854723</td>\n      <td>1357210.0</td>\n      <td>OPEN</td>\n      <td>BUY</td>\n      <td>0.0102</td>\n      <td>BTC</td>\n      <td>2020-10-24 06:30:55.761000+00:00</td>\n    </tr>\n    <tr>\n      <th>1</th>\n      <td>198661788</td>\n      <td>-5.0</td>\n      <td>0.0</td>\n      <td>976854723</td>\n      <td>1357210.0</td>\n      <td>OPEN</td>\n      <td>BUY</td>\n      <td>0.0369</td>\n      <td>BTC</td>\n      <td>2020-10-24 06:30:47.490000+00:00</td>\n    </tr>\n    <tr>\n      <th>2</th>\n      <td>198569597</td>\n      <td>34.0</td>\n      <td>0.0</td>\n      <td>976254177</td>\n      <td>1359360.0</td>\n      <td>OPEN</td>\n      <td>SELL</td>\n      <td>0.0500</td>\n      <td>BTC</td>\n      <td>2020-10-23 02:40:08.921000+00:00</td>\n    </tr>\n    <tr>\n      <th>3</th>\n      <td>198569424</td>\n      <td>-6.0</td>\n      <td>0.0</td>\n      <td>976189651</td>\n      <td>1355950.0</td>\n      <td>OPEN</td>\n      <td>BUY</td>\n      <td>0.0500</td>\n      <td>BTC</td>\n      <td>2020-10-23 01:51:37.919000+00:00</td>\n    </tr>\n  </tbody>\n</table>\n</div>"
     },
     "metadata": {},
     "execution_count": 67
    }
   ],
   "source": [
    "executions.fetch_latestExecutions(sym, return_type='dataframe')"
   ]
  },
  {
   "cell_type": "code",
   "execution_count": 70,
   "metadata": {},
   "outputs": [
    {
     "output_type": "execute_result",
     "data": {
      "text/plain": [
       "   executionId  fee  lossGain    orderId      price settleType side  size  \\\n",
       "0    197842661 -4.0       0.0  972638686  1195850.0       OPEN  BUY  0.04   \n",
       "\n",
       "  symbol                        timestamp  \n",
       "0    BTC 2020-10-16 23:27:13.784000+00:00  "
      ],
      "text/html": "<div>\n<style scoped>\n    .dataframe tbody tr th:only-of-type {\n        vertical-align: middle;\n    }\n\n    .dataframe tbody tr th {\n        vertical-align: top;\n    }\n\n    .dataframe thead th {\n        text-align: right;\n    }\n</style>\n<table border=\"1\" class=\"dataframe\">\n  <thead>\n    <tr style=\"text-align: right;\">\n      <th></th>\n      <th>executionId</th>\n      <th>fee</th>\n      <th>lossGain</th>\n      <th>orderId</th>\n      <th>price</th>\n      <th>settleType</th>\n      <th>side</th>\n      <th>size</th>\n      <th>symbol</th>\n      <th>timestamp</th>\n    </tr>\n  </thead>\n  <tbody>\n    <tr>\n      <th>0</th>\n      <td>197842661</td>\n      <td>-4.0</td>\n      <td>0.0</td>\n      <td>972638686</td>\n      <td>1195850.0</td>\n      <td>OPEN</td>\n      <td>BUY</td>\n      <td>0.04</td>\n      <td>BTC</td>\n      <td>2020-10-16 23:27:13.784000+00:00</td>\n    </tr>\n  </tbody>\n</table>\n</div>"
     },
     "metadata": {},
     "execution_count": 70
    }
   ],
   "source": [
    "executions.fetch_by_id(972638686,return_type='dataframe')"
   ]
  },
  {
   "cell_type": "code",
   "execution_count": 69,
   "metadata": {},
   "outputs": [
    {
     "output_type": "execute_result",
     "data": {
      "text/plain": [
       "[{'executionId': 197842661,\n",
       "  'fee': -4.0,\n",
       "  'lossGain': 0.0,\n",
       "  'orderId': 972638686,\n",
       "  'price': 1195850.0,\n",
       "  'settleType': 'OPEN',\n",
       "  'side': 'BUY',\n",
       "  'size': 0.04,\n",
       "  'symbol': 'BTC',\n",
       "  'timestamp': '20201016232713784000'}]"
      ]
     },
     "metadata": {},
     "execution_count": 69
    }
   ],
   "source": [
    "executions.fetch_by_id(972638686)"
   ]
  },
  {
   "cell_type": "code",
   "execution_count": 71,
   "metadata": {},
   "outputs": [],
   "source": [
    "order = api.Order()"
   ]
  },
  {
   "cell_type": "code",
   "execution_count": 72,
   "metadata": {},
   "outputs": [],
   "source": [
    "reqBody = {\n",
    "    \"symbol\": \"BTC\",\n",
    "    \"side\": \"BUY\",\n",
    "    \"executionType\": \"LIMIT\",\n",
    "    \"timeInForce\": \"SOK\",\n",
    "    \"price\": 1094000,\n",
    "    \"losscutPrice\":None,\n",
    "    \"size\": 0.002\n",
    "}"
   ]
  },
  {
   "cell_type": "code",
   "execution_count": 73,
   "metadata": {},
   "outputs": [],
   "source": [
    "res = order.do_order(**reqBody)"
   ]
  },
  {
   "cell_type": "code",
   "execution_count": 74,
   "metadata": {},
   "outputs": [],
   "source": [
    "orderId = res['data']\n",
    "reqBody = {\n",
    "    \"orderId\": orderId,\n",
    "    \"price\": 1094001,\n",
    "    \"losscutPrice\": None\n",
    "}"
   ]
  },
  {
   "cell_type": "code",
   "execution_count": 75,
   "metadata": {},
   "outputs": [],
   "source": [
    "res2 = order.do_change(**reqBody)"
   ]
  },
  {
   "cell_type": "code",
   "execution_count": 76,
   "metadata": {},
   "outputs": [],
   "source": [
    "reqBody = {\n",
    "    \"orderId\": orderId\n",
    "}"
   ]
  },
  {
   "cell_type": "code",
   "execution_count": 77,
   "metadata": {},
   "outputs": [],
   "source": [
    "res3 = order.do_cancel(**reqBody)"
   ]
  },
  {
   "cell_type": "code",
   "execution_count": null,
   "metadata": {},
   "outputs": [],
   "source": []
  }
 ]
}