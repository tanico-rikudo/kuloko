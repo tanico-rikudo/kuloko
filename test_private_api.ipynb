{
 "metadata": {
  "language_info": {
   "codemirror_mode": {
    "name": "ipython",
    "version": 3
   },
   "file_extension": ".py",
   "mimetype": "text/x-python",
   "name": "python",
   "nbconvert_exporter": "python",
   "pygments_lexer": "ipython3",
   "version": "3.7.6-final"
  },
  "orig_nbformat": 2,
  "kernelspec": {
   "name": "Python 3.7.6 64-bit ('py37b')",
   "display_name": "Python 3.7.6 64-bit ('py37b')",
   "metadata": {
    "interpreter": {
     "hash": "edf7c2d5f0f70628fc224588ceca2c2113a9ef071d19ac3a0b9346fc3eba554c"
    }
   }
  }
 },
 "nbformat": 4,
 "nbformat_minor": 2,
 "cells": [
  {
   "cell_type": "code",
   "execution_count": 138,
   "metadata": {},
   "outputs": [
    {
     "output_type": "stream",
     "name": "stdout",
     "text": [
      "The autoreload extension is already loaded. To reload it, use:\n  %reload_ext autoreload\n"
     ]
    }
   ],
   "source": [
    "%load_ext autoreload\n",
    "%autoreload 2"
   ]
  },
  {
   "cell_type": "code",
   "execution_count": 143,
   "metadata": {},
   "outputs": [],
   "source": [
    "import requests\n",
    "import json\n",
    "import urllib.parse\n",
    "import logging\n",
    "import logging.config\n",
    "\n",
    "import pandas as pd\n",
    "import numpy as np\n",
    "\n",
    "logging.config.fileConfig('./ini/logconfig.ini')\n",
    "logger = logging.getLogger(\"KULOKO\")"
   ]
  },
  {
   "cell_type": "code",
   "execution_count": 144,
   "metadata": {},
   "outputs": [],
   "source": [
    "import src.api_handler as api"
   ]
  },
  {
   "cell_type": "code",
   "execution_count": 145,
   "metadata": {},
   "outputs": [],
   "source": [
    "\n",
    "margin = api.Margin()"
   ]
  },
  {
   "cell_type": "code",
   "execution_count": 146,
   "metadata": {},
   "outputs": [
    {
     "output_type": "execute_result",
     "data": {
      "text/plain": [
       "{'actualProfitLoss': 102642.0,\n",
       " 'availableAmount': 97567.0,\n",
       " 'margin': 0.0,\n",
       " 'profitLoss': 0.0}"
      ]
     },
     "metadata": {},
     "execution_count": 146
    }
   ],
   "source": [
    "margin.fetch('json')"
   ]
  },
  {
   "cell_type": "code",
   "execution_count": 147,
   "metadata": {},
   "outputs": [],
   "source": [
    "assets = api.Assets()"
   ]
  },
  {
   "cell_type": "code",
   "execution_count": 148,
   "metadata": {},
   "outputs": [
    {
     "output_type": "execute_result",
     "data": {
      "text/plain": [
       "        amount    available  conversionRate symbol\n",
       "0  102642.0000  102642.0000           1.000    JPY\n",
       "1       0.2458       0.2458     1171184.000    BTC\n",
       "2       0.0000       0.0000       37889.000    ETH\n",
       "3       0.0000       0.0000       25150.000    BCH\n",
       "4       0.0000       0.0000        4781.000    LTC\n",
       "5       0.0000       0.0000          24.689    XRP\n",
       "6       0.0000       0.0000          11.495    XEM\n",
       "7       0.0000       0.0000           8.110    XLM\n",
       "8       0.0000       0.0000          21.380    BAT\n",
       "9       0.0000       0.0000         324.306    OMG"
      ],
      "text/html": "<div>\n<style scoped>\n    .dataframe tbody tr th:only-of-type {\n        vertical-align: middle;\n    }\n\n    .dataframe tbody tr th {\n        vertical-align: top;\n    }\n\n    .dataframe thead th {\n        text-align: right;\n    }\n</style>\n<table border=\"1\" class=\"dataframe\">\n  <thead>\n    <tr style=\"text-align: right;\">\n      <th></th>\n      <th>amount</th>\n      <th>available</th>\n      <th>conversionRate</th>\n      <th>symbol</th>\n    </tr>\n  </thead>\n  <tbody>\n    <tr>\n      <th>0</th>\n      <td>102642.0000</td>\n      <td>102642.0000</td>\n      <td>1.000</td>\n      <td>JPY</td>\n    </tr>\n    <tr>\n      <th>1</th>\n      <td>0.2458</td>\n      <td>0.2458</td>\n      <td>1171184.000</td>\n      <td>BTC</td>\n    </tr>\n    <tr>\n      <th>2</th>\n      <td>0.0000</td>\n      <td>0.0000</td>\n      <td>37889.000</td>\n      <td>ETH</td>\n    </tr>\n    <tr>\n      <th>3</th>\n      <td>0.0000</td>\n      <td>0.0000</td>\n      <td>25150.000</td>\n      <td>BCH</td>\n    </tr>\n    <tr>\n      <th>4</th>\n      <td>0.0000</td>\n      <td>0.0000</td>\n      <td>4781.000</td>\n      <td>LTC</td>\n    </tr>\n    <tr>\n      <th>5</th>\n      <td>0.0000</td>\n      <td>0.0000</td>\n      <td>24.689</td>\n      <td>XRP</td>\n    </tr>\n    <tr>\n      <th>6</th>\n      <td>0.0000</td>\n      <td>0.0000</td>\n      <td>11.495</td>\n      <td>XEM</td>\n    </tr>\n    <tr>\n      <th>7</th>\n      <td>0.0000</td>\n      <td>0.0000</td>\n      <td>8.110</td>\n      <td>XLM</td>\n    </tr>\n    <tr>\n      <th>8</th>\n      <td>0.0000</td>\n      <td>0.0000</td>\n      <td>21.380</td>\n      <td>BAT</td>\n    </tr>\n    <tr>\n      <th>9</th>\n      <td>0.0000</td>\n      <td>0.0000</td>\n      <td>324.306</td>\n      <td>OMG</td>\n    </tr>\n  </tbody>\n</table>\n</div>"
     },
     "metadata": {},
     "execution_count": 148
    }
   ],
   "source": [
    "assets.fetch('dataframe')"
   ]
  },
  {
   "cell_type": "code",
   "execution_count": 164,
   "metadata": {},
   "outputs": [],
   "source": [
    "sym ='BTC'\n",
    "orders = api.Orders()"
   ]
  },
  {
   "cell_type": "code",
   "execution_count": 165,
   "metadata": {},
   "outputs": [
    {
     "output_type": "execute_result",
     "data": {
      "text/plain": [
       "   executedSize executionType  losscutPrice    orderId orderType     price  \\\n",
       "0           0.0         LIMIT           0.0  742371314    NORMAL  611000.0   \n",
       "\n",
       "   rootOrderId settleType side    size   status symbol timeInForce  \\\n",
       "0    742371314       OPEN  BUY  0.0083  ORDERED    BTC         FAS   \n",
       "\n",
       "                         timestamp  \n",
       "0 2020-03-19 11:10:27.345000+00:00  "
      ],
      "text/html": "<div>\n<style scoped>\n    .dataframe tbody tr th:only-of-type {\n        vertical-align: middle;\n    }\n\n    .dataframe tbody tr th {\n        vertical-align: top;\n    }\n\n    .dataframe thead th {\n        text-align: right;\n    }\n</style>\n<table border=\"1\" class=\"dataframe\">\n  <thead>\n    <tr style=\"text-align: right;\">\n      <th></th>\n      <th>executedSize</th>\n      <th>executionType</th>\n      <th>losscutPrice</th>\n      <th>orderId</th>\n      <th>orderType</th>\n      <th>price</th>\n      <th>rootOrderId</th>\n      <th>settleType</th>\n      <th>side</th>\n      <th>size</th>\n      <th>status</th>\n      <th>symbol</th>\n      <th>timeInForce</th>\n      <th>timestamp</th>\n    </tr>\n  </thead>\n  <tbody>\n    <tr>\n      <th>0</th>\n      <td>0.0</td>\n      <td>LIMIT</td>\n      <td>0.0</td>\n      <td>742371314</td>\n      <td>NORMAL</td>\n      <td>611000.0</td>\n      <td>742371314</td>\n      <td>OPEN</td>\n      <td>BUY</td>\n      <td>0.0083</td>\n      <td>ORDERED</td>\n      <td>BTC</td>\n      <td>FAS</td>\n      <td>2020-03-19 11:10:27.345000+00:00</td>\n    </tr>\n  </tbody>\n</table>\n</div>"
     },
     "metadata": {},
     "execution_count": 165
    }
   ],
   "source": [
    "orders.fetch_acive(sym,'dataframe')"
   ]
  },
  {
   "cell_type": "code",
   "execution_count": 166,
   "metadata": {},
   "outputs": [
    {
     "output_type": "execute_result",
     "data": {
      "text/plain": [
       "[{'executedSize': 0.0,\n",
       "  'executionType': 'LIMIT',\n",
       "  'losscutPrice': 0.0,\n",
       "  'orderId': 742371314,\n",
       "  'orderType': 'NORMAL',\n",
       "  'price': 611000.0,\n",
       "  'rootOrderId': 742371314,\n",
       "  'settleType': 'OPEN',\n",
       "  'side': 'BUY',\n",
       "  'size': 0.0083,\n",
       "  'status': 'ORDERED',\n",
       "  'symbol': 'BTC',\n",
       "  'timeInForce': 'FAS',\n",
       "  'timestamp': datetime.datetime(2020, 3, 19, 11, 10, 27, 345000, tzinfo=datetime.timezone.utc)}]"
      ]
     },
     "metadata": {},
     "execution_count": 166
    }
   ],
   "source": [
    "orders.fetch_by_orderId(742371314, 'json')"
   ]
  },
  {
   "cell_type": "code",
   "execution_count": 168,
   "metadata": {},
   "outputs": [
    {
     "output_type": "execute_result",
     "data": {
      "text/plain": [
       "   executedSize executionType  losscutPrice    orderId orderType     price  \\\n",
       "0           0.0         LIMIT           0.0  742371314    NORMAL  611000.0   \n",
       "\n",
       "   rootOrderId settleType side    size   status symbol timeInForce  \\\n",
       "0    742371314       OPEN  BUY  0.0083  ORDERED    BTC         FAS   \n",
       "\n",
       "                         timestamp  \n",
       "0 2020-03-19 11:10:27.345000+00:00  "
      ],
      "text/html": "<div>\n<style scoped>\n    .dataframe tbody tr th:only-of-type {\n        vertical-align: middle;\n    }\n\n    .dataframe tbody tr th {\n        vertical-align: top;\n    }\n\n    .dataframe thead th {\n        text-align: right;\n    }\n</style>\n<table border=\"1\" class=\"dataframe\">\n  <thead>\n    <tr style=\"text-align: right;\">\n      <th></th>\n      <th>executedSize</th>\n      <th>executionType</th>\n      <th>losscutPrice</th>\n      <th>orderId</th>\n      <th>orderType</th>\n      <th>price</th>\n      <th>rootOrderId</th>\n      <th>settleType</th>\n      <th>side</th>\n      <th>size</th>\n      <th>status</th>\n      <th>symbol</th>\n      <th>timeInForce</th>\n      <th>timestamp</th>\n    </tr>\n  </thead>\n  <tbody>\n    <tr>\n      <th>0</th>\n      <td>0.0</td>\n      <td>LIMIT</td>\n      <td>0.0</td>\n      <td>742371314</td>\n      <td>NORMAL</td>\n      <td>611000.0</td>\n      <td>742371314</td>\n      <td>OPEN</td>\n      <td>BUY</td>\n      <td>0.0083</td>\n      <td>ORDERED</td>\n      <td>BTC</td>\n      <td>FAS</td>\n      <td>2020-03-19 11:10:27.345000+00:00</td>\n    </tr>\n  </tbody>\n</table>\n</div>"
     },
     "metadata": {},
     "execution_count": 168
    }
   ],
   "source": [
    "orders.fetch_by_orderId(742371314, 'dataframe')"
   ]
  },
  {
   "cell_type": "code",
   "execution_count": null,
   "metadata": {},
   "outputs": [],
   "source": []
  },
  {
   "cell_type": "code",
   "execution_count": null,
   "metadata": {},
   "outputs": [],
   "source": []
  },
  {
   "cell_type": "code",
   "execution_count": null,
   "metadata": {},
   "outputs": [],
   "source": []
  },
  {
   "cell_type": "code",
   "execution_count": null,
   "metadata": {},
   "outputs": [],
   "source": []
  },
  {
   "cell_type": "code",
   "execution_count": null,
   "metadata": {},
   "outputs": [],
   "source": []
  },
  {
   "cell_type": "code",
   "execution_count": 171,
   "metadata": {},
   "outputs": [],
   "source": [
    "xecutions = api.Executions()"
   ]
  },
  {
   "cell_type": "code",
   "execution_count": 173,
   "metadata": {},
   "outputs": [
    {
     "output_type": "execute_result",
     "data": {
      "text/plain": [
       "[{'executionId': 197842661,\n",
       "  'fee': -4.0,\n",
       "  'lossGain': 0.0,\n",
       "  'orderId': 972638686,\n",
       "  'price': 1195850.0,\n",
       "  'settleType': 'OPEN',\n",
       "  'side': 'BUY',\n",
       "  'size': 0.04,\n",
       "  'symbol': 'BTC',\n",
       "  'timestamp': datetime.datetime(2020, 10, 16, 23, 27, 13, 784000, tzinfo=datetime.timezone.utc)},\n",
       " {'executionId': 197842089,\n",
       "  'fee': -8.0,\n",
       "  'lossGain': 0.0,\n",
       "  'orderId': 972508698,\n",
       "  'price': 1196200.0,\n",
       "  'settleType': 'OPEN',\n",
       "  'side': 'SELL',\n",
       "  'size': 0.0745,\n",
       "  'symbol': 'BTC',\n",
       "  'timestamp': datetime.datetime(2020, 10, 16, 16, 36, 40, 545000, tzinfo=datetime.timezone.utc)},\n",
       " {'executionId': 197842088,\n",
       "  'fee': 0.0,\n",
       "  'lossGain': 0.0,\n",
       "  'orderId': 972508698,\n",
       "  'price': 1196200.0,\n",
       "  'settleType': 'OPEN',\n",
       "  'side': 'SELL',\n",
       "  'size': 0.0005,\n",
       "  'symbol': 'BTC',\n",
       "  'timestamp': datetime.datetime(2020, 10, 16, 16, 36, 22, 930000, tzinfo=datetime.timezone.utc)},\n",
       " {'executionId': 197807574,\n",
       "  'fee': 24.0,\n",
       "  'lossGain': 0.0,\n",
       "  'orderId': 972316529,\n",
       "  'price': 1185285.0,\n",
       "  'settleType': 'OPEN',\n",
       "  'side': 'BUY',\n",
       "  'size': 0.04,\n",
       "  'symbol': 'BTC',\n",
       "  'timestamp': datetime.datetime(2020, 10, 16, 9, 16, 1, 100000, tzinfo=datetime.timezone.utc)},\n",
       " {'executionId': 197790964,\n",
       "  'fee': -4.0,\n",
       "  'lossGain': 0.0,\n",
       "  'orderId': 972316285,\n",
       "  'price': 1192800.0,\n",
       "  'settleType': 'OPEN',\n",
       "  'side': 'BUY',\n",
       "  'size': 0.04,\n",
       "  'symbol': 'BTC',\n",
       "  'timestamp': datetime.datetime(2020, 10, 16, 8, 47, 0, 338000, tzinfo=datetime.timezone.utc)},\n",
       " {'executionId': 197771942,\n",
       "  'fee': 0.0,\n",
       "  'lossGain': 0.0,\n",
       "  'orderId': 972233895,\n",
       "  'price': 1187000.0,\n",
       "  'settleType': 'OPEN',\n",
       "  'side': 'BUY',\n",
       "  'size': 0.008,\n",
       "  'symbol': 'BTC',\n",
       "  'timestamp': datetime.datetime(2020, 10, 16, 4, 53, 1, 326000, tzinfo=datetime.timezone.utc)},\n",
       " {'executionId': 197771941,\n",
       "  'fee': -1.0,\n",
       "  'lossGain': 0.0,\n",
       "  'orderId': 972233895,\n",
       "  'price': 1187000.0,\n",
       "  'settleType': 'OPEN',\n",
       "  'side': 'BUY',\n",
       "  'size': 0.01,\n",
       "  'symbol': 'BTC',\n",
       "  'timestamp': datetime.datetime(2020, 10, 16, 4, 52, 41, 697000, tzinfo=datetime.timezone.utc)},\n",
       " {'executionId': 197771939,\n",
       "  'fee': -1.0,\n",
       "  'lossGain': 0.0,\n",
       "  'orderId': 972233895,\n",
       "  'price': 1187000.0,\n",
       "  'settleType': 'OPEN',\n",
       "  'side': 'BUY',\n",
       "  'size': 0.01,\n",
       "  'symbol': 'BTC',\n",
       "  'timestamp': datetime.datetime(2020, 10, 16, 4, 52, 32, 309000, tzinfo=datetime.timezone.utc)},\n",
       " {'executionId': 197771938,\n",
       "  'fee': 0.0,\n",
       "  'lossGain': 0.0,\n",
       "  'orderId': 972233895,\n",
       "  'price': 1187000.0,\n",
       "  'settleType': 'OPEN',\n",
       "  'side': 'BUY',\n",
       "  'size': 0.007,\n",
       "  'symbol': 'BTC',\n",
       "  'timestamp': datetime.datetime(2020, 10, 16, 4, 52, 27, 856000, tzinfo=datetime.timezone.utc)}]"
      ]
     },
     "metadata": {},
     "execution_count": 173
    }
   ],
   "source": [
    "executions.fetch_latestExecutions(sym)"
   ]
  },
  {
   "cell_type": "code",
   "execution_count": 175,
   "metadata": {},
   "outputs": [
    {
     "output_type": "execute_result",
     "data": {
      "text/plain": [
       "   executionId   fee  lossGain    orderId      price settleType  side    size  \\\n",
       "0    197842661  -4.0       0.0  972638686  1195850.0       OPEN   BUY  0.0400   \n",
       "1    197842089  -8.0       0.0  972508698  1196200.0       OPEN  SELL  0.0745   \n",
       "2    197842088   0.0       0.0  972508698  1196200.0       OPEN  SELL  0.0005   \n",
       "3    197807574  24.0       0.0  972316529  1185285.0       OPEN   BUY  0.0400   \n",
       "4    197790964  -4.0       0.0  972316285  1192800.0       OPEN   BUY  0.0400   \n",
       "5    197771942   0.0       0.0  972233895  1187000.0       OPEN   BUY  0.0080   \n",
       "6    197771941  -1.0       0.0  972233895  1187000.0       OPEN   BUY  0.0100   \n",
       "7    197771939  -1.0       0.0  972233895  1187000.0       OPEN   BUY  0.0100   \n",
       "8    197771938   0.0       0.0  972233895  1187000.0       OPEN   BUY  0.0070   \n",
       "\n",
       "  symbol                        timestamp  \n",
       "0    BTC 2020-10-16 23:27:13.784000+00:00  \n",
       "1    BTC 2020-10-16 16:36:40.545000+00:00  \n",
       "2    BTC 2020-10-16 16:36:22.930000+00:00  \n",
       "3    BTC 2020-10-16 09:16:01.100000+00:00  \n",
       "4    BTC 2020-10-16 08:47:00.338000+00:00  \n",
       "5    BTC 2020-10-16 04:53:01.326000+00:00  \n",
       "6    BTC 2020-10-16 04:52:41.697000+00:00  \n",
       "7    BTC 2020-10-16 04:52:32.309000+00:00  \n",
       "8    BTC 2020-10-16 04:52:27.856000+00:00  "
      ],
      "text/html": "<div>\n<style scoped>\n    .dataframe tbody tr th:only-of-type {\n        vertical-align: middle;\n    }\n\n    .dataframe tbody tr th {\n        vertical-align: top;\n    }\n\n    .dataframe thead th {\n        text-align: right;\n    }\n</style>\n<table border=\"1\" class=\"dataframe\">\n  <thead>\n    <tr style=\"text-align: right;\">\n      <th></th>\n      <th>executionId</th>\n      <th>fee</th>\n      <th>lossGain</th>\n      <th>orderId</th>\n      <th>price</th>\n      <th>settleType</th>\n      <th>side</th>\n      <th>size</th>\n      <th>symbol</th>\n      <th>timestamp</th>\n    </tr>\n  </thead>\n  <tbody>\n    <tr>\n      <th>0</th>\n      <td>197842661</td>\n      <td>-4.0</td>\n      <td>0.0</td>\n      <td>972638686</td>\n      <td>1195850.0</td>\n      <td>OPEN</td>\n      <td>BUY</td>\n      <td>0.0400</td>\n      <td>BTC</td>\n      <td>2020-10-16 23:27:13.784000+00:00</td>\n    </tr>\n    <tr>\n      <th>1</th>\n      <td>197842089</td>\n      <td>-8.0</td>\n      <td>0.0</td>\n      <td>972508698</td>\n      <td>1196200.0</td>\n      <td>OPEN</td>\n      <td>SELL</td>\n      <td>0.0745</td>\n      <td>BTC</td>\n      <td>2020-10-16 16:36:40.545000+00:00</td>\n    </tr>\n    <tr>\n      <th>2</th>\n      <td>197842088</td>\n      <td>0.0</td>\n      <td>0.0</td>\n      <td>972508698</td>\n      <td>1196200.0</td>\n      <td>OPEN</td>\n      <td>SELL</td>\n      <td>0.0005</td>\n      <td>BTC</td>\n      <td>2020-10-16 16:36:22.930000+00:00</td>\n    </tr>\n    <tr>\n      <th>3</th>\n      <td>197807574</td>\n      <td>24.0</td>\n      <td>0.0</td>\n      <td>972316529</td>\n      <td>1185285.0</td>\n      <td>OPEN</td>\n      <td>BUY</td>\n      <td>0.0400</td>\n      <td>BTC</td>\n      <td>2020-10-16 09:16:01.100000+00:00</td>\n    </tr>\n    <tr>\n      <th>4</th>\n      <td>197790964</td>\n      <td>-4.0</td>\n      <td>0.0</td>\n      <td>972316285</td>\n      <td>1192800.0</td>\n      <td>OPEN</td>\n      <td>BUY</td>\n      <td>0.0400</td>\n      <td>BTC</td>\n      <td>2020-10-16 08:47:00.338000+00:00</td>\n    </tr>\n    <tr>\n      <th>5</th>\n      <td>197771942</td>\n      <td>0.0</td>\n      <td>0.0</td>\n      <td>972233895</td>\n      <td>1187000.0</td>\n      <td>OPEN</td>\n      <td>BUY</td>\n      <td>0.0080</td>\n      <td>BTC</td>\n      <td>2020-10-16 04:53:01.326000+00:00</td>\n    </tr>\n    <tr>\n      <th>6</th>\n      <td>197771941</td>\n      <td>-1.0</td>\n      <td>0.0</td>\n      <td>972233895</td>\n      <td>1187000.0</td>\n      <td>OPEN</td>\n      <td>BUY</td>\n      <td>0.0100</td>\n      <td>BTC</td>\n      <td>2020-10-16 04:52:41.697000+00:00</td>\n    </tr>\n    <tr>\n      <th>7</th>\n      <td>197771939</td>\n      <td>-1.0</td>\n      <td>0.0</td>\n      <td>972233895</td>\n      <td>1187000.0</td>\n      <td>OPEN</td>\n      <td>BUY</td>\n      <td>0.0100</td>\n      <td>BTC</td>\n      <td>2020-10-16 04:52:32.309000+00:00</td>\n    </tr>\n    <tr>\n      <th>8</th>\n      <td>197771938</td>\n      <td>0.0</td>\n      <td>0.0</td>\n      <td>972233895</td>\n      <td>1187000.0</td>\n      <td>OPEN</td>\n      <td>BUY</td>\n      <td>0.0070</td>\n      <td>BTC</td>\n      <td>2020-10-16 04:52:27.856000+00:00</td>\n    </tr>\n  </tbody>\n</table>\n</div>"
     },
     "metadata": {},
     "execution_count": 175
    }
   ],
   "source": [
    "executions.fetch_latestExecutions(sym, return_type='dataframe')"
   ]
  },
  {
   "cell_type": "code",
   "execution_count": 176,
   "metadata": {},
   "outputs": [
    {
     "output_type": "execute_result",
     "data": {
      "text/plain": [
       "[{'executionId': 197842661,\n",
       "  'fee': -4.0,\n",
       "  'lossGain': 0.0,\n",
       "  'orderId': 972638686,\n",
       "  'price': 1195850.0,\n",
       "  'settleType': 'OPEN',\n",
       "  'side': 'BUY',\n",
       "  'size': 0.04,\n",
       "  'symbol': 'BTC',\n",
       "  'timestamp': datetime.datetime(2020, 10, 16, 23, 27, 13, 784000, tzinfo=datetime.timezone.utc)}]"
      ]
     },
     "metadata": {},
     "execution_count": 176
    }
   ],
   "source": [
    "executions.fetch_by_id(972638686)"
   ]
  },
  {
   "cell_type": "code",
   "execution_count": 201,
   "metadata": {},
   "outputs": [],
   "source": [
    "order = api.Order()"
   ]
  },
  {
   "cell_type": "code",
   "execution_count": 211,
   "metadata": {},
   "outputs": [],
   "source": [
    "reqBody = {\n",
    "    \"symbol\": \"BTC\",\n",
    "    \"side\": \"BUY\",\n",
    "    \"executionType\": \"LIMIT\",\n",
    "    \"timeInForce\": \"SOK\",\n",
    "    \"price\": 1094000,\n",
    "    \"losscutPrice\":None,\n",
    "    \"size\": 0.002\n",
    "}"
   ]
  },
  {
   "cell_type": "code",
   "execution_count": 212,
   "metadata": {},
   "outputs": [],
   "source": [
    "res = order.do_order(**reqBody)"
   ]
  },
  {
   "cell_type": "code",
   "execution_count": 213,
   "metadata": {},
   "outputs": [
    {
     "output_type": "execute_result",
     "data": {
      "text/plain": [
       "{'status': 0, 'data': '972962413', 'responsetime': '2020-10-17T15:01:55Z'}"
      ]
     },
     "metadata": {},
     "execution_count": 213
    }
   ],
   "source": [
    "orderId = res['data']\n",
    "reqBody = {\n",
    "    \"orderId\": orderId,\n",
    "    \"price\": 1094001,\n",
    "    \"losscutPrice\": None\n",
    "}"
   ]
  },
  {
   "cell_type": "code",
   "execution_count": null,
   "metadata": {},
   "outputs": [],
   "source": [
    "res = order.do_order(**reqBody)"
   ]
  }
 ]
}