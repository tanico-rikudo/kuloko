{
 "metadata": {
  "language_info": {
   "codemirror_mode": {
    "name": "ipython",
    "version": 3
   },
   "file_extension": ".py",
   "mimetype": "text/x-python",
   "name": "python",
   "nbconvert_exporter": "python",
   "pygments_lexer": "ipython3",
   "version": "3.7.6-final"
  },
  "orig_nbformat": 2,
  "kernelspec": {
   "name": "python3",
   "display_name": "Python 3.7.6 64-bit ('py37b')",
   "metadata": {
    "interpreter": {
     "hash": "edf7c2d5f0f70628fc224588ceca2c2113a9ef071d19ac3a0b9346fc3eba554c"
    }
   }
  }
 },
 "nbformat": 4,
 "nbformat_minor": 2,
 "cells": [
  {
   "cell_type": "code",
   "execution_count": 1,
   "metadata": {},
   "outputs": [],
   "source": [
    "%load_ext autoreload\n",
    "%autoreload 2"
   ]
  },
  {
   "cell_type": "code",
   "execution_count": 5,
   "metadata": {
    "tags": []
   },
   "outputs": [],
   "source": [
    "import requests\n",
    "import json\n",
    "import urllib.parse\n",
    "import logging\n",
    "import logging.config\n",
    "\n",
    "import pandas as pd\n",
    "import numpy as np\n",
    "os.environ['handler_path'] = '/Users/macico/Dropbox/kaggle/kuloko/kuloko_handler'\n",
    "handler_path=os.environ['handler_path'] \n"
   ]
  },
  {
   "cell_type": "code",
   "execution_count": 6,
   "metadata": {},
   "outputs": [],
   "source": [
    "import configparser\n",
    "\n",
    "import src.handler.api_handler as api\n",
    "\n",
    "private_api_ini = configparser.ConfigParser()\n",
    "private_api_ini.read(os.path.join(handler_path,'./ini/private_api.ini'), encoding='utf-8')\n",
    "\n",
    "general_config_ini = configparser.ConfigParser()\n",
    "general_config_ini.read(os.path.join(handler_path,'./ini/config.ini'), encoding='utf-8')\n",
    "\n",
    "logging.config.fileConfig(os.path.join(handler_path,'./ini/logconfig.ini'),defaults={'logfilename': os.path.join(handler_path,'./log/logging.log')})\n",
    "logger = logging.getLogger(\"KULOKO\")\n"
   ]
  },
  {
   "cell_type": "code",
   "execution_count": 7,
   "metadata": {},
   "outputs": [
    {
     "output_type": "stream",
     "name": "stdout",
     "text": [
      "/Users/macico/Dropbox/kaggle/kuloko/kuloko_handler\n"
     ]
    }
   ],
   "source": [
    "!pwd"
   ]
  },
  {
   "cell_type": "code",
   "execution_count": 8,
   "metadata": {},
   "outputs": [
    {
     "output_type": "execute_result",
     "data": {
      "text/plain": [
       "['timezone_offset_hour',\n",
       " 'endpoint_url',\n",
       " 'tick_url',\n",
       " 'trade_url',\n",
       " 'orderbooks_url',\n",
       " 'margin_url',\n",
       " 'asserts_url',\n",
       " 'activeorders_url',\n",
       " 'orders_url',\n",
       " 'executions_url',\n",
       " 'latestexecutions_url',\n",
       " 'order_url',\n",
       " 'changeorder_url',\n",
       " 'cancelorder_url',\n",
       " 'allow_sym',\n",
       " 'listed_sym',\n",
       " 'listed_rev_sym',\n",
       " 'exec_side',\n",
       " 'exec_type',\n",
       " 'time_in_force']"
      ]
     },
     "metadata": {},
     "execution_count": 8
    }
   ],
   "source": [
    "list(general_config_ini[\"DEFAULT\"].keys())"
   ]
  },
  {
   "cell_type": "code",
   "execution_count": 9,
   "metadata": {},
   "outputs": [],
   "source": [
    "sym = 'BTC'\n",
    "depth=5\n",
    "orderbook = api.Orderbook(sym, logger,general_config_ini ,private_api_ini)\n",
    "orderbook.depth =depth\n"
   ]
  },
  {
   "cell_type": "code",
   "execution_count": 18,
   "metadata": {},
   "outputs": [
    {
     "output_type": "execute_result",
     "data": {
      "text/plain": [
       "       price    size\n",
       "0  1697394.0  0.0011\n",
       "1  1698300.0  0.0100\n",
       "2  1698355.0  0.1000\n",
       "3  1698688.0  0.0013\n",
       "4  1698900.0  0.1000"
      ],
      "text/html": "<div>\n<style scoped>\n    .dataframe tbody tr th:only-of-type {\n        vertical-align: middle;\n    }\n\n    .dataframe tbody tr th {\n        vertical-align: top;\n    }\n\n    .dataframe thead th {\n        text-align: right;\n    }\n</style>\n<table border=\"1\" class=\"dataframe\">\n  <thead>\n    <tr style=\"text-align: right;\">\n      <th></th>\n      <th>price</th>\n      <th>size</th>\n    </tr>\n  </thead>\n  <tbody>\n    <tr>\n      <th>0</th>\n      <td>1697394.0</td>\n      <td>0.0011</td>\n    </tr>\n    <tr>\n      <th>1</th>\n      <td>1698300.0</td>\n      <td>0.0100</td>\n    </tr>\n    <tr>\n      <th>2</th>\n      <td>1698355.0</td>\n      <td>0.1000</td>\n    </tr>\n    <tr>\n      <th>3</th>\n      <td>1698688.0</td>\n      <td>0.0013</td>\n    </tr>\n    <tr>\n      <th>4</th>\n      <td>1698900.0</td>\n      <td>0.1000</td>\n    </tr>\n  </tbody>\n</table>\n</div>"
     },
     "metadata": {},
     "execution_count": 18
    }
   ],
   "source": [
    "df_snapshot = orderbook.fetch(return_type='dataframe')\n",
    "df_snapshot['data']['asks']"
   ]
  },
  {
   "cell_type": "code",
   "execution_count": 19,
   "metadata": {},
   "outputs": [
    {
     "output_type": "execute_result",
     "data": {
      "text/plain": [
       "{'status': 0,\n",
       " 'data': {'asks': [{'price': '1697394', 'size': '0.0011'},\n",
       "   {'price': '1698300', 'size': '0.01'},\n",
       "   {'price': '1698355', 'size': '0.1'},\n",
       "   {'price': '1698688', 'size': '0.0013'},\n",
       "   {'price': '1698900', 'size': '0.1'}],\n",
       "  'bids': [{'price': '1695346', 'size': '0.1001'},\n",
       "   {'price': '1695340', 'size': '0.1'},\n",
       "   {'price': '1695332', 'size': '0.01'},\n",
       "   {'price': '1695331', 'size': '0.3'},\n",
       "   {'price': '1695330', 'size': '0.2'}],\n",
       "  'symbol': 'BTC'},\n",
       " 'responsetime': '2020-11-13T11:12:13.701Z'}"
      ]
     },
     "metadata": {},
     "execution_count": 19
    }
   ],
   "source": [
    "json_orderbook = orderbook.fetch(return_type='raw')\n",
    "json_orderbook"
   ]
  },
  {
   "cell_type": "code",
   "execution_count": 20,
   "metadata": {},
   "outputs": [
    {
     "output_type": "execute_result",
     "data": {
      "text/plain": [
       "[datetime.datetime(2020, 11, 13, 2, 12, 14, 942000, tzinfo=datetime.timezone.utc),\n",
       " 1695360.0,\n",
       " 0.1,\n",
       " 1695351.0,\n",
       " 0.01,\n",
       " 1695350.0,\n",
       " 0.7,\n",
       " 1695348.0,\n",
       " 0.4001,\n",
       " 1695347.0,\n",
       " 0.618,\n",
       " 1695360.0,\n",
       " 0.1,\n",
       " 1695351.0,\n",
       " 0.01,\n",
       " 1695350.0,\n",
       " 0.7,\n",
       " 1695348.0,\n",
       " 0.4001,\n",
       " 1695347.0,\n",
       " 0.618]"
      ]
     },
     "metadata": {},
     "execution_count": 20
    }
   ],
   "source": [
    "\n",
    "seq_orderbook = orderbook.fetch(return_type='seq')\n",
    "seq_orderbook"
   ]
  },
  {
   "cell_type": "code",
   "execution_count": 21,
   "metadata": {},
   "outputs": [
    {
     "output_type": "execute_result",
     "data": {
      "text/plain": [
       "{'time': '20201113021214942000',\n",
       " 'bids0': 1695360.0,\n",
       " 'bids0_size': 0.1,\n",
       " 'bids1': 1695351.0,\n",
       " 'bids1_size': 0.01,\n",
       " 'bids2': 1695350.0,\n",
       " 'bids2_size': 0.7,\n",
       " 'bids3': 1695348.0,\n",
       " 'bids3_size': 0.4001,\n",
       " 'bids4': 1695347.0,\n",
       " 'bids4_size': 0.618,\n",
       " 'asks0': 1695360.0,\n",
       " 'asks0_size': 0.1,\n",
       " 'asks1': 1695351.0,\n",
       " 'asks1_size': 0.01,\n",
       " 'asks2': 1695350.0,\n",
       " 'asks2_size': 0.7,\n",
       " 'asks3': 1695348.0,\n",
       " 'asks3_size': 0.4001,\n",
       " 'asks4': 1695347.0,\n",
       " 'asks4_size': 0.618}"
      ]
     },
     "metadata": {},
     "execution_count": 21
    }
   ],
   "source": [
    "json_orderbook = orderbook.fetch(return_type='json')\n",
    "json_orderbook"
   ]
  },
  {
   "cell_type": "code",
   "execution_count": 24,
   "metadata": {
    "tags": []
   },
   "outputs": [],
   "source": [
    "tick = api.Ticks(sym, logger,general_config_ini ,private_api_ini)\n"
   ]
  },
  {
   "cell_type": "code",
   "execution_count": 25,
   "metadata": {
    "tags": []
   },
   "outputs": [
    {
     "output_type": "execute_result",
     "data": {
      "text/plain": [
       "{'ask': 1697394.0,\n",
       " 'bid': 1695681.0,\n",
       " 'high': 1730000.0,\n",
       " 'last': 1697380.0,\n",
       " 'low': 1694025.0,\n",
       " 'volume': 721.539,\n",
       " 'timestamp': '20201113021232713000'}"
      ]
     },
     "metadata": {},
     "execution_count": 25
    }
   ],
   "source": [
    "data = tick.fetch(return_type='json')\n",
    "data"
   ]
  },
  {
   "cell_type": "code",
   "execution_count": 26,
   "metadata": {},
   "outputs": [
    {
     "output_type": "execute_result",
     "data": {
      "text/plain": [
       "{'status': 0,\n",
       " 'data': [{'ask': '1697394',\n",
       "   'bid': '1695681',\n",
       "   'high': '1730000',\n",
       "   'last': '1697380',\n",
       "   'low': '1694025',\n",
       "   'symbol': 'BTC',\n",
       "   'timestamp': '2020-11-13T11:12:32.713Z',\n",
       "   'volume': '721.539'}],\n",
       " 'responsetime': '2020-11-13T11:12:33.617Z'}"
      ]
     },
     "metadata": {},
     "execution_count": 26
    }
   ],
   "source": [
    "data = tick.fetch(return_type='raw')\n",
    "data"
   ]
  },
  {
   "cell_type": "code",
   "execution_count": 28,
   "metadata": {},
   "outputs": [],
   "source": [
    "trade = api.Trade(sym, logger,general_config_ini ,private_api_ini)"
   ]
  },
  {
   "cell_type": "code",
   "execution_count": 29,
   "metadata": {},
   "outputs": [],
   "source": [
    "data, since_time = trade.fetch(\"dataframe\")"
   ]
  },
  {
   "cell_type": "code",
   "execution_count": 30,
   "metadata": {},
   "outputs": [],
   "source": [
    "data2, _ = trade.fetch(\"dataframe\",since_time)"
   ]
  },
  {
   "cell_type": "code",
   "execution_count": 31,
   "metadata": {},
   "outputs": [
    {
     "output_type": "execute_result",
     "data": {
      "text/plain": [
       "        price  side    size                        timestamp\n",
       "0   1695695.0   BUY  0.1899 2020-11-13 02:12:35.966000+00:00\n",
       "1   1695695.0  SELL  0.1899 2020-11-13 02:12:35.966000+00:00\n",
       "2   1695700.0   BUY  0.1000 2020-11-13 02:12:35.966000+00:00\n",
       "3   1695700.0  SELL  0.1000 2020-11-13 02:12:35.966000+00:00\n",
       "4   1695701.0   BUY  0.0100 2020-11-13 02:12:35.966000+00:00\n",
       "..        ...   ...     ...                              ...\n",
       "94  1697825.0   BUY  0.0500 2020-11-13 02:06:59.325000+00:00\n",
       "95  1697820.0  SELL  0.1000 2020-11-13 02:06:59.325000+00:00\n",
       "96  1697820.0   BUY  0.1000 2020-11-13 02:06:59.325000+00:00\n",
       "97  1697852.0   BUY  0.5000 2020-11-13 02:06:52.686000+00:00\n",
       "98  1697852.0  SELL  0.5000 2020-11-13 02:06:52.686000+00:00\n",
       "\n",
       "[99 rows x 4 columns]"
      ],
      "text/html": "<div>\n<style scoped>\n    .dataframe tbody tr th:only-of-type {\n        vertical-align: middle;\n    }\n\n    .dataframe tbody tr th {\n        vertical-align: top;\n    }\n\n    .dataframe thead th {\n        text-align: right;\n    }\n</style>\n<table border=\"1\" class=\"dataframe\">\n  <thead>\n    <tr style=\"text-align: right;\">\n      <th></th>\n      <th>price</th>\n      <th>side</th>\n      <th>size</th>\n      <th>timestamp</th>\n    </tr>\n  </thead>\n  <tbody>\n    <tr>\n      <th>0</th>\n      <td>1695695.0</td>\n      <td>BUY</td>\n      <td>0.1899</td>\n      <td>2020-11-13 02:12:35.966000+00:00</td>\n    </tr>\n    <tr>\n      <th>1</th>\n      <td>1695695.0</td>\n      <td>SELL</td>\n      <td>0.1899</td>\n      <td>2020-11-13 02:12:35.966000+00:00</td>\n    </tr>\n    <tr>\n      <th>2</th>\n      <td>1695700.0</td>\n      <td>BUY</td>\n      <td>0.1000</td>\n      <td>2020-11-13 02:12:35.966000+00:00</td>\n    </tr>\n    <tr>\n      <th>3</th>\n      <td>1695700.0</td>\n      <td>SELL</td>\n      <td>0.1000</td>\n      <td>2020-11-13 02:12:35.966000+00:00</td>\n    </tr>\n    <tr>\n      <th>4</th>\n      <td>1695701.0</td>\n      <td>BUY</td>\n      <td>0.0100</td>\n      <td>2020-11-13 02:12:35.966000+00:00</td>\n    </tr>\n    <tr>\n      <th>...</th>\n      <td>...</td>\n      <td>...</td>\n      <td>...</td>\n      <td>...</td>\n    </tr>\n    <tr>\n      <th>94</th>\n      <td>1697825.0</td>\n      <td>BUY</td>\n      <td>0.0500</td>\n      <td>2020-11-13 02:06:59.325000+00:00</td>\n    </tr>\n    <tr>\n      <th>95</th>\n      <td>1697820.0</td>\n      <td>SELL</td>\n      <td>0.1000</td>\n      <td>2020-11-13 02:06:59.325000+00:00</td>\n    </tr>\n    <tr>\n      <th>96</th>\n      <td>1697820.0</td>\n      <td>BUY</td>\n      <td>0.1000</td>\n      <td>2020-11-13 02:06:59.325000+00:00</td>\n    </tr>\n    <tr>\n      <th>97</th>\n      <td>1697852.0</td>\n      <td>BUY</td>\n      <td>0.5000</td>\n      <td>2020-11-13 02:06:52.686000+00:00</td>\n    </tr>\n    <tr>\n      <th>98</th>\n      <td>1697852.0</td>\n      <td>SELL</td>\n      <td>0.5000</td>\n      <td>2020-11-13 02:06:52.686000+00:00</td>\n    </tr>\n  </tbody>\n</table>\n<p>99 rows × 4 columns</p>\n</div>"
     },
     "metadata": {},
     "execution_count": 31
    }
   ],
   "source": [
    "data"
   ]
  },
  {
   "cell_type": "code",
   "execution_count": 32,
   "metadata": {},
   "outputs": [],
   "source": [
    "data, since_time = trade.fetch(\"json\")"
   ]
  },
  {
   "cell_type": "code",
   "execution_count": 33,
   "metadata": {},
   "outputs": [],
   "source": [
    "# NOT !pip install websocket\n",
    "# !pip install websocket-client"
   ]
  },
  {
   "cell_type": "code",
   "execution_count": 34,
   "metadata": {},
   "outputs": [
    {
     "output_type": "execute_result",
     "data": {
      "text/plain": [
       "[{'price': 1697890.0,\n",
       "  'side': 'SELL',\n",
       "  'size': 0.0089,\n",
       "  'timestamp': '20201113021241093000'},\n",
       " {'price': 1697890.0,\n",
       "  'side': 'BUY',\n",
       "  'size': 0.0089,\n",
       "  'timestamp': '20201113021241093000'},\n",
       " {'price': 1697394.0,\n",
       "  'side': 'SELL',\n",
       "  'size': 0.0011,\n",
       "  'timestamp': '20201113021241093000'},\n",
       " {'price': 1697394.0,\n",
       "  'side': 'BUY',\n",
       "  'size': 0.0011,\n",
       "  'timestamp': '20201113021241093000'},\n",
       " {'price': 1695695.0,\n",
       "  'side': 'BUY',\n",
       "  'size': 0.1899,\n",
       "  'timestamp': '20201113021235966000'},\n",
       " {'price': 1695695.0,\n",
       "  'side': 'SELL',\n",
       "  'size': 0.1899,\n",
       "  'timestamp': '20201113021235966000'},\n",
       " {'price': 1695700.0,\n",
       "  'side': 'BUY',\n",
       "  'size': 0.1,\n",
       "  'timestamp': '20201113021235966000'},\n",
       " {'price': 1695700.0,\n",
       "  'side': 'SELL',\n",
       "  'size': 0.1,\n",
       "  'timestamp': '20201113021235966000'},\n",
       " {'price': 1695701.0,\n",
       "  'side': 'BUY',\n",
       "  'size': 0.01,\n",
       "  'timestamp': '20201113021235966000'},\n",
       " {'price': 1695701.0,\n",
       "  'side': 'SELL',\n",
       "  'size': 0.01,\n",
       "  'timestamp': '20201113021235966000'},\n",
       " {'price': 1695710.0,\n",
       "  'side': 'BUY',\n",
       "  'size': 0.1,\n",
       "  'timestamp': '20201113021235966000'},\n",
       " {'price': 1695710.0,\n",
       "  'side': 'SELL',\n",
       "  'size': 0.1,\n",
       "  'timestamp': '20201113021235966000'},\n",
       " {'price': 1695727.0,\n",
       "  'side': 'BUY',\n",
       "  'size': 0.1001,\n",
       "  'timestamp': '20201113021235966000'},\n",
       " {'price': 1695727.0,\n",
       "  'side': 'SELL',\n",
       "  'size': 0.1001,\n",
       "  'timestamp': '20201113021235966000'},\n",
       " {'price': 1697380.0,\n",
       "  'side': 'SELL',\n",
       "  'size': 0.002,\n",
       "  'timestamp': '20201113021151051000'},\n",
       " {'price': 1697380.0,\n",
       "  'side': 'BUY',\n",
       "  'size': 0.002,\n",
       "  'timestamp': '20201113021151051000'},\n",
       " {'price': 1694120.0,\n",
       "  'side': 'BUY',\n",
       "  'size': 0.03,\n",
       "  'timestamp': '20201113021105512000'},\n",
       " {'price': 1694120.0,\n",
       "  'side': 'SELL',\n",
       "  'size': 0.03,\n",
       "  'timestamp': '20201113021105512000'},\n",
       " {'price': 1695895.0,\n",
       "  'side': 'SELL',\n",
       "  'size': 0.0965,\n",
       "  'timestamp': '20201113021102702000'},\n",
       " {'price': 1695895.0,\n",
       "  'side': 'BUY',\n",
       "  'size': 0.0965,\n",
       "  'timestamp': '20201113021102702000'},\n",
       " {'price': 1695000.0,\n",
       "  'side': 'SELL',\n",
       "  'size': 0.0035,\n",
       "  'timestamp': '20201113021102702000'},\n",
       " {'price': 1695000.0,\n",
       "  'side': 'BUY',\n",
       "  'size': 0.0035,\n",
       "  'timestamp': '20201113021102702000'},\n",
       " {'price': 1694789.0,\n",
       "  'side': 'BUY',\n",
       "  'size': 0.03,\n",
       "  'timestamp': '20201113021051786000'},\n",
       " {'price': 1694789.0,\n",
       "  'side': 'SELL',\n",
       "  'size': 0.03,\n",
       "  'timestamp': '20201113021051786000'},\n",
       " {'price': 1694900.0,\n",
       "  'side': 'BUY',\n",
       "  'size': 0.8411,\n",
       "  'timestamp': '20201113021049265000'},\n",
       " {'price': 1694900.0,\n",
       "  'side': 'SELL',\n",
       "  'size': 0.8411,\n",
       "  'timestamp': '20201113021049265000'},\n",
       " {'price': 1694900.0,\n",
       "  'side': 'BUY',\n",
       "  'size': 0.0589,\n",
       "  'timestamp': '20201113021048481000'},\n",
       " {'price': 1694900.0,\n",
       "  'side': 'SELL',\n",
       "  'size': 0.0589,\n",
       "  'timestamp': '20201113021048481000'},\n",
       " {'price': 1695000.0,\n",
       "  'side': 'BUY',\n",
       "  'size': 0.001,\n",
       "  'timestamp': '20201113021048481000'},\n",
       " {'price': 1695000.0,\n",
       "  'side': 'SELL',\n",
       "  'size': 0.001,\n",
       "  'timestamp': '20201113021048481000'},\n",
       " {'price': 1695050.0,\n",
       "  'side': 'BUY',\n",
       "  'size': 0.01,\n",
       "  'timestamp': '20201113021048481000'},\n",
       " {'price': 1695050.0,\n",
       "  'side': 'SELL',\n",
       "  'size': 0.01,\n",
       "  'timestamp': '20201113021048481000'},\n",
       " {'price': 1695694.0,\n",
       "  'side': 'BUY',\n",
       "  'size': 0.0001,\n",
       "  'timestamp': '20201113021048481000'},\n",
       " {'price': 1695694.0,\n",
       "  'side': 'SELL',\n",
       "  'size': 0.0001,\n",
       "  'timestamp': '20201113021048481000'},\n",
       " {'price': 1696000.0,\n",
       "  'side': 'BUY',\n",
       "  'size': 0.1,\n",
       "  'timestamp': '20201113021016067000'},\n",
       " {'price': 1696000.0,\n",
       "  'side': 'SELL',\n",
       "  'size': 0.1,\n",
       "  'timestamp': '20201113021016067000'},\n",
       " {'price': 1697295.0,\n",
       "  'side': 'SELL',\n",
       "  'size': 0.005,\n",
       "  'timestamp': '20201113020948167000'},\n",
       " {'price': 1697295.0,\n",
       "  'side': 'BUY',\n",
       "  'size': 0.005,\n",
       "  'timestamp': '20201113020948167000'},\n",
       " {'price': 1697475.0,\n",
       "  'side': 'BUY',\n",
       "  'size': 0.0217,\n",
       "  'timestamp': '20201113020942717000'},\n",
       " {'price': 1697475.0,\n",
       "  'side': 'BUY',\n",
       "  'size': 0.0033,\n",
       "  'timestamp': '20201113020916642000'},\n",
       " {'price': 1697475.0,\n",
       "  'side': 'SELL',\n",
       "  'size': 0.0033,\n",
       "  'timestamp': '20201113020916642000'},\n",
       " {'price': 1697475.0,\n",
       "  'side': 'BUY',\n",
       "  'size': 0.075,\n",
       "  'timestamp': '20201113020912925000'},\n",
       " {'price': 1697475.0,\n",
       "  'side': 'SELL',\n",
       "  'size': 0.075,\n",
       "  'timestamp': '20201113020912925000'},\n",
       " {'price': 1697480.0,\n",
       "  'side': 'BUY',\n",
       "  'size': 0.1,\n",
       "  'timestamp': '20201113020912925000'},\n",
       " {'price': 1697480.0,\n",
       "  'side': 'SELL',\n",
       "  'size': 0.1,\n",
       "  'timestamp': '20201113020912925000'},\n",
       " {'price': 1697485.0,\n",
       "  'side': 'BUY',\n",
       "  'size': 0.2,\n",
       "  'timestamp': '20201113020912925000'},\n",
       " {'price': 1697485.0,\n",
       "  'side': 'SELL',\n",
       "  'size': 0.2,\n",
       "  'timestamp': '20201113020912925000'},\n",
       " {'price': 1697485.0,\n",
       "  'side': 'BUY',\n",
       "  'size': 0.2,\n",
       "  'timestamp': '20201113020912925000'},\n",
       " {'price': 1697485.0,\n",
       "  'side': 'SELL',\n",
       "  'size': 0.2,\n",
       "  'timestamp': '20201113020912925000'},\n",
       " {'price': 1697486.0,\n",
       "  'side': 'BUY',\n",
       "  'size': 0.075,\n",
       "  'timestamp': '20201113020912925000'},\n",
       " {'price': 1697486.0,\n",
       "  'side': 'SELL',\n",
       "  'size': 0.075,\n",
       "  'timestamp': '20201113020912925000'},\n",
       " {'price': 1697475.0,\n",
       "  'side': 'SELL',\n",
       "  'size': 0.1,\n",
       "  'timestamp': '20201113020731504000'},\n",
       " {'price': 1697475.0,\n",
       "  'side': 'BUY',\n",
       "  'size': 0.1,\n",
       "  'timestamp': '20201113020731504000'},\n",
       " {'price': 1695719.0,\n",
       "  'side': 'BUY',\n",
       "  'size': 0.6953,\n",
       "  'timestamp': '20201113020728629000'},\n",
       " {'price': 1695719.0,\n",
       "  'side': 'SELL',\n",
       "  'size': 0.6953,\n",
       "  'timestamp': '20201113020728629000'},\n",
       " {'price': 1695720.0,\n",
       "  'side': 'BUY',\n",
       "  'size': 0.1,\n",
       "  'timestamp': '20201113020728629000'},\n",
       " {'price': 1695720.0,\n",
       "  'side': 'SELL',\n",
       "  'size': 0.1,\n",
       "  'timestamp': '20201113020728629000'},\n",
       " {'price': 1696507.0,\n",
       "  'side': 'BUY',\n",
       "  'size': 0.0001,\n",
       "  'timestamp': '20201113020721295000'},\n",
       " {'price': 1696507.0,\n",
       "  'side': 'SELL',\n",
       "  'size': 0.0001,\n",
       "  'timestamp': '20201113020721295000'},\n",
       " {'price': 1696553.0,\n",
       "  'side': 'BUY',\n",
       "  'size': 0.0001,\n",
       "  'timestamp': '20201113020721295000'},\n",
       " {'price': 1696553.0,\n",
       "  'side': 'SELL',\n",
       "  'size': 0.0001,\n",
       "  'timestamp': '20201113020721295000'},\n",
       " {'price': 1696965.0,\n",
       "  'side': 'BUY',\n",
       "  'size': 0.0001,\n",
       "  'timestamp': '20201113020721295000'},\n",
       " {'price': 1696965.0,\n",
       "  'side': 'SELL',\n",
       "  'size': 0.0001,\n",
       "  'timestamp': '20201113020721295000'},\n",
       " {'price': 1697000.0,\n",
       "  'side': 'BUY',\n",
       "  'size': 0.001,\n",
       "  'timestamp': '20201113020721295000'},\n",
       " {'price': 1697000.0,\n",
       "  'side': 'SELL',\n",
       "  'size': 0.001,\n",
       "  'timestamp': '20201113020721295000'},\n",
       " {'price': 1697400.0,\n",
       "  'side': 'BUY',\n",
       "  'size': 0.0004,\n",
       "  'timestamp': '20201113020721295000'},\n",
       " {'price': 1697400.0,\n",
       "  'side': 'SELL',\n",
       "  'size': 0.0004,\n",
       "  'timestamp': '20201113020721295000'},\n",
       " {'price': 1697400.0,\n",
       "  'side': 'BUY',\n",
       "  'size': 0.001,\n",
       "  'timestamp': '20201113020716011000'},\n",
       " {'price': 1697400.0,\n",
       "  'side': 'SELL',\n",
       "  'size': 0.001,\n",
       "  'timestamp': '20201113020716011000'},\n",
       " {'price': 1697400.0,\n",
       "  'side': 'BUY',\n",
       "  'size': 0.0086,\n",
       "  'timestamp': '20201113020712273000'},\n",
       " {'price': 1697400.0,\n",
       "  'side': 'SELL',\n",
       "  'size': 0.0086,\n",
       "  'timestamp': '20201113020712273000'},\n",
       " {'price': 1697463.0,\n",
       "  'side': 'BUY',\n",
       "  'size': 0.0001,\n",
       "  'timestamp': '20201113020712273000'},\n",
       " {'price': 1697463.0,\n",
       "  'side': 'SELL',\n",
       "  'size': 0.0001,\n",
       "  'timestamp': '20201113020712273000'},\n",
       " {'price': 1697505.0,\n",
       "  'side': 'BUY',\n",
       "  'size': 0.0013,\n",
       "  'timestamp': '20201113020712273000'},\n",
       " {'price': 1697505.0,\n",
       "  'side': 'SELL',\n",
       "  'size': 0.0013,\n",
       "  'timestamp': '20201113020712273000'},\n",
       " {'price': 1697517.0,\n",
       "  'side': 'SELL',\n",
       "  'size': 0.0005,\n",
       "  'timestamp': '20201113020710964000'},\n",
       " {'price': 1697517.0,\n",
       "  'side': 'BUY',\n",
       "  'size': 0.0005,\n",
       "  'timestamp': '20201113020710964000'},\n",
       " {'price': 1697505.0,\n",
       "  'side': 'BUY',\n",
       "  'size': 0.0087,\n",
       "  'timestamp': '20201113020707101000'},\n",
       " {'price': 1697505.0,\n",
       "  'side': 'SELL',\n",
       "  'size': 0.0087,\n",
       "  'timestamp': '20201113020707101000'},\n",
       " {'price': 1697773.0,\n",
       "  'side': 'BUY',\n",
       "  'size': 0.0001,\n",
       "  'timestamp': '20201113020707101000'},\n",
       " {'price': 1697773.0,\n",
       "  'side': 'SELL',\n",
       "  'size': 0.0001,\n",
       "  'timestamp': '20201113020707101000'},\n",
       " {'price': 1697793.0,\n",
       "  'side': 'BUY',\n",
       "  'size': 0.0001,\n",
       "  'timestamp': '20201113020707101000'},\n",
       " {'price': 1697793.0,\n",
       "  'side': 'SELL',\n",
       "  'size': 0.0001,\n",
       "  'timestamp': '20201113020707101000'},\n",
       " {'price': 1697986.0,\n",
       "  'side': 'BUY',\n",
       "  'size': 0.0011,\n",
       "  'timestamp': '20201113020707101000'},\n",
       " {'price': 1697986.0,\n",
       "  'side': 'SELL',\n",
       "  'size': 0.0011,\n",
       "  'timestamp': '20201113020707101000'},\n",
       " {'price': 1698000.0,\n",
       "  'side': 'BUY',\n",
       "  'size': 1.5401,\n",
       "  'timestamp': '20201113020704142000'},\n",
       " {'price': 1698000.0,\n",
       "  'side': 'SELL',\n",
       "  'size': 1.5401,\n",
       "  'timestamp': '20201113020704142000'},\n",
       " {'price': 1698000.0,\n",
       "  'side': 'BUY',\n",
       "  'size': 1.0,\n",
       "  'timestamp': '20201113020703326000'},\n",
       " {'price': 1698000.0,\n",
       "  'side': 'SELL',\n",
       "  'size': 1.0,\n",
       "  'timestamp': '20201113020703326000'},\n",
       " {'price': 1698000.0,\n",
       "  'side': 'BUY',\n",
       "  'size': 2.0,\n",
       "  'timestamp': '20201113020659945000'},\n",
       " {'price': 1698000.0,\n",
       "  'side': 'SELL',\n",
       "  'size': 2.0,\n",
       "  'timestamp': '20201113020659945000'},\n",
       " {'price': 1698000.0,\n",
       "  'side': 'BUY',\n",
       "  'size': 0.2088,\n",
       "  'timestamp': '20201113020659540000'},\n",
       " {'price': 1698000.0,\n",
       "  'side': 'SELL',\n",
       "  'size': 0.2088,\n",
       "  'timestamp': '20201113020659540000'}]"
      ]
     },
     "metadata": {},
     "execution_count": 34
    }
   ],
   "source": [
    "data"
   ]
  },
  {
   "cell_type": "code",
   "execution_count": null,
   "metadata": {},
   "outputs": [],
   "source": []
  },
  {
   "cell_type": "code",
   "execution_count": null,
   "metadata": {},
   "outputs": [],
   "source": []
  }
 ]
}