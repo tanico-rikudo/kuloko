{
 "metadata": {
  "language_info": {
   "codemirror_mode": {
    "name": "ipython",
    "version": 3
   },
   "file_extension": ".py",
   "mimetype": "text/x-python",
   "name": "python",
   "nbconvert_exporter": "python",
   "pygments_lexer": "ipython3",
   "version": "3.7.6-final"
  },
  "orig_nbformat": 2,
  "kernelspec": {
   "name": "Python 3.7.6 64-bit ('py37b')",
   "display_name": "Python 3.7.6 64-bit ('py37b')",
   "metadata": {
    "interpreter": {
     "hash": "edf7c2d5f0f70628fc224588ceca2c2113a9ef071d19ac3a0b9346fc3eba554c"
    }
   }
  }
 },
 "nbformat": 4,
 "nbformat_minor": 2,
 "cells": [
  {
   "cell_type": "code",
   "execution_count": 1,
   "metadata": {},
   "outputs": [],
   "source": [
    "%load_ext autoreload\n",
    "%autoreload 2"
   ]
  },
  {
   "cell_type": "code",
   "execution_count": 2,
   "metadata": {
    "tags": []
   },
   "outputs": [],
   "source": [
    "import requests\n",
    "import json\n",
    "import urllib.parse\n",
    "import logging\n",
    "import logging.config\n",
    "\n",
    "import pandas as pd\n",
    "import numpy as np\n",
    "\n",
    "logging.config.fileConfig('./ini/logconfig.ini')\n",
    "logger = logging.getLogger(\"KULOKO\")"
   ]
  },
  {
   "cell_type": "code",
   "execution_count": 3,
   "metadata": {},
   "outputs": [],
   "source": [
    "import src.handler.api_handler as api"
   ]
  },
  {
   "cell_type": "code",
   "execution_count": 4,
   "metadata": {},
   "outputs": [],
   "source": [
    "sym = 'BTC'\n",
    "depth=5\n",
    "orderbook = api.Orderbook(sym)\n",
    "orderbook.depth =depth\n"
   ]
  },
  {
   "cell_type": "code",
   "execution_count": 5,
   "metadata": {},
   "outputs": [
    {
     "output_type": "execute_result",
     "data": {
      "text/plain": [
       "       price   size\n",
       "0  1652870.0  0.015\n",
       "1  1652880.0  0.100\n",
       "2  1653150.0  7.500\n",
       "3  1653300.0  0.050\n",
       "4  1653350.0  1.000"
      ],
      "text/html": "<div>\n<style scoped>\n    .dataframe tbody tr th:only-of-type {\n        vertical-align: middle;\n    }\n\n    .dataframe tbody tr th {\n        vertical-align: top;\n    }\n\n    .dataframe thead th {\n        text-align: right;\n    }\n</style>\n<table border=\"1\" class=\"dataframe\">\n  <thead>\n    <tr style=\"text-align: right;\">\n      <th></th>\n      <th>price</th>\n      <th>size</th>\n    </tr>\n  </thead>\n  <tbody>\n    <tr>\n      <th>0</th>\n      <td>1652870.0</td>\n      <td>0.015</td>\n    </tr>\n    <tr>\n      <th>1</th>\n      <td>1652880.0</td>\n      <td>0.100</td>\n    </tr>\n    <tr>\n      <th>2</th>\n      <td>1653150.0</td>\n      <td>7.500</td>\n    </tr>\n    <tr>\n      <th>3</th>\n      <td>1653300.0</td>\n      <td>0.050</td>\n    </tr>\n    <tr>\n      <th>4</th>\n      <td>1653350.0</td>\n      <td>1.000</td>\n    </tr>\n  </tbody>\n</table>\n</div>"
     },
     "metadata": {},
     "execution_count": 5
    }
   ],
   "source": [
    "df_snapshot = orderbook.fetch(return_type='dataframe')\n",
    "df_snapshot['data']['asks']"
   ]
  },
  {
   "cell_type": "code",
   "execution_count": 6,
   "metadata": {},
   "outputs": [
    {
     "output_type": "execute_result",
     "data": {
      "text/plain": [
       "{'status': 0,\n",
       " 'data': {'asks': [{'price': '1652870', 'size': '0.015'},\n",
       "   {'price': '1652880', 'size': '0.1'},\n",
       "   {'price': '1653250', 'size': '5'},\n",
       "   {'price': '1653300', 'size': '0.05'},\n",
       "   {'price': '1653350', 'size': '1'}],\n",
       "  'bids': [{'price': '1651500', 'size': '1.4141'},\n",
       "   {'price': '1651400', 'size': '0.267'},\n",
       "   {'price': '1651200', 'size': '1'},\n",
       "   {'price': '1650100', 'size': '0.05'},\n",
       "   {'price': '1650020', 'size': '0.1'}],\n",
       "  'symbol': 'BTC'},\n",
       " 'responsetime': '2020-11-11T13:29:07.008Z'}"
      ]
     },
     "metadata": {},
     "execution_count": 6
    }
   ],
   "source": [
    "json_orderbook = orderbook.fetch(return_type='raw')\n",
    "json_orderbook"
   ]
  },
  {
   "cell_type": "code",
   "execution_count": 7,
   "metadata": {},
   "outputs": [
    {
     "output_type": "execute_result",
     "data": {
      "text/plain": [
       "[datetime.datetime(2020, 11, 11, 4, 29, 7, 623000, tzinfo=datetime.timezone.utc),\n",
       " 1651500.0,\n",
       " 1.4141,\n",
       " 1651400.0,\n",
       " 0.267,\n",
       " 1651200.0,\n",
       " 1.0,\n",
       " 1650100.0,\n",
       " 0.05,\n",
       " 1650020.0,\n",
       " 0.1,\n",
       " 1651500.0,\n",
       " 1.4141,\n",
       " 1651400.0,\n",
       " 0.267,\n",
       " 1651200.0,\n",
       " 1.0,\n",
       " 1650100.0,\n",
       " 0.05,\n",
       " 1650020.0,\n",
       " 0.1]"
      ]
     },
     "metadata": {},
     "execution_count": 7
    }
   ],
   "source": [
    "\n",
    "seq_orderbook = orderbook.fetch(return_type='seq')\n",
    "seq_orderbook"
   ]
  },
  {
   "cell_type": "code",
   "execution_count": 8,
   "metadata": {},
   "outputs": [
    {
     "output_type": "execute_result",
     "data": {
      "text/plain": [
       "                                     0\n",
       "status                               0\n",
       "data                               NaN\n",
       "responsetime  2020-11-11T13:29:07.008Z"
      ],
      "text/html": "<div>\n<style scoped>\n    .dataframe tbody tr th:only-of-type {\n        vertical-align: middle;\n    }\n\n    .dataframe tbody tr th {\n        vertical-align: top;\n    }\n\n    .dataframe thead th {\n        text-align: right;\n    }\n</style>\n<table border=\"1\" class=\"dataframe\">\n  <thead>\n    <tr style=\"text-align: right;\">\n      <th></th>\n      <th>0</th>\n    </tr>\n  </thead>\n  <tbody>\n    <tr>\n      <th>status</th>\n      <td>0</td>\n    </tr>\n    <tr>\n      <th>data</th>\n      <td>NaN</td>\n    </tr>\n    <tr>\n      <th>responsetime</th>\n      <td>2020-11-11T13:29:07.008Z</td>\n    </tr>\n  </tbody>\n</table>\n</div>"
     },
     "metadata": {},
     "execution_count": 8
    }
   ],
   "source": [
    "pd.DataFrame(json_orderbook,index=[0]).T"
   ]
  },
  {
   "cell_type": "code",
   "execution_count": 9,
   "metadata": {},
   "outputs": [
    {
     "output_type": "execute_result",
     "data": {
      "text/plain": [
       "{'time': '20201111042908274000',\n",
       " 'bids0': 1651500.0,\n",
       " 'bids0_size': 1.4141,\n",
       " 'bids1': 1651400.0,\n",
       " 'bids1_size': 0.267,\n",
       " 'bids2': 1651200.0,\n",
       " 'bids2_size': 1.0,\n",
       " 'bids3': 1650100.0,\n",
       " 'bids3_size': 0.05,\n",
       " 'bids4': 1650020.0,\n",
       " 'bids4_size': 0.1,\n",
       " 'asks0': 1651500.0,\n",
       " 'asks0_size': 1.4141,\n",
       " 'asks1': 1651400.0,\n",
       " 'asks1_size': 0.267,\n",
       " 'asks2': 1651200.0,\n",
       " 'asks2_size': 1.0,\n",
       " 'asks3': 1650100.0,\n",
       " 'asks3_size': 0.05,\n",
       " 'asks4': 1650020.0,\n",
       " 'asks4_size': 0.1}"
      ]
     },
     "metadata": {},
     "execution_count": 9
    }
   ],
   "source": [
    "json_orderbook = orderbook.fetch(return_type='json')\n",
    "json_orderbook"
   ]
  },
  {
   "cell_type": "code",
   "execution_count": 10,
   "metadata": {
    "tags": []
   },
   "outputs": [],
   "source": [
    "tick = api.Ticks(sym)\n"
   ]
  },
  {
   "cell_type": "code",
   "execution_count": 11,
   "metadata": {
    "tags": []
   },
   "outputs": [
    {
     "output_type": "execute_result",
     "data": {
      "text/plain": [
       "{'ask': 1652870.0,\n",
       " 'bid': 1651500.0,\n",
       " 'high': 1655900.0,\n",
       " 'last': 1652740.0,\n",
       " 'low': 1610000.0,\n",
       " 'volume': 427.819,\n",
       " 'timestamp': '20201111042909950000'}"
      ]
     },
     "metadata": {},
     "execution_count": 11
    }
   ],
   "source": [
    "data = tick.fetch(return_type='json')\n",
    "data"
   ]
  },
  {
   "cell_type": "code",
   "execution_count": 12,
   "metadata": {},
   "outputs": [
    {
     "output_type": "execute_result",
     "data": {
      "text/plain": [
       "{'status': 0,\n",
       " 'data': [{'ask': '1652870',\n",
       "   'bid': '1651500',\n",
       "   'high': '1655900',\n",
       "   'last': '1652740',\n",
       "   'low': '1610000',\n",
       "   'symbol': 'BTC',\n",
       "   'timestamp': '2020-11-11T13:29:12.211Z',\n",
       "   'volume': '427.819'}],\n",
       " 'responsetime': '2020-11-11T13:29:13.064Z'}"
      ]
     },
     "metadata": {},
     "execution_count": 12
    }
   ],
   "source": [
    "data = tick.fetch(return_type='raw')\n",
    "data"
   ]
  },
  {
   "cell_type": "code",
   "execution_count": 13,
   "metadata": {},
   "outputs": [],
   "source": [
    "trade = api.Trade(sym)"
   ]
  },
  {
   "cell_type": "code",
   "execution_count": 14,
   "metadata": {},
   "outputs": [],
   "source": [
    "data, since_time = trade.fetch(\"dataframe\")"
   ]
  },
  {
   "cell_type": "code",
   "execution_count": 15,
   "metadata": {},
   "outputs": [],
   "source": [
    "data2, _ = trade.fetch(\"dataframe\",since_time)"
   ]
  },
  {
   "cell_type": "code",
   "execution_count": 16,
   "metadata": {},
   "outputs": [
    {
     "output_type": "execute_result",
     "data": {
      "text/plain": [
       "        price  side    size                        timestamp\n",
       "0   1652740.0  SELL  0.0005 2020-11-11 04:28:54.789000+00:00\n",
       "1   1652740.0   BUY  0.0005 2020-11-11 04:28:54.789000+00:00\n",
       "2   1652990.0  SELL  0.0060 2020-11-11 04:28:23.496000+00:00\n",
       "3   1652990.0   BUY  0.0060 2020-11-11 04:28:23.496000+00:00\n",
       "4   1653300.0  SELL  0.0500 2020-11-11 04:27:24.992000+00:00\n",
       "..        ...   ...     ...                              ...\n",
       "94  1655900.0   BUY  0.0100 2020-11-11 04:14:57.961000+00:00\n",
       "95  1655466.0   BUY  0.0080 2020-11-11 04:14:54.530000+00:00\n",
       "96  1655466.0  SELL  0.0080 2020-11-11 04:14:54.530000+00:00\n",
       "97  1655363.0  SELL  0.0001 2020-11-11 04:14:49.723000+00:00\n",
       "98  1655251.0  SELL  0.0001 2020-11-11 04:14:49.228000+00:00\n",
       "\n",
       "[99 rows x 4 columns]"
      ],
      "text/html": "<div>\n<style scoped>\n    .dataframe tbody tr th:only-of-type {\n        vertical-align: middle;\n    }\n\n    .dataframe tbody tr th {\n        vertical-align: top;\n    }\n\n    .dataframe thead th {\n        text-align: right;\n    }\n</style>\n<table border=\"1\" class=\"dataframe\">\n  <thead>\n    <tr style=\"text-align: right;\">\n      <th></th>\n      <th>price</th>\n      <th>side</th>\n      <th>size</th>\n      <th>timestamp</th>\n    </tr>\n  </thead>\n  <tbody>\n    <tr>\n      <th>0</th>\n      <td>1652740.0</td>\n      <td>SELL</td>\n      <td>0.0005</td>\n      <td>2020-11-11 04:28:54.789000+00:00</td>\n    </tr>\n    <tr>\n      <th>1</th>\n      <td>1652740.0</td>\n      <td>BUY</td>\n      <td>0.0005</td>\n      <td>2020-11-11 04:28:54.789000+00:00</td>\n    </tr>\n    <tr>\n      <th>2</th>\n      <td>1652990.0</td>\n      <td>SELL</td>\n      <td>0.0060</td>\n      <td>2020-11-11 04:28:23.496000+00:00</td>\n    </tr>\n    <tr>\n      <th>3</th>\n      <td>1652990.0</td>\n      <td>BUY</td>\n      <td>0.0060</td>\n      <td>2020-11-11 04:28:23.496000+00:00</td>\n    </tr>\n    <tr>\n      <th>4</th>\n      <td>1653300.0</td>\n      <td>SELL</td>\n      <td>0.0500</td>\n      <td>2020-11-11 04:27:24.992000+00:00</td>\n    </tr>\n    <tr>\n      <th>...</th>\n      <td>...</td>\n      <td>...</td>\n      <td>...</td>\n      <td>...</td>\n    </tr>\n    <tr>\n      <th>94</th>\n      <td>1655900.0</td>\n      <td>BUY</td>\n      <td>0.0100</td>\n      <td>2020-11-11 04:14:57.961000+00:00</td>\n    </tr>\n    <tr>\n      <th>95</th>\n      <td>1655466.0</td>\n      <td>BUY</td>\n      <td>0.0080</td>\n      <td>2020-11-11 04:14:54.530000+00:00</td>\n    </tr>\n    <tr>\n      <th>96</th>\n      <td>1655466.0</td>\n      <td>SELL</td>\n      <td>0.0080</td>\n      <td>2020-11-11 04:14:54.530000+00:00</td>\n    </tr>\n    <tr>\n      <th>97</th>\n      <td>1655363.0</td>\n      <td>SELL</td>\n      <td>0.0001</td>\n      <td>2020-11-11 04:14:49.723000+00:00</td>\n    </tr>\n    <tr>\n      <th>98</th>\n      <td>1655251.0</td>\n      <td>SELL</td>\n      <td>0.0001</td>\n      <td>2020-11-11 04:14:49.228000+00:00</td>\n    </tr>\n  </tbody>\n</table>\n<p>99 rows × 4 columns</p>\n</div>"
     },
     "metadata": {},
     "execution_count": 16
    }
   ],
   "source": [
    "data"
   ]
  },
  {
   "cell_type": "code",
   "execution_count": 17,
   "metadata": {},
   "outputs": [],
   "source": [
    "data, since_time = trade.fetch(\"json\")"
   ]
  },
  {
   "cell_type": "code",
   "execution_count": 18,
   "metadata": {},
   "outputs": [],
   "source": [
    "# NOT !pip install websocket\n",
    "# !pip install websocket-client"
   ]
  },
  {
   "cell_type": "code",
   "execution_count": 19,
   "metadata": {},
   "outputs": [
    {
     "output_type": "execute_result",
     "data": {
      "text/plain": [
       "[{'price': 1652740.0,\n",
       "  'side': 'SELL',\n",
       "  'size': 0.0005,\n",
       "  'timestamp': '20201111042854789000'},\n",
       " {'price': 1652740.0,\n",
       "  'side': 'BUY',\n",
       "  'size': 0.0005,\n",
       "  'timestamp': '20201111042854789000'},\n",
       " {'price': 1652990.0,\n",
       "  'side': 'SELL',\n",
       "  'size': 0.006,\n",
       "  'timestamp': '20201111042823496000'},\n",
       " {'price': 1652990.0,\n",
       "  'side': 'BUY',\n",
       "  'size': 0.006,\n",
       "  'timestamp': '20201111042823496000'},\n",
       " {'price': 1653300.0,\n",
       "  'side': 'SELL',\n",
       "  'size': 0.05,\n",
       "  'timestamp': '20201111042724992000'},\n",
       " {'price': 1653300.0,\n",
       "  'side': 'BUY',\n",
       "  'size': 0.05,\n",
       "  'timestamp': '20201111042724992000'},\n",
       " {'price': 1651580.0,\n",
       "  'side': 'BUY',\n",
       "  'size': 0.0215,\n",
       "  'timestamp': '20201111042648115000'},\n",
       " {'price': 1651580.0,\n",
       "  'side': 'SELL',\n",
       "  'size': 0.0215,\n",
       "  'timestamp': '20201111042648115000'},\n",
       " {'price': 1652670.0,\n",
       "  'side': 'SELL',\n",
       "  'size': 0.0598,\n",
       "  'timestamp': '20201111042619422000'},\n",
       " {'price': 1652670.0,\n",
       "  'side': 'BUY',\n",
       "  'size': 0.0598,\n",
       "  'timestamp': '20201111042619422000'},\n",
       " {'price': 1652669.0,\n",
       "  'side': 'SELL',\n",
       "  'size': 0.0402,\n",
       "  'timestamp': '20201111042619422000'},\n",
       " {'price': 1652669.0,\n",
       "  'side': 'BUY',\n",
       "  'size': 0.0402,\n",
       "  'timestamp': '20201111042619422000'},\n",
       " {'price': 1652689.0,\n",
       "  'side': 'SELL',\n",
       "  'size': 0.0021,\n",
       "  'timestamp': '20201111042555692000'},\n",
       " {'price': 1652689.0,\n",
       "  'side': 'BUY',\n",
       "  'size': 0.0021,\n",
       "  'timestamp': '20201111042555692000'},\n",
       " {'price': 1653300.0,\n",
       "  'side': 'BUY',\n",
       "  'size': 0.3833,\n",
       "  'timestamp': '20201111042529773000'},\n",
       " {'price': 1653245.0,\n",
       "  'side': 'SELL',\n",
       "  'size': 0.0148,\n",
       "  'timestamp': '20201111042529773000'},\n",
       " {'price': 1653245.0,\n",
       "  'side': 'BUY',\n",
       "  'size': 0.0148,\n",
       "  'timestamp': '20201111042529773000'},\n",
       " {'price': 1651634.0,\n",
       "  'side': 'SELL',\n",
       "  'size': 0.075,\n",
       "  'timestamp': '20201111042529773000'},\n",
       " {'price': 1651634.0,\n",
       "  'side': 'BUY',\n",
       "  'size': 0.075,\n",
       "  'timestamp': '20201111042529773000'},\n",
       " {'price': 1651600.0,\n",
       "  'side': 'SELL',\n",
       "  'size': 0.394,\n",
       "  'timestamp': '20201111042529773000'},\n",
       " {'price': 1651600.0,\n",
       "  'side': 'BUY',\n",
       "  'size': 0.394,\n",
       "  'timestamp': '20201111042529773000'},\n",
       " {'price': 1651600.0,\n",
       "  'side': 'SELL',\n",
       "  'size': 0.0855,\n",
       "  'timestamp': '20201111042529773000'},\n",
       " {'price': 1651600.0,\n",
       "  'side': 'BUY',\n",
       "  'size': 0.0855,\n",
       "  'timestamp': '20201111042529773000'},\n",
       " {'price': 1651590.0,\n",
       "  'side': 'SELL',\n",
       "  'size': 0.0474,\n",
       "  'timestamp': '20201111042529773000'},\n",
       " {'price': 1651590.0,\n",
       "  'side': 'BUY',\n",
       "  'size': 0.0474,\n",
       "  'timestamp': '20201111042529773000'},\n",
       " {'price': 1651635.0,\n",
       "  'side': 'SELL',\n",
       "  'size': 0.09,\n",
       "  'timestamp': '20201111042526262000'},\n",
       " {'price': 1651635.0,\n",
       "  'side': 'BUY',\n",
       "  'size': 0.09,\n",
       "  'timestamp': '20201111042526262000'},\n",
       " {'price': 1651630.0,\n",
       "  'side': 'SELL',\n",
       "  'size': 0.01,\n",
       "  'timestamp': '20201111042526262000'},\n",
       " {'price': 1651630.0,\n",
       "  'side': 'BUY',\n",
       "  'size': 0.01,\n",
       "  'timestamp': '20201111042526262000'},\n",
       " {'price': 1651500.0,\n",
       "  'side': 'BUY',\n",
       "  'size': 0.01,\n",
       "  'timestamp': '20201111042525408000'},\n",
       " {'price': 1651500.0,\n",
       "  'side': 'SELL',\n",
       "  'size': 0.01,\n",
       "  'timestamp': '20201111042525408000'},\n",
       " {'price': 1651500.0,\n",
       "  'side': 'BUY',\n",
       "  'size': 0.1,\n",
       "  'timestamp': '20201111042512911000'},\n",
       " {'price': 1651500.0,\n",
       "  'side': 'SELL',\n",
       "  'size': 0.1,\n",
       "  'timestamp': '20201111042512911000'},\n",
       " {'price': 1651720.0,\n",
       "  'side': 'SELL',\n",
       "  'size': 0.005,\n",
       "  'timestamp': '20201111042454508000'},\n",
       " {'price': 1651720.0,\n",
       "  'side': 'BUY',\n",
       "  'size': 0.005,\n",
       "  'timestamp': '20201111042454508000'},\n",
       " {'price': 1651500.0,\n",
       "  'side': 'BUY',\n",
       "  'size': 0.0267,\n",
       "  'timestamp': '20201111042436005000'},\n",
       " {'price': 1651500.0,\n",
       "  'side': 'SELL',\n",
       "  'size': 0.0267,\n",
       "  'timestamp': '20201111042436005000'},\n",
       " {'price': 1651500.0,\n",
       "  'side': 'BUY',\n",
       "  'size': 0.0159,\n",
       "  'timestamp': '20201111042435065000'},\n",
       " {'price': 1651500.0,\n",
       "  'side': 'SELL',\n",
       "  'size': 0.0159,\n",
       "  'timestamp': '20201111042435065000'},\n",
       " {'price': 1651500.0,\n",
       "  'side': 'BUY',\n",
       "  'size': 0.1,\n",
       "  'timestamp': '20201111042434024000'},\n",
       " {'price': 1651500.0,\n",
       "  'side': 'SELL',\n",
       "  'size': 0.1,\n",
       "  'timestamp': '20201111042434024000'},\n",
       " {'price': 1651500.0,\n",
       "  'side': 'BUY',\n",
       "  'size': 0.1,\n",
       "  'timestamp': '20201111042433065000'},\n",
       " {'price': 1651500.0,\n",
       "  'side': 'SELL',\n",
       "  'size': 0.1,\n",
       "  'timestamp': '20201111042433065000'},\n",
       " {'price': 1651500.0,\n",
       "  'side': 'BUY',\n",
       "  'size': 0.1333,\n",
       "  'timestamp': '20201111042432821000'},\n",
       " {'price': 1651500.0,\n",
       "  'side': 'SELL',\n",
       "  'size': 0.1333,\n",
       "  'timestamp': '20201111042432821000'},\n",
       " {'price': 1651500.0,\n",
       "  'side': 'BUY',\n",
       "  'size': 0.1,\n",
       "  'timestamp': '20201111042431943000'},\n",
       " {'price': 1651500.0,\n",
       "  'side': 'SELL',\n",
       "  'size': 0.1,\n",
       "  'timestamp': '20201111042431943000'},\n",
       " {'price': 1652715.0,\n",
       "  'side': 'SELL',\n",
       "  'size': 0.1,\n",
       "  'timestamp': '20201111042404027000'},\n",
       " {'price': 1652715.0,\n",
       "  'side': 'BUY',\n",
       "  'size': 0.1,\n",
       "  'timestamp': '20201111042404027000'},\n",
       " {'price': 1651706.0,\n",
       "  'side': 'BUY',\n",
       "  'size': 0.002,\n",
       "  'timestamp': '20201111042403668000'},\n",
       " {'price': 1651706.0,\n",
       "  'side': 'SELL',\n",
       "  'size': 0.002,\n",
       "  'timestamp': '20201111042403668000'},\n",
       " {'price': 1652869.0,\n",
       "  'side': 'SELL',\n",
       "  'size': 0.01,\n",
       "  'timestamp': '20201111042126368000'},\n",
       " {'price': 1652869.0,\n",
       "  'side': 'BUY',\n",
       "  'size': 0.01,\n",
       "  'timestamp': '20201111042126368000'},\n",
       " {'price': 1651530.0,\n",
       "  'side': 'BUY',\n",
       "  'size': 0.0222,\n",
       "  'timestamp': '20201111042120416000'},\n",
       " {'price': 1651530.0,\n",
       "  'side': 'SELL',\n",
       "  'size': 0.0222,\n",
       "  'timestamp': '20201111042120416000'},\n",
       " {'price': 1651540.0,\n",
       "  'side': 'BUY',\n",
       "  'size': 0.1,\n",
       "  'timestamp': '20201111042120416000'},\n",
       " {'price': 1651540.0,\n",
       "  'side': 'SELL',\n",
       "  'size': 0.1,\n",
       "  'timestamp': '20201111042120416000'},\n",
       " {'price': 1653000.0,\n",
       "  'side': 'SELL',\n",
       "  'size': 0.141,\n",
       "  'timestamp': '20201111042106942000'},\n",
       " {'price': 1653000.0,\n",
       "  'side': 'BUY',\n",
       "  'size': 0.141,\n",
       "  'timestamp': '20201111042106942000'},\n",
       " {'price': 1653000.0,\n",
       "  'side': 'SELL',\n",
       "  'size': 0.009,\n",
       "  'timestamp': '20201111042106942000'},\n",
       " {'price': 1653000.0,\n",
       "  'side': 'BUY',\n",
       "  'size': 0.009,\n",
       "  'timestamp': '20201111042106942000'},\n",
       " {'price': 1652830.0,\n",
       "  'side': 'SELL',\n",
       "  'size': 0.06,\n",
       "  'timestamp': '20201111042002207000'},\n",
       " {'price': 1652830.0,\n",
       "  'side': 'BUY',\n",
       "  'size': 0.06,\n",
       "  'timestamp': '20201111042002207000'},\n",
       " {'price': 1652825.0,\n",
       "  'side': 'SELL',\n",
       "  'size': 0.09,\n",
       "  'timestamp': '20201111042002207000'},\n",
       " {'price': 1652825.0,\n",
       "  'side': 'BUY',\n",
       "  'size': 0.09,\n",
       "  'timestamp': '20201111042002207000'},\n",
       " {'price': 1652950.0,\n",
       "  'side': 'SELL',\n",
       "  'size': 0.0025,\n",
       "  'timestamp': '20201111041928225000'},\n",
       " {'price': 1652950.0,\n",
       "  'side': 'BUY',\n",
       "  'size': 0.0025,\n",
       "  'timestamp': '20201111041928225000'},\n",
       " {'price': 1651380.0,\n",
       "  'side': 'BUY',\n",
       "  'size': 0.0002,\n",
       "  'timestamp': '20201111041838003000'},\n",
       " {'price': 1651380.0,\n",
       "  'side': 'SELL',\n",
       "  'size': 0.0002,\n",
       "  'timestamp': '20201111041838003000'},\n",
       " {'price': 1652675.0,\n",
       "  'side': 'BUY',\n",
       "  'size': 0.067,\n",
       "  'timestamp': '20201111041832782000'},\n",
       " {'price': 1652675.0,\n",
       "  'side': 'SELL',\n",
       "  'size': 0.067,\n",
       "  'timestamp': '20201111041832782000'},\n",
       " {'price': 1652675.0,\n",
       "  'side': 'BUY',\n",
       "  'size': 0.01,\n",
       "  'timestamp': '20201111041717575000'},\n",
       " {'price': 1652675.0,\n",
       "  'side': 'SELL',\n",
       "  'size': 0.01,\n",
       "  'timestamp': '20201111041717575000'},\n",
       " {'price': 1655230.0,\n",
       "  'side': 'SELL',\n",
       "  'size': 0.05,\n",
       "  'timestamp': '20201111041708810000'},\n",
       " {'price': 1655230.0,\n",
       "  'side': 'BUY',\n",
       "  'size': 0.05,\n",
       "  'timestamp': '20201111041708810000'},\n",
       " {'price': 1652580.0,\n",
       "  'side': 'BUY',\n",
       "  'size': 0.098,\n",
       "  'timestamp': '20201111041650326000'},\n",
       " {'price': 1652580.0,\n",
       "  'side': 'SELL',\n",
       "  'size': 0.098,\n",
       "  'timestamp': '20201111041650326000'},\n",
       " {'price': 1654639.0,\n",
       "  'side': 'BUY',\n",
       "  'size': 0.002,\n",
       "  'timestamp': '20201111041650326000'},\n",
       " {'price': 1654639.0,\n",
       "  'side': 'SELL',\n",
       "  'size': 0.002,\n",
       "  'timestamp': '20201111041650326000'},\n",
       " {'price': 1655800.0,\n",
       "  'side': 'BUY',\n",
       "  'size': 0.01,\n",
       "  'timestamp': '20201111041642592000'},\n",
       " {'price': 1655800.0,\n",
       "  'side': 'SELL',\n",
       "  'size': 0.01,\n",
       "  'timestamp': '20201111041642592000'},\n",
       " {'price': 1655804.0,\n",
       "  'side': 'SELL',\n",
       "  'size': 0.05,\n",
       "  'timestamp': '20201111041640418000'},\n",
       " {'price': 1655804.0,\n",
       "  'side': 'BUY',\n",
       "  'size': 0.05,\n",
       "  'timestamp': '20201111041640418000'},\n",
       " {'price': 1655864.0,\n",
       "  'side': 'SELL',\n",
       "  'size': 0.06,\n",
       "  'timestamp': '20201111041637496000'},\n",
       " {'price': 1655864.0,\n",
       "  'side': 'BUY',\n",
       "  'size': 0.06,\n",
       "  'timestamp': '20201111041637496000'},\n",
       " {'price': 1655864.0,\n",
       "  'side': 'SELL',\n",
       "  'size': 0.01,\n",
       "  'timestamp': '20201111041628815000'},\n",
       " {'price': 1655864.0,\n",
       "  'side': 'BUY',\n",
       "  'size': 0.01,\n",
       "  'timestamp': '20201111041628815000'},\n",
       " {'price': 1655861.0,\n",
       "  'side': 'BUY',\n",
       "  'size': 0.002,\n",
       "  'timestamp': '20201111041601468000'},\n",
       " {'price': 1655861.0,\n",
       "  'side': 'SELL',\n",
       "  'size': 0.002,\n",
       "  'timestamp': '20201111041601468000'},\n",
       " {'price': 1655860.0,\n",
       "  'side': 'SELL',\n",
       "  'size': 0.1,\n",
       "  'timestamp': '20201111041530317000'},\n",
       " {'price': 1655860.0,\n",
       "  'side': 'BUY',\n",
       "  'size': 0.1,\n",
       "  'timestamp': '20201111041530317000'},\n",
       " {'price': 1655900.0,\n",
       "  'side': 'SELL',\n",
       "  'size': 0.005,\n",
       "  'timestamp': '20201111041457961000'},\n",
       " {'price': 1655900.0,\n",
       "  'side': 'BUY',\n",
       "  'size': 0.005,\n",
       "  'timestamp': '20201111041457961000'},\n",
       " {'price': 1655900.0,\n",
       "  'side': 'SELL',\n",
       "  'size': 0.01,\n",
       "  'timestamp': '20201111041457961000'},\n",
       " {'price': 1655900.0,\n",
       "  'side': 'BUY',\n",
       "  'size': 0.01,\n",
       "  'timestamp': '20201111041457961000'},\n",
       " {'price': 1655466.0,\n",
       "  'side': 'BUY',\n",
       "  'size': 0.008,\n",
       "  'timestamp': '20201111041454530000'},\n",
       " {'price': 1655466.0,\n",
       "  'side': 'SELL',\n",
       "  'size': 0.008,\n",
       "  'timestamp': '20201111041454530000'},\n",
       " {'price': 1655363.0,\n",
       "  'side': 'SELL',\n",
       "  'size': 0.0001,\n",
       "  'timestamp': '20201111041449723000'},\n",
       " {'price': 1655251.0,\n",
       "  'side': 'SELL',\n",
       "  'size': 0.0001,\n",
       "  'timestamp': '20201111041449228000'}]"
      ]
     },
     "metadata": {},
     "execution_count": 19
    }
   ],
   "source": [
    "data"
   ]
  },
  {
   "cell_type": "code",
   "execution_count": null,
   "metadata": {},
   "outputs": [],
   "source": []
  },
  {
   "cell_type": "code",
   "execution_count": null,
   "metadata": {},
   "outputs": [],
   "source": []
  }
 ]
}