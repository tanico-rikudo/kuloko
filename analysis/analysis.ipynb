{
 "metadata": {
  "language_info": {
   "codemirror_mode": {
    "name": "ipython",
    "version": 3
   },
   "file_extension": ".py",
   "mimetype": "text/x-python",
   "name": "python",
   "nbconvert_exporter": "python",
   "pygments_lexer": "ipython3",
   "version": "3.7.6-final"
  },
  "orig_nbformat": 2,
  "kernelspec": {
   "name": "python3",
   "display_name": "Python 3"
  }
 },
 "nbformat": 4,
 "nbformat_minor": 2,
 "cells": [
  {
   "cell_type": "code",
   "execution_count": 32,
   "metadata": {},
   "outputs": [
    {
     "output_type": "stream",
     "name": "stdout",
     "text": [
      "The autoreload extension is already loaded. To reload it, use:\n  %reload_ext autoreload\n"
     ]
    }
   ],
   "source": [
    "%load_ext autoreload\n",
    "%autoreload 2"
   ]
  },
  {
   "cell_type": "code",
   "execution_count": 33,
   "metadata": {},
   "outputs": [],
   "source": [
    "import pandas as pd"
   ]
  },
  {
   "cell_type": "code",
   "execution_count": 34,
   "metadata": {},
   "outputs": [],
   "source": [
    "from pymongo import MongoClient\n",
    "import configparser\n",
    "import logging\n",
    "import logging.config\n",
    "sys.path.append(os.path.join(os.path.dirname('__file__'),'..'))\n",
    "os.environ['INIDIR'] = '/Users/macico/Dropbox/kaggle/kuloko/ini'\n",
    "os.environ['LOGDIR'] = '/Users/macico/Dropbox/kaggle/kuloko/log'\n",
    "INIDIR=os.environ['INIDIR'] \n",
    "LOGDIR=os.environ['LOGDIR'] \n",
    "\n",
    "logging.config.fileConfig(os.path.join(INIDIR,'logconfig.ini'),defaults={'logfilename': os.path.join(LOGDIR,'logging.log')})\n",
    "logger = logging.getLogger(\"KULOKO\")"
   ]
  },
  {
   "cell_type": "code",
   "execution_count": 35,
   "metadata": {},
   "outputs": [],
   "source": [
    "mongo_ini = configparser.ConfigParser()\n",
    "mongo_ini.read(os.path.join(INIDIR,'db_config.ini'), encoding='utf-8')\n",
    "\n",
    "from kuloko_db.src.mongo_handler import MongoHandler"
   ]
  },
  {
   "cell_type": "code",
   "execution_count": 4,
   "metadata": {},
   "outputs": [],
   "source": []
  },
  {
   "cell_type": "code",
   "execution_count": 39,
   "metadata": {
    "tags": []
   },
   "outputs": [
    {
     "output_type": "stream",
     "name": "stdout",
     "text": [
      "82\n14\n"
     ]
    }
   ],
   "source": [
    "mongo_db = MongoHandler(mongo_ini['LOCAL'],\"orderbook\")\n",
    "print(len( [ _ for db_data in mongo_db.find()]))\n",
    "mongo_db = MongoHandler(mongo_ini['LOCAL'],\"trade\")\n",
    "print(len( [ _ for db_data in mongo_db.find()]))"
   ]
  },
  {
   "cell_type": "code",
   "execution_count": 6,
   "metadata": {},
   "outputs": [],
   "source": []
  },
  {
   "cell_type": "code",
   "execution_count": 45,
   "metadata": {},
   "outputs": [],
   "source": [
    "# orderbook\n",
    "mongo_db = MongoHandler(mongo_ini['LOCAL'],\"orderbook\")\n",
    "df_orderbook = pd.DataFrame([  db_data for db_data in mongo_db.db['orderbook'].find()])\n",
    "df_orderbook.time = pd.to_datetime(df_orderbook.time, format=\"%Y%m%d%H%M%S%f\")\n",
    "df_orderbook.set_index(\"time\",inplace=True)\n",
    "del df_orderbook['_id']"
   ]
  },
  {
   "cell_type": "code",
   "execution_count": 46,
   "metadata": {},
   "outputs": [
    {
     "output_type": "execute_result",
     "data": {
      "text/plain": [
       "                        symbol      bids0  bids0_size      bids1  bids1_size  \\\n",
       "time                                                                           \n",
       "2020-12-06 02:38:09.526    BTC  1983300.0      0.1000  1983295.0         0.4   \n",
       "2020-12-06 02:38:10.041    BTC  1983310.0      0.1000  1983300.0         0.5   \n",
       "2020-12-06 02:38:10.556    BTC  1983315.0      0.4000  1983310.0         0.1   \n",
       "2020-12-06 02:38:11.072    BTC  1983320.0      0.1000  1983315.0         0.4   \n",
       "2020-12-06 02:38:11.098    BTC  1983320.0      0.1000  1983315.0         0.4   \n",
       "...                        ...        ...         ...        ...         ...   \n",
       "2020-12-06 02:42:48.648    BTC  1986021.0      0.0475  1986020.0         0.1   \n",
       "2020-12-06 02:42:49.162    BTC  1986021.0      0.0475  1986020.0         0.1   \n",
       "2020-12-06 02:42:49.195    BTC  1986021.0      0.0475  1986020.0         0.1   \n",
       "2020-12-06 02:42:49.684    BTC  1986021.0      0.0475  1986020.0         0.1   \n",
       "2020-12-06 02:42:50.199    BTC  1986021.0      0.0475  1986020.0         0.1   \n",
       "\n",
       "                             bids2  bids2_size      bids3  bids3_size  \\\n",
       "time                                                                    \n",
       "2020-12-06 02:38:09.526  1983291.0      0.4475  1983290.0      0.1000   \n",
       "2020-12-06 02:38:10.041  1983295.0      0.4000  1983291.0      0.0475   \n",
       "2020-12-06 02:38:10.556  1983300.0      0.5000  1983291.0      0.0475   \n",
       "2020-12-06 02:38:11.072  1983310.0      0.4000  1983300.0      0.1000   \n",
       "2020-12-06 02:38:11.098  1983310.0      0.4000  1983300.0      0.1000   \n",
       "...                            ...         ...        ...         ...   \n",
       "2020-12-06 02:42:48.648  1986010.0      0.1000  1986005.0      0.4000   \n",
       "2020-12-06 02:42:49.162  1986010.0      0.1000  1986005.0      0.4000   \n",
       "2020-12-06 02:42:49.195  1986010.0      0.1000  1986005.0      0.4000   \n",
       "2020-12-06 02:42:49.684  1986010.0      0.1000  1986005.0      0.4000   \n",
       "2020-12-06 02:42:50.199  1986010.0      0.1000  1986005.0      0.4000   \n",
       "\n",
       "                             bids4  ...      asks0  asks0_size      asks1  \\\n",
       "time                                ...                                     \n",
       "2020-12-06 02:38:09.526  1983280.0  ...  1983300.0      0.1000  1983295.0   \n",
       "2020-12-06 02:38:10.041  1983290.0  ...  1983310.0      0.1000  1983300.0   \n",
       "2020-12-06 02:38:10.556  1983290.0  ...  1983315.0      0.4000  1983310.0   \n",
       "2020-12-06 02:38:11.072  1983291.0  ...  1983320.0      0.1000  1983315.0   \n",
       "2020-12-06 02:38:11.098  1983291.0  ...  1983320.0      0.1000  1983315.0   \n",
       "...                            ...  ...        ...         ...        ...   \n",
       "2020-12-06 02:42:48.648  1984161.0  ...  1986021.0      0.0475  1986020.0   \n",
       "2020-12-06 02:42:49.162  1984161.0  ...  1986021.0      0.0475  1986020.0   \n",
       "2020-12-06 02:42:49.195  1984161.0  ...  1986021.0      0.0475  1986020.0   \n",
       "2020-12-06 02:42:49.684  1985540.0  ...  1986021.0      0.0475  1986020.0   \n",
       "2020-12-06 02:42:50.199  1985540.0  ...  1986021.0      0.0475  1986020.0   \n",
       "\n",
       "                         asks1_size      asks2  asks2_size      asks3  \\\n",
       "time                                                                    \n",
       "2020-12-06 02:38:09.526         0.4  1983291.0      0.4475  1983290.0   \n",
       "2020-12-06 02:38:10.041         0.5  1983295.0      0.4000  1983291.0   \n",
       "2020-12-06 02:38:10.556         0.1  1983300.0      0.5000  1983291.0   \n",
       "2020-12-06 02:38:11.072         0.4  1983310.0      0.4000  1983300.0   \n",
       "2020-12-06 02:38:11.098         0.4  1983310.0      0.4000  1983300.0   \n",
       "...                             ...        ...         ...        ...   \n",
       "2020-12-06 02:42:48.648         0.1  1986010.0      0.1000  1986005.0   \n",
       "2020-12-06 02:42:49.162         0.1  1986010.0      0.1000  1986005.0   \n",
       "2020-12-06 02:42:49.195         0.1  1986010.0      0.1000  1986005.0   \n",
       "2020-12-06 02:42:49.684         0.1  1986010.0      0.1000  1986005.0   \n",
       "2020-12-06 02:42:50.199         0.1  1986010.0      0.1000  1986005.0   \n",
       "\n",
       "                         asks3_size      asks4  asks4_size  \n",
       "time                                                        \n",
       "2020-12-06 02:38:09.526      0.1000  1983280.0      0.1000  \n",
       "2020-12-06 02:38:10.041      0.0475  1983290.0      0.1000  \n",
       "2020-12-06 02:38:10.556      0.0475  1983290.0      0.1000  \n",
       "2020-12-06 02:38:11.072      0.1000  1983291.0      0.0475  \n",
       "2020-12-06 02:38:11.098      0.1000  1983291.0      0.0475  \n",
       "...                             ...        ...         ...  \n",
       "2020-12-06 02:42:48.648      0.4000  1984161.0      0.1000  \n",
       "2020-12-06 02:42:49.162      0.4000  1984161.0      0.1000  \n",
       "2020-12-06 02:42:49.195      0.4000  1984161.0      0.1000  \n",
       "2020-12-06 02:42:49.684      0.4000  1985540.0      0.2000  \n",
       "2020-12-06 02:42:50.199      0.4000  1985540.0      0.2000  \n",
       "\n",
       "[576 rows x 21 columns]"
      ],
      "text/html": "<div>\n<style scoped>\n    .dataframe tbody tr th:only-of-type {\n        vertical-align: middle;\n    }\n\n    .dataframe tbody tr th {\n        vertical-align: top;\n    }\n\n    .dataframe thead th {\n        text-align: right;\n    }\n</style>\n<table border=\"1\" class=\"dataframe\">\n  <thead>\n    <tr style=\"text-align: right;\">\n      <th></th>\n      <th>symbol</th>\n      <th>bids0</th>\n      <th>bids0_size</th>\n      <th>bids1</th>\n      <th>bids1_size</th>\n      <th>bids2</th>\n      <th>bids2_size</th>\n      <th>bids3</th>\n      <th>bids3_size</th>\n      <th>bids4</th>\n      <th>...</th>\n      <th>asks0</th>\n      <th>asks0_size</th>\n      <th>asks1</th>\n      <th>asks1_size</th>\n      <th>asks2</th>\n      <th>asks2_size</th>\n      <th>asks3</th>\n      <th>asks3_size</th>\n      <th>asks4</th>\n      <th>asks4_size</th>\n    </tr>\n    <tr>\n      <th>time</th>\n      <th></th>\n      <th></th>\n      <th></th>\n      <th></th>\n      <th></th>\n      <th></th>\n      <th></th>\n      <th></th>\n      <th></th>\n      <th></th>\n      <th></th>\n      <th></th>\n      <th></th>\n      <th></th>\n      <th></th>\n      <th></th>\n      <th></th>\n      <th></th>\n      <th></th>\n      <th></th>\n      <th></th>\n    </tr>\n  </thead>\n  <tbody>\n    <tr>\n      <th>2020-12-06 02:38:09.526</th>\n      <td>BTC</td>\n      <td>1983300.0</td>\n      <td>0.1000</td>\n      <td>1983295.0</td>\n      <td>0.4</td>\n      <td>1983291.0</td>\n      <td>0.4475</td>\n      <td>1983290.0</td>\n      <td>0.1000</td>\n      <td>1983280.0</td>\n      <td>...</td>\n      <td>1983300.0</td>\n      <td>0.1000</td>\n      <td>1983295.0</td>\n      <td>0.4</td>\n      <td>1983291.0</td>\n      <td>0.4475</td>\n      <td>1983290.0</td>\n      <td>0.1000</td>\n      <td>1983280.0</td>\n      <td>0.1000</td>\n    </tr>\n    <tr>\n      <th>2020-12-06 02:38:10.041</th>\n      <td>BTC</td>\n      <td>1983310.0</td>\n      <td>0.1000</td>\n      <td>1983300.0</td>\n      <td>0.5</td>\n      <td>1983295.0</td>\n      <td>0.4000</td>\n      <td>1983291.0</td>\n      <td>0.0475</td>\n      <td>1983290.0</td>\n      <td>...</td>\n      <td>1983310.0</td>\n      <td>0.1000</td>\n      <td>1983300.0</td>\n      <td>0.5</td>\n      <td>1983295.0</td>\n      <td>0.4000</td>\n      <td>1983291.0</td>\n      <td>0.0475</td>\n      <td>1983290.0</td>\n      <td>0.1000</td>\n    </tr>\n    <tr>\n      <th>2020-12-06 02:38:10.556</th>\n      <td>BTC</td>\n      <td>1983315.0</td>\n      <td>0.4000</td>\n      <td>1983310.0</td>\n      <td>0.1</td>\n      <td>1983300.0</td>\n      <td>0.5000</td>\n      <td>1983291.0</td>\n      <td>0.0475</td>\n      <td>1983290.0</td>\n      <td>...</td>\n      <td>1983315.0</td>\n      <td>0.4000</td>\n      <td>1983310.0</td>\n      <td>0.1</td>\n      <td>1983300.0</td>\n      <td>0.5000</td>\n      <td>1983291.0</td>\n      <td>0.0475</td>\n      <td>1983290.0</td>\n      <td>0.1000</td>\n    </tr>\n    <tr>\n      <th>2020-12-06 02:38:11.072</th>\n      <td>BTC</td>\n      <td>1983320.0</td>\n      <td>0.1000</td>\n      <td>1983315.0</td>\n      <td>0.4</td>\n      <td>1983310.0</td>\n      <td>0.4000</td>\n      <td>1983300.0</td>\n      <td>0.1000</td>\n      <td>1983291.0</td>\n      <td>...</td>\n      <td>1983320.0</td>\n      <td>0.1000</td>\n      <td>1983315.0</td>\n      <td>0.4</td>\n      <td>1983310.0</td>\n      <td>0.4000</td>\n      <td>1983300.0</td>\n      <td>0.1000</td>\n      <td>1983291.0</td>\n      <td>0.0475</td>\n    </tr>\n    <tr>\n      <th>2020-12-06 02:38:11.098</th>\n      <td>BTC</td>\n      <td>1983320.0</td>\n      <td>0.1000</td>\n      <td>1983315.0</td>\n      <td>0.4</td>\n      <td>1983310.0</td>\n      <td>0.4000</td>\n      <td>1983300.0</td>\n      <td>0.1000</td>\n      <td>1983291.0</td>\n      <td>...</td>\n      <td>1983320.0</td>\n      <td>0.1000</td>\n      <td>1983315.0</td>\n      <td>0.4</td>\n      <td>1983310.0</td>\n      <td>0.4000</td>\n      <td>1983300.0</td>\n      <td>0.1000</td>\n      <td>1983291.0</td>\n      <td>0.0475</td>\n    </tr>\n    <tr>\n      <th>...</th>\n      <td>...</td>\n      <td>...</td>\n      <td>...</td>\n      <td>...</td>\n      <td>...</td>\n      <td>...</td>\n      <td>...</td>\n      <td>...</td>\n      <td>...</td>\n      <td>...</td>\n      <td>...</td>\n      <td>...</td>\n      <td>...</td>\n      <td>...</td>\n      <td>...</td>\n      <td>...</td>\n      <td>...</td>\n      <td>...</td>\n      <td>...</td>\n      <td>...</td>\n      <td>...</td>\n    </tr>\n    <tr>\n      <th>2020-12-06 02:42:48.648</th>\n      <td>BTC</td>\n      <td>1986021.0</td>\n      <td>0.0475</td>\n      <td>1986020.0</td>\n      <td>0.1</td>\n      <td>1986010.0</td>\n      <td>0.1000</td>\n      <td>1986005.0</td>\n      <td>0.4000</td>\n      <td>1984161.0</td>\n      <td>...</td>\n      <td>1986021.0</td>\n      <td>0.0475</td>\n      <td>1986020.0</td>\n      <td>0.1</td>\n      <td>1986010.0</td>\n      <td>0.1000</td>\n      <td>1986005.0</td>\n      <td>0.4000</td>\n      <td>1984161.0</td>\n      <td>0.1000</td>\n    </tr>\n    <tr>\n      <th>2020-12-06 02:42:49.162</th>\n      <td>BTC</td>\n      <td>1986021.0</td>\n      <td>0.0475</td>\n      <td>1986020.0</td>\n      <td>0.1</td>\n      <td>1986010.0</td>\n      <td>0.1000</td>\n      <td>1986005.0</td>\n      <td>0.4000</td>\n      <td>1984161.0</td>\n      <td>...</td>\n      <td>1986021.0</td>\n      <td>0.0475</td>\n      <td>1986020.0</td>\n      <td>0.1</td>\n      <td>1986010.0</td>\n      <td>0.1000</td>\n      <td>1986005.0</td>\n      <td>0.4000</td>\n      <td>1984161.0</td>\n      <td>0.1000</td>\n    </tr>\n    <tr>\n      <th>2020-12-06 02:42:49.195</th>\n      <td>BTC</td>\n      <td>1986021.0</td>\n      <td>0.0475</td>\n      <td>1986020.0</td>\n      <td>0.1</td>\n      <td>1986010.0</td>\n      <td>0.1000</td>\n      <td>1986005.0</td>\n      <td>0.4000</td>\n      <td>1984161.0</td>\n      <td>...</td>\n      <td>1986021.0</td>\n      <td>0.0475</td>\n      <td>1986020.0</td>\n      <td>0.1</td>\n      <td>1986010.0</td>\n      <td>0.1000</td>\n      <td>1986005.0</td>\n      <td>0.4000</td>\n      <td>1984161.0</td>\n      <td>0.1000</td>\n    </tr>\n    <tr>\n      <th>2020-12-06 02:42:49.684</th>\n      <td>BTC</td>\n      <td>1986021.0</td>\n      <td>0.0475</td>\n      <td>1986020.0</td>\n      <td>0.1</td>\n      <td>1986010.0</td>\n      <td>0.1000</td>\n      <td>1986005.0</td>\n      <td>0.4000</td>\n      <td>1985540.0</td>\n      <td>...</td>\n      <td>1986021.0</td>\n      <td>0.0475</td>\n      <td>1986020.0</td>\n      <td>0.1</td>\n      <td>1986010.0</td>\n      <td>0.1000</td>\n      <td>1986005.0</td>\n      <td>0.4000</td>\n      <td>1985540.0</td>\n      <td>0.2000</td>\n    </tr>\n    <tr>\n      <th>2020-12-06 02:42:50.199</th>\n      <td>BTC</td>\n      <td>1986021.0</td>\n      <td>0.0475</td>\n      <td>1986020.0</td>\n      <td>0.1</td>\n      <td>1986010.0</td>\n      <td>0.1000</td>\n      <td>1986005.0</td>\n      <td>0.4000</td>\n      <td>1985540.0</td>\n      <td>...</td>\n      <td>1986021.0</td>\n      <td>0.0475</td>\n      <td>1986020.0</td>\n      <td>0.1</td>\n      <td>1986010.0</td>\n      <td>0.1000</td>\n      <td>1986005.0</td>\n      <td>0.4000</td>\n      <td>1985540.0</td>\n      <td>0.2000</td>\n    </tr>\n  </tbody>\n</table>\n<p>576 rows × 21 columns</p>\n</div>"
     },
     "metadata": {},
     "execution_count": 46
    }
   ],
   "source": [
    "df_orderbook"
   ]
  },
  {
   "cell_type": "code",
   "execution_count": 47,
   "metadata": {},
   "outputs": [],
   "source": [
    "# orderbook\n",
    "mongo_db = MongoHandler(mongo_ini['LOCAL'],\"trade\")\n",
    "df_trade = pd.DataFrame([  db_data for db_data in mongo_db.db['trade'].find()])\n",
    "df_trade.time = pd.to_datetime(df_trade['time'], format=\"%Y%m%d%H%M%S%f\")\n",
    "df_trade.set_index(\"time\",inplace=True)\n",
    "del df_trade['_id']"
   ]
  },
  {
   "cell_type": "code",
   "execution_count": 48,
   "metadata": {},
   "outputs": [
    {
     "output_type": "execute_result",
     "data": {
      "text/plain": [
       "                        channel      price  side    size symbol\n",
       "time                                                           \n",
       "2020-12-06 02:38:02.721  trades  1983660.0   BUY  0.0100    BTC\n",
       "2020-12-06 02:38:02.721  trades  1983660.0  SELL  0.0100    BTC\n",
       "2020-12-06 02:38:11.345  trades  1983660.0   BUY  0.0100    BTC\n",
       "2020-12-06 02:38:11.345  trades  1983660.0  SELL  0.0100    BTC\n",
       "2020-12-06 02:38:11.676  trades  1983660.0   BUY  0.0500    BTC\n",
       "2020-12-06 02:38:11.676  trades  1983660.0  SELL  0.0500    BTC\n",
       "2020-12-06 02:38:12.777  trades  1983660.0   BUY  0.0500    BTC\n",
       "2020-12-06 02:38:12.777  trades  1983660.0  SELL  0.0500    BTC\n",
       "2020-12-06 02:38:13.316  trades  1983660.0   BUY  0.1000    BTC\n",
       "2020-12-06 02:38:13.316  trades  1983660.0  SELL  0.1000    BTC\n",
       "2020-12-06 02:38:15.124  trades  1983660.0   BUY  0.0100    BTC\n",
       "2020-12-06 02:38:15.124  trades  1983660.0  SELL  0.0100    BTC\n",
       "2020-12-06 02:38:36.374  trades  1983660.0   BUY  0.0001    BTC\n",
       "2020-12-06 02:38:36.374  trades  1983660.0  SELL  0.0001    BTC\n",
       "2020-12-06 02:38:59.310  trades  1983660.0   BUY  0.0009    BTC\n",
       "2020-12-06 02:38:59.310  trades  1983660.0  SELL  0.0009    BTC\n",
       "2020-12-06 02:38:59.310  trades  1985100.0   BUY  0.0003    BTC\n",
       "2020-12-06 02:39:02.205  trades  1985100.0   BUY  0.0005    BTC\n",
       "2020-12-06 02:39:14.535  trades  1984950.0   BUY  0.0001    BTC\n",
       "2020-12-06 02:39:39.995  trades  1985850.0   BUY  0.0500    BTC"
      ],
      "text/html": "<div>\n<style scoped>\n    .dataframe tbody tr th:only-of-type {\n        vertical-align: middle;\n    }\n\n    .dataframe tbody tr th {\n        vertical-align: top;\n    }\n\n    .dataframe thead th {\n        text-align: right;\n    }\n</style>\n<table border=\"1\" class=\"dataframe\">\n  <thead>\n    <tr style=\"text-align: right;\">\n      <th></th>\n      <th>channel</th>\n      <th>price</th>\n      <th>side</th>\n      <th>size</th>\n      <th>symbol</th>\n    </tr>\n    <tr>\n      <th>time</th>\n      <th></th>\n      <th></th>\n      <th></th>\n      <th></th>\n      <th></th>\n    </tr>\n  </thead>\n  <tbody>\n    <tr>\n      <th>2020-12-06 02:38:02.721</th>\n      <td>trades</td>\n      <td>1983660.0</td>\n      <td>BUY</td>\n      <td>0.0100</td>\n      <td>BTC</td>\n    </tr>\n    <tr>\n      <th>2020-12-06 02:38:02.721</th>\n      <td>trades</td>\n      <td>1983660.0</td>\n      <td>SELL</td>\n      <td>0.0100</td>\n      <td>BTC</td>\n    </tr>\n    <tr>\n      <th>2020-12-06 02:38:11.345</th>\n      <td>trades</td>\n      <td>1983660.0</td>\n      <td>BUY</td>\n      <td>0.0100</td>\n      <td>BTC</td>\n    </tr>\n    <tr>\n      <th>2020-12-06 02:38:11.345</th>\n      <td>trades</td>\n      <td>1983660.0</td>\n      <td>SELL</td>\n      <td>0.0100</td>\n      <td>BTC</td>\n    </tr>\n    <tr>\n      <th>2020-12-06 02:38:11.676</th>\n      <td>trades</td>\n      <td>1983660.0</td>\n      <td>BUY</td>\n      <td>0.0500</td>\n      <td>BTC</td>\n    </tr>\n    <tr>\n      <th>2020-12-06 02:38:11.676</th>\n      <td>trades</td>\n      <td>1983660.0</td>\n      <td>SELL</td>\n      <td>0.0500</td>\n      <td>BTC</td>\n    </tr>\n    <tr>\n      <th>2020-12-06 02:38:12.777</th>\n      <td>trades</td>\n      <td>1983660.0</td>\n      <td>BUY</td>\n      <td>0.0500</td>\n      <td>BTC</td>\n    </tr>\n    <tr>\n      <th>2020-12-06 02:38:12.777</th>\n      <td>trades</td>\n      <td>1983660.0</td>\n      <td>SELL</td>\n      <td>0.0500</td>\n      <td>BTC</td>\n    </tr>\n    <tr>\n      <th>2020-12-06 02:38:13.316</th>\n      <td>trades</td>\n      <td>1983660.0</td>\n      <td>BUY</td>\n      <td>0.1000</td>\n      <td>BTC</td>\n    </tr>\n    <tr>\n      <th>2020-12-06 02:38:13.316</th>\n      <td>trades</td>\n      <td>1983660.0</td>\n      <td>SELL</td>\n      <td>0.1000</td>\n      <td>BTC</td>\n    </tr>\n    <tr>\n      <th>2020-12-06 02:38:15.124</th>\n      <td>trades</td>\n      <td>1983660.0</td>\n      <td>BUY</td>\n      <td>0.0100</td>\n      <td>BTC</td>\n    </tr>\n    <tr>\n      <th>2020-12-06 02:38:15.124</th>\n      <td>trades</td>\n      <td>1983660.0</td>\n      <td>SELL</td>\n      <td>0.0100</td>\n      <td>BTC</td>\n    </tr>\n    <tr>\n      <th>2020-12-06 02:38:36.374</th>\n      <td>trades</td>\n      <td>1983660.0</td>\n      <td>BUY</td>\n      <td>0.0001</td>\n      <td>BTC</td>\n    </tr>\n    <tr>\n      <th>2020-12-06 02:38:36.374</th>\n      <td>trades</td>\n      <td>1983660.0</td>\n      <td>SELL</td>\n      <td>0.0001</td>\n      <td>BTC</td>\n    </tr>\n    <tr>\n      <th>2020-12-06 02:38:59.310</th>\n      <td>trades</td>\n      <td>1983660.0</td>\n      <td>BUY</td>\n      <td>0.0009</td>\n      <td>BTC</td>\n    </tr>\n    <tr>\n      <th>2020-12-06 02:38:59.310</th>\n      <td>trades</td>\n      <td>1983660.0</td>\n      <td>SELL</td>\n      <td>0.0009</td>\n      <td>BTC</td>\n    </tr>\n    <tr>\n      <th>2020-12-06 02:38:59.310</th>\n      <td>trades</td>\n      <td>1985100.0</td>\n      <td>BUY</td>\n      <td>0.0003</td>\n      <td>BTC</td>\n    </tr>\n    <tr>\n      <th>2020-12-06 02:39:02.205</th>\n      <td>trades</td>\n      <td>1985100.0</td>\n      <td>BUY</td>\n      <td>0.0005</td>\n      <td>BTC</td>\n    </tr>\n    <tr>\n      <th>2020-12-06 02:39:14.535</th>\n      <td>trades</td>\n      <td>1984950.0</td>\n      <td>BUY</td>\n      <td>0.0001</td>\n      <td>BTC</td>\n    </tr>\n    <tr>\n      <th>2020-12-06 02:39:39.995</th>\n      <td>trades</td>\n      <td>1985850.0</td>\n      <td>BUY</td>\n      <td>0.0500</td>\n      <td>BTC</td>\n    </tr>\n  </tbody>\n</table>\n</div>"
     },
     "metadata": {},
     "execution_count": 48
    }
   ],
   "source": [
    "df_trade"
   ]
  },
  {
   "cell_type": "code",
   "execution_count": 51,
   "metadata": {},
   "outputs": [],
   "source": [
    "df = pd.merge_asof(df_trade.reset_index(), df_orderbook.reset_index(), on=\"time\", by=\"symbol\")"
   ]
  },
  {
   "cell_type": "code",
   "execution_count": 53,
   "metadata": {},
   "outputs": [],
   "source": [
    "df = pd.merge_asof( df_orderbook.reset_index(),df_trade.reset_index(), on=\"time\", by=\"symbol\")"
   ]
  },
  {
   "cell_type": "code",
   "execution_count": 55,
   "metadata": {},
   "outputs": [],
   "source": [
    "df[\"spread\"] = (df.bids0 -df.asks0)/df.price"
   ]
  },
  {
   "cell_type": "code",
   "execution_count": 57,
   "metadata": {},
   "outputs": [
    {
     "output_type": "error",
     "ename": "ImportError",
     "evalue": "cannot import name 'extension_dirs' from 'bokeh.embed.bundle' (/Users/macico/.pyenv/versions/py37b/lib/python3.7/site-packages/bokeh/embed/bundle.py)",
     "traceback": [
      "\u001b[0;31m---------------------------------------------------------------------------\u001b[0m",
      "\u001b[0;31mImportError\u001b[0m                               Traceback (most recent call last)",
      "\u001b[0;32m<ipython-input-57-9b5e471a9c77>\u001b[0m in \u001b[0;36m<module>\u001b[0;34m\u001b[0m\n\u001b[0;32m----> 1\u001b[0;31m \u001b[0;32mimport\u001b[0m \u001b[0mholoviews\u001b[0m \u001b[0;32mas\u001b[0m \u001b[0mhv\u001b[0m\u001b[0;34m\u001b[0m\u001b[0;34m\u001b[0m\u001b[0m\n\u001b[0m\u001b[1;32m      2\u001b[0m \u001b[0mget_ipython\u001b[0m\u001b[0;34m(\u001b[0m\u001b[0;34m)\u001b[0m\u001b[0;34m.\u001b[0m\u001b[0mrun_line_magic\u001b[0m\u001b[0;34m(\u001b[0m\u001b[0;34m'%output'\u001b[0m\u001b[0;34m,\u001b[0m \u001b[0;34m\"backend='matplotlib'\"\u001b[0m\u001b[0;34m)\u001b[0m\u001b[0;34m\u001b[0m\u001b[0;34m\u001b[0m\u001b[0m\n\u001b[1;32m      3\u001b[0m \u001b[0mhv\u001b[0m\u001b[0;34m.\u001b[0m\u001b[0mextension\u001b[0m\u001b[0;34m(\u001b[0m\u001b[0;34m'matplotlib'\u001b[0m\u001b[0;34m)\u001b[0m\u001b[0;34m\u001b[0m\u001b[0;34m\u001b[0m\u001b[0m\n",
      "\u001b[0;32m~/.pyenv/versions/py37b/lib/python3.7/site-packages/holoviews/__init__.py\u001b[0m in \u001b[0;36m<module>\u001b[0;34m\u001b[0m\n\u001b[1;32m     10\u001b[0m \u001b[0;34m\u001b[0m\u001b[0m\n\u001b[1;32m     11\u001b[0m \u001b[0;32mfrom\u001b[0m \u001b[0;34m.\u001b[0m \u001b[0;32mimport\u001b[0m \u001b[0mutil\u001b[0m                                       \u001b[0;31m# noqa (API import)\u001b[0m\u001b[0;34m\u001b[0m\u001b[0;34m\u001b[0m\u001b[0m\n\u001b[0;32m---> 12\u001b[0;31m \u001b[0;32mfrom\u001b[0m \u001b[0;34m.\u001b[0m\u001b[0mannotators\u001b[0m \u001b[0;32mimport\u001b[0m \u001b[0mannotate\u001b[0m                         \u001b[0;31m# noqa (API import)\u001b[0m\u001b[0;34m\u001b[0m\u001b[0;34m\u001b[0m\u001b[0m\n\u001b[0m\u001b[1;32m     13\u001b[0m \u001b[0;32mfrom\u001b[0m \u001b[0;34m.\u001b[0m\u001b[0mcore\u001b[0m \u001b[0;32mimport\u001b[0m \u001b[0marchive\u001b[0m\u001b[0;34m,\u001b[0m \u001b[0mconfig\u001b[0m                        \u001b[0;31m# noqa (API import)\u001b[0m\u001b[0;34m\u001b[0m\u001b[0;34m\u001b[0m\u001b[0m\n\u001b[1;32m     14\u001b[0m \u001b[0;32mfrom\u001b[0m \u001b[0;34m.\u001b[0m\u001b[0mcore\u001b[0m\u001b[0;34m.\u001b[0m\u001b[0mboundingregion\u001b[0m \u001b[0;32mimport\u001b[0m \u001b[0mBoundingBox\u001b[0m             \u001b[0;31m# noqa (API import)\u001b[0m\u001b[0;34m\u001b[0m\u001b[0;34m\u001b[0m\u001b[0m\n",
      "\u001b[0;32m~/.pyenv/versions/py37b/lib/python3.7/site-packages/holoviews/annotators.py\u001b[0m in \u001b[0;36m<module>\u001b[0;34m\u001b[0m\n\u001b[1;32m      8\u001b[0m \u001b[0;32mimport\u001b[0m \u001b[0mparam\u001b[0m\u001b[0;34m\u001b[0m\u001b[0;34m\u001b[0m\u001b[0m\n\u001b[1;32m      9\u001b[0m \u001b[0;34m\u001b[0m\u001b[0m\n\u001b[0;32m---> 10\u001b[0;31m \u001b[0;32mfrom\u001b[0m \u001b[0mpanel\u001b[0m\u001b[0;34m.\u001b[0m\u001b[0mpane\u001b[0m \u001b[0;32mimport\u001b[0m \u001b[0mPaneBase\u001b[0m\u001b[0;34m\u001b[0m\u001b[0;34m\u001b[0m\u001b[0m\n\u001b[0m\u001b[1;32m     11\u001b[0m \u001b[0;32mfrom\u001b[0m \u001b[0mpanel\u001b[0m\u001b[0;34m.\u001b[0m\u001b[0mlayout\u001b[0m \u001b[0;32mimport\u001b[0m \u001b[0mRow\u001b[0m\u001b[0;34m,\u001b[0m \u001b[0mTabs\u001b[0m\u001b[0;34m\u001b[0m\u001b[0;34m\u001b[0m\u001b[0m\n\u001b[1;32m     12\u001b[0m \u001b[0;32mfrom\u001b[0m \u001b[0mpanel\u001b[0m\u001b[0;34m.\u001b[0m\u001b[0mutil\u001b[0m \u001b[0;32mimport\u001b[0m \u001b[0mparam_name\u001b[0m\u001b[0;34m\u001b[0m\u001b[0;34m\u001b[0m\u001b[0m\n",
      "\u001b[0;32m~/.pyenv/versions/py37b/lib/python3.7/site-packages/panel/__init__.py\u001b[0m in \u001b[0;36m<module>\u001b[0;34m\u001b[0m\n\u001b[1;32m      1\u001b[0m \u001b[0;32mfrom\u001b[0m \u001b[0m__future__\u001b[0m \u001b[0;32mimport\u001b[0m \u001b[0mabsolute_import\u001b[0m\u001b[0;34m,\u001b[0m \u001b[0mdivision\u001b[0m\u001b[0;34m,\u001b[0m \u001b[0municode_literals\u001b[0m\u001b[0;34m\u001b[0m\u001b[0;34m\u001b[0m\u001b[0m\n\u001b[1;32m      2\u001b[0m \u001b[0;34m\u001b[0m\u001b[0m\n\u001b[0;32m----> 3\u001b[0;31m \u001b[0;32mfrom\u001b[0m \u001b[0;34m.\u001b[0m \u001b[0;32mimport\u001b[0m \u001b[0mlayout\u001b[0m \u001b[0;31m# noqa\u001b[0m\u001b[0;34m\u001b[0m\u001b[0;34m\u001b[0m\u001b[0m\n\u001b[0m\u001b[1;32m      4\u001b[0m \u001b[0;32mfrom\u001b[0m \u001b[0;34m.\u001b[0m \u001b[0;32mimport\u001b[0m \u001b[0mlinks\u001b[0m \u001b[0;31m# noqa\u001b[0m\u001b[0;34m\u001b[0m\u001b[0;34m\u001b[0m\u001b[0m\n\u001b[1;32m      5\u001b[0m \u001b[0;32mfrom\u001b[0m \u001b[0;34m.\u001b[0m \u001b[0;32mimport\u001b[0m \u001b[0mpane\u001b[0m \u001b[0;31m# noqa\u001b[0m\u001b[0;34m\u001b[0m\u001b[0;34m\u001b[0m\u001b[0m\n",
      "\u001b[0;32m~/.pyenv/versions/py37b/lib/python3.7/site-packages/panel/layout/__init__.py\u001b[0m in \u001b[0;36m<module>\u001b[0;34m\u001b[0m\n\u001b[0;32m----> 1\u001b[0;31m \u001b[0;32mfrom\u001b[0m \u001b[0;34m.\u001b[0m\u001b[0maccordion\u001b[0m \u001b[0;32mimport\u001b[0m \u001b[0mAccordion\u001b[0m \u001b[0;31m# noqa\u001b[0m\u001b[0;34m\u001b[0m\u001b[0;34m\u001b[0m\u001b[0m\n\u001b[0m\u001b[1;32m      2\u001b[0m \u001b[0;32mfrom\u001b[0m \u001b[0;34m.\u001b[0m\u001b[0mbase\u001b[0m \u001b[0;32mimport\u001b[0m \u001b[0mColumn\u001b[0m\u001b[0;34m,\u001b[0m \u001b[0mListLike\u001b[0m\u001b[0;34m,\u001b[0m \u001b[0mListPanel\u001b[0m\u001b[0;34m,\u001b[0m \u001b[0mPanel\u001b[0m\u001b[0;34m,\u001b[0m \u001b[0mRow\u001b[0m\u001b[0;34m,\u001b[0m \u001b[0mWidgetBox\u001b[0m \u001b[0;31m# noqa\u001b[0m\u001b[0;34m\u001b[0m\u001b[0;34m\u001b[0m\u001b[0m\n\u001b[1;32m      3\u001b[0m \u001b[0;32mfrom\u001b[0m \u001b[0;34m.\u001b[0m\u001b[0mcard\u001b[0m \u001b[0;32mimport\u001b[0m \u001b[0mCard\u001b[0m \u001b[0;31m# noqa\u001b[0m\u001b[0;34m\u001b[0m\u001b[0;34m\u001b[0m\u001b[0m\n\u001b[1;32m      4\u001b[0m \u001b[0;32mfrom\u001b[0m \u001b[0;34m.\u001b[0m\u001b[0mgrid\u001b[0m \u001b[0;32mimport\u001b[0m \u001b[0mGridBox\u001b[0m\u001b[0;34m,\u001b[0m \u001b[0mGridSpec\u001b[0m \u001b[0;31m# noqa\u001b[0m\u001b[0;34m\u001b[0m\u001b[0;34m\u001b[0m\u001b[0m\n\u001b[1;32m      5\u001b[0m \u001b[0;32mfrom\u001b[0m \u001b[0;34m.\u001b[0m\u001b[0mspacer\u001b[0m \u001b[0;32mimport\u001b[0m \u001b[0mDivider\u001b[0m\u001b[0;34m,\u001b[0m \u001b[0mHSpacer\u001b[0m\u001b[0;34m,\u001b[0m \u001b[0mSpacer\u001b[0m\u001b[0;34m,\u001b[0m \u001b[0mVSpacer\u001b[0m \u001b[0;31m# noqa\u001b[0m\u001b[0;34m\u001b[0m\u001b[0;34m\u001b[0m\u001b[0m\n",
      "\u001b[0;32m~/.pyenv/versions/py37b/lib/python3.7/site-packages/panel/layout/accordion.py\u001b[0m in \u001b[0;36m<module>\u001b[0;34m\u001b[0m\n\u001b[1;32m      3\u001b[0m \u001b[0;32mfrom\u001b[0m \u001b[0mbokeh\u001b[0m\u001b[0;34m.\u001b[0m\u001b[0mmodels\u001b[0m \u001b[0;32mimport\u001b[0m \u001b[0mColumn\u001b[0m \u001b[0;32mas\u001b[0m \u001b[0mBkColumn\u001b[0m\u001b[0;34m,\u001b[0m \u001b[0mCustomJS\u001b[0m\u001b[0;34m\u001b[0m\u001b[0;34m\u001b[0m\u001b[0m\n\u001b[1;32m      4\u001b[0m \u001b[0;34m\u001b[0m\u001b[0m\n\u001b[0;32m----> 5\u001b[0;31m \u001b[0;32mfrom\u001b[0m \u001b[0;34m.\u001b[0m\u001b[0mbase\u001b[0m \u001b[0;32mimport\u001b[0m \u001b[0mNamedListPanel\u001b[0m\u001b[0;34m\u001b[0m\u001b[0;34m\u001b[0m\u001b[0m\n\u001b[0m\u001b[1;32m      6\u001b[0m \u001b[0;32mfrom\u001b[0m \u001b[0;34m.\u001b[0m\u001b[0mcard\u001b[0m \u001b[0;32mimport\u001b[0m \u001b[0mCard\u001b[0m\u001b[0;34m\u001b[0m\u001b[0;34m\u001b[0m\u001b[0m\n\u001b[1;32m      7\u001b[0m \u001b[0;34m\u001b[0m\u001b[0m\n",
      "\u001b[0;32m~/.pyenv/versions/py37b/lib/python3.7/site-packages/panel/layout/base.py\u001b[0m in \u001b[0;36m<module>\u001b[0;34m\u001b[0m\n\u001b[1;32m     11\u001b[0m \u001b[0;32mfrom\u001b[0m \u001b[0mbokeh\u001b[0m\u001b[0;34m.\u001b[0m\u001b[0mmodels\u001b[0m \u001b[0;32mimport\u001b[0m \u001b[0mColumn\u001b[0m \u001b[0;32mas\u001b[0m \u001b[0mBkColumn\u001b[0m\u001b[0;34m,\u001b[0m \u001b[0mRow\u001b[0m \u001b[0;32mas\u001b[0m \u001b[0mBkRow\u001b[0m\u001b[0;34m\u001b[0m\u001b[0;34m\u001b[0m\u001b[0m\n\u001b[1;32m     12\u001b[0m \u001b[0;34m\u001b[0m\u001b[0m\n\u001b[0;32m---> 13\u001b[0;31m \u001b[0;32mfrom\u001b[0m \u001b[0;34m.\u001b[0m\u001b[0;34m.\u001b[0m\u001b[0mio\u001b[0m\u001b[0;34m.\u001b[0m\u001b[0mmodel\u001b[0m \u001b[0;32mimport\u001b[0m \u001b[0mhold\u001b[0m\u001b[0;34m\u001b[0m\u001b[0;34m\u001b[0m\u001b[0m\n\u001b[0m\u001b[1;32m     14\u001b[0m \u001b[0;32mfrom\u001b[0m \u001b[0;34m.\u001b[0m\u001b[0;34m.\u001b[0m\u001b[0mio\u001b[0m\u001b[0;34m.\u001b[0m\u001b[0mstate\u001b[0m \u001b[0;32mimport\u001b[0m \u001b[0mstate\u001b[0m\u001b[0;34m\u001b[0m\u001b[0;34m\u001b[0m\u001b[0m\n\u001b[1;32m     15\u001b[0m \u001b[0;32mfrom\u001b[0m \u001b[0;34m.\u001b[0m\u001b[0;34m.\u001b[0m\u001b[0mreactive\u001b[0m \u001b[0;32mimport\u001b[0m \u001b[0mReactive\u001b[0m\u001b[0;34m\u001b[0m\u001b[0;34m\u001b[0m\u001b[0m\n",
      "\u001b[0;32m~/.pyenv/versions/py37b/lib/python3.7/site-packages/panel/io/__init__.py\u001b[0m in \u001b[0;36m<module>\u001b[0;34m\u001b[0m\n\u001b[1;32m      6\u001b[0m \u001b[0;32mimport\u001b[0m \u001b[0mlogging\u001b[0m\u001b[0;34m\u001b[0m\u001b[0;34m\u001b[0m\u001b[0m\n\u001b[1;32m      7\u001b[0m \u001b[0;34m\u001b[0m\u001b[0m\n\u001b[0;32m----> 8\u001b[0;31m \u001b[0;32mfrom\u001b[0m \u001b[0;34m.\u001b[0m\u001b[0;34m.\u001b[0m\u001b[0mconfig\u001b[0m \u001b[0;32mimport\u001b[0m \u001b[0mconfig\u001b[0m\u001b[0;34m\u001b[0m\u001b[0;34m\u001b[0m\u001b[0m\n\u001b[0m\u001b[1;32m      9\u001b[0m \u001b[0;34m\u001b[0m\u001b[0m\n\u001b[1;32m     10\u001b[0m \u001b[0;32mfrom\u001b[0m \u001b[0;34m.\u001b[0m\u001b[0mcallbacks\u001b[0m \u001b[0;32mimport\u001b[0m \u001b[0mPeriodicCallback\u001b[0m \u001b[0;31m# noqa\u001b[0m\u001b[0;34m\u001b[0m\u001b[0;34m\u001b[0m\u001b[0m\n",
      "\u001b[0;32m~/.pyenv/versions/py37b/lib/python3.7/site-packages/panel/config.py\u001b[0m in \u001b[0;36m<module>\u001b[0;34m\u001b[0m\n\u001b[1;32m     18\u001b[0m                          extension as _pyviz_extension)\n\u001b[1;32m     19\u001b[0m \u001b[0;34m\u001b[0m\u001b[0m\n\u001b[0;32m---> 20\u001b[0;31m \u001b[0;32mfrom\u001b[0m \u001b[0;34m.\u001b[0m\u001b[0mio\u001b[0m\u001b[0;34m.\u001b[0m\u001b[0mnotebook\u001b[0m \u001b[0;32mimport\u001b[0m \u001b[0mload_notebook\u001b[0m\u001b[0;34m\u001b[0m\u001b[0;34m\u001b[0m\u001b[0m\n\u001b[0m\u001b[1;32m     21\u001b[0m \u001b[0;32mfrom\u001b[0m \u001b[0;34m.\u001b[0m\u001b[0mio\u001b[0m\u001b[0;34m.\u001b[0m\u001b[0mstate\u001b[0m \u001b[0;32mimport\u001b[0m \u001b[0mstate\u001b[0m\u001b[0;34m\u001b[0m\u001b[0;34m\u001b[0m\u001b[0m\n\u001b[1;32m     22\u001b[0m \u001b[0;34m\u001b[0m\u001b[0m\n",
      "\u001b[0;32m~/.pyenv/versions/py37b/lib/python3.7/site-packages/panel/io/notebook.py\u001b[0m in \u001b[0;36m<module>\u001b[0;34m\u001b[0m\n\u001b[1;32m     41\u001b[0m \u001b[0;32mfrom\u001b[0m \u001b[0;34m.\u001b[0m\u001b[0mmodel\u001b[0m \u001b[0;32mimport\u001b[0m \u001b[0madd_to_doc\u001b[0m\u001b[0;34m,\u001b[0m \u001b[0mdiff\u001b[0m\u001b[0;34m\u001b[0m\u001b[0;34m\u001b[0m\u001b[0m\n\u001b[1;32m     42\u001b[0m \u001b[0;32mfrom\u001b[0m \u001b[0;34m.\u001b[0m\u001b[0mresources\u001b[0m \u001b[0;32mimport\u001b[0m \u001b[0m_env\u001b[0m\u001b[0;34m\u001b[0m\u001b[0;34m\u001b[0m\u001b[0m\n\u001b[0;32m---> 43\u001b[0;31m \u001b[0;32mfrom\u001b[0m \u001b[0;34m.\u001b[0m\u001b[0mserver\u001b[0m \u001b[0;32mimport\u001b[0m \u001b[0m_server_url\u001b[0m\u001b[0;34m,\u001b[0m \u001b[0m_origin_url\u001b[0m\u001b[0;34m,\u001b[0m \u001b[0mget_server\u001b[0m\u001b[0;34m\u001b[0m\u001b[0;34m\u001b[0m\u001b[0m\n\u001b[0m\u001b[1;32m     44\u001b[0m \u001b[0;32mfrom\u001b[0m \u001b[0;34m.\u001b[0m\u001b[0mstate\u001b[0m \u001b[0;32mimport\u001b[0m \u001b[0mstate\u001b[0m\u001b[0;34m\u001b[0m\u001b[0;34m\u001b[0m\u001b[0m\n\u001b[1;32m     45\u001b[0m \u001b[0;34m\u001b[0m\u001b[0m\n",
      "\u001b[0;32m~/.pyenv/versions/py37b/lib/python3.7/site-packages/panel/io/server.py\u001b[0m in \u001b[0;36m<module>\u001b[0;34m\u001b[0m\n\u001b[1;32m     17\u001b[0m \u001b[0;34m\u001b[0m\u001b[0m\n\u001b[1;32m     18\u001b[0m \u001b[0;32mfrom\u001b[0m \u001b[0mbokeh\u001b[0m\u001b[0;34m.\u001b[0m\u001b[0mdocument\u001b[0m\u001b[0;34m.\u001b[0m\u001b[0mevents\u001b[0m \u001b[0;32mimport\u001b[0m \u001b[0mModelChangedEvent\u001b[0m\u001b[0;34m\u001b[0m\u001b[0;34m\u001b[0m\u001b[0m\n\u001b[0;32m---> 19\u001b[0;31m \u001b[0;32mfrom\u001b[0m \u001b[0mbokeh\u001b[0m\u001b[0;34m.\u001b[0m\u001b[0membed\u001b[0m\u001b[0;34m.\u001b[0m\u001b[0mbundle\u001b[0m \u001b[0;32mimport\u001b[0m \u001b[0mextension_dirs\u001b[0m\u001b[0;34m\u001b[0m\u001b[0;34m\u001b[0m\u001b[0m\n\u001b[0m\u001b[1;32m     20\u001b[0m \u001b[0;32mfrom\u001b[0m \u001b[0mbokeh\u001b[0m\u001b[0;34m.\u001b[0m\u001b[0mio\u001b[0m \u001b[0;32mimport\u001b[0m \u001b[0mcurdoc\u001b[0m\u001b[0;34m\u001b[0m\u001b[0;34m\u001b[0m\u001b[0m\n\u001b[1;32m     21\u001b[0m \u001b[0;32mfrom\u001b[0m \u001b[0mbokeh\u001b[0m\u001b[0;34m.\u001b[0m\u001b[0mserver\u001b[0m\u001b[0;34m.\u001b[0m\u001b[0mserver\u001b[0m \u001b[0;32mimport\u001b[0m \u001b[0mServer\u001b[0m\u001b[0;34m\u001b[0m\u001b[0;34m\u001b[0m\u001b[0m\n",
      "\u001b[0;31mImportError\u001b[0m: cannot import name 'extension_dirs' from 'bokeh.embed.bundle' (/Users/macico/.pyenv/versions/py37b/lib/python3.7/site-packages/bokeh/embed/bundle.py)"
     ]
    }
   ],
   "source": [
    "import holoviews as hv\n",
    "%%output backend='matplotlib'\n",
    "hv.extension('matplotlib')"
   ]
  },
  {
   "cell_type": "code",
   "execution_count": null,
   "metadata": {},
   "outputs": [],
   "source": []
  }
 ]
}