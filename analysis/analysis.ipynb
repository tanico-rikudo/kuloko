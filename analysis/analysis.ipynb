{
 "cells": [
  {
   "cell_type": "markdown",
   "metadata": {},
   "source": []
  },
  {
   "cell_type": "code",
   "execution_count": null,
   "metadata": {},
   "outputs": [],
   "source": [
    "%load_ext autoreload\n",
    "%autoreload 2"
   ]
  },
  {
   "cell_type": "code",
   "execution_count": null,
   "metadata": {},
   "outputs": [],
   "source": [
    "import sys\n",
    "LOGDIR = os.environ['KULOKO_DIR'] "
   ]
  },
  {
   "cell_type": "code",
   "execution_count": null,
   "metadata": {},
   "outputs": [],
   "source": [
    "# DB libs \n",
    "from pymongo import MongoClient\n",
    "sys.path.append(os.environ['COMMON_DIR'] )\n",
    "from mongodb.src.mongo_handler import *"
   ]
  },
  {
   "cell_type": "code",
   "execution_count": null,
   "metadata": {},
   "outputs": [],
   "source": [
    "#util\n",
    "from util.config import ConfigManager\n",
    "\n",
    "cm = ConfigManager(os.environ['KULOKO_INI'])"
   ]
  },
  {
   "cell_type": "code",
   "execution_count": null,
   "metadata": {},
   "outputs": [],
   "source": [
    "# Init Logger \n",
    "logger = cm.load_log_config(os.path.join(LOGDIR,'logging.log'),log_name=\"KULOKO\")\n",
    "\n",
    "# Init mongo\n",
    "mongo_ini=cm.load_ini_config(path=None,config_name=\"mongo\", mode=None)\n",
    "\n",
    "item_type = \"orderbook\"\n",
    "mongo_db = MongoHandler(mongo_ini['LOCAL'],item_type)"
   ]
  },
  {
   "cell_type": "code",
   "execution_count": null,
   "metadata": {},
   "outputs": [],
   "source": [
    "from pymongo import DESCENDING, ASCENDING\n",
    "# mongo_db.find(sort=[('bids0',DESCENDING)])[1]\n",
    "# mongo_db.find()[1]"
   ]
  },
  {
   "cell_type": "code",
   "execution_count": null,
   "metadata": {},
   "outputs": [],
   "source": [
    "db_handler = MongoUtil(mongo_db, logger)"
   ]
  },
  {
   "cell_type": "code",
   "execution_count": null,
   "metadata": {},
   "outputs": [],
   "source": [
    "db_handler.find_at_date(\"20201206\")[0]"
   ]
  },
  {
   "cell_type": "markdown",
   "metadata": {},
   "source": []
  },
  {
   "cell_type": "code",
   "execution_count": null,
   "metadata": {},
   "outputs": [],
   "source": [
    "MongoHandlerConditionMolts.get(\"filterTimeBeginWith\") .format(\"20202\")"
   ]
  },
  {
   "cell_type": "code",
   "execution_count": null,
   "metadata": {},
   "outputs": [],
   "source": [
    "a = {\"a\":{\"b\":1}}"
   ]
  },
  {
   "cell_type": "code",
   "execution_count": null,
   "metadata": {},
   "outputs": [],
   "source": [
    "a.update({})"
   ]
  },
  {
   "cell_type": "code",
   "execution_count": null,
   "metadata": {},
   "outputs": [],
   "source": [
    "a"
   ]
  },
  {
   "cell_type": "code",
   "execution_count": null,
   "metadata": {},
   "outputs": [],
   "source": []
  },
  {
   "cell_type": "code",
   "execution_count": null,
   "metadata": {},
   "outputs": [],
   "source": [
    "mongo_db = MongoHandler(mongo_ini['LOCAL'],\"trade\")\n",
    "print(len( [ _ for db_data in mongo_db.find()]))"
   ]
  },
  {
   "cell_type": "code",
   "execution_count": null,
   "metadata": {},
   "outputs": [],
   "source": [
    "# orderbook\n",
    "mongo_db = MongoHandler(mongo_ini['LOCAL'],\"orderbook\")\n",
    "df_orderbook = pd.DataFrame([  db_data for db_data in mongo_db.db['orderbook'].find()])\n",
    "df_orderbook.time = pd.to_datetime(df_orderbook.time, format=\"%Y%m%d%H%M%S%f\")\n",
    "df_orderbook.set_index(\"time\",inplace=True)\n",
    "del df_orderbook['_id']"
   ]
  },
  {
   "cell_type": "code",
   "execution_count": null,
   "metadata": {},
   "outputs": [],
   "source": [
    "df_orderbook"
   ]
  },
  {
   "cell_type": "code",
   "execution_count": null,
   "metadata": {},
   "outputs": [],
   "source": [
    "# orderbook\n",
    "mongo_db = MongoHandler(mongo_ini['LOCAL'],\"trade\")\n",
    "df_trade = pd.DataFrame([  db_data for db_data in mongo_db.db['trade'].find()])\n",
    "df_trade.time = pd.to_datetime(df_trade['time'], format=\"%Y%m%d%H%M%S%f\")\n",
    "df_trade.set_index(\"time\",inplace=True)\n",
    "del df_trade['_id']"
   ]
  },
  {
   "cell_type": "code",
   "execution_count": null,
   "metadata": {},
   "outputs": [],
   "source": [
    "df_trade"
   ]
  },
  {
   "cell_type": "code",
   "execution_count": null,
   "metadata": {},
   "outputs": [],
   "source": [
    "df = pd.merge_asof(df_trade.reset_index(), df_orderbook.reset_index(), on=\"time\", by=\"symbol\")"
   ]
  },
  {
   "cell_type": "code",
   "execution_count": null,
   "metadata": {},
   "outputs": [],
   "source": [
    "df = pd.merge_asof( df_orderbook.reset_index(),df_trade.reset_index(), on=\"time\", by=\"symbol\")"
   ]
  },
  {
   "cell_type": "code",
   "execution_count": null,
   "metadata": {},
   "outputs": [],
   "source": [
    "df[\"spread\"] = (df.bids0 -df.asks0)/df.price"
   ]
  },
  {
   "cell_type": "code",
   "execution_count": null,
   "metadata": {},
   "outputs": [],
   "source": [
    "import holoviews as hv\n",
    "%%output backend='matplotlib'\n",
    "hv.extension('matplotlib')"
   ]
  },
  {
   "cell_type": "code",
   "execution_count": null,
   "metadata": {},
   "outputs": [],
   "source": []
  }
 ],
 "metadata": {
  "kernelspec": {
   "display_name": "Python 3",
   "name": "python3"
  },
  "language_info": {
   "codemirror_mode": {
    "name": "ipython",
    "version": 3
   },
   "file_extension": ".py",
   "mimetype": "text/x-python",
   "name": "python",
   "nbconvert_exporter": "python",
   "pygments_lexer": "ipython3",
   "version": "3.7.6"
  },
  "orig_nbformat": 2
 },
 "nbformat": 4,
 "nbformat_minor": 2
}
