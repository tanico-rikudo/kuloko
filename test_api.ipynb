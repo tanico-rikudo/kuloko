{
 "metadata": {
  "language_info": {
   "codemirror_mode": {
    "name": "ipython",
    "version": 3
   },
   "file_extension": ".py",
   "mimetype": "text/x-python",
   "name": "python",
   "nbconvert_exporter": "python",
   "pygments_lexer": "ipython3",
   "version": "3.7.6-final"
  },
  "orig_nbformat": 2,
  "kernelspec": {
   "name": "Python 3.7.6 64-bit ('py37b')",
   "display_name": "Python 3.7.6 64-bit ('py37b')",
   "metadata": {
    "interpreter": {
     "hash": "edf7c2d5f0f70628fc224588ceca2c2113a9ef071d19ac3a0b9346fc3eba554c"
    }
   }
  }
 },
 "nbformat": 4,
 "nbformat_minor": 2,
 "cells": [
  {
   "cell_type": "code",
   "execution_count": 1,
   "metadata": {},
   "outputs": [],
   "source": [
    "%load_ext autoreload\n",
    "%autoreload 2"
   ]
  },
  {
   "cell_type": "code",
   "execution_count": 2,
   "metadata": {
    "tags": []
   },
   "outputs": [],
   "source": [
    "import requests\n",
    "import json\n",
    "import urllib.parse\n",
    "import logging\n",
    "import logging.config\n",
    "\n",
    "import pandas as pd\n",
    "import numpy as np\n",
    "\n",
    "logging.config.fileConfig('./ini/logconfig.ini')\n",
    "logger = logging.getLogger(\"KULOKO\")"
   ]
  },
  {
   "cell_type": "code",
   "execution_count": 3,
   "metadata": {},
   "outputs": [],
   "source": [
    "import src.api_handler as api"
   ]
  },
  {
   "cell_type": "code",
   "execution_count": 4,
   "metadata": {},
   "outputs": [
    {
     "output_type": "stream",
     "name": "stdout",
     "text": [
      "{'endpoint': 'https://api.coin.z.com', 'tick': '/public/v1/ticker', 'orderbooks': '/public/v1/orderbooks', 'trade': '/public/v1/trades'}\n"
     ]
    }
   ],
   "source": [
    "snapshot = {}\n",
    "sym = 'BTC'\n",
    "depth=5\n",
    "orderbook = api.Orderbook(sym)\n",
    "orderbook.depth =depth\n"
   ]
  },
  {
   "cell_type": "code",
   "execution_count": 5,
   "metadata": {},
   "outputs": [
    {
     "output_type": "execute_result",
     "data": {
      "text/plain": [
       "       price    size\n",
       "0  1197500.0  4.0083\n",
       "1  1197891.0  0.0026\n",
       "2  1197900.0  0.1000\n",
       "3  1197960.0  0.0020\n",
       "4  1198015.0  0.0084"
      ],
      "text/html": "<div>\n<style scoped>\n    .dataframe tbody tr th:only-of-type {\n        vertical-align: middle;\n    }\n\n    .dataframe tbody tr th {\n        vertical-align: top;\n    }\n\n    .dataframe thead th {\n        text-align: right;\n    }\n</style>\n<table border=\"1\" class=\"dataframe\">\n  <thead>\n    <tr style=\"text-align: right;\">\n      <th></th>\n      <th>price</th>\n      <th>size</th>\n    </tr>\n  </thead>\n  <tbody>\n    <tr>\n      <th>0</th>\n      <td>1197500.0</td>\n      <td>4.0083</td>\n    </tr>\n    <tr>\n      <th>1</th>\n      <td>1197891.0</td>\n      <td>0.0026</td>\n    </tr>\n    <tr>\n      <th>2</th>\n      <td>1197900.0</td>\n      <td>0.1000</td>\n    </tr>\n    <tr>\n      <th>3</th>\n      <td>1197960.0</td>\n      <td>0.0020</td>\n    </tr>\n    <tr>\n      <th>4</th>\n      <td>1198015.0</td>\n      <td>0.0084</td>\n    </tr>\n  </tbody>\n</table>\n</div>"
     },
     "metadata": {},
     "execution_count": 5
    }
   ],
   "source": [
    "df_snapshot = orderbook.fetch(return_type='dataframe')\n",
    "df_snapshot['data']['asks']"
   ]
  },
  {
   "cell_type": "code",
   "execution_count": 6,
   "metadata": {},
   "outputs": [
    {
     "output_type": "execute_result",
     "data": {
      "text/plain": [
       "{'status': 0,\n",
       " 'data': {'asks': [{'price': '1197500', 'size': '4.0083'},\n",
       "   {'price': '1197891', 'size': '0.0026'},\n",
       "   {'price': '1197900', 'size': '0.1'},\n",
       "   {'price': '1197960', 'size': '0.002'},\n",
       "   {'price': '1198015', 'size': '0.0084'}],\n",
       "  'bids': [{'price': '1196922', 'size': '0.1'},\n",
       "   {'price': '1196920', 'size': '0.2'},\n",
       "   {'price': '1196919', 'size': '0.26'},\n",
       "   {'price': '1196916', 'size': '0.075'},\n",
       "   {'price': '1196915', 'size': '0.4'}],\n",
       "  'symbol': 'BTC'},\n",
       " 'responsetime': '2020-10-16T12:38:29.871Z'}"
      ]
     },
     "metadata": {},
     "execution_count": 6
    }
   ],
   "source": [
    "json_orderbook = orderbook.fetch(return_type='raw')\n",
    "json_orderbook"
   ]
  },
  {
   "cell_type": "code",
   "execution_count": 7,
   "metadata": {},
   "outputs": [
    {
     "output_type": "execute_result",
     "data": {
      "text/plain": [
       "[datetime.datetime(2020, 10, 16, 12, 38, 29, 871000),\n",
       " 1196922.0,\n",
       " 0.1,\n",
       " 1196920.0,\n",
       " 0.2,\n",
       " 1196919.0,\n",
       " 0.26,\n",
       " 1196916.0,\n",
       " 0.075,\n",
       " 1196915.0,\n",
       " 0.4,\n",
       " 1196922.0,\n",
       " 0.1,\n",
       " 1196920.0,\n",
       " 0.2,\n",
       " 1196919.0,\n",
       " 0.26,\n",
       " 1196916.0,\n",
       " 0.075,\n",
       " 1196915.0,\n",
       " 0.4]"
      ]
     },
     "metadata": {},
     "execution_count": 7
    }
   ],
   "source": [
    "\n",
    "seq_orderbook = orderbook.fetch(return_type='seq')\n",
    "seq_orderbook"
   ]
  },
  {
   "cell_type": "code",
   "execution_count": 8,
   "metadata": {},
   "outputs": [
    {
     "output_type": "execute_result",
     "data": {
      "text/plain": [
       "{'time': datetime.datetime(2020, 10, 16, 12, 38, 31, 727000),\n",
       " 'bids0': 1196930.0,\n",
       " 'bids0_size': 0.4,\n",
       " 'bids1': 1196929.0,\n",
       " 'bids1_size': 0.26,\n",
       " 'bids2': 1196927.0,\n",
       " 'bids2_size': 0.1,\n",
       " 'bids3': 1196925.0,\n",
       " 'bids3_size': 0.2,\n",
       " 'bids4': 1196921.0,\n",
       " 'bids4_size': 0.075,\n",
       " 'asks0': 1196930.0,\n",
       " 'asks0_size': 0.4,\n",
       " 'asks1': 1196929.0,\n",
       " 'asks1_size': 0.26,\n",
       " 'asks2': 1196927.0,\n",
       " 'asks2_size': 0.1,\n",
       " 'asks3': 1196925.0,\n",
       " 'asks3_size': 0.2,\n",
       " 'asks4': 1196921.0,\n",
       " 'asks4_size': 0.075}"
      ]
     },
     "metadata": {},
     "execution_count": 8
    }
   ],
   "source": [
    "json_orderbook = orderbook.fetch(return_type='json')\n",
    "json_orderbook"
   ]
  },
  {
   "cell_type": "code",
   "execution_count": 9,
   "metadata": {
    "tags": []
   },
   "outputs": [
    {
     "output_type": "stream",
     "name": "stdout",
     "text": [
      "{'endpoint': 'https://api.coin.z.com', 'tick': '/public/v1/ticker', 'orderbooks': '/public/v1/orderbooks', 'trade': '/public/v1/trades'}\n"
     ]
    }
   ],
   "source": [
    "tick = api.Ticks(sym)\n"
   ]
  },
  {
   "cell_type": "code",
   "execution_count": 10,
   "metadata": {
    "tags": []
   },
   "outputs": [
    {
     "output_type": "execute_result",
     "data": {
      "text/plain": [
       "{'ask': 1197500.0,\n",
       " 'bid': 1197155.0,\n",
       " 'high': 1216600.0,\n",
       " 'last': 1197500.0,\n",
       " 'low': 1182000.0,\n",
       " 'volume': 417.7066,\n",
       " 'timestamp': datetime.datetime(2020, 10, 16, 12, 39, 19, 790000)}"
      ]
     },
     "metadata": {},
     "execution_count": 10
    }
   ],
   "source": [
    "data = tick.fetch(return_type='json')\n",
    "data"
   ]
  },
  {
   "cell_type": "code",
   "execution_count": 11,
   "metadata": {},
   "outputs": [
    {
     "output_type": "execute_result",
     "data": {
      "text/plain": [
       "{'status': 0,\n",
       " 'data': [{'ask': '1197500',\n",
       "   'bid': '1197155',\n",
       "   'high': '1216600',\n",
       "   'last': '1197500',\n",
       "   'low': '1182000',\n",
       "   'symbol': 'BTC',\n",
       "   'timestamp': '2020-10-16T12:39:19.790Z',\n",
       "   'volume': '417.7066'}],\n",
       " 'responsetime': '2020-10-16T12:39:20.588Z'}"
      ]
     },
     "metadata": {},
     "execution_count": 11
    }
   ],
   "source": [
    "data = tick.fetch(return_type='raw')\n",
    "data"
   ]
  },
  {
   "cell_type": "code",
   "execution_count": 13,
   "metadata": {},
   "outputs": [
    {
     "output_type": "stream",
     "name": "stdout",
     "text": [
      "{'endpoint': 'https://api.coin.z.com', 'tick': '/public/v1/ticker', 'orderbooks': '/public/v1/orderbooks', 'trade': '/public/v1/trades'}\n",
      "[autoreload of src.api_handler failed: Traceback (most recent call last):\n",
      "  File \"/Users/macico/.pyenv/versions/py37b/lib/python3.7/site-packages/IPython/extensions/autoreload.py\", line 245, in check\n",
      "    superreload(m, reload, self.old_objects)\n",
      "  File \"/Users/macico/.pyenv/versions/py37b/lib/python3.7/site-packages/IPython/extensions/autoreload.py\", line 410, in superreload\n",
      "    update_generic(old_obj, new_obj)\n",
      "  File \"/Users/macico/.pyenv/versions/py37b/lib/python3.7/site-packages/IPython/extensions/autoreload.py\", line 347, in update_generic\n",
      "    update(a, b)\n",
      "  File \"/Users/macico/.pyenv/versions/py37b/lib/python3.7/site-packages/IPython/extensions/autoreload.py\", line 302, in update_class\n",
      "    if update_generic(old_obj, new_obj): continue\n",
      "  File \"/Users/macico/.pyenv/versions/py37b/lib/python3.7/site-packages/IPython/extensions/autoreload.py\", line 347, in update_generic\n",
      "    update(a, b)\n",
      "  File \"/Users/macico/.pyenv/versions/py37b/lib/python3.7/site-packages/IPython/extensions/autoreload.py\", line 266, in update_function\n",
      "    setattr(old, name, getattr(new, name))\n",
      "ValueError: __init__() requires a code object with 0 free vars, not 1\n",
      "]\n"
     ]
    }
   ],
   "source": [
    "trade = api.Trade(sym)"
   ]
  },
  {
   "cell_type": "code",
   "execution_count": 101,
   "metadata": {},
   "outputs": [],
   "source": [
    "data, _ = trade.fetch(\"dataframe\",time)"
   ]
  },
  {
   "cell_type": "code",
   "execution_count": 98,
   "metadata": {},
   "outputs": [
    {
     "output_type": "execute_result",
     "data": {
      "text/plain": [
       "Empty DataFrame\n",
       "Columns: []\n",
       "Index: []"
      ],
      "text/html": "<div>\n<style scoped>\n    .dataframe tbody tr th:only-of-type {\n        vertical-align: middle;\n    }\n\n    .dataframe tbody tr th {\n        vertical-align: top;\n    }\n\n    .dataframe thead th {\n        text-align: right;\n    }\n</style>\n<table border=\"1\" class=\"dataframe\">\n  <thead>\n    <tr style=\"text-align: right;\">\n      <th></th>\n    </tr>\n  </thead>\n  <tbody>\n  </tbody>\n</table>\n</div>"
     },
     "metadata": {},
     "execution_count": 98
    }
   ],
   "source": [
    "data"
   ]
  },
  {
   "cell_type": "code",
   "execution_count": null,
   "metadata": {},
   "outputs": [],
   "source": []
  },
  {
   "cell_type": "code",
   "execution_count": 11,
   "metadata": {},
   "outputs": [],
   "source": [
    "# NOT !pip install websocket\n",
    "# !pip install websocket-client"
   ]
  }
 ]
}