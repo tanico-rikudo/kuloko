{
 "metadata": {
  "language_info": {
   "codemirror_mode": {
    "name": "ipython",
    "version": 3
   },
   "file_extension": ".py",
   "mimetype": "text/x-python",
   "name": "python",
   "nbconvert_exporter": "python",
   "pygments_lexer": "ipython3",
   "version": "3.7.6-final"
  },
  "orig_nbformat": 2,
  "kernelspec": {
   "name": "Python 3.7.6 64-bit ('py37b')",
   "display_name": "Python 3.7.6 64-bit ('py37b')",
   "metadata": {
    "interpreter": {
     "hash": "edf7c2d5f0f70628fc224588ceca2c2113a9ef071d19ac3a0b9346fc3eba554c"
    }
   }
  }
 },
 "nbformat": 4,
 "nbformat_minor": 2,
 "cells": [
  {
   "cell_type": "code",
   "execution_count": 149,
   "metadata": {},
   "outputs": [
    {
     "output_type": "stream",
     "name": "stdout",
     "text": [
      "The autoreload extension is already loaded. To reload it, use:\n  %reload_ext autoreload\n"
     ]
    }
   ],
   "source": [
    "%load_ext autoreload\n",
    "%autoreload 2"
   ]
  },
  {
   "cell_type": "code",
   "execution_count": 150,
   "metadata": {
    "tags": []
   },
   "outputs": [],
   "source": [
    "import requests\n",
    "import json\n",
    "import urllib.parse\n",
    "import logging\n",
    "import logging.config\n",
    "\n",
    "import pandas as pd\n",
    "import numpy as np\n",
    "\n",
    "logging.config.fileConfig('./ini/logconfig.ini')\n",
    "logger = logging.getLogger(\"KULOKO\")"
   ]
  },
  {
   "cell_type": "code",
   "execution_count": 151,
   "metadata": {},
   "outputs": [],
   "source": [
    "import src.api_handler as api"
   ]
  },
  {
   "cell_type": "code",
   "execution_count": 152,
   "metadata": {},
   "outputs": [
    {
     "output_type": "stream",
     "name": "stdout",
     "text": [
      "{'endpoint': 'https://api.coin.z.com', 'tick': '/public/v1/ticker', 'orderbooks': '/public/v1/orderbooks', 'trade': '/public/v1/trades'}\n"
     ]
    }
   ],
   "source": [
    "snapshot = {}\n",
    "sym = 'BTC'\n",
    "depth=5\n",
    "orderbook = api.Orderbook(sym)\n",
    "orderbook.depth =depth\n"
   ]
  },
  {
   "cell_type": "code",
   "execution_count": 153,
   "metadata": {},
   "outputs": [
    {
     "output_type": "execute_result",
     "data": {
      "text/plain": [
       "       price    size\n",
       "0  1197415.0  0.6000\n",
       "1  1197420.0  0.2000\n",
       "2  1197500.0  0.1069\n",
       "3  1197695.0  0.1991\n",
       "4  1197700.0  2.5000"
      ],
      "text/html": "<div>\n<style scoped>\n    .dataframe tbody tr th:only-of-type {\n        vertical-align: middle;\n    }\n\n    .dataframe tbody tr th {\n        vertical-align: top;\n    }\n\n    .dataframe thead th {\n        text-align: right;\n    }\n</style>\n<table border=\"1\" class=\"dataframe\">\n  <thead>\n    <tr style=\"text-align: right;\">\n      <th></th>\n      <th>price</th>\n      <th>size</th>\n    </tr>\n  </thead>\n  <tbody>\n    <tr>\n      <th>0</th>\n      <td>1197415.0</td>\n      <td>0.6000</td>\n    </tr>\n    <tr>\n      <th>1</th>\n      <td>1197420.0</td>\n      <td>0.2000</td>\n    </tr>\n    <tr>\n      <th>2</th>\n      <td>1197500.0</td>\n      <td>0.1069</td>\n    </tr>\n    <tr>\n      <th>3</th>\n      <td>1197695.0</td>\n      <td>0.1991</td>\n    </tr>\n    <tr>\n      <th>4</th>\n      <td>1197700.0</td>\n      <td>2.5000</td>\n    </tr>\n  </tbody>\n</table>\n</div>"
     },
     "metadata": {},
     "execution_count": 153
    }
   ],
   "source": [
    "df_snapshot = orderbook.fetch(return_type='dataframe')\n",
    "df_snapshot['data']['asks']"
   ]
  },
  {
   "cell_type": "code",
   "execution_count": 154,
   "metadata": {},
   "outputs": [
    {
     "output_type": "execute_result",
     "data": {
      "text/plain": [
       "{'status': 0,\n",
       " 'data': {'asks': [{'price': '1197410', 'size': '0.6'},\n",
       "   {'price': '1197415', 'size': '0.2'},\n",
       "   {'price': '1197500', 'size': '0.1069'},\n",
       "   {'price': '1197695', 'size': '0.1991'},\n",
       "   {'price': '1197700', 'size': '2.5'}],\n",
       "  'bids': [{'price': '1197000', 'size': '0.01'},\n",
       "   {'price': '1196899', 'size': '0.0084'},\n",
       "   {'price': '1196361', 'size': '0.3'},\n",
       "   {'price': '1196360', 'size': '0.4'},\n",
       "   {'price': '1196350', 'size': '0.1'}],\n",
       "  'symbol': 'BTC'},\n",
       " 'responsetime': '2020-10-16T13:34:01.457Z'}"
      ]
     },
     "metadata": {},
     "execution_count": 154
    }
   ],
   "source": [
    "json_orderbook = orderbook.fetch(return_type='raw')\n",
    "json_orderbook"
   ]
  },
  {
   "cell_type": "code",
   "execution_count": 155,
   "metadata": {},
   "outputs": [
    {
     "output_type": "execute_result",
     "data": {
      "text/plain": [
       "[datetime.datetime(2020, 10, 16, 22, 34, 4, 550000, tzinfo=datetime.timezone(datetime.timedelta(seconds=32400))),\n",
       " 1197000.0,\n",
       " 0.01,\n",
       " 1196899.0,\n",
       " 0.0084,\n",
       " 1196367.0,\n",
       " 0.3,\n",
       " 1196365.0,\n",
       " 0.2,\n",
       " 1196320.0,\n",
       " 0.1,\n",
       " 1197000.0,\n",
       " 0.01,\n",
       " 1196899.0,\n",
       " 0.0084,\n",
       " 1196367.0,\n",
       " 0.3,\n",
       " 1196365.0,\n",
       " 0.2,\n",
       " 1196320.0,\n",
       " 0.1]"
      ]
     },
     "metadata": {},
     "execution_count": 155
    }
   ],
   "source": [
    "\n",
    "seq_orderbook = orderbook.fetch(return_type='seq')\n",
    "seq_orderbook"
   ]
  },
  {
   "cell_type": "code",
   "execution_count": 156,
   "metadata": {},
   "outputs": [
    {
     "output_type": "execute_result",
     "data": {
      "text/plain": [
       "{'time': datetime.datetime(2020, 10, 16, 22, 34, 9, 589000, tzinfo=datetime.timezone(datetime.timedelta(seconds=32400))),\n",
       " 'bids0': 1197000.0,\n",
       " 'bids0_size': 0.01,\n",
       " 'bids1': 1196899.0,\n",
       " 'bids1_size': 0.0084,\n",
       " 'bids2': 1196390.0,\n",
       " 'bids2_size': 0.6,\n",
       " 'bids3': 1196387.0,\n",
       " 'bids3_size': 0.3,\n",
       " 'bids4': 1196000.0,\n",
       " 'bids4_size': 0.01,\n",
       " 'asks0': 1197000.0,\n",
       " 'asks0_size': 0.01,\n",
       " 'asks1': 1196899.0,\n",
       " 'asks1_size': 0.0084,\n",
       " 'asks2': 1196390.0,\n",
       " 'asks2_size': 0.6,\n",
       " 'asks3': 1196387.0,\n",
       " 'asks3_size': 0.3,\n",
       " 'asks4': 1196000.0,\n",
       " 'asks4_size': 0.01}"
      ]
     },
     "metadata": {},
     "execution_count": 156
    }
   ],
   "source": [
    "json_orderbook = orderbook.fetch(return_type='json')\n",
    "json_orderbook"
   ]
  },
  {
   "cell_type": "code",
   "execution_count": 157,
   "metadata": {},
   "outputs": [
    {
     "output_type": "execute_result",
     "data": {
      "text/plain": [
       "datetime.datetime(2020, 10, 16, 22, 34, 9, 589000, tzinfo=<DstTzInfo 'Asia/Tokyo' JST+9:00:00 STD>)"
      ]
     },
     "metadata": {},
     "execution_count": 157
    }
   ],
   "source": [
    "json_orderbook['time'].astimezone(timezone('Asia/Tokyo'))"
   ]
  },
  {
   "cell_type": "code",
   "execution_count": 158,
   "metadata": {
    "tags": []
   },
   "outputs": [
    {
     "output_type": "stream",
     "name": "stdout",
     "text": [
      "{'endpoint': 'https://api.coin.z.com', 'tick': '/public/v1/ticker', 'orderbooks': '/public/v1/orderbooks', 'trade': '/public/v1/trades'}\n"
     ]
    }
   ],
   "source": [
    "tick = api.Ticks(sym)\n"
   ]
  },
  {
   "cell_type": "code",
   "execution_count": 159,
   "metadata": {
    "tags": []
   },
   "outputs": [
    {
     "output_type": "execute_result",
     "data": {
      "text/plain": [
       "{'ask': 1197495.0,\n",
       " 'bid': 1197000.0,\n",
       " 'high': 1216600.0,\n",
       " 'last': 1198085.0,\n",
       " 'low': 1182000.0,\n",
       " 'volume': 415.1468,\n",
       " 'timestamp': datetime.datetime(2020, 10, 16, 22, 34, 14, 281000, tzinfo=datetime.timezone(datetime.timedelta(seconds=32400)))}"
      ]
     },
     "metadata": {},
     "execution_count": 159
    }
   ],
   "source": [
    "data = tick.fetch(return_type='json')\n",
    "data"
   ]
  },
  {
   "cell_type": "code",
   "execution_count": 160,
   "metadata": {},
   "outputs": [
    {
     "output_type": "execute_result",
     "data": {
      "text/plain": [
       "{'status': 0,\n",
       " 'data': [{'ask': '1197495',\n",
       "   'bid': '1197000',\n",
       "   'high': '1216600',\n",
       "   'last': '1198085',\n",
       "   'low': '1182000',\n",
       "   'symbol': 'BTC',\n",
       "   'timestamp': '2020-10-16T13:34:14.281Z',\n",
       "   'volume': '415.1468'}],\n",
       " 'responsetime': '2020-10-16T13:34:14.743Z'}"
      ]
     },
     "metadata": {},
     "execution_count": 160
    }
   ],
   "source": [
    "data = tick.fetch(return_type='raw')\n",
    "data"
   ]
  },
  {
   "cell_type": "code",
   "execution_count": 161,
   "metadata": {},
   "outputs": [
    {
     "output_type": "stream",
     "name": "stdout",
     "text": [
      "{'endpoint': 'https://api.coin.z.com', 'tick': '/public/v1/ticker', 'orderbooks': '/public/v1/orderbooks', 'trade': '/public/v1/trades'}\n"
     ]
    }
   ],
   "source": [
    "trade = api.Trade(sym)"
   ]
  },
  {
   "cell_type": "code",
   "execution_count": 162,
   "metadata": {},
   "outputs": [],
   "source": [
    "data, since_time = trade.fetch(\"dataframe\")"
   ]
  },
  {
   "cell_type": "code",
   "execution_count": 163,
   "metadata": {},
   "outputs": [],
   "source": [
    "data2, _ = trade.fetch(\"dataframe\",since_time)"
   ]
  },
  {
   "cell_type": "code",
   "execution_count": 164,
   "metadata": {},
   "outputs": [
    {
     "output_type": "execute_result",
     "data": {
      "text/plain": [
       "        price  side    size                        timestamp\n",
       "0   1198085.0  SELL  0.0010 2020-10-16 22:31:01.101000+09:00\n",
       "1   1198085.0   BUY  0.0010 2020-10-16 22:31:01.101000+09:00\n",
       "2   1198450.0   BUY  0.0545 2020-10-16 22:30:10.890000+09:00\n",
       "3   1198450.0  SELL  0.0545 2020-10-16 22:30:10.890000+09:00\n",
       "4   1198450.0   BUY  0.0500 2020-10-16 22:30:06.452000+09:00\n",
       "..        ...   ...     ...                              ...\n",
       "93  1199790.0   BUY  0.0008 2020-10-16 21:58:35.228000+09:00\n",
       "94  1199950.0  SELL  0.0019 2020-10-16 21:58:26.333000+09:00\n",
       "95  1199950.0   BUY  0.0019 2020-10-16 21:58:26.333000+09:00\n",
       "96  1200165.0  SELL  0.0020 2020-10-16 21:58:14.814000+09:00\n",
       "97  1200165.0   BUY  0.0020 2020-10-16 21:58:14.814000+09:00\n",
       "\n",
       "[98 rows x 4 columns]"
      ],
      "text/html": "<div>\n<style scoped>\n    .dataframe tbody tr th:only-of-type {\n        vertical-align: middle;\n    }\n\n    .dataframe tbody tr th {\n        vertical-align: top;\n    }\n\n    .dataframe thead th {\n        text-align: right;\n    }\n</style>\n<table border=\"1\" class=\"dataframe\">\n  <thead>\n    <tr style=\"text-align: right;\">\n      <th></th>\n      <th>price</th>\n      <th>side</th>\n      <th>size</th>\n      <th>timestamp</th>\n    </tr>\n  </thead>\n  <tbody>\n    <tr>\n      <th>0</th>\n      <td>1198085.0</td>\n      <td>SELL</td>\n      <td>0.0010</td>\n      <td>2020-10-16 22:31:01.101000+09:00</td>\n    </tr>\n    <tr>\n      <th>1</th>\n      <td>1198085.0</td>\n      <td>BUY</td>\n      <td>0.0010</td>\n      <td>2020-10-16 22:31:01.101000+09:00</td>\n    </tr>\n    <tr>\n      <th>2</th>\n      <td>1198450.0</td>\n      <td>BUY</td>\n      <td>0.0545</td>\n      <td>2020-10-16 22:30:10.890000+09:00</td>\n    </tr>\n    <tr>\n      <th>3</th>\n      <td>1198450.0</td>\n      <td>SELL</td>\n      <td>0.0545</td>\n      <td>2020-10-16 22:30:10.890000+09:00</td>\n    </tr>\n    <tr>\n      <th>4</th>\n      <td>1198450.0</td>\n      <td>BUY</td>\n      <td>0.0500</td>\n      <td>2020-10-16 22:30:06.452000+09:00</td>\n    </tr>\n    <tr>\n      <th>...</th>\n      <td>...</td>\n      <td>...</td>\n      <td>...</td>\n      <td>...</td>\n    </tr>\n    <tr>\n      <th>93</th>\n      <td>1199790.0</td>\n      <td>BUY</td>\n      <td>0.0008</td>\n      <td>2020-10-16 21:58:35.228000+09:00</td>\n    </tr>\n    <tr>\n      <th>94</th>\n      <td>1199950.0</td>\n      <td>SELL</td>\n      <td>0.0019</td>\n      <td>2020-10-16 21:58:26.333000+09:00</td>\n    </tr>\n    <tr>\n      <th>95</th>\n      <td>1199950.0</td>\n      <td>BUY</td>\n      <td>0.0019</td>\n      <td>2020-10-16 21:58:26.333000+09:00</td>\n    </tr>\n    <tr>\n      <th>96</th>\n      <td>1200165.0</td>\n      <td>SELL</td>\n      <td>0.0020</td>\n      <td>2020-10-16 21:58:14.814000+09:00</td>\n    </tr>\n    <tr>\n      <th>97</th>\n      <td>1200165.0</td>\n      <td>BUY</td>\n      <td>0.0020</td>\n      <td>2020-10-16 21:58:14.814000+09:00</td>\n    </tr>\n  </tbody>\n</table>\n<p>98 rows × 4 columns</p>\n</div>"
     },
     "metadata": {},
     "execution_count": 164
    }
   ],
   "source": [
    "data"
   ]
  },
  {
   "cell_type": "code",
   "execution_count": 165,
   "metadata": {},
   "outputs": [
    {
     "output_type": "execute_result",
     "data": {
      "text/plain": [
       "Empty DataFrame\n",
       "Columns: []\n",
       "Index: []"
      ],
      "text/html": "<div>\n<style scoped>\n    .dataframe tbody tr th:only-of-type {\n        vertical-align: middle;\n    }\n\n    .dataframe tbody tr th {\n        vertical-align: top;\n    }\n\n    .dataframe thead th {\n        text-align: right;\n    }\n</style>\n<table border=\"1\" class=\"dataframe\">\n  <thead>\n    <tr style=\"text-align: right;\">\n      <th></th>\n    </tr>\n  </thead>\n  <tbody>\n  </tbody>\n</table>\n</div>"
     },
     "metadata": {},
     "execution_count": 165
    }
   ],
   "source": [
    "data2"
   ]
  },
  {
   "cell_type": "code",
   "execution_count": 166,
   "metadata": {},
   "outputs": [],
   "source": [
    "# NOT !pip install websocket\n",
    "# !pip install websocket-client"
   ]
  },
  {
   "cell_type": "code",
   "execution_count": null,
   "metadata": {},
   "outputs": [],
   "source": []
  }
 ]
}