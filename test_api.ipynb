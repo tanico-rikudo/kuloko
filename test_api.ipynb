{
 "metadata": {
  "language_info": {
   "codemirror_mode": {
    "name": "ipython",
    "version": 3
   },
   "file_extension": ".py",
   "mimetype": "text/x-python",
   "name": "python",
   "nbconvert_exporter": "python",
   "pygments_lexer": "ipython3",
   "version": "3.7.6-final"
  },
  "orig_nbformat": 2,
  "kernelspec": {
   "name": "Python 3.7.6 64-bit ('py37b')",
   "display_name": "Python 3.7.6 64-bit ('py37b')",
   "metadata": {
    "interpreter": {
     "hash": "edf7c2d5f0f70628fc224588ceca2c2113a9ef071d19ac3a0b9346fc3eba554c"
    }
   }
  }
 },
 "nbformat": 4,
 "nbformat_minor": 2,
 "cells": [
  {
   "cell_type": "code",
   "execution_count": 133,
   "metadata": {},
   "outputs": [
    {
     "output_type": "stream",
     "name": "stdout",
     "text": [
      "The autoreload extension is already loaded. To reload it, use:\n",
      "  %reload_ext autoreload\n",
      "[autoreload of src.api_handler failed: Traceback (most recent call last):\n",
      "  File \"/Users/macico/.pyenv/versions/py37b/lib/python3.7/site-packages/IPython/extensions/autoreload.py\", line 245, in check\n",
      "    superreload(m, reload, self.old_objects)\n",
      "  File \"/Users/macico/.pyenv/versions/py37b/lib/python3.7/site-packages/IPython/extensions/autoreload.py\", line 410, in superreload\n",
      "    update_generic(old_obj, new_obj)\n",
      "  File \"/Users/macico/.pyenv/versions/py37b/lib/python3.7/site-packages/IPython/extensions/autoreload.py\", line 347, in update_generic\n",
      "    update(a, b)\n",
      "  File \"/Users/macico/.pyenv/versions/py37b/lib/python3.7/site-packages/IPython/extensions/autoreload.py\", line 302, in update_class\n",
      "    if update_generic(old_obj, new_obj): continue\n",
      "  File \"/Users/macico/.pyenv/versions/py37b/lib/python3.7/site-packages/IPython/extensions/autoreload.py\", line 347, in update_generic\n",
      "    update(a, b)\n",
      "  File \"/Users/macico/.pyenv/versions/py37b/lib/python3.7/site-packages/IPython/extensions/autoreload.py\", line 266, in update_function\n",
      "    setattr(old, name, getattr(new, name))\n",
      "ValueError: __init__() requires a code object with 0 free vars, not 1\n",
      "]\n"
     ]
    }
   ],
   "source": [
    "%load_ext autoreload\n",
    "%autoreload 2"
   ]
  },
  {
   "cell_type": "code",
   "execution_count": 134,
   "metadata": {
    "tags": []
   },
   "outputs": [],
   "source": [
    "import requests\n",
    "import json\n",
    "import urllib.parse\n",
    "import logging\n",
    "import logging.config\n",
    "\n",
    "import pandas as pd\n",
    "import numpy as np\n",
    "\n",
    "logging.config.fileConfig('./ini/logconfig.ini')\n",
    "logger = logging.getLogger(\"KULOKO\")"
   ]
  },
  {
   "cell_type": "code",
   "execution_count": 135,
   "metadata": {},
   "outputs": [],
   "source": [
    "import src.api_handler as api"
   ]
  },
  {
   "cell_type": "code",
   "execution_count": 136,
   "metadata": {},
   "outputs": [
    {
     "output_type": "stream",
     "name": "stdout",
     "text": [
      "{'endpoint': 'https://api.coin.z.com', 'tick': '/public/v1/ticker', 'orderbooks': '/public/v1/orderbooks', 'trade': '/public/v1/trades'}\n"
     ]
    }
   ],
   "source": [
    "snapshot = {}\n",
    "sym = 'BTC'\n",
    "depth=5\n",
    "orderbook = api.Orderbook(sym)\n",
    "orderbook.depth =depth\n"
   ]
  },
  {
   "cell_type": "code",
   "execution_count": 137,
   "metadata": {},
   "outputs": [
    {
     "output_type": "error",
     "ename": "TypeError",
     "evalue": "timezone() argument 1 must be datetime.timedelta, not str",
     "traceback": [
      "\u001b[0;31m---------------------------------------------------------------------------\u001b[0m",
      "\u001b[0;31mTypeError\u001b[0m                                 Traceback (most recent call last)",
      "\u001b[0;32m<ipython-input-137-ebdf8a6ad247>\u001b[0m in \u001b[0;36m<module>\u001b[0;34m\u001b[0m\n\u001b[0;32m----> 1\u001b[0;31m \u001b[0mdf_snapshot\u001b[0m \u001b[0;34m=\u001b[0m \u001b[0morderbook\u001b[0m\u001b[0;34m.\u001b[0m\u001b[0mfetch\u001b[0m\u001b[0;34m(\u001b[0m\u001b[0mreturn_type\u001b[0m\u001b[0;34m=\u001b[0m\u001b[0;34m'dataframe'\u001b[0m\u001b[0;34m)\u001b[0m\u001b[0;34m\u001b[0m\u001b[0;34m\u001b[0m\u001b[0m\n\u001b[0m\u001b[1;32m      2\u001b[0m \u001b[0mdf_snapshot\u001b[0m\u001b[0;34m[\u001b[0m\u001b[0;34m'data'\u001b[0m\u001b[0;34m]\u001b[0m\u001b[0;34m[\u001b[0m\u001b[0;34m'asks'\u001b[0m\u001b[0;34m]\u001b[0m\u001b[0;34m\u001b[0m\u001b[0;34m\u001b[0m\u001b[0m\n",
      "\u001b[0;32m~/Dropbox/kaggle/kuloko/src/api_handler.py\u001b[0m in \u001b[0;36mfetch\u001b[0;34m(self, depth, return_type, *args, **kwargs)\u001b[0m\n\u001b[1;32m    102\u001b[0m             \u001b[0mlogger\u001b[0m\u001b[0;34m.\u001b[0m\u001b[0mwarn\u001b[0m\u001b[0;34m(\u001b[0m\u001b[0;34m\"Try to fetch FUll Depth orderbook\"\u001b[0m\u001b[0;34m)\u001b[0m\u001b[0;34m\u001b[0m\u001b[0;34m\u001b[0m\u001b[0m\n\u001b[1;32m    103\u001b[0m \u001b[0;34m\u001b[0m\u001b[0m\n\u001b[0;32m--> 104\u001b[0;31m         \u001b[0mdata\u001b[0m \u001b[0;34m=\u001b[0m \u001b[0mself\u001b[0m\u001b[0;34m.\u001b[0m\u001b[0mconvert_shape\u001b[0m\u001b[0;34m(\u001b[0m\u001b[0morderbook\u001b[0m\u001b[0;34m,\u001b[0m \u001b[0mdepth\u001b[0m\u001b[0;34m,\u001b[0m \u001b[0mreturn_type\u001b[0m\u001b[0;34m)\u001b[0m\u001b[0;34m\u001b[0m\u001b[0;34m\u001b[0m\u001b[0m\n\u001b[0m\u001b[1;32m    105\u001b[0m         \u001b[0mlogger\u001b[0m\u001b[0;34m.\u001b[0m\u001b[0minfo\u001b[0m\u001b[0;34m(\u001b[0m\u001b[0;34m\"[DONE] Fetch orderbook. Depth={0}, Return_type={1}\"\u001b[0m\u001b[0;34m.\u001b[0m\u001b[0mformat\u001b[0m\u001b[0;34m(\u001b[0m\u001b[0mdepth\u001b[0m\u001b[0;34m,\u001b[0m \u001b[0mreturn_type\u001b[0m\u001b[0;34m)\u001b[0m\u001b[0;34m)\u001b[0m\u001b[0;34m\u001b[0m\u001b[0;34m\u001b[0m\u001b[0m\n\u001b[1;32m    106\u001b[0m         \u001b[0;32mreturn\u001b[0m \u001b[0mdata\u001b[0m\u001b[0;34m\u001b[0m\u001b[0;34m\u001b[0m\u001b[0m\n",
      "\u001b[0;32m~/Dropbox/kaggle/kuloko/src/api_handler.py\u001b[0m in \u001b[0;36mconvert_shape\u001b[0;34m(self, raw_data, depth, return_type)\u001b[0m\n\u001b[1;32m    113\u001b[0m                 \u001b[0mraw_data\u001b[0m\u001b[0;34m[\u001b[0m\u001b[0;34m'data'\u001b[0m\u001b[0;34m]\u001b[0m\u001b[0;34m[\u001b[0m\u001b[0m_side\u001b[0m\u001b[0;34m]\u001b[0m\u001b[0;34m=\u001b[0m \u001b[0mraw_data\u001b[0m\u001b[0;34m[\u001b[0m\u001b[0;34m'data'\u001b[0m\u001b[0;34m]\u001b[0m\u001b[0;34m[\u001b[0m\u001b[0m_side\u001b[0m\u001b[0;34m]\u001b[0m\u001b[0;34m[\u001b[0m\u001b[0;34m:\u001b[0m\u001b[0mdepth\u001b[0m\u001b[0;34m]\u001b[0m\u001b[0;34m\u001b[0m\u001b[0;34m\u001b[0m\u001b[0m\n\u001b[1;32m    114\u001b[0m \u001b[0;34m\u001b[0m\u001b[0m\n\u001b[0;32m--> 115\u001b[0;31m         \u001b[0mresponsetime_dt\u001b[0m \u001b[0;34m=\u001b[0m \u001b[0mto_jst_dt\u001b[0m\u001b[0;34m(\u001b[0m\u001b[0mraw_data\u001b[0m\u001b[0;34m[\u001b[0m\u001b[0;34m'responsetime'\u001b[0m\u001b[0;34m]\u001b[0m\u001b[0;34m)\u001b[0m\u001b[0;34m\u001b[0m\u001b[0;34m\u001b[0m\u001b[0m\n\u001b[0m\u001b[1;32m    116\u001b[0m \u001b[0;34m\u001b[0m\u001b[0m\n\u001b[1;32m    117\u001b[0m         \u001b[0;32mif\u001b[0m \u001b[0mreturn_type\u001b[0m \u001b[0;32mis\u001b[0m \u001b[0;34m'raw'\u001b[0m\u001b[0;34m:\u001b[0m\u001b[0;34m\u001b[0m\u001b[0;34m\u001b[0m\u001b[0m\n",
      "\u001b[0;32m~/Dropbox/kaggle/kuloko/src/api_handler.py\u001b[0m in \u001b[0;36mto_jst_dt\u001b[0;34m(timestamp_utc)\u001b[0m\n\u001b[1;32m     30\u001b[0m \u001b[0;32mdef\u001b[0m \u001b[0mto_jst_dt\u001b[0m\u001b[0;34m(\u001b[0m\u001b[0mtimestamp_utc\u001b[0m\u001b[0;34m)\u001b[0m\u001b[0;34m:\u001b[0m\u001b[0;34m\u001b[0m\u001b[0;34m\u001b[0m\u001b[0m\n\u001b[1;32m     31\u001b[0m     \u001b[0mdt_utc\u001b[0m \u001b[0;34m=\u001b[0m \u001b[0mdt\u001b[0m\u001b[0;34m.\u001b[0m\u001b[0mstrptime\u001b[0m\u001b[0;34m(\u001b[0m\u001b[0mtimestamp_utc\u001b[0m \u001b[0;34m+\u001b[0m \u001b[0;34m\"+0000\"\u001b[0m\u001b[0;34m,\u001b[0m \u001b[0;34m'%Y-%m-%dT%H:%M:%S.%fZ%z'\u001b[0m\u001b[0;34m)\u001b[0m\u001b[0;34m\u001b[0m\u001b[0;34m\u001b[0m\u001b[0m\n\u001b[0;32m---> 32\u001b[0;31m     \u001b[0mdt_jst\u001b[0m \u001b[0;34m=\u001b[0m \u001b[0mdt_utc\u001b[0m\u001b[0;34m.\u001b[0m\u001b[0mastimezone\u001b[0m\u001b[0;34m(\u001b[0m\u001b[0mtimezone\u001b[0m\u001b[0;34m(\u001b[0m\u001b[0;34m'Asia/Tokyo'\u001b[0m\u001b[0;34m)\u001b[0m\u001b[0;34m)\u001b[0m\u001b[0;34m\u001b[0m\u001b[0;34m\u001b[0m\u001b[0m\n\u001b[0m\u001b[1;32m     33\u001b[0m     \u001b[0;32mreturn\u001b[0m \u001b[0mdt_jst\u001b[0m\u001b[0;34m\u001b[0m\u001b[0;34m\u001b[0m\u001b[0m\n\u001b[1;32m     34\u001b[0m \u001b[0;34m\u001b[0m\u001b[0m\n",
      "\u001b[0;31mTypeError\u001b[0m: timezone() argument 1 must be datetime.timedelta, not str"
     ]
    }
   ],
   "source": [
    "df_snapshot = orderbook.fetch(return_type='dataframe')\n",
    "df_snapshot['data']['asks']"
   ]
  },
  {
   "cell_type": "code",
   "execution_count": 131,
   "metadata": {},
   "outputs": [
    {
     "output_type": "stream",
     "name": "stdout",
     "text": [
      "2020-10-16T22:24:31.847000+0900\n"
     ]
    },
    {
     "output_type": "execute_result",
     "data": {
      "text/plain": [
       "{'status': 0,\n",
       " 'data': {'asks': [{'price': '1198343', 'size': '0.001'},\n",
       "   {'price': '1198753', 'size': '0.0001'},\n",
       "   {'price': '1199006', 'size': '0.002'},\n",
       "   {'price': '1199045', 'size': '0.2'},\n",
       "   {'price': '1199050', 'size': '0.1'}],\n",
       "  'bids': [{'price': '1198300', 'size': '0.0016'},\n",
       "   {'price': '1197580', 'size': '0.4'},\n",
       "   {'price': '1197576', 'size': '0.3'},\n",
       "   {'price': '1197516', 'size': '0.0654'},\n",
       "   {'price': '1197370', 'size': '0.1'}],\n",
       "  'symbol': 'BTC'},\n",
       " 'responsetime': '2020-10-16T13:24:31.847Z'}"
      ]
     },
     "metadata": {},
     "execution_count": 131
    }
   ],
   "source": [
    "json_orderbook = orderbook.fetch(return_type='raw')\n",
    "json_orderbook"
   ]
  },
  {
   "cell_type": "code",
   "execution_count": 132,
   "metadata": {},
   "outputs": [
    {
     "output_type": "stream",
     "name": "stdout",
     "text": [
      "2020-10-16T22:24:55.479000+0900\n"
     ]
    },
    {
     "output_type": "execute_result",
     "data": {
      "text/plain": [
       "[datetime.datetime(2020, 10, 16, 22, 24, 55, 479000, tzinfo=datetime.timezone(datetime.timedelta(seconds=32400))),\n",
       " 1198300.0,\n",
       " 0.0016,\n",
       " 1197045.0,\n",
       " 0.6,\n",
       " 1197041.0,\n",
       " 0.3,\n",
       " 1197020.0,\n",
       " 0.1,\n",
       " 1196907.0,\n",
       " 0.0787,\n",
       " 1198300.0,\n",
       " 0.0016,\n",
       " 1197045.0,\n",
       " 0.6,\n",
       " 1197041.0,\n",
       " 0.3,\n",
       " 1197020.0,\n",
       " 0.1,\n",
       " 1196907.0,\n",
       " 0.0787]"
      ]
     },
     "metadata": {},
     "execution_count": 132
    }
   ],
   "source": [
    "\n",
    "seq_orderbook = orderbook.fetch(return_type='seq')\n",
    "seq_orderbook"
   ]
  },
  {
   "cell_type": "code",
   "execution_count": 101,
   "metadata": {},
   "outputs": [
    {
     "output_type": "execute_result",
     "data": {
      "text/plain": [
       "{'time': datetime.datetime(2020, 10, 16, 4, 8, 33, 673000, tzinfo=<UTC>),\n",
       " 'bids0': 1197330.0,\n",
       " 'bids0_size': 0.0654,\n",
       " 'bids1': 1197020.0,\n",
       " 'bids1_size': 0.1,\n",
       " 'bids2': 1196899.0,\n",
       " 'bids2_size': 0.0084,\n",
       " 'bids3': 1195975.0,\n",
       " 'bids3_size': 0.2,\n",
       " 'bids4': 1195970.0,\n",
       " 'bids4_size': 0.4,\n",
       " 'asks0': 1197330.0,\n",
       " 'asks0_size': 0.0654,\n",
       " 'asks1': 1197020.0,\n",
       " 'asks1_size': 0.1,\n",
       " 'asks2': 1196899.0,\n",
       " 'asks2_size': 0.0084,\n",
       " 'asks3': 1195975.0,\n",
       " 'asks3_size': 0.2,\n",
       " 'asks4': 1195970.0,\n",
       " 'asks4_size': 0.4}"
      ]
     },
     "metadata": {},
     "execution_count": 101
    }
   ],
   "source": [
    "json_orderbook = orderbook.fetch(return_type='json')\n",
    "json_orderbook"
   ]
  },
  {
   "cell_type": "code",
   "execution_count": 103,
   "metadata": {},
   "outputs": [
    {
     "output_type": "execute_result",
     "data": {
      "text/plain": [
       "datetime.datetime(2020, 10, 16, 13, 8, 33, 673000, tzinfo=<DstTzInfo 'Asia/Tokyo' JST+9:00:00 STD>)"
      ]
     },
     "metadata": {},
     "execution_count": 103
    }
   ],
   "source": [
    "json_orderbook['time'].astimezone(timezone('Asia/Tokyo'))"
   ]
  },
  {
   "cell_type": "code",
   "execution_count": 9,
   "metadata": {
    "tags": []
   },
   "outputs": [
    {
     "output_type": "stream",
     "name": "stdout",
     "text": [
      "{'endpoint': 'https://api.coin.z.com', 'tick': '/public/v1/ticker', 'orderbooks': '/public/v1/orderbooks', 'trade': '/public/v1/trades'}\n"
     ]
    }
   ],
   "source": [
    "tick = api.Ticks(sym)\n"
   ]
  },
  {
   "cell_type": "code",
   "execution_count": 10,
   "metadata": {
    "tags": []
   },
   "outputs": [
    {
     "output_type": "execute_result",
     "data": {
      "text/plain": [
       "{'ask': 1197500.0,\n",
       " 'bid': 1197155.0,\n",
       " 'high': 1216600.0,\n",
       " 'last': 1197500.0,\n",
       " 'low': 1182000.0,\n",
       " 'volume': 417.7066,\n",
       " 'timestamp': datetime.datetime(2020, 10, 16, 12, 39, 19, 790000)}"
      ]
     },
     "metadata": {},
     "execution_count": 10
    }
   ],
   "source": [
    "data = tick.fetch(return_type='json')\n",
    "data"
   ]
  },
  {
   "cell_type": "code",
   "execution_count": 11,
   "metadata": {},
   "outputs": [
    {
     "output_type": "execute_result",
     "data": {
      "text/plain": [
       "{'status': 0,\n",
       " 'data': [{'ask': '1197500',\n",
       "   'bid': '1197155',\n",
       "   'high': '1216600',\n",
       "   'last': '1197500',\n",
       "   'low': '1182000',\n",
       "   'symbol': 'BTC',\n",
       "   'timestamp': '2020-10-16T12:39:19.790Z',\n",
       "   'volume': '417.7066'}],\n",
       " 'responsetime': '2020-10-16T12:39:20.588Z'}"
      ]
     },
     "metadata": {},
     "execution_count": 11
    }
   ],
   "source": [
    "data = tick.fetch(return_type='raw')\n",
    "data"
   ]
  },
  {
   "cell_type": "code",
   "execution_count": 19,
   "metadata": {},
   "outputs": [
    {
     "output_type": "stream",
     "name": "stdout",
     "text": [
      "{'endpoint': 'https://api.coin.z.com', 'tick': '/public/v1/ticker', 'orderbooks': '/public/v1/orderbooks', 'trade': '/public/v1/trades'}\n"
     ]
    }
   ],
   "source": [
    "trade = api.Trade(sym)"
   ]
  },
  {
   "cell_type": "code",
   "execution_count": 25,
   "metadata": {},
   "outputs": [],
   "source": [
    "data, since_time = trade.fetch(\"dataframe\")"
   ]
  },
  {
   "cell_type": "code",
   "execution_count": 26,
   "metadata": {},
   "outputs": [],
   "source": [
    "data2, _ = trade.fetch(\"dataframe\",since_time)"
   ]
  },
  {
   "cell_type": "code",
   "execution_count": 27,
   "metadata": {},
   "outputs": [
    {
     "output_type": "execute_result",
     "data": {
      "text/plain": [
       "        price  side    size               timestamp\n",
       "0   1197500.0  SELL  0.0010 2020-10-16 12:40:24.526\n",
       "1   1197500.0   BUY  0.0010 2020-10-16 12:40:24.526\n",
       "2   1197500.0  SELL  0.0010 2020-10-16 12:40:13.342\n",
       "3   1197500.0   BUY  0.0010 2020-10-16 12:40:13.342\n",
       "4   1197500.0  SELL  0.0006 2020-10-16 12:38:29.971\n",
       "..        ...   ...     ...                     ...\n",
       "93  1197000.0   BUY  0.0005 2020-10-16 12:06:47.091\n",
       "94  1196999.0  SELL  0.1000 2020-10-16 12:06:27.524\n",
       "95  1196999.0   BUY  0.1000 2020-10-16 12:06:27.524\n",
       "96  1197000.0   BUY  0.0100 2020-10-16 12:06:16.611\n",
       "97  1197000.0   BUY  0.0640 2020-10-16 12:05:39.810\n",
       "\n",
       "[98 rows x 4 columns]"
      ],
      "text/html": "<div>\n<style scoped>\n    .dataframe tbody tr th:only-of-type {\n        vertical-align: middle;\n    }\n\n    .dataframe tbody tr th {\n        vertical-align: top;\n    }\n\n    .dataframe thead th {\n        text-align: right;\n    }\n</style>\n<table border=\"1\" class=\"dataframe\">\n  <thead>\n    <tr style=\"text-align: right;\">\n      <th></th>\n      <th>price</th>\n      <th>side</th>\n      <th>size</th>\n      <th>timestamp</th>\n    </tr>\n  </thead>\n  <tbody>\n    <tr>\n      <th>0</th>\n      <td>1197500.0</td>\n      <td>SELL</td>\n      <td>0.0010</td>\n      <td>2020-10-16 12:40:24.526</td>\n    </tr>\n    <tr>\n      <th>1</th>\n      <td>1197500.0</td>\n      <td>BUY</td>\n      <td>0.0010</td>\n      <td>2020-10-16 12:40:24.526</td>\n    </tr>\n    <tr>\n      <th>2</th>\n      <td>1197500.0</td>\n      <td>SELL</td>\n      <td>0.0010</td>\n      <td>2020-10-16 12:40:13.342</td>\n    </tr>\n    <tr>\n      <th>3</th>\n      <td>1197500.0</td>\n      <td>BUY</td>\n      <td>0.0010</td>\n      <td>2020-10-16 12:40:13.342</td>\n    </tr>\n    <tr>\n      <th>4</th>\n      <td>1197500.0</td>\n      <td>SELL</td>\n      <td>0.0006</td>\n      <td>2020-10-16 12:38:29.971</td>\n    </tr>\n    <tr>\n      <th>...</th>\n      <td>...</td>\n      <td>...</td>\n      <td>...</td>\n      <td>...</td>\n    </tr>\n    <tr>\n      <th>93</th>\n      <td>1197000.0</td>\n      <td>BUY</td>\n      <td>0.0005</td>\n      <td>2020-10-16 12:06:47.091</td>\n    </tr>\n    <tr>\n      <th>94</th>\n      <td>1196999.0</td>\n      <td>SELL</td>\n      <td>0.1000</td>\n      <td>2020-10-16 12:06:27.524</td>\n    </tr>\n    <tr>\n      <th>95</th>\n      <td>1196999.0</td>\n      <td>BUY</td>\n      <td>0.1000</td>\n      <td>2020-10-16 12:06:27.524</td>\n    </tr>\n    <tr>\n      <th>96</th>\n      <td>1197000.0</td>\n      <td>BUY</td>\n      <td>0.0100</td>\n      <td>2020-10-16 12:06:16.611</td>\n    </tr>\n    <tr>\n      <th>97</th>\n      <td>1197000.0</td>\n      <td>BUY</td>\n      <td>0.0640</td>\n      <td>2020-10-16 12:05:39.810</td>\n    </tr>\n  </tbody>\n</table>\n<p>98 rows × 4 columns</p>\n</div>"
     },
     "metadata": {},
     "execution_count": 27
    }
   ],
   "source": [
    "data"
   ]
  },
  {
   "cell_type": "code",
   "execution_count": 29,
   "metadata": {},
   "outputs": [
    {
     "output_type": "execute_result",
     "data": {
      "text/plain": [
       "Empty DataFrame\n",
       "Columns: []\n",
       "Index: []"
      ],
      "text/html": "<div>\n<style scoped>\n    .dataframe tbody tr th:only-of-type {\n        vertical-align: middle;\n    }\n\n    .dataframe tbody tr th {\n        vertical-align: top;\n    }\n\n    .dataframe thead th {\n        text-align: right;\n    }\n</style>\n<table border=\"1\" class=\"dataframe\">\n  <thead>\n    <tr style=\"text-align: right;\">\n      <th></th>\n    </tr>\n  </thead>\n  <tbody>\n  </tbody>\n</table>\n</div>"
     },
     "metadata": {},
     "execution_count": 29
    }
   ],
   "source": [
    "data2"
   ]
  },
  {
   "cell_type": "code",
   "execution_count": 11,
   "metadata": {},
   "outputs": [],
   "source": [
    "# NOT !pip install websocket\n",
    "# !pip install websocket-client"
   ]
  }
 ]
}