{
 "metadata": {
  "language_info": {
   "codemirror_mode": {
    "name": "ipython",
    "version": 3
   },
   "file_extension": ".py",
   "mimetype": "text/x-python",
   "name": "python",
   "nbconvert_exporter": "python",
   "pygments_lexer": "ipython3",
   "version": "3.7.6-final"
  },
  "orig_nbformat": 2,
  "kernelspec": {
   "name": "Python 3.7.6 64-bit ('py37b')",
   "display_name": "Python 3.7.6 64-bit ('py37b')",
   "metadata": {
    "interpreter": {
     "hash": "edf7c2d5f0f70628fc224588ceca2c2113a9ef071d19ac3a0b9346fc3eba554c"
    }
   }
  }
 },
 "nbformat": 4,
 "nbformat_minor": 2,
 "cells": [
  {
   "cell_type": "code",
   "execution_count": 50,
   "metadata": {},
   "outputs": [
    {
     "output_type": "stream",
     "name": "stdout",
     "text": [
      "The autoreload extension is already loaded. To reload it, use:\n  %reload_ext autoreload\n"
     ]
    }
   ],
   "source": [
    "%load_ext autoreload\n",
    "%autoreload 2"
   ]
  },
  {
   "cell_type": "code",
   "execution_count": 1,
   "metadata": {
    "tags": []
   },
   "outputs": [],
   "source": [
    "import requests\n",
    "import json\n",
    "import urllib.parse\n",
    "import logging\n",
    "import logging.config\n",
    "\n",
    "import pandas as pd\n",
    "import numpy as np\n",
    "\n",
    "logging.config.fileConfig('./ini/logconfig.ini')\n",
    "logger = logging.getLogger(\"KULOKO\")"
   ]
  },
  {
   "cell_type": "code",
   "execution_count": 2,
   "metadata": {},
   "outputs": [],
   "source": [
    "import src.api_handler as api"
   ]
  },
  {
   "cell_type": "code",
   "execution_count": 3,
   "metadata": {},
   "outputs": [],
   "source": [
    "snapshot = {}\n",
    "sym = 'BTC'\n",
    "depth=5\n",
    "api_obj= api.API()\n",
    "orderbook = api.Orderbook()\n",
    "orderbook.rest_api = api_obj\n",
    "orderbook.sym =sym\n",
    "orderbook.depth =depth\n"
   ]
  },
  {
   "cell_type": "code",
   "execution_count": 4,
   "metadata": {},
   "outputs": [
    {
     "output_type": "execute_result",
     "data": {
      "text/plain": [
       "       price    size\n",
       "0  1202109.0  0.0750\n",
       "1  1202437.0  0.0066\n",
       "2  1202460.0  0.0083\n",
       "3  1202700.0  0.0500\n",
       "4  1202851.0  0.0110"
      ],
      "text/html": "<div>\n<style scoped>\n    .dataframe tbody tr th:only-of-type {\n        vertical-align: middle;\n    }\n\n    .dataframe tbody tr th {\n        vertical-align: top;\n    }\n\n    .dataframe thead th {\n        text-align: right;\n    }\n</style>\n<table border=\"1\" class=\"dataframe\">\n  <thead>\n    <tr style=\"text-align: right;\">\n      <th></th>\n      <th>price</th>\n      <th>size</th>\n    </tr>\n  </thead>\n  <tbody>\n    <tr>\n      <th>0</th>\n      <td>1202109.0</td>\n      <td>0.0750</td>\n    </tr>\n    <tr>\n      <th>1</th>\n      <td>1202437.0</td>\n      <td>0.0066</td>\n    </tr>\n    <tr>\n      <th>2</th>\n      <td>1202460.0</td>\n      <td>0.0083</td>\n    </tr>\n    <tr>\n      <th>3</th>\n      <td>1202700.0</td>\n      <td>0.0500</td>\n    </tr>\n    <tr>\n      <th>4</th>\n      <td>1202851.0</td>\n      <td>0.0110</td>\n    </tr>\n  </tbody>\n</table>\n</div>"
     },
     "metadata": {},
     "execution_count": 4
    }
   ],
   "source": [
    "df_snapshot = orderbook.fetch(return_type='dataframe')\n",
    "df_snapshot['data']['asks']"
   ]
  },
  {
   "cell_type": "code",
   "execution_count": 9,
   "metadata": {},
   "outputs": [
    {
     "output_type": "execute_result",
     "data": {
      "text/plain": [
       "{'status': 0,\n",
       " 'data': {'asks': [{'price': '1202340', 'size': '0.1487'},\n",
       "   {'price': '1202343', 'size': '0.3'},\n",
       "   {'price': '1202345', 'size': '0.6'},\n",
       "   {'price': '1202349', 'size': '0.3'},\n",
       "   {'price': '1202351', 'size': '0.01'}],\n",
       "  'bids': [{'price': '1201875', 'size': '0.2'},\n",
       "   {'price': '1201800', 'size': '1.0391'},\n",
       "   {'price': '1201500', 'size': '0.01'},\n",
       "   {'price': '1201000', 'size': '0.0084'},\n",
       "   {'price': '1200505', 'size': '0.4'}],\n",
       "  'symbol': 'BTC'},\n",
       " 'responsetime': '2020-10-14T10:16:33.536Z'}"
      ]
     },
     "metadata": {},
     "execution_count": 9
    }
   ],
   "source": [
    "json_orderbook = orderbook.fetch(return_type='raw')\n",
    "json_orderbook"
   ]
  },
  {
   "cell_type": "code",
   "execution_count": 5,
   "metadata": {},
   "outputs": [
    {
     "output_type": "execute_result",
     "data": {
      "text/plain": [
       "[datetime.datetime(2020, 10, 14, 11, 9, 30, 639000),\n",
       " 1201345.0,\n",
       " 0.2,\n",
       " 1201335.0,\n",
       " 0.4,\n",
       " 1201330.0,\n",
       " 0.3,\n",
       " 1201155.0,\n",
       " 0.2,\n",
       " 1201000.0,\n",
       " 10.0,\n",
       " 1201345.0,\n",
       " 0.2,\n",
       " 1201335.0,\n",
       " 0.4,\n",
       " 1201330.0,\n",
       " 0.3,\n",
       " 1201155.0,\n",
       " 0.2,\n",
       " 1201000.0,\n",
       " 10.0]"
      ]
     },
     "metadata": {},
     "execution_count": 5
    }
   ],
   "source": [
    "\n",
    "seq_orderbook = orderbook.fetch(return_type='seq')\n",
    "seq_orderbook"
   ]
  },
  {
   "cell_type": "code",
   "execution_count": 6,
   "metadata": {},
   "outputs": [
    {
     "output_type": "execute_result",
     "data": {
      "text/plain": [
       "{'time': datetime.datetime(2020, 10, 14, 11, 9, 33, 670000),\n",
       " 'bids0': 1201355.0,\n",
       " 'bids0_size': 0.2,\n",
       " 'bids1': 1201352.0,\n",
       " 'bids1_size': 0.4,\n",
       " 'bids2': 1201350.0,\n",
       " 'bids2_size': 0.2,\n",
       " 'bids3': 1201330.0,\n",
       " 'bids3_size': 0.1,\n",
       " 'bids4': 1201155.0,\n",
       " 'bids4_size': 0.2,\n",
       " 'asks0': 1201355.0,\n",
       " 'asks0_size': 0.2,\n",
       " 'asks1': 1201352.0,\n",
       " 'asks1_size': 0.4,\n",
       " 'asks2': 1201350.0,\n",
       " 'asks2_size': 0.2,\n",
       " 'asks3': 1201330.0,\n",
       " 'asks3_size': 0.1,\n",
       " 'asks4': 1201155.0,\n",
       " 'asks4_size': 0.2}"
      ]
     },
     "metadata": {},
     "execution_count": 6
    }
   ],
   "source": [
    "json_orderbook = orderbook.fetch(return_type='json')\n",
    "json_orderbook"
   ]
  },
  {
   "cell_type": "code",
   "execution_count": 12,
   "metadata": {
    "tags": []
   },
   "outputs": [],
   "source": [
    "tick = api.Ticks()\n",
    "tick.rest_api = api_obj\n",
    "tick.sym =sym\n"
   ]
  },
  {
   "cell_type": "code",
   "execution_count": 13,
   "metadata": {
    "tags": []
   },
   "outputs": [
    {
     "output_type": "execute_result",
     "data": {
      "text/plain": [
       "{'ask': 1202335.0,\n",
       " 'bid': 1201875.0,\n",
       " 'high': 1213150.0,\n",
       " 'last': 1201800.0,\n",
       " 'low': 1200210.0,\n",
       " 'volume': 236.9483,\n",
       " 'timestamp': datetime.datetime(2020, 10, 14, 10, 16, 35, 281000)}"
      ]
     },
     "metadata": {},
     "execution_count": 13
    }
   ],
   "source": [
    "data = tick.fetch(return_type='json')\n",
    "data"
   ]
  },
  {
   "cell_type": "code",
   "execution_count": 14,
   "metadata": {},
   "outputs": [
    {
     "output_type": "execute_result",
     "data": {
      "text/plain": [
       "{'status': 0,\n",
       " 'data': [{'ask': '1202335',\n",
       "   'bid': '1201875',\n",
       "   'high': '1213150',\n",
       "   'last': '1201800',\n",
       "   'low': '1200210',\n",
       "   'symbol': 'BTC',\n",
       "   'timestamp': '2020-10-14T10:16:35.281Z',\n",
       "   'volume': '236.9483'}],\n",
       " 'responsetime': '2020-10-14T10:16:36.217Z'}"
      ]
     },
     "metadata": {},
     "execution_count": 14
    }
   ],
   "source": [
    "data = tick.fetch(return_type='raw')\n",
    "data"
   ]
  },
  {
   "cell_type": "code",
   "execution_count": 94,
   "metadata": {},
   "outputs": [],
   "source": [
    "trade = api.Trade()\n",
    "trade.rest_api = api_obj\n",
    "trade.sym =sym\n"
   ]
  },
  {
   "cell_type": "code",
   "execution_count": 101,
   "metadata": {},
   "outputs": [],
   "source": [
    "data, _ = trade.fetch(\"dataframe\",time)"
   ]
  },
  {
   "cell_type": "code",
   "execution_count": 98,
   "metadata": {},
   "outputs": [
    {
     "output_type": "execute_result",
     "data": {
      "text/plain": [
       "Empty DataFrame\n",
       "Columns: []\n",
       "Index: []"
      ],
      "text/html": "<div>\n<style scoped>\n    .dataframe tbody tr th:only-of-type {\n        vertical-align: middle;\n    }\n\n    .dataframe tbody tr th {\n        vertical-align: top;\n    }\n\n    .dataframe thead th {\n        text-align: right;\n    }\n</style>\n<table border=\"1\" class=\"dataframe\">\n  <thead>\n    <tr style=\"text-align: right;\">\n      <th></th>\n    </tr>\n  </thead>\n  <tbody>\n  </tbody>\n</table>\n</div>"
     },
     "metadata": {},
     "execution_count": 98
    }
   ],
   "source": [
    "data"
   ]
  },
  {
   "cell_type": "code",
   "execution_count": null,
   "metadata": {},
   "outputs": [],
   "source": []
  },
  {
   "cell_type": "code",
   "execution_count": 11,
   "metadata": {},
   "outputs": [],
   "source": [
    "# NOT !pip install websocket\n",
    "# !pip install websocket-client"
   ]
  }
 ]
}