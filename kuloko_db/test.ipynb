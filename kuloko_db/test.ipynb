{
 "metadata": {
  "language_info": {
   "codemirror_mode": {
    "name": "ipython",
    "version": 3
   },
   "file_extension": ".py",
   "mimetype": "text/x-python",
   "name": "python",
   "nbconvert_exporter": "python",
   "pygments_lexer": "ipython3",
   "version": "3.7.6-final"
  },
  "orig_nbformat": 2,
  "kernelspec": {
   "name": "python3",
   "display_name": "Python 3"
  }
 },
 "nbformat": 4,
 "nbformat_minor": 2,
 "cells": [
  {
   "cell_type": "code",
   "execution_count": 19,
   "metadata": {},
   "outputs": [],
   "source": [
    "from pymongo import MongoClient\n",
    "import configparser\n",
    "import logging\n",
    "import logging.config\n",
    "\n",
    "os.environ['INIDIR'] = '/Users/macico/Dropbox/kaggle/kuloko/ini'\n",
    "os.environ['LOGDIR'] = '/Users/macico/Dropbox/kaggle/kuloko/log'\n",
    "INIDIR=os.environ['INIDIR'] \n",
    "LOGDIR=os.environ['LOGDIR'] \n",
    "mongo_ini = configparser.ConfigParser()\n",
    "mongo_ini.read(os.path.join(INIDIR,'db_config.ini'), encoding='utf-8')\n",
    "\n",
    "logging.config.fileConfig(os.path.join(INIDIR,'logconfig.ini'),defaults={'logfilename': os.path.join(LOGDIR,'logging.log')})\n",
    "logger = logging.getLogger(\"KULOKO\")"
   ]
  },
  {
   "cell_type": "code",
   "execution_count": 20,
   "metadata": {},
   "outputs": [
    {
     "output_type": "error",
     "ename": "SyntaxError",
     "evalue": "unexpected EOF while parsing (<ipython-input-20-aad4088ca71e>, line 3)",
     "traceback": [
      "\u001b[0;36m  File \u001b[0;32m\"<ipython-input-20-aad4088ca71e>\"\u001b[0;36m, line \u001b[0;32m3\u001b[0m\n\u001b[0;31m    \u001b[0m\n\u001b[0m    ^\u001b[0m\n\u001b[0;31mSyntaxError\u001b[0m\u001b[0;31m:\u001b[0m unexpected EOF while parsing\n"
     ]
    }
   ],
   "source": [
    "class MongoHandler:\n",
    "    def __init__(self):\n",
    "        "
   ]
  },
  {
   "cell_type": "code",
   "execution_count": 21,
   "metadata": {},
   "outputs": [
    {
     "output_type": "execute_result",
     "data": {
      "text/plain": [
       "'mongodb://localhost:27017/'"
      ]
     },
     "metadata": {},
     "execution_count": 21
    }
   ],
   "source": [
    "mongo_ini.get('LOCAL','host')"
   ]
  },
  {
   "cell_type": "code",
   "execution_count": 15,
   "metadata": {},
   "outputs": [
    {
     "output_type": "execute_result",
     "data": {
      "text/plain": [
       "'/Users/macico/Dropbox/kaggle/kuloko/ini/db_config.ini'"
      ]
     },
     "metadata": {},
     "execution_count": 15
    }
   ],
   "source": [
    "os.path.join(INIDIR,'db_config.ini')"
   ]
  },
  {
   "cell_type": "code",
   "execution_count": null,
   "metadata": {},
   "outputs": [],
   "source": []
  }
 ]
}