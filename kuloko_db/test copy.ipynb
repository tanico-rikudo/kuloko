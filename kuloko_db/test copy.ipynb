{
 "metadata": {
  "language_info": {
   "codemirror_mode": {
    "name": "ipython",
    "version": 3
   },
   "file_extension": ".py",
   "mimetype": "text/x-python",
   "name": "python",
   "nbconvert_exporter": "python",
   "pygments_lexer": "ipython3",
   "version": "3.7.6-final"
  },
  "orig_nbformat": 2,
  "kernelspec": {
   "name": "python3",
   "display_name": "Python 3"
  }
 },
 "nbformat": 4,
 "nbformat_minor": 2,
 "cells": [
  {
   "cell_type": "code",
   "execution_count": 1,
   "metadata": {},
   "outputs": [],
   "source": [
    "%load_ext autoreload\n",
    "%autoreload 2"
   ]
  },
  {
   "cell_type": "code",
   "execution_count": 2,
   "metadata": {},
   "outputs": [],
   "source": [
    "from pymongo import MongoClient\n",
    "import configparser\n",
    "import logging\n",
    "import logging.config\n",
    "sys.path.append(os.path.join(os.path.dirname('__file__'),'..'))\n",
    "os.environ['INIDIR'] = '/Users/macico/Dropbox/kaggle/kuloko/ini'\n",
    "os.environ['LOGDIR'] = '/Users/macico/Dropbox/kaggle/kuloko/log'\n",
    "INIDIR=os.environ['INIDIR'] \n",
    "LOGDIR=os.environ['LOGDIR'] \n",
    "\n",
    "logging.config.fileConfig(os.path.join(INIDIR,'logconfig.ini'),defaults={'logfilename': os.path.join(LOGDIR,'logging.log')})\n",
    "logger = logging.getLogger(\"KULOKO\")\n"
   ]
  },
  {
   "cell_type": "code",
   "execution_count": 3,
   "metadata": {},
   "outputs": [],
   "source": [
    "mongo_ini = configparser.ConfigParser()\n",
    "mongo_ini.read(os.path.join(INIDIR,'db_config.ini'), encoding='utf-8')\n",
    "\n",
    "from src.mongo_handler import MongoHandler"
   ]
  },
  {
   "cell_type": "code",
   "execution_count": 4,
   "metadata": {},
   "outputs": [
    {
     "output_type": "execute_result",
     "data": {
      "text/plain": [
       "['/Users/macico/Dropbox/kaggle/kuloko/ini/config.ini']"
      ]
     },
     "metadata": {},
     "execution_count": 4
    }
   ],
   "source": [
    "\n",
    "import  kuloko_handler.handler.socket_handler as skt_api\n",
    "\n",
    "private_api_ini = configparser.ConfigParser()\n",
    "private_api_ini.read(os.path.join(INIDIR,'private_api.ini'), encoding='utf-8')\n",
    "\n",
    "general_config_ini = configparser.ConfigParser()\n",
    "general_config_ini.read(os.path.join(INIDIR,'config.ini'), encoding='utf-8')\n"
   ]
  },
  {
   "cell_type": "code",
   "execution_count": 5,
   "metadata": {},
   "outputs": [],
   "source": [
    "mongo_db = MongoHandler(mongo_ini['LOCAL'],\"orderbook\")"
   ]
  },
  {
   "cell_type": "code",
   "execution_count": 6,
   "metadata": {},
   "outputs": [],
   "source": [
    "# mongo_db.db['orderbook'].insert_one({\"test\":\"rrr\"})"
   ]
  },
  {
   "cell_type": "code",
   "execution_count": 7,
   "metadata": {
    "tags": []
   },
   "outputs": [],
   "source": [
    "for db_data in mongo_db.db['orderbook'].find():\n",
    "    print(db_data)"
   ]
  },
  {
   "cell_type": "code",
   "execution_count": 8,
   "metadata": {},
   "outputs": [],
   "source": [
    "mongo_db.db['orderbook'].find_one()"
   ]
  },
  {
   "cell_type": "code",
   "execution_count": 9,
   "metadata": {},
   "outputs": [],
   "source": [
    "mongo_db.delete_all()\n"
   ]
  },
  {
   "cell_type": "code",
   "execution_count": 9,
   "metadata": {},
   "outputs": [],
   "source": []
  },
  {
   "cell_type": "code",
   "execution_count": 10,
   "metadata": {},
   "outputs": [],
   "source": []
  },
  {
   "cell_type": "code",
   "execution_count": 9,
   "metadata": {},
   "outputs": [],
   "source": [
    "orderbooks = skt_api.Orderbooks(logger, general_config_ini,private_api_ini)\n",
    "orderbooks.connect(orderbooks.get_url(),'BTC')\n",
    "orderbooks.subscribe()\n",
    "mongo_db = MongoHandler(mongo_ini['LOCAL'],\"orderbook\")"
   ]
  },
  {
   "cell_type": "code",
   "execution_count": 7,
   "metadata": {},
   "outputs": [
    {
     "output_type": "stream",
     "name": "stderr",
     "text": [
      "--- request header ---\n",
      "GET /ws/public/v1 HTTP/1.1\n",
      "Upgrade: websocket\n",
      "Host: api.coin.z.com\n",
      "Origin: http://api.coin.z.com\n",
      "Sec-WebSocket-Key: lLzfc3L8fSUWHSXXD97opw==\n",
      "Sec-WebSocket-Version: 13\n",
      "Connection: upgrade\n",
      "\n",
      "\n",
      "-----------------------\n",
      "--- response header ---\n",
      "HTTP/1.1 101 Switching Protocols\n",
      "Date: Thu, 03 Dec 2020 22:22:41 GMT\n",
      "Connection: upgrade\n",
      "Upgrade: websocket\n",
      "Sec-WebSocket-Accept: aayvBySahyDt+vE3sVDqZVM4Mu4=\n",
      "X-Cache: Miss from cloudfront\n",
      "Via: 1.1 53d9d56dd0a523b5894842ad66a68756.cloudfront.net (CloudFront)\n",
      "X-Amz-Cf-Pop: NRT57-C2\n",
      "X-Amz-Cf-Id: l9yvzPhPEVO4kvCAszcwn0fn5ANnPXdsjJS5nJqrqN1ycAwhIMbWFQ==\n",
      "-----------------------\n",
      "send: b'\\x81\\xc2\\x0cV\\xda\\xe2wt\\xb9\\x8da;\\xbb\\x8cht\\xe0\\xc2.%\\xaf\\x80\\x7f5\\xa8\\x8bn3\\xf8\\xce,t\\xb9\\x8am8\\xb4\\x87`t\\xe0\\xc2.9\\xa8\\x86i$\\xb8\\x8dc=\\xa9\\xc0 v\\xf8\\x91u;\\xb8\\x8d`t\\xe0\\xc2.\\x14\\x8e\\xa1.+'\n",
      "send: b'\\x8a\\x804\\xb1\\x9f\\x7f'\n",
      "send: b'\\x8a\\x80l\\xa6*\\x7f'\n",
      "send: b'\\x8a\\x80\\xdcaqC'\n",
      "send: b'\\x8a\\x80\\xa8\\xeb\\xe2\\xa1'\n",
      "send: b'\\x8a\\x80i\\x88-N'\n",
      "send: b'\\x8a\\x80\\xf9`\\xba\\xbb'\n",
      "send: b'\\x8a\\x80@Q\\x18E'\n",
      "send: b'\\x8a\\x80\\xf2\\xbd\\xb6o'\n",
      "send: b\"\\x8a\\x80'\\xa2\\xbb\\x0f\"\n",
      "send: b'\\x8a\\x80\\xa0g\\x1a]'\n",
      "send: b'\\x8a\\x80\\xa6\\xe2\\xb3r'\n",
      "send: b'\\x8a\\x80\\xf5\\xacsO'\n",
      "send: b'\\x8a\\x80\\xc6\\xde=\\xd5'\n",
      "send: b'\\x8a\\x80\\xc3\\xeeF\\xe9'\n",
      "send: b'\\x8a\\x80\\x80\\x8a[\\xeb'\n",
      "send: b'\\x8a\\x80\\xccE\\x84C'\n",
      "send: b'\\x8a\\x80\\x97\\xfdZZ'\n",
      "send: b'\\x8a\\x80Y\\xa5\\xa1\\xd0'\n",
      "send: b'\\x8a\\x80F?t\\xff'\n",
      "send: b'\\x8a\\x80\\x99\\xecc\\xef'\n",
      "send: b'\\x8a\\x80\\xeb\\xd5\\x88\\x1b'\n",
      "send: b'\\x8a\\x80\\xd6\\xcabn'\n",
      "send: b'\\x8a\\x80\\x84\\xb8\\x19B'\n",
      "send: b'\\x8a\\x80\\x15\\x06\\xdd\\xd5'\n",
      "send: b'\\x8a\\x804a\\x03\\xcb'\n",
      "send: b'\\x8a\\x80\\xa9\\x85\\x8a\\r'\n",
      "send: b'\\x8a\\x80\\xc0XC%'\n",
      "send: b'\\x8a\\x80\\xb7\\xa5\\xab\\x08'\n",
      "send: b'\\x8a\\x80\\xe2J\\x8a\\x1d'\n",
      "send: b'\\x8a\\x80a?\\xa4X'\n",
      "send: b'\\x8a\\x80\\xd1\\x1b\\xb3\\xe6'\n",
      "send: b'\\x8a\\x80\\xe1\\xbe#w'\n",
      "send: b'\\x8a\\x80d\\xe8|,'\n",
      "send: b'\\x8a\\x80\\x86=\\x98^'\n",
      "send: b'\\x8a\\x80\\x86\\x9e\\x87\\x90'\n",
      "send: b'\\x8a\\x80\\xd8Y&h'\n",
      "send: b'\\x8a\\x80/\\xb8R\\x88'\n",
      "send: b'\\x8a\\x80\\xbf\\xa8Z\\x0c'\n",
      "send: b'\\x8a\\x80\\xc11K^'\n",
      "send: b'\\x8a\\x80\\xb6\\xd77\\x99'\n",
      "send: b'\\x8a\\x80\\x01\\xd3\\x08}'\n",
      "send: b'\\x8a\\x80\\xf2\\x03z\\x85'\n",
      "send: b'\\x8a\\x80\\xa4\\x97(\\xdf'\n",
      "send: b'\\x8a\\x80\\xf8\\xc9)\\xd0'\n",
      "send: b'\\x8a\\x80i\\xac|7'\n",
      "send: b'\\x8a\\x80\\xb9D\\xb4\\x8d'\n",
      "send: b'\\x8a\\x80\\xcc\\xe22\\xb5'\n",
      "send: b'\\x8a\\x80\\xc4\\xa5\\x9a\\xa2'\n",
      "send: b'\\x8a\\x80@\\x9e>\\x91'\n",
      "send: b'\\x8a\\x80\\xd4{E6'\n",
      "send: b'\\x8a\\x80\\x00\\x1cL\\xa3'\n"
     ]
    },
    {
     "output_type": "error",
     "ename": "KeyboardInterrupt",
     "evalue": "",
     "traceback": [
      "\u001b[0;31m---------------------------------------------------------------------------\u001b[0m",
      "\u001b[0;31mKeyboardInterrupt\u001b[0m                         Traceback (most recent call last)",
      "\u001b[0;32m<ipython-input-7-0ca6eb22b338>\u001b[0m in \u001b[0;36m<module>\u001b[0;34m\u001b[0m\n\u001b[1;32m      9\u001b[0m         \u001b[0minsert_json\u001b[0m \u001b[0;34m=\u001b[0m\u001b[0;34m[\u001b[0m \u001b[0morderbooks\u001b[0m\u001b[0;34m.\u001b[0m\u001b[0mconvert_shape\u001b[0m\u001b[0;34m(\u001b[0m\u001b[0m_data\u001b[0m\u001b[0;34m,\u001b[0m\u001b[0;36m5\u001b[0m\u001b[0;34m,\u001b[0m\u001b[0;34m\"json\"\u001b[0m\u001b[0;34m)\u001b[0m \u001b[0;32mfor\u001b[0m \u001b[0m_data\u001b[0m \u001b[0;32min\u001b[0m \u001b[0mdata\u001b[0m \u001b[0;34m]\u001b[0m\u001b[0;34m\u001b[0m\u001b[0;34m\u001b[0m\u001b[0m\n\u001b[1;32m     10\u001b[0m         \u001b[0mmongo_db\u001b[0m\u001b[0;34m.\u001b[0m\u001b[0minsert_many\u001b[0m\u001b[0;34m(\u001b[0m\u001b[0minsert_json\u001b[0m\u001b[0;34m)\u001b[0m\u001b[0;34m\u001b[0m\u001b[0;34m\u001b[0m\u001b[0m\n\u001b[0;32m---> 11\u001b[0;31m         \u001b[0mtime\u001b[0m\u001b[0;34m.\u001b[0m\u001b[0msleep\u001b[0m\u001b[0;34m(\u001b[0m\u001b[0;36m5\u001b[0m\u001b[0;34m)\u001b[0m\u001b[0;34m\u001b[0m\u001b[0;34m\u001b[0m\u001b[0m\n\u001b[0m\u001b[1;32m     12\u001b[0m     \u001b[0;32mexcept\u001b[0m \u001b[0mException\u001b[0m \u001b[0;32mas\u001b[0m \u001b[0me\u001b[0m\u001b[0;34m:\u001b[0m\u001b[0;34m\u001b[0m\u001b[0;34m\u001b[0m\u001b[0m\n\u001b[1;32m     13\u001b[0m         \u001b[0;32mif\u001b[0m \u001b[0mretry_cnt\u001b[0m \u001b[0;34m<\u001b[0m \u001b[0mmax_retry_cnt\u001b[0m\u001b[0;34m:\u001b[0m\u001b[0;34m\u001b[0m\u001b[0;34m\u001b[0m\u001b[0m\n",
      "\u001b[0;31mKeyboardInterrupt\u001b[0m: "
     ]
    }
   ],
   "source": [
    "import time\n",
    "retry_cnt=0\n",
    "max_retry_cnt=60\n",
    "while True:\n",
    "    try:\n",
    "        data = orderbooks.get()\n",
    "        if len(data)==0:\n",
    "            continue\n",
    "        insert_json =[ orderbooks.convert_shape(_data,5,\"json\") for _data in data ]\n",
    "        mongo_db.insert_many(insert_json)\n",
    "        time.sleep(5)\n",
    "    except Exception as e:\n",
    "        if retry_cnt < max_retry_cnt:\n",
    "            continue\n",
    "        print(\"DONE\",e)\n",
    "        break\n"
   ]
  },
  {
   "cell_type": "code",
   "execution_count": 10,
   "metadata": {},
   "outputs": [
    {
     "output_type": "stream",
     "name": "stderr",
     "text": [
      "send: b'\\x88\\x82\\xbc\\xbb\\xb8S\\xbfS'\n",
      "error from callback <bound method Socket.on_close of <kuloko_handler.handler.socket_handler.Orderbooks object at 0x1169a2590>>: Connection is already closed.\n",
      "  File \"/Users/macico/.pyenv/versions/py37b/lib/python3.7/site-packages/websocket/_app.py\", line 344, in _callback\n",
      "    callback(*args)\n",
      "  File \"../kuloko_handler/handler/socket_handler.py\", line 134, in on_close\n",
      "    self.ws.send(json.dumps(message))\n",
      "  File \"/Users/macico/.pyenv/versions/py37b/lib/python3.7/site-packages/websocket/_app.py\", line 156, in send\n",
      "    \"Connection is already closed.\")\n"
     ]
    }
   ],
   "source": [
    "orderbooks.disconnect()"
   ]
  },
  {
   "cell_type": "code",
   "execution_count": null,
   "metadata": {},
   "outputs": [],
   "source": [
    "orderbooks.disconnect()"
   ]
  },
  {
   "cell_type": "code",
   "execution_count": 17,
   "metadata": {},
   "outputs": [],
   "source": [
    "data = orderbooks.get()"
   ]
  },
  {
   "cell_type": "code",
   "execution_count": 18,
   "metadata": {},
   "outputs": [
    {
     "output_type": "execute_result",
     "data": {
      "text/plain": [
       "[]"
      ]
     },
     "metadata": {},
     "execution_count": 18
    }
   ],
   "source": [
    "data"
   ]
  },
  {
   "cell_type": "code",
   "execution_count": null,
   "metadata": {},
   "outputs": [],
   "source": []
  }
 ]
}