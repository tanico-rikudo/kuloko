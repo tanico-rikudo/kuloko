{
 "metadata": {
  "language_info": {
   "codemirror_mode": {
    "name": "ipython",
    "version": 3
   },
   "file_extension": ".py",
   "mimetype": "text/x-python",
   "name": "python",
   "nbconvert_exporter": "python",
   "pygments_lexer": "ipython3",
   "version": "3.7.6-final"
  },
  "orig_nbformat": 2,
  "kernelspec": {
   "name": "python3",
   "display_name": "Python 3.7.6 64-bit ('py37b': venv)",
   "metadata": {
    "interpreter": {
     "hash": "edf7c2d5f0f70628fc224588ceca2c2113a9ef071d19ac3a0b9346fc3eba554c"
    }
   }
  }
 },
 "nbformat": 4,
 "nbformat_minor": 2,
 "cells": [
  {
   "cell_type": "code",
   "execution_count": 1,
   "metadata": {},
   "outputs": [],
   "source": [
    "%load_ext autoreload\n",
    "%autoreload 2"
   ]
  },
  {
   "cell_type": "code",
   "execution_count": 2,
   "metadata": {},
   "outputs": [],
   "source": [
    "import requests\n",
    "import json\n",
    "import urllib.parse\n",
    "import logging\n",
    "import logging.config\n",
    "\n",
    "import pandas as pd\n",
    "import numpy as np\n",
    "os.environ['INIDIR'] = '/Users/macico/Dropbox/btc/kuloko/ini'\n",
    "os.environ['LOGDIR'] = '/Users/macico/Dropbox/btc/kuloko/log'\n",
    "INIDIR=os.environ['INIDIR'] \n",
    "LOGDIR=os.environ['LOGDIR'] \n"
   ]
  },
  {
   "cell_type": "code",
   "execution_count": 3,
   "metadata": {},
   "outputs": [],
   "source": [
    "import configparser\n",
    "\n",
    "sys.path.append(os.path.join(os.path.dirname('__file__'),'..'))\n",
    "import  kuloko_handler.handler.api_handler as api\n",
    "private_api_ini = configparser.ConfigParser()\n",
    "private_api_ini.read(os.path.join(INIDIR,'private_api.ini'), encoding='utf-8')\n",
    "\n",
    "general_config_ini = configparser.ConfigParser()\n",
    "general_config_ini.read(os.path.join(INIDIR,'config.ini'), encoding='utf-8')\n",
    "\n",
    "logging.config.fileConfig(os.path.join(INIDIR,'logconfig.ini'),defaults={'logfilename': os.path.join(LOGDIR,'logging.log')})\n",
    "logger = logging.getLogger(\"KULOKO\")\n"
   ]
  },
  {
   "cell_type": "code",
   "execution_count": 4,
   "metadata": {},
   "outputs": [],
   "source": [
    "sym='MNG'\n",
    "margin = api.Margin(sym,logger,general_config_ini ,private_api_ini)"
   ]
  },
  {
   "cell_type": "code",
   "execution_count": 5,
   "metadata": {},
   "outputs": [],
   "source": [
    "a = margin.fetch('json')"
   ]
  },
  {
   "cell_type": "code",
   "execution_count": 6,
   "metadata": {},
   "outputs": [
    {
     "output_type": "execute_result",
     "data": {
      "text/plain": [
       "{'actualProfitLoss': 4838.0,\n",
       " 'availableAmount': 4838.0,\n",
       " 'margin': 0.0,\n",
       " 'profitLoss': 0.0}"
      ]
     },
     "metadata": {},
     "execution_count": 6
    }
   ],
   "source": [
    "a"
   ]
  },
  {
   "cell_type": "code",
   "execution_count": 7,
   "metadata": {},
   "outputs": [
    {
     "output_type": "execute_result",
     "data": {
      "text/plain": [
       "actualProfitLoss    4838.0\n",
       "availableAmount     4838.0\n",
       "margin                 0.0\n",
       "profitLoss             0.0\n",
       "dtype: float64"
      ]
     },
     "metadata": {},
     "execution_count": 7
    }
   ],
   "source": [
    "margin.fetch('dataframe')"
   ]
  },
  {
   "cell_type": "code",
   "execution_count": 8,
   "metadata": {},
   "outputs": [],
   "source": [
    "assets = api.Assets(sym,logger,general_config_ini ,private_api_ini)"
   ]
  },
  {
   "cell_type": "code",
   "execution_count": 10,
   "metadata": {},
   "outputs": [
    {
     "output_type": "execute_result",
     "data": {
      "text/plain": [
       "{'JPY': {'amount': 4838.0,\n",
       "  'available': 4838.0,\n",
       "  'conversionRate': 1.0,\n",
       "  'symbol': 'JPY'},\n",
       " 'BTC': {'amount': 0.3658,\n",
       "  'available': 0.3658,\n",
       "  'conversionRate': 1943139.0,\n",
       "  'symbol': 'BTC'},\n",
       " 'ETH': {'amount': 0.0,\n",
       "  'available': 0.0,\n",
       "  'conversionRate': 58863.0,\n",
       "  'symbol': 'ETH'},\n",
       " 'BCH': {'amount': 0.0,\n",
       "  'available': 0.0,\n",
       "  'conversionRate': 26976.0,\n",
       "  'symbol': 'BCH'},\n",
       " 'LTC': {'amount': 0.0,\n",
       "  'available': 0.0,\n",
       "  'conversionRate': 8005.0,\n",
       "  'symbol': 'LTC'},\n",
       " 'XRP': {'amount': 0.0,\n",
       "  'available': 0.0,\n",
       "  'conversionRate': 49.939,\n",
       "  'symbol': 'XRP'},\n",
       " 'XEM': {'amount': 0.0,\n",
       "  'available': 0.0,\n",
       "  'conversionRate': 23.766,\n",
       "  'symbol': 'XEM'},\n",
       " 'XLM': {'amount': 0.0,\n",
       "  'available': 0.0,\n",
       "  'conversionRate': 16.669,\n",
       "  'symbol': 'XLM'},\n",
       " 'BAT': {'amount': 0.0,\n",
       "  'available': 0.0,\n",
       "  'conversionRate': 20.95,\n",
       "  'symbol': 'BAT'},\n",
       " 'OMG': {'amount': 0.0,\n",
       "  'available': 0.0,\n",
       "  'conversionRate': 314.451,\n",
       "  'symbol': 'OMG'}}"
      ]
     },
     "metadata": {},
     "execution_count": 10
    }
   ],
   "source": [
    "assets.fetch('json')"
   ]
  },
  {
   "cell_type": "code",
   "execution_count": 13,
   "metadata": {},
   "outputs": [
    {
     "output_type": "execute_result",
     "data": {
      "text/plain": [
       "       amount   available  conversionRate symbol\n",
       "0  93328.0000  93328.0000           1.000    JPY\n",
       "1      0.2158      0.2158     1660374.000    BTC\n",
       "2      0.0000      0.0000       47601.000    ETH\n",
       "3      0.0000      0.0000       26124.000    BCH\n",
       "4      0.0000      0.0000        6384.000    LTC\n",
       "5      0.0000      0.0000          26.183    XRP\n",
       "6      0.0000      0.0000          13.031    XEM\n",
       "7      0.0000      0.0000           8.047    XLM\n",
       "8      0.0000      0.0000          19.916    BAT\n",
       "9      0.0000      0.0000         349.024    OMG"
      ],
      "text/html": "<div>\n<style scoped>\n    .dataframe tbody tr th:only-of-type {\n        vertical-align: middle;\n    }\n\n    .dataframe tbody tr th {\n        vertical-align: top;\n    }\n\n    .dataframe thead th {\n        text-align: right;\n    }\n</style>\n<table border=\"1\" class=\"dataframe\">\n  <thead>\n    <tr style=\"text-align: right;\">\n      <th></th>\n      <th>amount</th>\n      <th>available</th>\n      <th>conversionRate</th>\n      <th>symbol</th>\n    </tr>\n  </thead>\n  <tbody>\n    <tr>\n      <th>0</th>\n      <td>93328.0000</td>\n      <td>93328.0000</td>\n      <td>1.000</td>\n      <td>JPY</td>\n    </tr>\n    <tr>\n      <th>1</th>\n      <td>0.2158</td>\n      <td>0.2158</td>\n      <td>1660374.000</td>\n      <td>BTC</td>\n    </tr>\n    <tr>\n      <th>2</th>\n      <td>0.0000</td>\n      <td>0.0000</td>\n      <td>47601.000</td>\n      <td>ETH</td>\n    </tr>\n    <tr>\n      <th>3</th>\n      <td>0.0000</td>\n      <td>0.0000</td>\n      <td>26124.000</td>\n      <td>BCH</td>\n    </tr>\n    <tr>\n      <th>4</th>\n      <td>0.0000</td>\n      <td>0.0000</td>\n      <td>6384.000</td>\n      <td>LTC</td>\n    </tr>\n    <tr>\n      <th>5</th>\n      <td>0.0000</td>\n      <td>0.0000</td>\n      <td>26.183</td>\n      <td>XRP</td>\n    </tr>\n    <tr>\n      <th>6</th>\n      <td>0.0000</td>\n      <td>0.0000</td>\n      <td>13.031</td>\n      <td>XEM</td>\n    </tr>\n    <tr>\n      <th>7</th>\n      <td>0.0000</td>\n      <td>0.0000</td>\n      <td>8.047</td>\n      <td>XLM</td>\n    </tr>\n    <tr>\n      <th>8</th>\n      <td>0.0000</td>\n      <td>0.0000</td>\n      <td>19.916</td>\n      <td>BAT</td>\n    </tr>\n    <tr>\n      <th>9</th>\n      <td>0.0000</td>\n      <td>0.0000</td>\n      <td>349.024</td>\n      <td>OMG</td>\n    </tr>\n  </tbody>\n</table>\n</div>"
     },
     "metadata": {},
     "execution_count": 13
    }
   ],
   "source": [
    "assets.fetch('dataframe')"
   ]
  },
  {
   "cell_type": "code",
   "execution_count": 15,
   "metadata": {},
   "outputs": [],
   "source": [
    "sym ='BTC'\n",
    "orders = api.Orders(sym,logger,general_config_ini ,private_api_ini)"
   ]
  },
  {
   "cell_type": "code",
   "execution_count": 16,
   "metadata": {},
   "outputs": [
    {
     "output_type": "execute_result",
     "data": {
      "text/plain": [
       "[{'executedSize': 0.0,\n",
       "  'executionType': 'LIMIT',\n",
       "  'losscutPrice': 0.0,\n",
       "  'orderId': 742371314,\n",
       "  'orderType': 'NORMAL',\n",
       "  'price': 611000.0,\n",
       "  'rootOrderId': 742371314,\n",
       "  'settleType': 'OPEN',\n",
       "  'side': 'BUY',\n",
       "  'size': 0.0083,\n",
       "  'status': 'ORDERED',\n",
       "  'symbol': 'BTC',\n",
       "  'timeInForce': 'FAS',\n",
       "  'timestamp': '20200319021027345000'}]"
      ]
     },
     "metadata": {},
     "execution_count": 16
    }
   ],
   "source": [
    "orders.fetch_active(sym,'json')"
   ]
  },
  {
   "cell_type": "code",
   "execution_count": 17,
   "metadata": {},
   "outputs": [
    {
     "output_type": "execute_result",
     "data": {
      "text/plain": [
       "   executedSize executionType  losscutPrice    orderId orderType     price  \\\n",
       "0           0.0         LIMIT           0.0  742371314    NORMAL  611000.0   \n",
       "\n",
       "   rootOrderId settleType side    size   status symbol timeInForce  \\\n",
       "0    742371314       OPEN  BUY  0.0083  ORDERED    BTC         FAS   \n",
       "\n",
       "                         timestamp  \n",
       "0 2020-03-19 02:10:27.345000+00:00  "
      ],
      "text/html": "<div>\n<style scoped>\n    .dataframe tbody tr th:only-of-type {\n        vertical-align: middle;\n    }\n\n    .dataframe tbody tr th {\n        vertical-align: top;\n    }\n\n    .dataframe thead th {\n        text-align: right;\n    }\n</style>\n<table border=\"1\" class=\"dataframe\">\n  <thead>\n    <tr style=\"text-align: right;\">\n      <th></th>\n      <th>executedSize</th>\n      <th>executionType</th>\n      <th>losscutPrice</th>\n      <th>orderId</th>\n      <th>orderType</th>\n      <th>price</th>\n      <th>rootOrderId</th>\n      <th>settleType</th>\n      <th>side</th>\n      <th>size</th>\n      <th>status</th>\n      <th>symbol</th>\n      <th>timeInForce</th>\n      <th>timestamp</th>\n    </tr>\n  </thead>\n  <tbody>\n    <tr>\n      <th>0</th>\n      <td>0.0</td>\n      <td>LIMIT</td>\n      <td>0.0</td>\n      <td>742371314</td>\n      <td>NORMAL</td>\n      <td>611000.0</td>\n      <td>742371314</td>\n      <td>OPEN</td>\n      <td>BUY</td>\n      <td>0.0083</td>\n      <td>ORDERED</td>\n      <td>BTC</td>\n      <td>FAS</td>\n      <td>2020-03-19 02:10:27.345000+00:00</td>\n    </tr>\n  </tbody>\n</table>\n</div>"
     },
     "metadata": {},
     "execution_count": 17
    }
   ],
   "source": [
    "orders.fetch_active(sym,'dataframe')"
   ]
  },
  {
   "cell_type": "code",
   "execution_count": 18,
   "metadata": {},
   "outputs": [
    {
     "output_type": "execute_result",
     "data": {
      "text/plain": [
       "[{'executedSize': 0.0,\n",
       "  'executionType': 'LIMIT',\n",
       "  'losscutPrice': 0.0,\n",
       "  'orderId': 742371314,\n",
       "  'orderType': 'NORMAL',\n",
       "  'price': 611000.0,\n",
       "  'rootOrderId': 742371314,\n",
       "  'settleType': 'OPEN',\n",
       "  'side': 'BUY',\n",
       "  'size': 0.0083,\n",
       "  'status': 'ORDERED',\n",
       "  'symbol': 'BTC',\n",
       "  'timeInForce': 'FAS',\n",
       "  'timestamp': '20200319021027345000'}]"
      ]
     },
     "metadata": {},
     "execution_count": 18
    }
   ],
   "source": [
    "orders.fetch_by_orderId(742371314, 'json')"
   ]
  },
  {
   "cell_type": "code",
   "execution_count": 19,
   "metadata": {},
   "outputs": [
    {
     "output_type": "execute_result",
     "data": {
      "text/plain": [
       "   executedSize executionType  losscutPrice    orderId orderType     price  \\\n",
       "0           0.0         LIMIT           0.0  742371314    NORMAL  611000.0   \n",
       "\n",
       "   rootOrderId settleType side    size   status symbol timeInForce  \\\n",
       "0    742371314       OPEN  BUY  0.0083  ORDERED    BTC         FAS   \n",
       "\n",
       "                         timestamp  \n",
       "0 2020-03-19 02:10:27.345000+00:00  "
      ],
      "text/html": "<div>\n<style scoped>\n    .dataframe tbody tr th:only-of-type {\n        vertical-align: middle;\n    }\n\n    .dataframe tbody tr th {\n        vertical-align: top;\n    }\n\n    .dataframe thead th {\n        text-align: right;\n    }\n</style>\n<table border=\"1\" class=\"dataframe\">\n  <thead>\n    <tr style=\"text-align: right;\">\n      <th></th>\n      <th>executedSize</th>\n      <th>executionType</th>\n      <th>losscutPrice</th>\n      <th>orderId</th>\n      <th>orderType</th>\n      <th>price</th>\n      <th>rootOrderId</th>\n      <th>settleType</th>\n      <th>side</th>\n      <th>size</th>\n      <th>status</th>\n      <th>symbol</th>\n      <th>timeInForce</th>\n      <th>timestamp</th>\n    </tr>\n  </thead>\n  <tbody>\n    <tr>\n      <th>0</th>\n      <td>0.0</td>\n      <td>LIMIT</td>\n      <td>0.0</td>\n      <td>742371314</td>\n      <td>NORMAL</td>\n      <td>611000.0</td>\n      <td>742371314</td>\n      <td>OPEN</td>\n      <td>BUY</td>\n      <td>0.0083</td>\n      <td>ORDERED</td>\n      <td>BTC</td>\n      <td>FAS</td>\n      <td>2020-03-19 02:10:27.345000+00:00</td>\n    </tr>\n  </tbody>\n</table>\n</div>"
     },
     "metadata": {},
     "execution_count": 19
    }
   ],
   "source": [
    "orders.fetch_by_orderId(742371314, 'dataframe')"
   ]
  },
  {
   "cell_type": "code",
   "execution_count": null,
   "metadata": {},
   "outputs": [],
   "source": []
  },
  {
   "cell_type": "code",
   "execution_count": null,
   "metadata": {},
   "outputs": [],
   "source": []
  },
  {
   "cell_type": "code",
   "execution_count": null,
   "metadata": {},
   "outputs": [],
   "source": []
  },
  {
   "cell_type": "code",
   "execution_count": null,
   "metadata": {},
   "outputs": [],
   "source": []
  },
  {
   "cell_type": "code",
   "execution_count": null,
   "metadata": {},
   "outputs": [],
   "source": []
  },
  {
   "cell_type": "code",
   "execution_count": 21,
   "metadata": {},
   "outputs": [],
   "source": [
    "executions = api.Executions(sym,logger,general_config_ini ,private_api_ini)"
   ]
  },
  {
   "cell_type": "code",
   "execution_count": 22,
   "metadata": {},
   "outputs": [
    {
     "output_type": "execute_result",
     "data": {
      "text/plain": [
       "[{'executionId': 203730144,\n",
       "  'fee': 43.0,\n",
       "  'lossGain': 0.0,\n",
       "  'orderId': 994380652,\n",
       "  'price': 1713770.0,\n",
       "  'settleType': 'OPEN',\n",
       "  'side': 'BUY',\n",
       "  'size': 0.05,\n",
       "  'symbol': 'BTC',\n",
       "  'timestamp': '20201112135108762000'},\n",
       " {'executionId': 203687790,\n",
       "  'fee': 9.0,\n",
       "  'lossGain': 0.0,\n",
       "  'orderId': 994311586,\n",
       "  'price': 1700551.0,\n",
       "  'settleType': 'OPEN',\n",
       "  'side': 'SELL',\n",
       "  'size': 0.01,\n",
       "  'symbol': 'BTC',\n",
       "  'timestamp': '20201112124655069000'},\n",
       " {'executionId': 203687562,\n",
       "  'fee': 9.0,\n",
       "  'lossGain': 0.0,\n",
       "  'orderId': 994311132,\n",
       "  'price': 1700550.0,\n",
       "  'settleType': 'OPEN',\n",
       "  'side': 'SELL',\n",
       "  'size': 0.01,\n",
       "  'symbol': 'BTC',\n",
       "  'timestamp': '20201112122819805000'},\n",
       " {'executionId': 203687533,\n",
       "  'fee': 9.0,\n",
       "  'lossGain': 0.0,\n",
       "  'orderId': 994311060,\n",
       "  'price': 1699421.0,\n",
       "  'settleType': 'OPEN',\n",
       "  'side': 'SELL',\n",
       "  'size': 0.01,\n",
       "  'symbol': 'BTC',\n",
       "  'timestamp': '20201112122525473000'},\n",
       " {'executionId': 203488518,\n",
       "  'fee': 9.0,\n",
       "  'lossGain': 0.0,\n",
       "  'orderId': 993686770,\n",
       "  'price': 1675859.0,\n",
       "  'settleType': 'OPEN',\n",
       "  'side': 'BUY',\n",
       "  'size': 0.01,\n",
       "  'symbol': 'BTC',\n",
       "  'timestamp': '20201112012645325000'},\n",
       " {'executionId': 203431960,\n",
       "  'fee': 9.0,\n",
       "  'lossGain': 0.0,\n",
       "  'orderId': 993588652,\n",
       "  'price': 1673411.0,\n",
       "  'settleType': 'OPEN',\n",
       "  'side': 'SELL',\n",
       "  'size': 0.01,\n",
       "  'symbol': 'BTC',\n",
       "  'timestamp': '20201112002435913000'},\n",
       " {'executionId': 203412847,\n",
       "  'fee': 9.0,\n",
       "  'lossGain': 0.0,\n",
       "  'orderId': 993514017,\n",
       "  'price': 1668140.0,\n",
       "  'settleType': 'OPEN',\n",
       "  'side': 'SELL',\n",
       "  'size': 0.01,\n",
       "  'symbol': 'BTC',\n",
       "  'timestamp': '20201111221930012000'},\n",
       " {'executionId': 203370997,\n",
       "  'fee': 42.0,\n",
       "  'lossGain': 0.0,\n",
       "  'orderId': 993321227,\n",
       "  'price': 1651160.0,\n",
       "  'settleType': 'OPEN',\n",
       "  'side': 'BUY',\n",
       "  'size': 0.05,\n",
       "  'symbol': 'BTC',\n",
       "  'timestamp': '20201111181826061000'}]"
      ]
     },
     "metadata": {},
     "execution_count": 22
    }
   ],
   "source": [
    "executions.fetch_latestExecutions(sym)"
   ]
  },
  {
   "cell_type": "code",
   "execution_count": 23,
   "metadata": {},
   "outputs": [
    {
     "output_type": "execute_result",
     "data": {
      "text/plain": [
       "[{'executionId': 203730144,\n",
       "  'fee': 43.0,\n",
       "  'lossGain': 0.0,\n",
       "  'orderId': 994380652,\n",
       "  'price': 1713770.0,\n",
       "  'settleType': 'OPEN',\n",
       "  'side': 'BUY',\n",
       "  'size': 0.05,\n",
       "  'symbol': 'BTC',\n",
       "  'timestamp': '20201112135108762000'},\n",
       " {'executionId': 203687790,\n",
       "  'fee': 9.0,\n",
       "  'lossGain': 0.0,\n",
       "  'orderId': 994311586,\n",
       "  'price': 1700551.0,\n",
       "  'settleType': 'OPEN',\n",
       "  'side': 'SELL',\n",
       "  'size': 0.01,\n",
       "  'symbol': 'BTC',\n",
       "  'timestamp': '20201112124655069000'},\n",
       " {'executionId': 203687562,\n",
       "  'fee': 9.0,\n",
       "  'lossGain': 0.0,\n",
       "  'orderId': 994311132,\n",
       "  'price': 1700550.0,\n",
       "  'settleType': 'OPEN',\n",
       "  'side': 'SELL',\n",
       "  'size': 0.01,\n",
       "  'symbol': 'BTC',\n",
       "  'timestamp': '20201112122819805000'},\n",
       " {'executionId': 203687533,\n",
       "  'fee': 9.0,\n",
       "  'lossGain': 0.0,\n",
       "  'orderId': 994311060,\n",
       "  'price': 1699421.0,\n",
       "  'settleType': 'OPEN',\n",
       "  'side': 'SELL',\n",
       "  'size': 0.01,\n",
       "  'symbol': 'BTC',\n",
       "  'timestamp': '20201112122525473000'},\n",
       " {'executionId': 203488518,\n",
       "  'fee': 9.0,\n",
       "  'lossGain': 0.0,\n",
       "  'orderId': 993686770,\n",
       "  'price': 1675859.0,\n",
       "  'settleType': 'OPEN',\n",
       "  'side': 'BUY',\n",
       "  'size': 0.01,\n",
       "  'symbol': 'BTC',\n",
       "  'timestamp': '20201112012645325000'},\n",
       " {'executionId': 203431960,\n",
       "  'fee': 9.0,\n",
       "  'lossGain': 0.0,\n",
       "  'orderId': 993588652,\n",
       "  'price': 1673411.0,\n",
       "  'settleType': 'OPEN',\n",
       "  'side': 'SELL',\n",
       "  'size': 0.01,\n",
       "  'symbol': 'BTC',\n",
       "  'timestamp': '20201112002435913000'},\n",
       " {'executionId': 203412847,\n",
       "  'fee': 9.0,\n",
       "  'lossGain': 0.0,\n",
       "  'orderId': 993514017,\n",
       "  'price': 1668140.0,\n",
       "  'settleType': 'OPEN',\n",
       "  'side': 'SELL',\n",
       "  'size': 0.01,\n",
       "  'symbol': 'BTC',\n",
       "  'timestamp': '20201111221930012000'},\n",
       " {'executionId': 203370997,\n",
       "  'fee': 42.0,\n",
       "  'lossGain': 0.0,\n",
       "  'orderId': 993321227,\n",
       "  'price': 1651160.0,\n",
       "  'settleType': 'OPEN',\n",
       "  'side': 'BUY',\n",
       "  'size': 0.05,\n",
       "  'symbol': 'BTC',\n",
       "  'timestamp': '20201111181826061000'}]"
      ]
     },
     "metadata": {},
     "execution_count": 23
    }
   ],
   "source": [
    "executions.fetch_latestExecutions(sym, return_type='json')"
   ]
  },
  {
   "cell_type": "code",
   "execution_count": 24,
   "metadata": {},
   "outputs": [
    {
     "output_type": "execute_result",
     "data": {
      "text/plain": [
       "   executionId   fee  lossGain    orderId      price settleType  side  size  \\\n",
       "0    203730144  43.0       0.0  994380652  1713770.0       OPEN   BUY  0.05   \n",
       "1    203687790   9.0       0.0  994311586  1700551.0       OPEN  SELL  0.01   \n",
       "2    203687562   9.0       0.0  994311132  1700550.0       OPEN  SELL  0.01   \n",
       "3    203687533   9.0       0.0  994311060  1699421.0       OPEN  SELL  0.01   \n",
       "4    203488518   9.0       0.0  993686770  1675859.0       OPEN   BUY  0.01   \n",
       "5    203431960   9.0       0.0  993588652  1673411.0       OPEN  SELL  0.01   \n",
       "6    203412847   9.0       0.0  993514017  1668140.0       OPEN  SELL  0.01   \n",
       "7    203370997  42.0       0.0  993321227  1651160.0       OPEN   BUY  0.05   \n",
       "\n",
       "  symbol                        timestamp  \n",
       "0    BTC 2020-11-12 13:51:08.762000+00:00  \n",
       "1    BTC 2020-11-12 12:46:55.069000+00:00  \n",
       "2    BTC 2020-11-12 12:28:19.805000+00:00  \n",
       "3    BTC 2020-11-12 12:25:25.473000+00:00  \n",
       "4    BTC 2020-11-12 01:26:45.325000+00:00  \n",
       "5    BTC 2020-11-12 00:24:35.913000+00:00  \n",
       "6    BTC 2020-11-11 22:19:30.012000+00:00  \n",
       "7    BTC 2020-11-11 18:18:26.061000+00:00  "
      ],
      "text/html": "<div>\n<style scoped>\n    .dataframe tbody tr th:only-of-type {\n        vertical-align: middle;\n    }\n\n    .dataframe tbody tr th {\n        vertical-align: top;\n    }\n\n    .dataframe thead th {\n        text-align: right;\n    }\n</style>\n<table border=\"1\" class=\"dataframe\">\n  <thead>\n    <tr style=\"text-align: right;\">\n      <th></th>\n      <th>executionId</th>\n      <th>fee</th>\n      <th>lossGain</th>\n      <th>orderId</th>\n      <th>price</th>\n      <th>settleType</th>\n      <th>side</th>\n      <th>size</th>\n      <th>symbol</th>\n      <th>timestamp</th>\n    </tr>\n  </thead>\n  <tbody>\n    <tr>\n      <th>0</th>\n      <td>203730144</td>\n      <td>43.0</td>\n      <td>0.0</td>\n      <td>994380652</td>\n      <td>1713770.0</td>\n      <td>OPEN</td>\n      <td>BUY</td>\n      <td>0.05</td>\n      <td>BTC</td>\n      <td>2020-11-12 13:51:08.762000+00:00</td>\n    </tr>\n    <tr>\n      <th>1</th>\n      <td>203687790</td>\n      <td>9.0</td>\n      <td>0.0</td>\n      <td>994311586</td>\n      <td>1700551.0</td>\n      <td>OPEN</td>\n      <td>SELL</td>\n      <td>0.01</td>\n      <td>BTC</td>\n      <td>2020-11-12 12:46:55.069000+00:00</td>\n    </tr>\n    <tr>\n      <th>2</th>\n      <td>203687562</td>\n      <td>9.0</td>\n      <td>0.0</td>\n      <td>994311132</td>\n      <td>1700550.0</td>\n      <td>OPEN</td>\n      <td>SELL</td>\n      <td>0.01</td>\n      <td>BTC</td>\n      <td>2020-11-12 12:28:19.805000+00:00</td>\n    </tr>\n    <tr>\n      <th>3</th>\n      <td>203687533</td>\n      <td>9.0</td>\n      <td>0.0</td>\n      <td>994311060</td>\n      <td>1699421.0</td>\n      <td>OPEN</td>\n      <td>SELL</td>\n      <td>0.01</td>\n      <td>BTC</td>\n      <td>2020-11-12 12:25:25.473000+00:00</td>\n    </tr>\n    <tr>\n      <th>4</th>\n      <td>203488518</td>\n      <td>9.0</td>\n      <td>0.0</td>\n      <td>993686770</td>\n      <td>1675859.0</td>\n      <td>OPEN</td>\n      <td>BUY</td>\n      <td>0.01</td>\n      <td>BTC</td>\n      <td>2020-11-12 01:26:45.325000+00:00</td>\n    </tr>\n    <tr>\n      <th>5</th>\n      <td>203431960</td>\n      <td>9.0</td>\n      <td>0.0</td>\n      <td>993588652</td>\n      <td>1673411.0</td>\n      <td>OPEN</td>\n      <td>SELL</td>\n      <td>0.01</td>\n      <td>BTC</td>\n      <td>2020-11-12 00:24:35.913000+00:00</td>\n    </tr>\n    <tr>\n      <th>6</th>\n      <td>203412847</td>\n      <td>9.0</td>\n      <td>0.0</td>\n      <td>993514017</td>\n      <td>1668140.0</td>\n      <td>OPEN</td>\n      <td>SELL</td>\n      <td>0.01</td>\n      <td>BTC</td>\n      <td>2020-11-11 22:19:30.012000+00:00</td>\n    </tr>\n    <tr>\n      <th>7</th>\n      <td>203370997</td>\n      <td>42.0</td>\n      <td>0.0</td>\n      <td>993321227</td>\n      <td>1651160.0</td>\n      <td>OPEN</td>\n      <td>BUY</td>\n      <td>0.05</td>\n      <td>BTC</td>\n      <td>2020-11-11 18:18:26.061000+00:00</td>\n    </tr>\n  </tbody>\n</table>\n</div>"
     },
     "metadata": {},
     "execution_count": 24
    }
   ],
   "source": [
    "executions.fetch_latestExecutions(sym, return_type='dataframe')"
   ]
  },
  {
   "cell_type": "code",
   "execution_count": 25,
   "metadata": {},
   "outputs": [
    {
     "output_type": "execute_result",
     "data": {
      "text/plain": [
       "   executionId  fee  lossGain    orderId      price settleType side  size  \\\n",
       "0    197842661 -4.0       0.0  972638686  1195850.0       OPEN  BUY  0.04   \n",
       "\n",
       "  symbol                        timestamp  \n",
       "0    BTC 2020-10-16 14:27:13.784000+00:00  "
      ],
      "text/html": "<div>\n<style scoped>\n    .dataframe tbody tr th:only-of-type {\n        vertical-align: middle;\n    }\n\n    .dataframe tbody tr th {\n        vertical-align: top;\n    }\n\n    .dataframe thead th {\n        text-align: right;\n    }\n</style>\n<table border=\"1\" class=\"dataframe\">\n  <thead>\n    <tr style=\"text-align: right;\">\n      <th></th>\n      <th>executionId</th>\n      <th>fee</th>\n      <th>lossGain</th>\n      <th>orderId</th>\n      <th>price</th>\n      <th>settleType</th>\n      <th>side</th>\n      <th>size</th>\n      <th>symbol</th>\n      <th>timestamp</th>\n    </tr>\n  </thead>\n  <tbody>\n    <tr>\n      <th>0</th>\n      <td>197842661</td>\n      <td>-4.0</td>\n      <td>0.0</td>\n      <td>972638686</td>\n      <td>1195850.0</td>\n      <td>OPEN</td>\n      <td>BUY</td>\n      <td>0.04</td>\n      <td>BTC</td>\n      <td>2020-10-16 14:27:13.784000+00:00</td>\n    </tr>\n  </tbody>\n</table>\n</div>"
     },
     "metadata": {},
     "execution_count": 25
    }
   ],
   "source": [
    "executions.fetch_by_id(972638686,return_type='dataframe')"
   ]
  },
  {
   "cell_type": "code",
   "execution_count": 26,
   "metadata": {},
   "outputs": [
    {
     "output_type": "execute_result",
     "data": {
      "text/plain": [
       "[{'executionId': 197842661,\n",
       "  'fee': -4.0,\n",
       "  'lossGain': 0.0,\n",
       "  'orderId': 972638686,\n",
       "  'price': 1195850.0,\n",
       "  'settleType': 'OPEN',\n",
       "  'side': 'BUY',\n",
       "  'size': 0.04,\n",
       "  'symbol': 'BTC',\n",
       "  'timestamp': '20201016142713784000'}]"
      ]
     },
     "metadata": {},
     "execution_count": 26
    }
   ],
   "source": [
    "executions.fetch_by_id(972638686)"
   ]
  },
  {
   "cell_type": "code",
   "execution_count": 28,
   "metadata": {},
   "outputs": [],
   "source": [
    "order = api.Order(sym,logger,general_config_ini ,private_api_ini)"
   ]
  },
  {
   "cell_type": "code",
   "execution_count": 29,
   "metadata": {},
   "outputs": [],
   "source": [
    "reqBody = {\n",
    "    \"symbol\": \"BTC\",\n",
    "    \"side\": \"BUY\",\n",
    "    \"executionType\": \"LIMIT\",\n",
    "    \"timeInForce\": \"SOK\",\n",
    "    \"price\": 1094000,\n",
    "    \"losscutPrice\":None,\n",
    "    \"size\": 0.002\n",
    "}"
   ]
  },
  {
   "cell_type": "code",
   "execution_count": 30,
   "metadata": {},
   "outputs": [],
   "source": [
    "res = order.do_order(**reqBody)"
   ]
  },
  {
   "cell_type": "code",
   "execution_count": 31,
   "metadata": {},
   "outputs": [],
   "source": [
    "orderId = res['data']\n",
    "reqBody = {\n",
    "    \"orderId\": orderId,\n",
    "    \"price\": 1094001,\n",
    "    \"losscutPrice\": None\n",
    "}"
   ]
  },
  {
   "cell_type": "code",
   "execution_count": 32,
   "metadata": {},
   "outputs": [],
   "source": [
    "res2 = order.do_change(**reqBody)"
   ]
  },
  {
   "cell_type": "code",
   "execution_count": 33,
   "metadata": {},
   "outputs": [],
   "source": [
    "reqBody = {\n",
    "    \"orderId\": orderId\n",
    "}"
   ]
  },
  {
   "cell_type": "code",
   "execution_count": 34,
   "metadata": {},
   "outputs": [],
   "source": [
    "res3 = order.do_cancel(**reqBody)"
   ]
  },
  {
   "cell_type": "code",
   "execution_count": null,
   "metadata": {},
   "outputs": [],
   "source": []
  }
 ]
}