{
 "metadata": {
  "language_info": {
   "codemirror_mode": {
    "name": "ipython",
    "version": 3
   },
   "file_extension": ".py",
   "mimetype": "text/x-python",
   "name": "python",
   "nbconvert_exporter": "python",
   "pygments_lexer": "ipython3",
   "version": "3.7.6-final"
  },
  "orig_nbformat": 2,
  "kernelspec": {
   "name": "Python 3.7.6 64-bit ('py37b')",
   "display_name": "Python 3.7.6 64-bit ('py37b')",
   "metadata": {
    "interpreter": {
     "hash": "edf7c2d5f0f70628fc224588ceca2c2113a9ef071d19ac3a0b9346fc3eba554c"
    }
   }
  }
 },
 "nbformat": 4,
 "nbformat_minor": 2,
 "cells": [
  {
   "cell_type": "code",
   "execution_count": 1,
   "metadata": {},
   "outputs": [],
   "source": [
    "%load_ext autoreload\n",
    "%autoreload 2"
   ]
  },
  {
   "cell_type": "code",
   "execution_count": 2,
   "metadata": {},
   "outputs": [],
   "source": [
    "\n",
    "import threading\n",
    "import websocket\n",
    "\n",
    "from collections import deque\n",
    "\n",
    "import time\n",
    "import datetime\n",
    "import json\n",
    "import logging\n",
    "import logging.config\n",
    "\n",
    "logging.config.fileConfig('./ini/logconfig.ini')\n",
    "logger = logging.getLogger(\"KULOKO\")\n",
    "\n",
    "TRADE_ENDPOINT='wss://api.coin.z.com/ws/public/v1'\n",
    "# websocketを使ってtickerをリアルタイム取得\n",
    "websocket.enableTrace(True) #trace ON\n",
    "\n",
    "class Trade(object):\n",
    "    def __init__(self, sym,maxlen=100):\n",
    "        self.sym = sym\n",
    "        self.maxlen =maxlen\n",
    "        self.queue = deque([],self.maxlen)\n",
    "        self.connect()\n",
    "\n",
    "    def connect(self):\n",
    "        self.ws = websocket.WebSocketApp(\n",
    "            TRADE_ENDPOINT,\n",
    "            on_message = self.on_message,on_open=self.on_open,\n",
    "            on_error = self.on_error, on_close = self.on_close)\n",
    "        logger.info(\"Socket Connected\")\n",
    "    \n",
    "    def subscribe(self):\n",
    "        self.ws.keep_running = True \n",
    "        self.thread = threading.Thread(target=lambda: self.ws.run_forever())\n",
    "        self.thread.daemon = True\n",
    "        self.thread.start()\n",
    "        logger.info(\"Start to subscribe\")\n",
    "\n",
    "    def is_connected(self):\n",
    "        return self.ws.sock and self.ws.sock.connected\n",
    "\n",
    "    def disconnect(self):\n",
    "        self.ws.keep_running = False\n",
    "        self.ws.close()\n",
    "        logger.info(\"Socket closed\")\n",
    "\n",
    "    def get(self):\n",
    "        queue_len = len(self.queue)\n",
    "        return [ self.queue.popleft() for _ in range(queue_len)]\n",
    "\n",
    "    def clean_data(self, return_data):\n",
    "        for _i in range(return_data):\n",
    "            return_data[_i]['timestamp'] =return_data[_i]['timestamp']\n",
    "            return_data[_i]['price'] =return_data[_i]['price']\n",
    "            return_data[_i]['size'] =return_data[_i]['size']\n",
    "        return return_data\n",
    "\n",
    "\n",
    "    def on_message(self, message):\n",
    "        logger.info('Received:{0}'.format(message))\n",
    "        self.queue.append(json.loads(message))\n",
    "        if len(self.queue) > self.maxlen:\n",
    "            logger.warn(\"Message queue is full. Old item are discarded\")\n",
    "\n",
    "    def on_error(self, error):\n",
    "        logger.error('Error. Try reconnect {0}'.format(error))\n",
    "        self.disconnect()\n",
    "        time.sleep(0.5)\n",
    "        self.connect()\n",
    "\n",
    "    def on_close(self):\n",
    "        logger.info('Websocket disconnected')\n",
    "\n",
    "    def on_open(self):\n",
    "        message = {\n",
    "            \"command\": \"subscribe\",\n",
    "            \"channel\": \"trades\",\n",
    "            \"symbol\": self.sym \n",
    "        }\n",
    "        self.ws.send(json.dumps(message))\n",
    "        logger.info('Socket opened')\n",
    "\n",
    "trade = Trade('BTC')\n",
    "    # while True:\n",
    "    #     print(bfrt.get())\n",
    "    #     time.sleep(0.5)"
   ]
  },
  {
   "cell_type": "code",
   "execution_count": 41,
   "metadata": {},
   "outputs": [],
   "source": [
    "trade.connect()"
   ]
  },
  {
   "cell_type": "code",
   "execution_count": 43,
   "metadata": {},
   "outputs": [],
   "source": [
    "trade.subscribe()\n"
   ]
  },
  {
   "cell_type": "code",
   "execution_count": 44,
   "metadata": {},
   "outputs": [
    {
     "output_type": "execute_result",
     "data": {
      "text/plain": [
       "[{'channel': 'trades',\n",
       "  'price': '1201694',\n",
       "  'side': 'SELL',\n",
       "  'size': '0.001',\n",
       "  'symbol': 'BTC',\n",
       "  'timestamp': '2020-10-13T15:03:45.612Z'}]"
      ]
     },
     "metadata": {},
     "execution_count": 44
    }
   ],
   "source": [
    "trade.get()"
   ]
  },
  {
   "cell_type": "code",
   "execution_count": 39,
   "metadata": {},
   "outputs": [],
   "source": [
    "trade.disconnect()"
   ]
  },
  {
   "cell_type": "code",
   "execution_count": 1,
   "metadata": {},
   "outputs": [
    {
     "output_type": "error",
     "ename": "NameError",
     "evalue": "name 'a' is not defined",
     "traceback": [
      "\u001b[0;31m\u001b[0m",
      "\u001b[0;31mNameError\u001b[0mTraceback (most recent call last)",
      "\u001b[0;32m<ipython-input-1-60b725f10c9c>\u001b[0m in \u001b[0;36m<module>\u001b[0;34m()\u001b[0m\n\u001b[0;32m----> 1\u001b[0;31m \u001b[0ma\u001b[0m\u001b[0;34m\u001b[0m\u001b[0m\n\u001b[0m",
      "\u001b[0;31mNameError\u001b[0m: name 'a' is not defined"
     ]
    }
   ],
   "source": [
    "import json\n",
    "import websocket\n",
    "\n",
    "websocket.enableTrace(True)\n",
    "ws = websocket.WebSocketApp('wss://api.coin.z.com/ws/public/v1')\n",
    "\n",
    "def on_open(self):\n",
    "    message = {\n",
    "        \"command\": \"subscribe\",\n",
    "        \"channel\": \"trades\",\n",
    "        \"symbol\": \"BTC\"\n",
    "    }\n",
    "    ws.send(json.dumps(message))\n",
    "\n",
    "def on_message(self, message):\n",
    "    print(message)\n",
    "\n",
    "ws.on_open = on_open\n",
    "ws.on_message = on_message\n",
    "\n",
    "ws.run_forever()"
   ]
  },
  {
   "cell_type": "code",
   "execution_count": null,
   "metadata": {},
   "outputs": [],
   "source": []
  }
 ]
}