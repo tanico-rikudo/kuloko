{
 "metadata": {
  "language_info": {
   "codemirror_mode": {
    "name": "ipython",
    "version": 3
   },
   "file_extension": ".py",
   "mimetype": "text/x-python",
   "name": "python",
   "nbconvert_exporter": "python",
   "pygments_lexer": "ipython3",
   "version": "3.7.6-final"
  },
  "orig_nbformat": 2,
  "kernelspec": {
   "name": "python3",
   "display_name": "Python 3.7.6 64-bit ('py37b': venv)",
   "metadata": {
    "interpreter": {
     "hash": "edf7c2d5f0f70628fc224588ceca2c2113a9ef071d19ac3a0b9346fc3eba554c"
    }
   }
  }
 },
 "nbformat": 4,
 "nbformat_minor": 2,
 "cells": [
  {
   "cell_type": "code",
   "execution_count": 1,
   "metadata": {},
   "outputs": [],
   "source": [
    "%load_ext autoreload\n",
    "%autoreload 2"
   ]
  },
  {
   "cell_type": "code",
   "execution_count": 2,
   "metadata": {},
   "outputs": [],
   "source": [
    "\n",
    "# coding: utf-8\n",
    "import requests\n",
    "import json\n",
    "import urllib.parse\n",
    "import logging\n",
    "import logging.config\n",
    "import configparser\n",
    "\n",
    "import pandas as pd\n",
    "import numpy as np\n",
    "os.environ['INIDIR'] = '/Users/macico/Dropbox/kaggle/kuloko/ini'\n",
    "os.environ['LOGDIR'] = '/Users/macico/Dropbox/kaggle/kuloko/log'\n",
    "INIDIR=os.environ['INIDIR'] \n",
    "LOGDIR=os.environ['LOGDIR'] "
   ]
  },
  {
   "cell_type": "code",
   "execution_count": 3,
   "metadata": {},
   "outputs": [],
   "source": [
    "\n",
    "\n",
    "sys.path.append(os.path.join(os.path.dirname('__file__'),'..'))\n",
    "import  kuloko_handler.handler.socket_handler as skt_api\n",
    "private_api_ini = configparser.ConfigParser()\n",
    "private_api_ini.read(os.path.join(INIDIR,'private_api.ini'), encoding='utf-8')\n",
    "\n",
    "general_config_ini = configparser.ConfigParser()\n",
    "general_config_ini.read(os.path.join(INIDIR,'config.ini'), encoding='utf-8')\n",
    "\n",
    "logging.config.fileConfig(os.path.join(INIDIR,'logconfig.ini'),defaults={'logfilename': os.path.join(LOGDIR,'logging.log')})\n",
    "logger = logging.getLogger(\"KULOKO\")"
   ]
  },
  {
   "cell_type": "code",
   "execution_count": 4,
   "metadata": {},
   "outputs": [],
   "source": [
    "from kuloko_db.src.mongo_handler import MongoHandler\n",
    "mongo_ini = configparser.ConfigParser()\n",
    "mongo_ini.read(os.path.join(INIDIR,'db_config.ini'), encoding='utf-8')\n",
    "mongo_db = MongoHandler(mongo_ini['LOCAL'],\"orderbook\")"
   ]
  },
  {
   "cell_type": "code",
   "execution_count": 5,
   "metadata": {},
   "outputs": [
    {
     "output_type": "error",
     "ename": "TypeError",
     "evalue": "__init__() takes 4 positional arguments but 5 were given",
     "traceback": [
      "\u001b[0;31m---------------------------------------------------------------------------\u001b[0m",
      "\u001b[0;31mTypeError\u001b[0m                                 Traceback (most recent call last)",
      "\u001b[0;32m<ipython-input-5-44f21d761800>\u001b[0m in \u001b[0;36m<module>\u001b[0;34m\u001b[0m\n\u001b[0;32m----> 1\u001b[0;31m \u001b[0mtest\u001b[0m \u001b[0;34m=\u001b[0m \u001b[0mskt_api\u001b[0m\u001b[0;34m.\u001b[0m\u001b[0mTrade\u001b[0m\u001b[0;34m(\u001b[0m\u001b[0;34m\"token\"\u001b[0m\u001b[0;34m,\u001b[0m\u001b[0mlogger\u001b[0m\u001b[0;34m,\u001b[0m \u001b[0mgeneral_config_ini\u001b[0m\u001b[0;34m,\u001b[0m\u001b[0mprivate_api_ini\u001b[0m\u001b[0;34m)\u001b[0m\u001b[0;34m\u001b[0m\u001b[0;34m\u001b[0m\u001b[0m\n\u001b[0m",
      "\u001b[0;31mTypeError\u001b[0m: __init__() takes 4 positional arguments but 5 were given"
     ]
    }
   ],
   "source": [
    "\n",
    "test = skt_api.Trade(\"token\",logger, general_config_ini,private_api_ini)"
   ]
  },
  {
   "cell_type": "code",
   "execution_count": 5,
   "metadata": {},
   "outputs": [
    {
     "output_type": "error",
     "ename": "NameError",
     "evalue": "name 'test' is not defined",
     "traceback": [
      "\u001b[0;31m---------------------------------------------------------------------------\u001b[0m",
      "\u001b[0;31mNameError\u001b[0m                                 Traceback (most recent call last)",
      "\u001b[0;32m<ipython-input-5-63726623ea12>\u001b[0m in \u001b[0;36m<module>\u001b[0;34m\u001b[0m\n\u001b[0;32m----> 1\u001b[0;31m \u001b[0mtest\u001b[0m\u001b[0;34m.\u001b[0m\u001b[0mget_access_token\u001b[0m\u001b[0;34m(\u001b[0m\u001b[0;34m)\u001b[0m\u001b[0;34m\u001b[0m\u001b[0;34m\u001b[0m\u001b[0m\n\u001b[0m",
      "\u001b[0;31mNameError\u001b[0m: name 'test' is not defined"
     ]
    }
   ],
   "source": [
    "test.get_access_token()"
   ]
  },
  {
   "cell_type": "code",
   "execution_count": 6,
   "metadata": {},
   "outputs": [
    {
     "output_type": "error",
     "ename": "NameError",
     "evalue": "name 'test' is not defined",
     "traceback": [
      "\u001b[0;31m---------------------------------------------------------------------------\u001b[0m",
      "\u001b[0;31mNameError\u001b[0m                                 Traceback (most recent call last)",
      "\u001b[0;32m<ipython-input-6-d0c1255d18d6>\u001b[0m in \u001b[0;36m<module>\u001b[0;34m\u001b[0m\n\u001b[0;32m----> 1\u001b[0;31m \u001b[0mtest\u001b[0m\u001b[0;34m.\u001b[0m\u001b[0mextend_access_token\u001b[0m\u001b[0;34m(\u001b[0m\u001b[0;34m)\u001b[0m\u001b[0;34m\u001b[0m\u001b[0;34m\u001b[0m\u001b[0m\n\u001b[0m",
      "\u001b[0;31mNameError\u001b[0m: name 'test' is not defined"
     ]
    }
   ],
   "source": [
    "test.extend_access_token()"
   ]
  },
  {
   "source": [
    "(json.dumps(a.json(), indent=2))"
   ],
   "cell_type": "markdown",
   "metadata": {}
  },
  {
   "cell_type": "code",
   "execution_count": 7,
   "metadata": {},
   "outputs": [],
   "source": [
    "trade = skt_api.Trade(logger, general_config_ini,private_api_ini)"
   ]
  },
  {
   "cell_type": "code",
   "execution_count": 8,
   "metadata": {},
   "outputs": [],
   "source": [
    "trade.connect(trade.get_url(),'BTC')"
   ]
  },
  {
   "cell_type": "code",
   "execution_count": 13,
   "metadata": {},
   "outputs": [],
   "source": [
    "trade.subscribe()\n"
   ]
  },
  {
   "cell_type": "code",
   "execution_count": 14,
   "metadata": {},
   "outputs": [],
   "source": [
    "a = trade.get()"
   ]
  },
  {
   "cell_type": "code",
   "execution_count": 16,
   "metadata": {},
   "outputs": [
    {
     "output_type": "execute_result",
     "data": {
      "text/plain": [
       "[{'channel': 'trades',\n",
       "  'price': 2049998.0,\n",
       "  'side': 'SELL',\n",
       "  'size': 0.1,\n",
       "  'symbol': 'BTC',\n",
       "  'timestamp': '20201130055238280000'},\n",
       " {'channel': 'trades',\n",
       "  'price': 2049998.0,\n",
       "  'side': 'BUY',\n",
       "  'size': 0.1,\n",
       "  'symbol': 'BTC',\n",
       "  'timestamp': '20201130055238280000'}]"
      ]
     },
     "metadata": {},
     "execution_count": 16
    }
   ],
   "source": [
    "trade.convert_shape(a,'json')"
   ]
  },
  {
   "cell_type": "code",
   "execution_count": 200,
   "metadata": {},
   "outputs": [],
   "source": [
    "# str_utc_to_dt_offset(a[0][\"timestamp\"],trade.tz_offset)"
   ]
  },
  {
   "cell_type": "code",
   "execution_count": 17,
   "metadata": {},
   "outputs": [],
   "source": [
    "trade.disconnect()"
   ]
  },
  {
   "cell_type": "code",
   "execution_count": 6,
   "metadata": {},
   "outputs": [],
   "source": [
    "orderbooks = skt_api.Orderbooks(logger, general_config_ini,private_api_ini)"
   ]
  },
  {
   "cell_type": "code",
   "execution_count": 12,
   "metadata": {},
   "outputs": [],
   "source": [
    "orderbooks.connect(orderbooks.get_url(),'BTC')"
   ]
  },
  {
   "cell_type": "code",
   "execution_count": 13,
   "metadata": {},
   "outputs": [],
   "source": [
    "orderbooks.subscribe()"
   ]
  },
  {
   "cell_type": "code",
   "execution_count": 14,
   "metadata": {},
   "outputs": [],
   "source": [
    "data = orderbooks.get()"
   ]
  },
  {
   "cell_type": "code",
   "execution_count": 25,
   "metadata": {
    "tags": []
   },
   "outputs": [
    {
     "output_type": "stream",
     "name": "stdout",
     "text": [
      "{'_id': ObjectId('5fc7a91176eab785c4908035'), 'time': '20201202054648704000', 'symbol': 'BTC', 'bids0': 1976155.0, 'bids0_size': 0.2, 'bids1': 1976150.0, 'bids1_size': 0.2, 'bids2': 1974012.0, 'bids2_size': 0.0947, 'bids3': 1972380.0, 'bids3_size': 0.1, 'bids4': 1972370.0, 'bids4_size': 0.11, 'asks0': 1976155.0, 'asks0_size': 0.2, 'asks1': 1976150.0, 'asks1_size': 0.2, 'asks2': 1974012.0, 'asks2_size': 0.0947, 'asks3': 1972380.0, 'asks3_size': 0.1, 'asks4': 1972370.0, 'asks4_size': 0.11}\n{'_id': ObjectId('5fc7a91176eab785c4908036'), 'time': '20201202054649218000', 'symbol': 'BTC', 'bids0': 1976155.0, 'bids0_size': 0.2, 'bids1': 1976150.0, 'bids1_size': 0.2, 'bids2': 1974850.0, 'bids2_size': 0.2, 'bids3': 1974012.0, 'bids3_size': 0.0947, 'bids4': 1972380.0, 'bids4_size': 0.1, 'asks0': 1976155.0, 'asks0_size': 0.2, 'asks1': 1976150.0, 'asks1_size': 0.2, 'asks2': 1974850.0, 'asks2_size': 0.2, 'asks3': 1974012.0, 'asks3_size': 0.0947, 'asks4': 1972380.0, 'asks4_size': 0.1}\n{'_id': ObjectId('5fc7a91176eab785c4908037'), 'time': '20201202054649733000', 'symbol': 'BTC', 'bids0': 1976155.0, 'bids0_size': 0.2, 'bids1': 1976150.0, 'bids1_size': 0.2, 'bids2': 1974012.0, 'bids2_size': 0.0947, 'bids3': 1972380.0, 'bids3_size': 0.1, 'bids4': 1972370.0, 'bids4_size': 0.11, 'asks0': 1976155.0, 'asks0_size': 0.2, 'asks1': 1976150.0, 'asks1_size': 0.2, 'asks2': 1974012.0, 'asks2_size': 0.0947, 'asks3': 1972380.0, 'asks3_size': 0.1, 'asks4': 1972370.0, 'asks4_size': 0.11}\n{'_id': ObjectId('5fc7a91176eab785c4908038'), 'time': '20201202054650247000', 'symbol': 'BTC', 'bids0': 1976155.0, 'bids0_size': 0.2, 'bids1': 1976150.0, 'bids1_size': 0.2, 'bids2': 1974012.0, 'bids2_size': 0.0947, 'bids3': 1972380.0, 'bids3_size': 0.1, 'bids4': 1972370.0, 'bids4_size': 0.11, 'asks0': 1976155.0, 'asks0_size': 0.2, 'asks1': 1976150.0, 'asks1_size': 0.2, 'asks2': 1974012.0, 'asks2_size': 0.0947, 'asks3': 1972380.0, 'asks3_size': 0.1, 'asks4': 1972370.0, 'asks4_size': 0.11}\n{'_id': ObjectId('5fc7a91176eab785c4908039'), 'time': '20201202054650847000', 'symbol': 'BTC', 'bids0': 1976155.0, 'bids0_size': 0.2, 'bids1': 1976150.0, 'bids1_size': 0.2, 'bids2': 1974850.0, 'bids2_size': 0.2, 'bids3': 1974013.0, 'bids3_size': 0.0947, 'bids4': 1972380.0, 'bids4_size': 0.1, 'asks0': 1976155.0, 'asks0_size': 0.2, 'asks1': 1976150.0, 'asks1_size': 0.2, 'asks2': 1974850.0, 'asks2_size': 0.2, 'asks3': 1974013.0, 'asks3_size': 0.0947, 'asks4': 1972380.0, 'asks4_size': 0.1}\n{'_id': ObjectId('5fc7a91176eab785c490803a'), 'time': '20201202054651361000', 'symbol': 'BTC', 'bids0': 1976155.0, 'bids0_size': 0.2, 'bids1': 1976150.0, 'bids1_size': 0.2, 'bids2': 1974850.0, 'bids2_size': 0.2, 'bids3': 1974013.0, 'bids3_size': 0.0947, 'bids4': 1972380.0, 'bids4_size': 0.1, 'asks0': 1976155.0, 'asks0_size': 0.2, 'asks1': 1976150.0, 'asks1_size': 0.2, 'asks2': 1974850.0, 'asks2_size': 0.2, 'asks3': 1974013.0, 'asks3_size': 0.0947, 'asks4': 1972380.0, 'asks4_size': 0.1}\n{'_id': ObjectId('5fc7a91176eab785c490803b'), 'time': '20201202054651886000', 'symbol': 'BTC', 'bids0': 1976155.0, 'bids0_size': 0.2, 'bids1': 1976150.0, 'bids1_size': 0.2, 'bids2': 1974013.0, 'bids2_size': 0.0947, 'bids3': 1972380.0, 'bids3_size': 0.1, 'bids4': 1972370.0, 'bids4_size': 0.11, 'asks0': 1976155.0, 'asks0_size': 0.2, 'asks1': 1976150.0, 'asks1_size': 0.2, 'asks2': 1974013.0, 'asks2_size': 0.0947, 'asks3': 1972380.0, 'asks3_size': 0.1, 'asks4': 1972370.0, 'asks4_size': 0.11}\n{'_id': ObjectId('5fc7a91176eab785c490803c'), 'time': '20201202054652400000', 'symbol': 'BTC', 'bids0': 1976155.0, 'bids0_size': 0.2, 'bids1': 1976150.0, 'bids1_size': 0.2, 'bids2': 1974850.0, 'bids2_size': 0.2, 'bids3': 1974013.0, 'bids3_size': 0.0947, 'bids4': 1972380.0, 'bids4_size': 0.1, 'asks0': 1976155.0, 'asks0_size': 0.2, 'asks1': 1976150.0, 'asks1_size': 0.2, 'asks2': 1974850.0, 'asks2_size': 0.2, 'asks3': 1974013.0, 'asks3_size': 0.0947, 'asks4': 1972380.0, 'asks4_size': 0.1}\n{'_id': ObjectId('5fc7a91176eab785c490803d'), 'time': '20201202054652917000', 'symbol': 'BTC', 'bids0': 1976155.0, 'bids0_size': 0.2, 'bids1': 1976150.0, 'bids1_size': 0.2, 'bids2': 1974850.0, 'bids2_size': 0.2, 'bids3': 1974013.0, 'bids3_size': 0.0947, 'bids4': 1972380.0, 'bids4_size': 0.1, 'asks0': 1976155.0, 'asks0_size': 0.2, 'asks1': 1976150.0, 'asks1_size': 0.2, 'asks2': 1974850.0, 'asks2_size': 0.2, 'asks3': 1974013.0, 'asks3_size': 0.0947, 'asks4': 1972380.0, 'asks4_size': 0.1}\n{'_id': ObjectId('5fc7a91176eab785c490803e'), 'time': '20201202054652917000', 'symbol': 'BTC', 'bids0': 1976155.0, 'bids0_size': 0.2, 'bids1': 1976150.0, 'bids1_size': 0.2, 'bids2': 1974850.0, 'bids2_size': 0.2, 'bids3': 1974013.0, 'bids3_size': 0.0947, 'bids4': 1972380.0, 'bids4_size': 0.1, 'asks0': 1976155.0, 'asks0_size': 0.2, 'asks1': 1976150.0, 'asks1_size': 0.2, 'asks2': 1974850.0, 'asks2_size': 0.2, 'asks3': 1974013.0, 'asks3_size': 0.0947, 'asks4': 1972380.0, 'asks4_size': 0.1}\n{'_id': ObjectId('5fc7a91176eab785c490803f'), 'time': '20201202054653432000', 'symbol': 'BTC', 'bids0': 1976155.0, 'bids0_size': 0.2, 'bids1': 1976150.0, 'bids1_size': 0.2, 'bids2': 1974013.0, 'bids2_size': 0.0947, 'bids3': 1972380.0, 'bids3_size': 0.1, 'bids4': 1972370.0, 'bids4_size': 0.11, 'asks0': 1976155.0, 'asks0_size': 0.2, 'asks1': 1976150.0, 'asks1_size': 0.2, 'asks2': 1974013.0, 'asks2_size': 0.0947, 'asks3': 1972380.0, 'asks3_size': 0.1, 'asks4': 1972370.0, 'asks4_size': 0.11}\n{'_id': ObjectId('5fc7a91176eab785c4908040'), 'time': '20201202054653946000', 'symbol': 'BTC', 'bids0': 1976155.0, 'bids0_size': 0.2, 'bids1': 1976150.0, 'bids1_size': 0.2, 'bids2': 1974013.0, 'bids2_size': 0.0947, 'bids3': 1972380.0, 'bids3_size': 0.1, 'bids4': 1972370.0, 'bids4_size': 0.11, 'asks0': 1976155.0, 'asks0_size': 0.2, 'asks1': 1976150.0, 'asks1_size': 0.2, 'asks2': 1974013.0, 'asks2_size': 0.0947, 'asks3': 1972380.0, 'asks3_size': 0.1, 'asks4': 1972370.0, 'asks4_size': 0.11}\n{'_id': ObjectId('5fc7a91176eab785c4908041'), 'time': '20201202054654460000', 'symbol': 'BTC', 'bids0': 1976155.0, 'bids0_size': 0.2, 'bids1': 1976150.0, 'bids1_size': 0.2, 'bids2': 1974850.0, 'bids2_size': 0.2, 'bids3': 1974013.0, 'bids3_size': 0.0947, 'bids4': 1972380.0, 'bids4_size': 0.1, 'asks0': 1976155.0, 'asks0_size': 0.2, 'asks1': 1976150.0, 'asks1_size': 0.2, 'asks2': 1974850.0, 'asks2_size': 0.2, 'asks3': 1974013.0, 'asks3_size': 0.0947, 'asks4': 1972380.0, 'asks4_size': 0.1}\n{'_id': ObjectId('5fc7a91176eab785c4908042'), 'time': '20201202054654975000', 'symbol': 'BTC', 'bids0': 1976155.0, 'bids0_size': 0.2, 'bids1': 1976150.0, 'bids1_size': 0.2, 'bids2': 1974013.0, 'bids2_size': 0.0947, 'bids3': 1972380.0, 'bids3_size': 0.1, 'bids4': 1972370.0, 'bids4_size': 0.11, 'asks0': 1976155.0, 'asks0_size': 0.2, 'asks1': 1976150.0, 'asks1_size': 0.2, 'asks2': 1974013.0, 'asks2_size': 0.0947, 'asks3': 1972380.0, 'asks3_size': 0.1, 'asks4': 1972370.0, 'asks4_size': 0.11}\n{'_id': ObjectId('5fc7a91176eab785c4908043'), 'time': '20201202054654975000', 'symbol': 'BTC', 'bids0': 1976155.0, 'bids0_size': 0.2, 'bids1': 1976150.0, 'bids1_size': 0.2, 'bids2': 1974013.0, 'bids2_size': 0.0947, 'bids3': 1972380.0, 'bids3_size': 0.1, 'bids4': 1972370.0, 'bids4_size': 0.11, 'asks0': 1976155.0, 'asks0_size': 0.2, 'asks1': 1976150.0, 'asks1_size': 0.2, 'asks2': 1974013.0, 'asks2_size': 0.0947, 'asks3': 1972380.0, 'asks3_size': 0.1, 'asks4': 1972370.0, 'asks4_size': 0.11}\n{'_id': ObjectId('5fc7a91176eab785c4908044'), 'time': '20201202054655490000', 'symbol': 'BTC', 'bids0': 1976155.0, 'bids0_size': 0.2, 'bids1': 1976150.0, 'bids1_size': 0.2, 'bids2': 1974013.0, 'bids2_size': 0.0947, 'bids3': 1972380.0, 'bids3_size': 0.1, 'bids4': 1972370.0, 'bids4_size': 0.11, 'asks0': 1976155.0, 'asks0_size': 0.2, 'asks1': 1976150.0, 'asks1_size': 0.2, 'asks2': 1974013.0, 'asks2_size': 0.0947, 'asks3': 1972380.0, 'asks3_size': 0.1, 'asks4': 1972370.0, 'asks4_size': 0.11}\n{'_id': ObjectId('5fc7a91176eab785c4908045'), 'time': '20201202054655490000', 'symbol': 'BTC', 'bids0': 1976155.0, 'bids0_size': 0.2, 'bids1': 1976150.0, 'bids1_size': 0.2, 'bids2': 1974013.0, 'bids2_size': 0.0947, 'bids3': 1972380.0, 'bids3_size': 0.1, 'bids4': 1972370.0, 'bids4_size': 0.11, 'asks0': 1976155.0, 'asks0_size': 0.2, 'asks1': 1976150.0, 'asks1_size': 0.2, 'asks2': 1974013.0, 'asks2_size': 0.0947, 'asks3': 1972380.0, 'asks3_size': 0.1, 'asks4': 1972370.0, 'asks4_size': 0.11}\n{'_id': ObjectId('5fc7a91176eab785c4908046'), 'time': '20201202054656004000', 'symbol': 'BTC', 'bids0': 1976155.0, 'bids0_size': 0.2, 'bids1': 1976150.0, 'bids1_size': 0.2, 'bids2': 1974850.0, 'bids2_size': 0.2, 'bids3': 1974013.0, 'bids3_size': 0.0947, 'bids4': 1972380.0, 'bids4_size': 0.1, 'asks0': 1976155.0, 'asks0_size': 0.2, 'asks1': 1976150.0, 'asks1_size': 0.2, 'asks2': 1974850.0, 'asks2_size': 0.2, 'asks3': 1974013.0, 'asks3_size': 0.0947, 'asks4': 1972380.0, 'asks4_size': 0.1}\n{'_id': ObjectId('5fc7a91176eab785c4908047'), 'time': '20201202054656004000', 'symbol': 'BTC', 'bids0': 1976155.0, 'bids0_size': 0.2, 'bids1': 1976150.0, 'bids1_size': 0.2, 'bids2': 1974850.0, 'bids2_size': 0.2, 'bids3': 1974013.0, 'bids3_size': 0.0947, 'bids4': 1972380.0, 'bids4_size': 0.1, 'asks0': 1976155.0, 'asks0_size': 0.2, 'asks1': 1976150.0, 'asks1_size': 0.2, 'asks2': 1974850.0, 'asks2_size': 0.2, 'asks3': 1974013.0, 'asks3_size': 0.0947, 'asks4': 1972380.0, 'asks4_size': 0.1}\n{'_id': ObjectId('5fc7a91176eab785c4908048'), 'time': '20201202054656525000', 'symbol': 'BTC', 'bids0': 1976155.0, 'bids0_size': 0.2, 'bids1': 1976150.0, 'bids1_size': 0.2, 'bids2': 1974850.0, 'bids2_size': 0.2, 'bids3': 1974013.0, 'bids3_size': 0.0947, 'bids4': 1972380.0, 'bids4_size': 0.1, 'asks0': 1976155.0, 'asks0_size': 0.2, 'asks1': 1976150.0, 'asks1_size': 0.2, 'asks2': 1974850.0, 'asks2_size': 0.2, 'asks3': 1974013.0, 'asks3_size': 0.0947, 'asks4': 1972380.0, 'asks4_size': 0.1}\n{'_id': ObjectId('5fc7a91176eab785c4908049'), 'time': '20201202054656525000', 'symbol': 'BTC', 'bids0': 1976155.0, 'bids0_size': 0.2, 'bids1': 1976150.0, 'bids1_size': 0.2, 'bids2': 1974850.0, 'bids2_size': 0.2, 'bids3': 1974013.0, 'bids3_size': 0.0947, 'bids4': 1972380.0, 'bids4_size': 0.1, 'asks0': 1976155.0, 'asks0_size': 0.2, 'asks1': 1976150.0, 'asks1_size': 0.2, 'asks2': 1974850.0, 'asks2_size': 0.2, 'asks3': 1974013.0, 'asks3_size': 0.0947, 'asks4': 1972380.0, 'asks4_size': 0.1}\n{'_id': ObjectId('5fc7a91176eab785c490804a'), 'time': '20201202054657042000', 'symbol': 'BTC', 'bids0': 1976155.0, 'bids0_size': 0.2, 'bids1': 1976150.0, 'bids1_size': 0.2, 'bids2': 1974013.0, 'bids2_size': 0.0947, 'bids3': 1972380.0, 'bids3_size': 0.1, 'bids4': 1972370.0, 'bids4_size': 0.11, 'asks0': 1976155.0, 'asks0_size': 0.2, 'asks1': 1976150.0, 'asks1_size': 0.2, 'asks2': 1974013.0, 'asks2_size': 0.0947, 'asks3': 1972380.0, 'asks3_size': 0.1, 'asks4': 1972370.0, 'asks4_size': 0.11}\n{'_id': ObjectId('5fc7a91176eab785c490804b'), 'time': '20201202054657042000', 'symbol': 'BTC', 'bids0': 1976155.0, 'bids0_size': 0.2, 'bids1': 1976150.0, 'bids1_size': 0.2, 'bids2': 1974013.0, 'bids2_size': 0.0947, 'bids3': 1972380.0, 'bids3_size': 0.1, 'bids4': 1972370.0, 'bids4_size': 0.11, 'asks0': 1976155.0, 'asks0_size': 0.2, 'asks1': 1976150.0, 'asks1_size': 0.2, 'asks2': 1974013.0, 'asks2_size': 0.0947, 'asks3': 1972380.0, 'asks3_size': 0.1, 'asks4': 1972370.0, 'asks4_size': 0.11}\n{'_id': ObjectId('5fc7a91176eab785c490804c'), 'time': '20201202054657556000', 'symbol': 'BTC', 'bids0': 1976155.0, 'bids0_size': 0.2, 'bids1': 1976150.0, 'bids1_size': 0.2, 'bids2': 1974013.0, 'bids2_size': 0.0947, 'bids3': 1972380.0, 'bids3_size': 0.1, 'bids4': 1972370.0, 'bids4_size': 0.11, 'asks0': 1976155.0, 'asks0_size': 0.2, 'asks1': 1976150.0, 'asks1_size': 0.2, 'asks2': 1974013.0, 'asks2_size': 0.0947, 'asks3': 1972380.0, 'asks3_size': 0.1, 'asks4': 1972370.0, 'asks4_size': 0.11}\n{'_id': ObjectId('5fc7a91176eab785c490804d'), 'time': '20201202054657556000', 'symbol': 'BTC', 'bids0': 1976155.0, 'bids0_size': 0.2, 'bids1': 1976150.0, 'bids1_size': 0.2, 'bids2': 1974013.0, 'bids2_size': 0.0947, 'bids3': 1972380.0, 'bids3_size': 0.1, 'bids4': 1972370.0, 'bids4_size': 0.11, 'asks0': 1976155.0, 'asks0_size': 0.2, 'asks1': 1976150.0, 'asks1_size': 0.2, 'asks2': 1974013.0, 'asks2_size': 0.0947, 'asks3': 1972380.0, 'asks3_size': 0.1, 'asks4': 1972370.0, 'asks4_size': 0.11}\n{'_id': ObjectId('5fc7a91176eab785c490804e'), 'time': '20201202054657949000', 'symbol': 'BTC', 'bids0': 1976155.0, 'bids0_size': 0.2, 'bids1': 1976150.0, 'bids1_size': 0.2, 'bids2': 1974850.0, 'bids2_size': 0.2, 'bids3': 1974012.0, 'bids3_size': 0.0947, 'bids4': 1972380.0, 'bids4_size': 0.1, 'asks0': 1976155.0, 'asks0_size': 0.2, 'asks1': 1976150.0, 'asks1_size': 0.2, 'asks2': 1974850.0, 'asks2_size': 0.2, 'asks3': 1974012.0, 'asks3_size': 0.0947, 'asks4': 1972380.0, 'asks4_size': 0.1}\n{'_id': ObjectId('5fc7a91176eab785c490804f'), 'time': '20201202054657949000', 'symbol': 'BTC', 'bids0': 1976155.0, 'bids0_size': 0.2, 'bids1': 1976150.0, 'bids1_size': 0.2, 'bids2': 1974850.0, 'bids2_size': 0.2, 'bids3': 1974012.0, 'bids3_size': 0.0947, 'bids4': 1972380.0, 'bids4_size': 0.1, 'asks0': 1976155.0, 'asks0_size': 0.2, 'asks1': 1976150.0, 'asks1_size': 0.2, 'asks2': 1974850.0, 'asks2_size': 0.2, 'asks3': 1974012.0, 'asks3_size': 0.0947, 'asks4': 1972380.0, 'asks4_size': 0.1}\n{'_id': ObjectId('5fc7a91176eab785c4908050'), 'time': '20201202054658071000', 'symbol': 'BTC', 'bids0': 1976155.0, 'bids0_size': 0.2, 'bids1': 1976150.0, 'bids1_size': 0.2, 'bids2': 1974850.0, 'bids2_size': 0.2, 'bids3': 1974012.0, 'bids3_size': 0.0947, 'bids4': 1972380.0, 'bids4_size': 0.1, 'asks0': 1976155.0, 'asks0_size': 0.2, 'asks1': 1976150.0, 'asks1_size': 0.2, 'asks2': 1974850.0, 'asks2_size': 0.2, 'asks3': 1974012.0, 'asks3_size': 0.0947, 'asks4': 1972380.0, 'asks4_size': 0.1}\n{'_id': ObjectId('5fc7a91176eab785c4908051'), 'time': '20201202054658071000', 'symbol': 'BTC', 'bids0': 1976155.0, 'bids0_size': 0.2, 'bids1': 1976150.0, 'bids1_size': 0.2, 'bids2': 1974850.0, 'bids2_size': 0.2, 'bids3': 1974012.0, 'bids3_size': 0.0947, 'bids4': 1972380.0, 'bids4_size': 0.1, 'asks0': 1976155.0, 'asks0_size': 0.2, 'asks1': 1976150.0, 'asks1_size': 0.2, 'asks2': 1974850.0, 'asks2_size': 0.2, 'asks3': 1974012.0, 'asks3_size': 0.0947, 'asks4': 1972380.0, 'asks4_size': 0.1}\n{'_id': ObjectId('5fc7a91176eab785c4908052'), 'time': '20201202054658586000', 'symbol': 'BTC', 'bids0': 1976155.0, 'bids0_size': 0.2, 'bids1': 1976150.0, 'bids1_size': 0.2, 'bids2': 1974012.0, 'bids2_size': 0.0947, 'bids3': 1972380.0, 'bids3_size': 0.1, 'bids4': 1972370.0, 'bids4_size': 0.11, 'asks0': 1976155.0, 'asks0_size': 0.2, 'asks1': 1976150.0, 'asks1_size': 0.2, 'asks2': 1974012.0, 'asks2_size': 0.0947, 'asks3': 1972380.0, 'asks3_size': 0.1, 'asks4': 1972370.0, 'asks4_size': 0.11}\n{'_id': ObjectId('5fc7a91176eab785c4908053'), 'time': '20201202054658586000', 'symbol': 'BTC', 'bids0': 1976155.0, 'bids0_size': 0.2, 'bids1': 1976150.0, 'bids1_size': 0.2, 'bids2': 1974012.0, 'bids2_size': 0.0947, 'bids3': 1972380.0, 'bids3_size': 0.1, 'bids4': 1972370.0, 'bids4_size': 0.11, 'asks0': 1976155.0, 'asks0_size': 0.2, 'asks1': 1976150.0, 'asks1_size': 0.2, 'asks2': 1974012.0, 'asks2_size': 0.0947, 'asks3': 1972380.0, 'asks3_size': 0.1, 'asks4': 1972370.0, 'asks4_size': 0.11}\n{'_id': ObjectId('5fc7a91176eab785c4908054'), 'time': '20201202054659103000', 'symbol': 'BTC', 'bids0': 1976155.0, 'bids0_size': 0.2, 'bids1': 1976150.0, 'bids1_size': 0.2, 'bids2': 1974012.0, 'bids2_size': 0.0947, 'bids3': 1972380.0, 'bids3_size': 0.1, 'bids4': 1972370.0, 'bids4_size': 0.11, 'asks0': 1976155.0, 'asks0_size': 0.2, 'asks1': 1976150.0, 'asks1_size': 0.2, 'asks2': 1974012.0, 'asks2_size': 0.0947, 'asks3': 1972380.0, 'asks3_size': 0.1, 'asks4': 1972370.0, 'asks4_size': 0.11}\n{'_id': ObjectId('5fc7a91176eab785c4908055'), 'time': '20201202054659103000', 'symbol': 'BTC', 'bids0': 1976155.0, 'bids0_size': 0.2, 'bids1': 1976150.0, 'bids1_size': 0.2, 'bids2': 1974012.0, 'bids2_size': 0.0947, 'bids3': 1972380.0, 'bids3_size': 0.1, 'bids4': 1972370.0, 'bids4_size': 0.11, 'asks0': 1976155.0, 'asks0_size': 0.2, 'asks1': 1976150.0, 'asks1_size': 0.2, 'asks2': 1974012.0, 'asks2_size': 0.0947, 'asks3': 1972380.0, 'asks3_size': 0.1, 'asks4': 1972370.0, 'asks4_size': 0.11}\n{'_id': ObjectId('5fc7a91176eab785c4908056'), 'time': '20201202054659618000', 'symbol': 'BTC', 'bids0': 1976155.0, 'bids0_size': 0.2, 'bids1': 1976150.0, 'bids1_size': 0.2, 'bids2': 1974850.0, 'bids2_size': 0.2, 'bids3': 1974012.0, 'bids3_size': 0.0947, 'bids4': 1972380.0, 'bids4_size': 0.1, 'asks0': 1976155.0, 'asks0_size': 0.2, 'asks1': 1976150.0, 'asks1_size': 0.2, 'asks2': 1974850.0, 'asks2_size': 0.2, 'asks3': 1974012.0, 'asks3_size': 0.0947, 'asks4': 1972380.0, 'asks4_size': 0.1}\n{'_id': ObjectId('5fc7a91176eab785c4908057'), 'time': '20201202054659618000', 'symbol': 'BTC', 'bids0': 1976155.0, 'bids0_size': 0.2, 'bids1': 1976150.0, 'bids1_size': 0.2, 'bids2': 1974850.0, 'bids2_size': 0.2, 'bids3': 1974012.0, 'bids3_size': 0.0947, 'bids4': 1972380.0, 'bids4_size': 0.1, 'asks0': 1976155.0, 'asks0_size': 0.2, 'asks1': 1976150.0, 'asks1_size': 0.2, 'asks2': 1974850.0, 'asks2_size': 0.2, 'asks3': 1974012.0, 'asks3_size': 0.0947, 'asks4': 1972380.0, 'asks4_size': 0.1}\n"
     ]
    }
   ],
   "source": [
    "insert_json =[ orderbooks.convert_shape(_data,5,\"json\") for _data in data ]\n",
    "mongo_db.insert_many(insert_json)\n",
    "for db_data in mongo_db.db['orderbook'].find():\n",
    "    print(db_data)"
   ]
  },
  {
   "cell_type": "code",
   "execution_count": 24,
   "metadata": {
    "tags": []
   },
   "outputs": [],
   "source": [
    "mongo_db.delete_all()"
   ]
  },
  {
   "cell_type": "code",
   "execution_count": 26,
   "metadata": {},
   "outputs": [
    {
     "output_type": "error",
     "ename": "WebSocketConnectionClosedException",
     "evalue": "Connection is already closed.",
     "traceback": [
      "\u001b[0;31m---------------------------------------------------------------------------\u001b[0m",
      "\u001b[0;31mWebSocketConnectionClosedException\u001b[0m        Traceback (most recent call last)",
      "\u001b[0;32m<ipython-input-26-db8c7ac1c584>\u001b[0m in \u001b[0;36m<module>\u001b[0;34m\u001b[0m\n\u001b[0;32m----> 1\u001b[0;31m \u001b[0morderbooks\u001b[0m\u001b[0;34m.\u001b[0m\u001b[0mon_close\u001b[0m\u001b[0;34m(\u001b[0m\u001b[0;34m)\u001b[0m\u001b[0;34m\u001b[0m\u001b[0;34m\u001b[0m\u001b[0m\n\u001b[0m",
      "\u001b[0;32m~/Dropbox/kaggle/kuloko/kuloko_handler/handler/socket_handler.py\u001b[0m in \u001b[0;36mon_close\u001b[0;34m(self)\u001b[0m\n\u001b[1;32m    132\u001b[0m             \u001b[0;34m\"symbol\"\u001b[0m\u001b[0;34m:\u001b[0m \u001b[0mself\u001b[0m\u001b[0;34m.\u001b[0m\u001b[0msym\u001b[0m\u001b[0;34m\u001b[0m\u001b[0;34m\u001b[0m\u001b[0m\n\u001b[1;32m    133\u001b[0m         }\n\u001b[0;32m--> 134\u001b[0;31m         \u001b[0mself\u001b[0m\u001b[0;34m.\u001b[0m\u001b[0mws\u001b[0m\u001b[0;34m.\u001b[0m\u001b[0msend\u001b[0m\u001b[0;34m(\u001b[0m\u001b[0mjson\u001b[0m\u001b[0;34m.\u001b[0m\u001b[0mdumps\u001b[0m\u001b[0;34m(\u001b[0m\u001b[0mmessage\u001b[0m\u001b[0;34m)\u001b[0m\u001b[0;34m)\u001b[0m\u001b[0;34m\u001b[0m\u001b[0;34m\u001b[0m\u001b[0m\n\u001b[0m\u001b[1;32m    135\u001b[0m         \u001b[0mself\u001b[0m\u001b[0;34m.\u001b[0m\u001b[0m_logger\u001b[0m\u001b[0;34m.\u001b[0m\u001b[0minfo\u001b[0m\u001b[0;34m(\u001b[0m\u001b[0;34m'Websocket disconnected'\u001b[0m\u001b[0;34m)\u001b[0m\u001b[0;34m\u001b[0m\u001b[0;34m\u001b[0m\u001b[0m\n\u001b[1;32m    136\u001b[0m \u001b[0;34m\u001b[0m\u001b[0m\n",
      "\u001b[0;32m~/.pyenv/versions/py37b/lib/python3.7/site-packages/websocket/_app.py\u001b[0m in \u001b[0;36msend\u001b[0;34m(self, data, opcode)\u001b[0m\n\u001b[1;32m    154\u001b[0m         \u001b[0;32mif\u001b[0m \u001b[0;32mnot\u001b[0m \u001b[0mself\u001b[0m\u001b[0;34m.\u001b[0m\u001b[0msock\u001b[0m \u001b[0;32mor\u001b[0m \u001b[0mself\u001b[0m\u001b[0;34m.\u001b[0m\u001b[0msock\u001b[0m\u001b[0;34m.\u001b[0m\u001b[0msend\u001b[0m\u001b[0;34m(\u001b[0m\u001b[0mdata\u001b[0m\u001b[0;34m,\u001b[0m \u001b[0mopcode\u001b[0m\u001b[0;34m)\u001b[0m \u001b[0;34m==\u001b[0m \u001b[0;36m0\u001b[0m\u001b[0;34m:\u001b[0m\u001b[0;34m\u001b[0m\u001b[0;34m\u001b[0m\u001b[0m\n\u001b[1;32m    155\u001b[0m             raise WebSocketConnectionClosedException(\n\u001b[0;32m--> 156\u001b[0;31m                 \"Connection is already closed.\")\n\u001b[0m\u001b[1;32m    157\u001b[0m \u001b[0;34m\u001b[0m\u001b[0m\n\u001b[1;32m    158\u001b[0m     \u001b[0;32mdef\u001b[0m \u001b[0mclose\u001b[0m\u001b[0;34m(\u001b[0m\u001b[0mself\u001b[0m\u001b[0;34m,\u001b[0m \u001b[0;34m**\u001b[0m\u001b[0mkwargs\u001b[0m\u001b[0;34m)\u001b[0m\u001b[0;34m:\u001b[0m\u001b[0;34m\u001b[0m\u001b[0;34m\u001b[0m\u001b[0m\n",
      "\u001b[0;31mWebSocketConnectionClosedException\u001b[0m: Connection is already closed."
     ]
    }
   ],
   "source": [
    "orderbooks.on_close()"
   ]
  },
  {
   "cell_type": "code",
   "execution_count": 23,
   "metadata": {},
   "outputs": [],
   "source": [
    "orderbooks.disconnect()"
   ]
  },
  {
   "cell_type": "code",
   "execution_count": 48,
   "metadata": {},
   "outputs": [],
   "source": [
    "ticker = skt_api.Ticker(logger, general_config_ini,private_api_ini)"
   ]
  },
  {
   "cell_type": "code",
   "execution_count": 49,
   "metadata": {},
   "outputs": [],
   "source": [
    "ticker.connect(ticker.get_url(),'BTC')"
   ]
  },
  {
   "cell_type": "code",
   "execution_count": 50,
   "metadata": {},
   "outputs": [],
   "source": [
    "ticker.subscribe()"
   ]
  },
  {
   "cell_type": "code",
   "execution_count": 51,
   "metadata": {},
   "outputs": [],
   "source": [
    "data = ticker.get()"
   ]
  },
  {
   "cell_type": "code",
   "execution_count": 60,
   "metadata": {},
   "outputs": [],
   "source": [
    "ticker.disconnect()"
   ]
  },
  {
   "cell_type": "code",
   "execution_count": 56,
   "metadata": {},
   "outputs": [
    {
     "output_type": "execute_result",
     "data": {
      "text/plain": [
       "{'ask': 2003867.0,\n",
       " 'bid': 2003866.0,\n",
       " 'high': 2020250.0,\n",
       " 'last': 2003867.0,\n",
       " 'low': 1916900.0,\n",
       " 'volume': 634.1223,\n",
       " 'timestamp': '20201202044346421000',\n",
       " 'symbol': 'BTC'}"
      ]
     },
     "metadata": {},
     "execution_count": 56
    }
   ],
   "source": [
    "ticker.convert_shape(data[0],'json')"
   ]
  },
  {
   "cell_type": "code",
   "execution_count": null,
   "metadata": {},
   "outputs": [],
   "source": []
  }
 ]
}