{
 "metadata": {
  "language_info": {
   "codemirror_mode": {
    "name": "ipython",
    "version": 3
   },
   "file_extension": ".py",
   "mimetype": "text/x-python",
   "name": "python",
   "nbconvert_exporter": "python",
   "pygments_lexer": "ipython3",
   "version": "3.7.6-final"
  },
  "orig_nbformat": 2,
  "kernelspec": {
   "name": "python3",
   "display_name": "Python 3.7.6 64-bit ('py37b')",
   "metadata": {
    "interpreter": {
     "hash": "edf7c2d5f0f70628fc224588ceca2c2113a9ef071d19ac3a0b9346fc3eba554c"
    }
   }
  }
 },
 "nbformat": 4,
 "nbformat_minor": 2,
 "cells": [
  {
   "cell_type": "code",
   "execution_count": 1,
   "metadata": {},
   "outputs": [],
   "source": [
    "%load_ext autoreload\n",
    "%autoreload 2"
   ]
  },
  {
   "cell_type": "code",
   "execution_count": 16,
   "metadata": {},
   "outputs": [],
   "source": [
    "\n",
    "# coding: utf-8\n",
    "import requests\n",
    "import json\n",
    "import urllib.parse\n",
    "import logging\n",
    "import logging.config\n",
    "\n",
    "import pandas as pd\n",
    "import numpy as np\n",
    "os.environ['INIDIR'] = '/Users/macico/Dropbox/kaggle/kuloko/ini'\n",
    "os.environ['LOGDIR'] = '/Users/macico/Dropbox/kaggle/kuloko/log'\n",
    "INIDIR=os.environ['INIDIR'] \n",
    "LOGDIR=os.environ['LOGDIR'] "
   ]
  },
  {
   "cell_type": "code",
   "execution_count": 17,
   "metadata": {},
   "outputs": [],
   "source": [
    "import configparser\n",
    "\n",
    "sys.path.append(os.path.join(os.path.dirname('__file__'),'..'))\n",
    "import  kuloko_handler.handler.api_handler as api\n",
    "private_api_ini = configparser.ConfigParser()\n",
    "private_api_ini.read(os.path.join(INIDIR,'private_api.ini'), encoding='utf-8')\n",
    "\n",
    "general_config_ini = configparser.ConfigParser()\n",
    "general_config_ini.read(os.path.join(INIDIR,'config.ini'), encoding='utf-8')\n",
    "\n",
    "logging.config.fileConfig(os.path.join(INIDIR,'logconfig.ini'),defaults={'logfilename': os.path.join(LOGDIR,'logging.log')})\n",
    "logger = logging.getLogger(\"KULOKO\")"
   ]
  },
  {
   "cell_type": "code",
   "execution_count": 25,
   "metadata": {},
   "outputs": [],
   "source": [
    "# websocketを使ってtickerをリアルタイム取得\n",
    "import json\n",
    "import websocket\n",
    "from collections import deque\n",
    "import threading\n",
    "import time\n",
    "\n",
    "websocket.enableTrace(True) #trace ON\n",
    "\n",
    "class Socket(object):\n",
    "    def __init__(self,channel,logger, general_config_ini,private_api_ini,general_config_mode=\"DEFAULT\",private_api_mode=\"DEFAULT\"):\n",
    "        self._logger = logger\n",
    "        if general_config_ini is None:\n",
    "            general_config_ini = configparser.ConfigParser()\n",
    "            general_config_ini.read('../ini/config.ini', encoding='utf-8')\n",
    "            self._logger.info('[DONE]Load General Config.')\n",
    "        if private_api_ini is None:            \n",
    "            private_api_ini = configparser.ConfigParser()\n",
    "            private_api_ini.read('../private_api.ini', encoding='utf-8')\n",
    "            self._logger.info('[DONE]Load Private API Config.')\n",
    "\n",
    "        self.load_config( general_config_ini,private_api_ini,general_config_mode,private_api_mode)\n",
    "\n",
    "        self.channel = channel\n",
    "        self.load_urls()\n",
    "\n",
    "    def load_config(self,general_config_ini,private_api_ini,general_config_mode,private_api_mode):\n",
    "        self.private_api_config = private_api_ini[private_api_mode]\n",
    "        self.general_config = general_config_ini[general_config_mode]\n",
    "        self._logger.info('[DONE]Load Config. Private API:[{0}] General:[{1}]'\n",
    "            .format(private_api_mode,general_config_mode))\n",
    "\n",
    "\n",
    "    def load_urls(self):\n",
    "        self.url_parts = {\n",
    "            'socket_endpoint':self.general_config.get('SOCKET_ENDPOINT_URL'),\n",
    "            'public':self.general_config.get('SOCKET_PUBLIC_URL'),\n",
    "            'private':self.general_config.get('SOCKET_PRIVATE_URL'),\n",
    "        }\n",
    "        self._logger.info('[DONE]Set URL parts')\n",
    "\n",
    "\n",
    "    def connect(self,url,sym,maxlen=100):\n",
    "        self.url = url\n",
    "        self.maxlen =maxlen\n",
    "        self.sym = sym\n",
    "        self.queue = deque([],self.maxlen)\n",
    "        self.ws = websocket.WebSocketApp(\n",
    "            url,\n",
    "            on_message = self.on_message,on_open=self.on_open,\n",
    "            on_error = self.on_error, on_close = self.on_close)\n",
    "        logger.info(\"Socket Connected\")\n",
    "    \n",
    "    def subscribe(self):\n",
    "        self.ws.keep_running = True \n",
    "        self.thread = threading.Thread(target=lambda: self.ws.run_forever())\n",
    "        self.thread.daemon = True\n",
    "        self.thread.start()\n",
    "        logger.info(\"Start to subscribe\")\n",
    "\n",
    "    def is_connected(self):\n",
    "        flag =  self.ws.sock and self.ws.sock.connected\n",
    "        logger.info(\"Is connected:{0}\".format(flag))\n",
    "\n",
    "    def disconnect(self):\n",
    "        self.ws.keep_running = False\n",
    "        self.ws.close()\n",
    "        logger.info(\"Socket closed\")\n",
    "\n",
    "    def get(self):\n",
    "        queue_len = len(self.queue)\n",
    "        return [ self.queue.popleft() for _ in range(queue_len)]\n",
    "\n",
    "    def clean_data(self, return_data):\n",
    "        for _i in range(return_data):\n",
    "            return_data[_i]['timestamp'] =return_data[_i]['timestamp']\n",
    "            return_data[_i]['price'] =return_data[_i]['price']\n",
    "            return_data[_i]['size'] =return_data[_i]['size']\n",
    "        return return_data\n",
    "\n",
    "    def on_message(self, message):\n",
    "        logger.info('Received:{0}'.format(message))\n",
    "        self.queue.append(json.loads(message))\n",
    "        if len(self.queue) > self.maxlen:\n",
    "            logger.warn(\"Message queue is full. Old item are discarded\")\n",
    "\n",
    "    def on_error(self, error):\n",
    "        logger.error('Error. Try reconnect {0}'.format(error),exc_info=True)\n",
    "        self.disconnect()\n",
    "        time.sleep(0.5)\n",
    "        self.connect(self.url , self.sym)\n",
    "\n",
    "    def on_close(self):\n",
    "        message = {\n",
    "            \"command\": \"unsubscribe\",\n",
    "            \"channel\": self.channel,\n",
    "            \"symbol\": self.sym \n",
    "        }\n",
    "        self.ws.send(json.dumps(message))\n",
    "        logger.info('Websocket disconnected')\n",
    "\n",
    "    def on_open(self):\n",
    "        message = {\n",
    "            \"command\": \"subscribe\",\n",
    "            \"channel\": self.channel,\n",
    "            \"symbol\": self.sym \n",
    "        }\n",
    "        self.ws.send(json.dumps(message))\n",
    "        logger.info('Socket opened')\n",
    "\n",
    "class Trade(Socket):\n",
    "    def __init__(self,logger, eneral_config_ini,private_api_ini):\n",
    "        super().__init__(\"trades\",logger, general_config_ini,private_api_ini)\n",
    "    \n",
    "    def get_url(self):\n",
    "        path = os.path.join(self.url_parts['socket_endpoint'],self.url_parts['public'])\n",
    "        return path\n",
    "\n",
    "class Orderbooks(Socket):\n",
    "    def __init__(self,logger, eneral_config_ini,private_api_ini):\n",
    "        super().__init__(\"orderbooks\",logger, general_config_ini,private_api_ini)\n",
    "    \n",
    "    def get_url(self):\n",
    "        path = os.path.join(self.url_parts['socket_endpoint'],self.url_parts['public'])\n",
    "        return path\n",
    "\n",
    "class Ticker(Socket):\n",
    "    def __init__(self,logger, eneral_config_ini,private_api_ini):\n",
    "        super().__init__(\"ticker\",logger, general_config_ini,private_api_ini)\n",
    "    \n",
    "    def get_url(self):\n",
    "        path = os.path.join(self.url_parts['socket_endpoint'],self.url_parts['public'])\n",
    "        return path\n",
    "\n",
    "\n",
    "\n",
    "\n",
    "\n",
    "# trade = Trade(')\n",
    "    # while True:\n",
    "    #     print(bfrt.get())\n",
    "    #     time.sleep(0.5)_"
   ]
  },
  {
   "cell_type": "code",
   "execution_count": 26,
   "metadata": {},
   "outputs": [],
   "source": [
    "trade = Trade(logger, general_config_ini,private_api_ini)"
   ]
  },
  {
   "cell_type": "code",
   "execution_count": 53,
   "metadata": {},
   "outputs": [],
   "source": []
  },
  {
   "cell_type": "code",
   "execution_count": 27,
   "metadata": {},
   "outputs": [],
   "source": [
    "trade.connect(trade.get_url(),'BTC')"
   ]
  },
  {
   "cell_type": "code",
   "execution_count": 28,
   "metadata": {},
   "outputs": [],
   "source": [
    "trade.subscribe()\n"
   ]
  },
  {
   "cell_type": "code",
   "execution_count": 29,
   "metadata": {},
   "outputs": [
    {
     "output_type": "execute_result",
     "data": {
      "text/plain": [
       "[]"
      ]
     },
     "metadata": {},
     "execution_count": 29
    }
   ],
   "source": [
    "trade.get()"
   ]
  },
  {
   "cell_type": "code",
   "execution_count": 30,
   "metadata": {},
   "outputs": [],
   "source": [
    "trade.disconnect()"
   ]
  },
  {
   "cell_type": "code",
   "execution_count": 31,
   "metadata": {},
   "outputs": [],
   "source": [
    "orderbooks = Orderbooks(logger, general_config_ini,private_api_ini)"
   ]
  },
  {
   "cell_type": "code",
   "execution_count": 32,
   "metadata": {},
   "outputs": [],
   "source": [
    "orderbooks.connect(orderbooks.get_url(),'BTC')"
   ]
  },
  {
   "cell_type": "code",
   "execution_count": 34,
   "metadata": {},
   "outputs": [],
   "source": [
    "orderbooks.subscribe()"
   ]
  },
  {
   "cell_type": "code",
   "execution_count": 37,
   "metadata": {},
   "outputs": [],
   "source": [
    "orderbooks.disconnect()"
   ]
  },
  {
   "cell_type": "code",
   "execution_count": 39,
   "metadata": {},
   "outputs": [],
   "source": [
    "ticker = Ticker(logger, general_config_ini,private_api_ini)"
   ]
  },
  {
   "cell_type": "code",
   "execution_count": 40,
   "metadata": {},
   "outputs": [],
   "source": [
    "ticker.connect(ticker.get_url(),'BTC')"
   ]
  },
  {
   "cell_type": "code",
   "execution_count": 41,
   "metadata": {},
   "outputs": [],
   "source": [
    "ticker.subscribe()"
   ]
  },
  {
   "cell_type": "code",
   "execution_count": 43,
   "metadata": {},
   "outputs": [
    {
     "output_type": "execute_result",
     "data": {
      "text/plain": [
       "[]"
      ]
     },
     "metadata": {},
     "execution_count": 43
    }
   ],
   "source": [
    "ticker.get()"
   ]
  },
  {
   "cell_type": "code",
   "execution_count": 45,
   "metadata": {},
   "outputs": [],
   "source": [
    "ticker.disconnect()"
   ]
  },
  {
   "cell_type": "code",
   "execution_count": null,
   "metadata": {},
   "outputs": [],
   "source": []
  }
 ]
}